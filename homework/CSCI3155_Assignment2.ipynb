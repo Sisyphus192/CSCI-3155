{
 "cells": [
  {
   "cell_type": "markdown",
   "metadata": {
    "deletable": false,
    "editable": false,
    "nbgrader": {
     "checksum": "f0c94d951d6d931e975c769450a5d7d3",
     "grade": false,
     "grade_id": "cell-e0dcd8e0c2513390",
     "locked": true,
     "schema_version": 1,
     "solution": false
    }
   },
   "source": [
    "# CSCI 3155: Assignment 2 With Solutions\n",
    "\n",
    "Topics covered: recursion and inductive definitions."
   ]
  },
  {
   "cell_type": "markdown",
   "metadata": {},
   "source": [
    "__Derek Thomas__"
   ]
  },
  {
   "cell_type": "code",
   "execution_count": 9,
   "metadata": {
    "deletable": false,
    "editable": false,
    "nbgrader": {
     "checksum": "96678f5d66f4c661e13ffc883498a235",
     "grade": false,
     "grade_id": "cell-0ff5abf81cd57123",
     "locked": true,
     "schema_version": 1,
     "solution": false
    }
   },
   "outputs": [
    {
     "data": {
      "text/plain": [
       "defined \u001b[32mfunction\u001b[39m \u001b[36mpassed\u001b[39m"
      ]
     },
     "execution_count": 9,
     "metadata": {},
     "output_type": "execute_result"
    }
   ],
   "source": [
    "// TEST HELPER\n",
    "def passed(points: Int) {\n",
    "    require(points >=0)\n",
    "    if (points == 1) print(s\"\\n*** Tests Passed (1 point) ***\\n\")\n",
    "    else print(s\"\\n*** Tests Passed ($points points) ***\\n\")\n",
    "}"
   ]
  },
  {
   "cell_type": "markdown",
   "metadata": {
    "deletable": false,
    "editable": false,
    "nbgrader": {
     "checksum": "aa476612e71503bca649bc5184017119",
     "grade": false,
     "grade_id": "cell-edc3a04e8cb8306b",
     "locked": true,
     "schema_version": 1,
     "solution": false
    }
   },
   "source": [
    "## Problem 1 (10 points total)"
   ]
  },
  {
   "cell_type": "markdown",
   "metadata": {
    "deletable": false,
    "editable": false,
    "nbgrader": {
     "checksum": "48117a70ce6f94d80c3b30f5bac9614b",
     "grade": false,
     "grade_id": "cell-b52581c289282f6d",
     "locked": true,
     "schema_version": 1,
     "solution": false
    }
   },
   "source": [
    "### A (5 points) Recursive `logTwo`\n",
    "Given a positive integer $n$, we wish to compute $\\textsf{floor}(\\log_2(n))$. Recall `floor` of a real number is the smallest integer that is less than or equal to it. Write a recursive function `logTwo(n: Int): Int` that does the same. Ensure that your precondition restricts the inputs to  $n > 0$."
   ]
  },
  {
   "cell_type": "code",
   "execution_count": 10,
   "metadata": {
    "deletable": false,
    "nbgrader": {
     "checksum": "a0d19029a06efaa5e9f5d612ccddba8b",
     "grade": false,
     "grade_id": "answer_1a",
     "locked": false,
     "schema_version": 1,
     "solution": true
    }
   },
   "outputs": [
    {
     "data": {
      "text/plain": [
       "defined \u001b[32mfunction\u001b[39m \u001b[36mlogTwo\u001b[39m"
      ]
     },
     "execution_count": 10,
     "metadata": {},
     "output_type": "execute_result"
    }
   ],
   "source": [
    "def logTwo(n: Int): Int = { \n",
    "    // YOUR CODE HERE\n",
    "    if (n < 2)\n",
    "        return 0\n",
    "    else\n",
    "        return logTwo(n/2) + 1\n",
    "}"
   ]
  },
  {
   "cell_type": "code",
   "execution_count": 11,
   "metadata": {
    "deletable": false,
    "editable": false,
    "nbgrader": {
     "checksum": "6bf13b58754111d402a003c1fd41a738",
     "grade": true,
     "grade_id": "tests_1a",
     "locked": true,
     "points": 5,
     "schema_version": 1,
     "solution": false
    }
   },
   "outputs": [
    {
     "name": "stdout",
     "output_type": "stream",
     "text": [
      "\n",
      "*** Tests Passed (5 points) ***\n"
     ]
    }
   ],
   "source": [
    "// BEGIN TESTS\n",
    "assert(logTwo(1) == 0, \"logTwo(1) must be 0\")\n",
    "assert(logTwo(2) == 1, \"logTwo(2) must be 1\")\n",
    "assert(logTwo(3) == 1, \"logTwo(3) must be 1\")\n",
    "assert(logTwo(15) == 3, \"logTwo(15) must be 3\")\n",
    "assert(logTwo(129) == 7, \"logTwo(129) must be 8\")\n",
    "passed(5)\n",
    "// END TESTS"
   ]
  },
  {
   "cell_type": "markdown",
   "metadata": {
    "deletable": false,
    "editable": false,
    "nbgrader": {
     "checksum": "dca57ed8c82b6365ab0015b2de3f8669",
     "grade": false,
     "grade_id": "cell-12d5214e2a806a43",
     "locked": true,
     "schema_version": 1,
     "solution": false
    }
   },
   "source": [
    "### B (5 points) _Tail_ Recursive `logTwo`\n",
    "Now, write a tail recursive version of the `logTwo` function, called `logTwoTail`. You should implement the helper function as a tail recursive function."
   ]
  },
  {
   "cell_type": "code",
   "execution_count": 12,
   "metadata": {
    "deletable": false,
    "nbgrader": {
     "checksum": "66d79b82296783bfab7556f2d8baf846",
     "grade": false,
     "grade_id": "answer_1b",
     "locked": false,
     "schema_version": 1,
     "solution": true
    }
   },
   "outputs": [
    {
     "data": {
      "text/plain": [
       "\u001b[32mimport \u001b[39m\u001b[36mscala.annotation.tailrec\n",
       "\n",
       "\u001b[39m\n",
       "defined \u001b[32mfunction\u001b[39m \u001b[36mlogTwoHelper\u001b[39m\n",
       "defined \u001b[32mfunction\u001b[39m \u001b[36mlogTwoTail\u001b[39m"
      ]
     },
     "execution_count": 12,
     "metadata": {},
     "output_type": "execute_result"
    }
   ],
   "source": [
    "import scala.annotation.tailrec\n",
    "\n",
    "@tailrec\n",
    "def logTwoHelper(n: Int, acc: Int): Int = {\n",
    "    // YOUR CODE HERE\n",
    "    if (n < 2)\n",
    "        return 0 + acc\n",
    "    else\n",
    "        return logTwoHelper(n/2, acc+1)\n",
    "}\n",
    "\n",
    "def logTwoTail(n: Int): Int = { \n",
    "    // YOUR CODE HERE\n",
    "    return logTwoHelper(n, 0)\n",
    "}"
   ]
  },
  {
   "cell_type": "code",
   "execution_count": 13,
   "metadata": {
    "deletable": false,
    "editable": false,
    "nbgrader": {
     "checksum": "7c2ea0727a8574829140eec80be94eb3",
     "grade": true,
     "grade_id": "tests_1b",
     "locked": true,
     "points": 5,
     "schema_version": 1,
     "solution": false
    }
   },
   "outputs": [
    {
     "name": "stdout",
     "output_type": "stream",
     "text": [
      "\n",
      "*** Tests Passed (5 points) ***\n"
     ]
    }
   ],
   "source": [
    "// BEGIN TEST\n",
    "assert(logTwoTail(1) == 0, \"logTwo(1) must be 0\")\n",
    "assert(logTwoTail(2) == 1, \"logTwo(2) must be 1\")\n",
    "assert(logTwoTail(3) == 1, \"logTwo(3) must be 1\")\n",
    "assert(logTwoTail(15) == 3, \"logTwo(15) must be 3\")\n",
    "assert(logTwoTail(129) == 7, \"logTwo(129) must be 8\")\n",
    "passed(5)\n",
    "//END TEST"
   ]
  },
  {
   "cell_type": "markdown",
   "metadata": {
    "deletable": false,
    "editable": false,
    "nbgrader": {
     "checksum": "6be88b07bd3f73d5f2b30d75eeda76d4",
     "grade": false,
     "grade_id": "cell-ea75378d2e0e50c2",
     "locked": true,
     "schema_version": 1,
     "solution": false
    }
   },
   "source": [
    "## Problem 2 (15 points)"
   ]
  },
  {
   "cell_type": "markdown",
   "metadata": {
    "deletable": false,
    "editable": false,
    "nbgrader": {
     "checksum": "eb749d50a7fb74e1c3a7d3cd68fe93c5",
     "grade": false,
     "grade_id": "cell-a586cec16d8a92e7",
     "locked": true,
     "schema_version": 1,
     "solution": false
    }
   },
   "source": [
    "We define a function `shuffleString(s: String): String` that, given an\n",
    "input string `s`, does the following:\n",
    "- If the string `s` is empty or length 1, the result is the same as input string `s`.\n",
    "- Let n be the length of s.\n",
    "- Recursively call `shuffleString` on the substring `s(n/2)... s(n-1)`. Let `s1` be the result\n",
    "- Concatenate `s1` to the first half `s(0)..s(n/2-1)` to the result of the call.\n",
    "\n",
    "Here is an implementation of this function and some examples, for your reference.\n"
   ]
  },
  {
   "cell_type": "code",
   "execution_count": 14,
   "metadata": {
    "deletable": false,
    "editable": false,
    "nbgrader": {
     "checksum": "f07fdb2af1edb9ba41773c27445a4351",
     "grade": false,
     "grade_id": "cell-815e98469269ed5e",
     "locked": true,
     "schema_version": 1,
     "solution": false
    }
   },
   "outputs": [
    {
     "data": {
      "text/plain": [
       "defined \u001b[32mfunction\u001b[39m \u001b[36mshuffleString\u001b[39m\n",
       "\u001b[36mf0\u001b[39m: \u001b[32mString\u001b[39m = \u001b[32m\"4312\"\u001b[39m\n",
       "\u001b[36mf1\u001b[39m: \u001b[32mString\u001b[39m = \u001b[32m\"54312\"\u001b[39m\n",
       "\u001b[36mf2\u001b[39m: \u001b[32mString\u001b[39m = \u001b[32m\"654123\"\u001b[39m\n",
       "\u001b[36mf3\u001b[39m: \u001b[32mString\u001b[39m = \u001b[32m\"7645123\"\u001b[39m\n",
       "\u001b[36mf4\u001b[39m: \u001b[32mString\u001b[39m = \u001b[32m\"87561234\"\u001b[39m\n",
       "\u001b[36mf5\u001b[39m: \u001b[32mString\u001b[39m = \u001b[32m\"987561234\"\u001b[39m"
      ]
     },
     "execution_count": 14,
     "metadata": {},
     "output_type": "execute_result"
    }
   ],
   "source": [
    "def shuffleString(s: String): String = {\n",
    "    val n = s.length()\n",
    "    if (n <= 1) { s }\n",
    "    else {\n",
    "        val secondHalf = s.substring(n/2, n)\n",
    "        val shuffledHalf = shuffleString(secondHalf)\n",
    "        val firstHalf = s.substring(0, n/2)\n",
    "        return  shuffledHalf +  firstHalf \n",
    "    }\n",
    "}\n",
    "\n",
    "val f0 = shuffleString(\"1234\")\n",
    "val f1 = shuffleString(\"12345\")\n",
    "val f2 = shuffleString(\"123456\")\n",
    "val f3 = shuffleString(\"1234567\")\n",
    "val f4 = shuffleString(\"12345678\")\n",
    "val f5 = shuffleString(\"123456789\")"
   ]
  },
  {
   "cell_type": "markdown",
   "metadata": {
    "deletable": false,
    "editable": false,
    "nbgrader": {
     "checksum": "225cda10c6340ab96045c83693b921a6",
     "grade": false,
     "grade_id": "cell-41b11e6aa881ddb4",
     "locked": true,
     "schema_version": 1,
     "solution": false
    }
   },
   "source": [
    "Implement a tail recursive version of `shuffleString` using an accumulator variable. It will help to carefully examine how different parts of the string get rearranged to design this function or even first try to write a simple while loop that mimics `shuffleString`."
   ]
  },
  {
   "cell_type": "code",
   "execution_count": 15,
   "metadata": {
    "deletable": false,
    "nbgrader": {
     "checksum": "c4ab02c2550f4c022a0dac6e5e2d2c24",
     "grade": false,
     "grade_id": "answer_2",
     "locked": false,
     "schema_version": 1,
     "solution": true
    }
   },
   "outputs": [
    {
     "data": {
      "text/plain": [
       "defined \u001b[32mfunction\u001b[39m \u001b[36mtailRecursiveShuffleString\u001b[39m"
      ]
     },
     "execution_count": 15,
     "metadata": {},
     "output_type": "execute_result"
    }
   ],
   "source": [
    "def tailRecursiveShuffleString(s: String, acc: String = \"\"): String = {\n",
    "    // YOUR CODE HERE\n",
    "    val n = s.length()\n",
    "    if (n <= 1)\n",
    "        return s + acc\n",
    "    else \n",
    "        return tailRecursiveShuffleString(s.substring(n/2, n), s.substring(0, n/2) + acc)\n",
    "}"
   ]
  },
  {
   "cell_type": "code",
   "execution_count": 16,
   "metadata": {
    "deletable": false,
    "editable": false,
    "nbgrader": {
     "checksum": "3f20ac858c47a8088fa5565950869cdc",
     "grade": true,
     "grade_id": "tests_2",
     "locked": true,
     "points": 5,
     "schema_version": 1,
     "solution": false
    }
   },
   "outputs": [
    {
     "name": "stdout",
     "output_type": "stream",
     "text": [
      "\n",
      "*** Tests Passed (5 points) ***\n"
     ]
    }
   ],
   "source": [
    "assert(shuffleString(\"1\") == tailRecursiveShuffleString(\"1\"), \"Failed test 1\")\n",
    "assert(shuffleString(\"12\") == tailRecursiveShuffleString(\"12\"), \"Failed test 12\")\n",
    "passed(5)"
   ]
  },
  {
   "cell_type": "code",
   "execution_count": 17,
   "metadata": {
    "deletable": false,
    "editable": false,
    "nbgrader": {
     "checksum": "d00f150536b9dfa718157ffb2fb2ff5b",
     "grade": true,
     "grade_id": "cell-c174e2598d2c215b",
     "locked": true,
     "points": 5,
     "schema_version": 1,
     "solution": false
    }
   },
   "outputs": [
    {
     "name": "stdout",
     "output_type": "stream",
     "text": [
      "\n",
      "*** Tests Passed (5 points) ***\n"
     ]
    }
   ],
   "source": [
    "assert(shuffleString(\"123\") == tailRecursiveShuffleString(\"123\"), \"Failed test 123\")\n",
    "assert(shuffleString(\"1234\") == tailRecursiveShuffleString(\"1234\"), \"Failed test 1234\")\n",
    "passed(5)"
   ]
  },
  {
   "cell_type": "code",
   "execution_count": 18,
   "metadata": {
    "deletable": false,
    "editable": false,
    "nbgrader": {
     "checksum": "b9a488796a594144f20bcb337e0d671b",
     "grade": true,
     "grade_id": "cell-87ed95f98899fdc2",
     "locked": true,
     "points": 5,
     "schema_version": 1,
     "solution": false
    }
   },
   "outputs": [
    {
     "name": "stdout",
     "output_type": "stream",
     "text": [
      "\n",
      "*** Tests Passed (5 points) ***\n"
     ]
    }
   ],
   "source": [
    "assert(shuffleString(\"12345\") == tailRecursiveShuffleString(\"12345\"), \"Failed test 12345\")\n",
    "assert(shuffleString(\"123456\") == tailRecursiveShuffleString(\"123456\"), \"Failed test 123456\")\n",
    "assert(shuffleString(\"1234567\") == tailRecursiveShuffleString(\"1234567\"), \"Failed test 1234567\")\n",
    "assert(shuffleString(\"12345678\") == tailRecursiveShuffleString(\"12345678\"), \"Failed test 12345678\")\n",
    "assert(shuffleString(\"123456789\") == tailRecursiveShuffleString(\"123456789\"), \"Failed test 123456789\")\n",
    "assert(shuffleString(\"1234567890\") == tailRecursiveShuffleString(\"1234567890\"), \"Failed test 1234567890\")\n",
    "passed(5)"
   ]
  },
  {
   "cell_type": "markdown",
   "metadata": {
    "deletable": false,
    "editable": false,
    "nbgrader": {
     "checksum": "5ca58beb89c2ae1bab1a240739418f17",
     "grade": false,
     "grade_id": "cell-81cdcc323818976e",
     "locked": true,
     "schema_version": 1,
     "solution": false
    }
   },
   "source": [
    "## Problem 3 (20 points)\n",
    "\n",
    "Convert the following inductive definition for regular expressions into a grammar first and then into a set of scala classes.\n",
    "\n",
    "A regular expression is defined inductively as follows:\n",
    "- Any string s is an \"atomic\" regular expression.\n",
    "- If $r_1$, $r_2$ are regular expressions then so are\n",
    "  - The concatenation $r_1 ; r_2$, \n",
    "  - The disjunction $r_1 | r_2$, and \n",
    "  - The conjunction $r_1 \\& r_2$.\n",
    "- If $r$ is a regular expression, then its Kleene star $r^*$ is also a regular expression.\n",
    "\n",
    "Use the constructor symbols $\\text{Atom}(s)$ to denote an atomic regular expression, $\\text{Concat}(r_1, r_2)$ for the \";\" operator, $\\text{Or}(r_1, r_2)$ for the \"|\" operator, $\\text{And}(r_1, r_2)$ for the \"&\" operator and $\\text{Star}(r)$ for the Kleene-star operator. You may use\n",
    "the nonterminal $\\textbf{string}$ without definition to denote a string of characters.\n",
    "\n",
    "\n"
   ]
  },
  {
   "cell_type": "markdown",
   "metadata": {
    "deletable": false,
    "editable": false,
    "nbgrader": {
     "checksum": "94d67433a1337072493b15821ba3801b",
     "grade": false,
     "grade_id": "cell-f1ddab147675a4e6",
     "locked": true,
     "schema_version": 1,
     "solution": false
    }
   },
   "source": [
    "### A (7 point)\n",
    "Write the grammar using constructor symbols for the inductive definition above. __Tip:__ you can examine the notebooks with inductive definitions to see how we typeset the grammar. There are no tests for this because it will be manualy graded."
   ]
  },
  {
   "cell_type": "markdown",
   "metadata": {
    "deletable": false,
    "nbgrader": {
     "checksum": "a9d62bc05c17700e2259c1fa8b298739",
     "grade": true,
     "grade_id": "answer_3a",
     "locked": false,
     "points": 7,
     "schema_version": 1,
     "solution": true
    }
   },
   "source": [
    "$$\n",
    "\\begin{array}{rcl}\n",
    "    \\textbf{Regex} & \\rightarrow & Empty \\\\\n",
    "                 &           | & Atom(\\textbf{String}) \\\\\n",
    "                 &           | & Concat(\\textbf{Regex}, \\textbf{Regex}) \\\\\n",
    "                 &           | & Or(\\textbf{Regex}, \\textbf{Regex}) \\\\\n",
    "                 &           | & And(\\textbf{Regex}, \\textbf{Regex}) \\\\\n",
    "                 &           | & Star(\\textbf{Regex}) \\\\\n",
    "\\end{array}\n",
    "$$"
   ]
  },
  {
   "cell_type": "markdown",
   "metadata": {
    "deletable": false,
    "editable": false,
    "nbgrader": {
     "checksum": "14931160f289eae6c41a5428943c4cdb",
     "grade": false,
     "grade_id": "cell-e0e8da3d6108f6e2",
     "locked": true,
     "schema_version": 1,
     "solution": false
    }
   },
   "source": [
    "### B (7 points)\n",
    "Define the structure as a set of case class in scala.\n"
   ]
  },
  {
   "cell_type": "code",
   "execution_count": 19,
   "metadata": {
    "deletable": false,
    "nbgrader": {
     "checksum": "606532d7140e9b88778de2b1b63c278c",
     "grade": false,
     "grade_id": "answer_3b",
     "locked": false,
     "schema_version": 1,
     "solution": true
    }
   },
   "outputs": [
    {
     "data": {
      "text/plain": [
       "defined \u001b[32mtrait\u001b[39m \u001b[36mRegex\u001b[39m\n",
       "defined \u001b[32mclass\u001b[39m \u001b[36mEmpty\u001b[39m\n",
       "defined \u001b[32mclass\u001b[39m \u001b[36mAtom\u001b[39m\n",
       "defined \u001b[32mclass\u001b[39m \u001b[36mConcat\u001b[39m\n",
       "defined \u001b[32mclass\u001b[39m \u001b[36mOr\u001b[39m\n",
       "defined \u001b[32mclass\u001b[39m \u001b[36mAnd\u001b[39m\n",
       "defined \u001b[32mclass\u001b[39m \u001b[36mStar\u001b[39m"
      ]
     },
     "execution_count": 19,
     "metadata": {},
     "output_type": "execute_result"
    }
   ],
   "source": [
    "sealed trait Regex\n",
    "// Use constructors: Atom, Concat, Or, And and Star\n",
    "// YOUR CODE HERE\n",
    "case class Empty() extends Regex\n",
    "case class Atom(s: String) extends Regex\n",
    "case class Concat(r1: Regex, r2: Regex) extends Regex\n",
    "case class Or(r1: Regex, r2: Regex) extends Regex\n",
    "case class And(r1: Regex, r2: Regex) extends Regex\n",
    "case class Star(r1: Regex) extends Regex"
   ]
  },
  {
   "cell_type": "code",
   "execution_count": 20,
   "metadata": {
    "deletable": false,
    "editable": false,
    "nbgrader": {
     "checksum": "ef6f34e36086836539d00c37fa436ad9",
     "grade": true,
     "grade_id": "tests_3b",
     "locked": true,
     "points": 7,
     "schema_version": 1,
     "solution": false
    }
   },
   "outputs": [
    {
     "name": "stdout",
     "output_type": "stream",
     "text": [
      "\n",
      "*** Tests Passed (7 points) ***\n"
     ]
    },
    {
     "data": {
      "text/plain": [
       "\u001b[36mv1\u001b[39m: \u001b[32mAtom\u001b[39m = \u001b[33mAtom\u001b[39m(\u001b[32m\"Hello\"\u001b[39m)\n",
       "\u001b[36mv2\u001b[39m: \u001b[32mConcat\u001b[39m = \u001b[33mConcat\u001b[39m(\u001b[33mAtom\u001b[39m(\u001b[32m\"Hello\"\u001b[39m), \u001b[33mAtom\u001b[39m(\u001b[32m\"Hello\"\u001b[39m))\n",
       "\u001b[36mv3\u001b[39m: \u001b[32mOr\u001b[39m = \u001b[33mOr\u001b[39m(\u001b[33mAtom\u001b[39m(\u001b[32m\"Hello\"\u001b[39m), \u001b[33mConcat\u001b[39m(\u001b[33mAtom\u001b[39m(\u001b[32m\"Hello\"\u001b[39m), \u001b[33mAtom\u001b[39m(\u001b[32m\"Hello\"\u001b[39m)))\n",
       "\u001b[36mv4\u001b[39m: \u001b[32mStar\u001b[39m = \u001b[33mStar\u001b[39m(\u001b[33mOr\u001b[39m(\u001b[33mAtom\u001b[39m(\u001b[32m\"Hello\"\u001b[39m), \u001b[33mConcat\u001b[39m(\u001b[33mAtom\u001b[39m(\u001b[32m\"Hello\"\u001b[39m), \u001b[33mAtom\u001b[39m(\u001b[32m\"Hello\"\u001b[39m))))\n",
       "\u001b[36mv5\u001b[39m: \u001b[32mOr\u001b[39m = \u001b[33mOr\u001b[39m(\n",
       "  \u001b[33mAtom\u001b[39m(\u001b[32m\"Hello\"\u001b[39m),\n",
       "  \u001b[33mStar\u001b[39m(\u001b[33mOr\u001b[39m(\u001b[33mAtom\u001b[39m(\u001b[32m\"Hello\"\u001b[39m), \u001b[33mConcat\u001b[39m(\u001b[33mAtom\u001b[39m(\u001b[32m\"Hello\"\u001b[39m), \u001b[33mAtom\u001b[39m(\u001b[32m\"Hello\"\u001b[39m))))\n",
       ")"
      ]
     },
     "execution_count": 20,
     "metadata": {},
     "output_type": "execute_result"
    }
   ],
   "source": [
    "// BEGIN TESTS\n",
    "val v1 = Atom(\"Hello\")\n",
    "val v2 = Concat(v1, v1)\n",
    "val v3 = Or(v1, v2)\n",
    "val v4 = Star(v3)\n",
    "val v5 = Or(v1, v4)\n",
    "passed(7)\n",
    "// END TESTS"
   ]
  },
  {
   "cell_type": "markdown",
   "metadata": {
    "deletable": false,
    "editable": false,
    "nbgrader": {
     "checksum": "39bc4ab59b83c05f086234066ea4ff39",
     "grade": false,
     "grade_id": "cell-f847cff392d180bd",
     "locked": true,
     "schema_version": 1,
     "solution": false
    }
   },
   "source": [
    "### C (6 points)\n",
    "Write down the representation of the regular expression in Scala. Your cell must define a term that should be called `finalAnswerC`.\n",
    "\n",
    "$$ (\\text{\"hello\"})^* ;  ((\\text{\"scala\"}; \\text{\"best\"})^*) $$\n"
   ]
  },
  {
   "cell_type": "code",
   "execution_count": 21,
   "metadata": {
    "deletable": false,
    "nbgrader": {
     "checksum": "2cd6d7a49cc2696ec846130bade12e09",
     "grade": false,
     "grade_id": "answer_3c",
     "locked": false,
     "schema_version": 1,
     "solution": true
    }
   },
   "outputs": [
    {
     "data": {
      "text/plain": [
       "\u001b[36mfinalAnswerC\u001b[39m: \u001b[32mConcat\u001b[39m = \u001b[33mConcat\u001b[39m(\n",
       "  \u001b[33mStar\u001b[39m(\u001b[33mAtom\u001b[39m(\u001b[32m\"hello\"\u001b[39m)),\n",
       "  \u001b[33mStar\u001b[39m(\u001b[33mConcat\u001b[39m(\u001b[33mAtom\u001b[39m(\u001b[32m\"scala\"\u001b[39m), \u001b[33mAtom\u001b[39m(\u001b[32m\"best\"\u001b[39m)))\n",
       ")"
      ]
     },
     "execution_count": 21,
     "metadata": {},
     "output_type": "execute_result"
    }
   ],
   "source": [
    "val finalAnswerC = {\n",
    "    // YOUR CODE HERE\n",
    "    Concat(Star(Atom(\"hello\")),Star(Concat(Atom(\"scala\"), Atom(\"best\"))))\n",
    "}"
   ]
  },
  {
   "cell_type": "code",
   "execution_count": 22,
   "metadata": {
    "deletable": false,
    "editable": false,
    "nbgrader": {
     "checksum": "e4d96c9d11a014c514a6bc981c4cef8a",
     "grade": true,
     "grade_id": "tests_3c",
     "locked": true,
     "points": 6,
     "schema_version": 1,
     "solution": false
    }
   },
   "outputs": [
    {
     "name": "stdout",
     "output_type": "stream",
     "text": [
      "\n",
      "*** Tests Passed (6 points) ***\n"
     ]
    },
    {
     "data": {
      "text/plain": [
       "defined \u001b[32mfunction\u001b[39m \u001b[36mmunge\u001b[39m"
      ]
     },
     "execution_count": 22,
     "metadata": {},
     "output_type": "execute_result"
    }
   ],
   "source": [
    "// BEGIN TESTS\n",
    "def munge(r: Regex): String = r match {\n",
    "    case Atom(st) => \"$A$\"+st\n",
    "    case Concat(r1, r2) => munge(r1)+\"$C$\"+munge(r2)\n",
    "    case Star(r) => \"$K$\"+munge(r)+\"$S$\"\n",
    "    case Or(r1, r2) => munge(r1)+\"_O_\"+munge(r2)\n",
    "    case And(r1,r2) => munge(r1)+\"/\\\\\"+ munge(r2)\n",
    "}\n",
    "\n",
    "assert(munge(finalAnswerC) == \"$K$$A$hello$S$$C$$K$$A$scala$C$$A$best$S$\", \"Test failed: you should seek help from the course staff to help you debug this problem, please\")\n",
    "passed(6)\n",
    "// END TESTS"
   ]
  },
  {
   "cell_type": "code",
   "execution_count": null,
   "metadata": {},
   "outputs": [],
   "source": []
  }
 ],
 "metadata": {
  "kernelspec": {
   "display_name": "Scala",
   "language": "scala",
   "name": "scala"
  },
  "language_info": {
   "codemirror_mode": "text/x-scala",
   "file_extension": ".scala",
   "mimetype": "text/x-scala",
   "name": "scala",
   "nbconvert_exporter": "script",
   "version": "2.12.8"
  }
 },
 "nbformat": 4,
 "nbformat_minor": 2
}
