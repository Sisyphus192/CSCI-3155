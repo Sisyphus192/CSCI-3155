{
 "cells": [
  {
   "cell_type": "markdown",
   "metadata": {},
   "source": [
    "# L27: More on Objects\n",
    "\n",
    "* NOTE: I am not a great speller and I still don't have a spell-check plugin for JN, so sorry in advance for the typos"
   ]
  },
  {
   "cell_type": "markdown",
   "metadata": {},
   "source": [
    "## Overview\n",
    "* Review\n",
    "* Up and Down Casting\n",
    "* Inheritance Hierarchy\n",
    "* Multiple Inheritance\n",
    "* Trait vs Class\n",
    "* Mix-Ins for “Multiple Inheritanc”\n",
    "* Involved Examples"
   ]
  },
  {
   "cell_type": "markdown",
   "metadata": {},
   "source": [
    "## Review"
   ]
  },
  {
   "cell_type": "markdown",
   "metadata": {},
   "source": [
    "### Pillars\n",
    "* Objects are a collection of data and operations on the data\n",
    "* Objects have 4 core concepts or \"pillars\" that make them particularly useful. They are:\n",
    "    * Abstraction\n",
    "    * Polymorphism\n",
    "    * Encapsulation\n",
    "    * Inheritance"
   ]
  },
  {
   "cell_type": "markdown",
   "metadata": {},
   "source": [
    "### Constructors\n",
    "* there are 3 types of constructors. They are:\n",
    "    * primary\n",
    "    * default\n",
    "    * auxillary\n",
    "* Scala doesn't require a default constructor, but it is likely a good practice\n",
    "* Consider the following code:\n",
    "    * Identify the primary constructor\n",
    "    * Identify any auxillary constructors\n",
    "    * Identify a default constructor if it exists"
   ]
  },
  {
   "cell_type": "code",
   "execution_count": 5,
   "metadata": {
    "collapsed": false
   },
   "outputs": [
    {
     "data": {
      "text/plain": [
       "defined \u001b[32mclass\u001b[39m \u001b[36mAlpha\u001b[39m\n",
       "\u001b[36mres4_1\u001b[39m: \u001b[32mAlpha\u001b[39m = ammonite.$sess.cmd4$Helper$Alpha@4ed2db4e\n",
       "\u001b[36mres4_2\u001b[39m: \u001b[32mAlpha\u001b[39m = ammonite.$sess.cmd4$Helper$Alpha@190ab705\n",
       "\u001b[36mres4_3\u001b[39m: \u001b[32mAlpha\u001b[39m = ammonite.$sess.cmd4$Helper$Alpha@6f818979"
      ]
     },
     "execution_count": 5,
     "metadata": {},
     "output_type": "execute_result"
    }
   ],
   "source": [
    "// primary constructor\n",
    "class Alpha(b:Int, c:Int) {\n",
    "    \n",
    "    // an aux constructor\n",
    "    // a default constructor\n",
    "    def this() = {\n",
    "        this(5, 10)\n",
    "    }\n",
    "    \n",
    "    // an aux constructor\n",
    "    def this(b:Int) = {\n",
    "        this(b, 10)\n",
    "    }\n",
    "}\n",
    "\n",
    "new Alpha()\n",
    "new Alpha(1)\n",
    "new Alpha(2,3)"
   ]
  },
  {
   "cell_type": "code",
   "execution_count": 4,
   "metadata": {
    "collapsed": false
   },
   "outputs": [
    {
     "data": {
      "text/plain": [
       "defined \u001b[32mclass\u001b[39m \u001b[36mAlpha\u001b[39m\n",
       "\u001b[36mres3_1\u001b[39m: \u001b[32mAlpha\u001b[39m = ammonite.$sess.cmd3$Helper$Alpha@1bf5dd99\n",
       "\u001b[36mres3_2\u001b[39m: \u001b[32mAlpha\u001b[39m = ammonite.$sess.cmd3$Helper$Alpha@20b8453d\n",
       "\u001b[36mres3_3\u001b[39m: \u001b[32mAlpha\u001b[39m = ammonite.$sess.cmd3$Helper$Alpha@4dc9fa9f"
      ]
     },
     "execution_count": 4,
     "metadata": {},
     "output_type": "execute_result"
    }
   ],
   "source": [
    "// primary constructor\n",
    "class Alpha(b:Int = 5, c:Int = 10)\n",
    "\n",
    "new Alpha()\n",
    "new Alpha(1)\n",
    "new Alpha(2,3)"
   ]
  },
  {
   "cell_type": "markdown",
   "metadata": {},
   "source": [
    "* Okay. I think that is a sufficient high level review of Tuesday's lecture\n",
    "* Other topics from Tuesday will pop their head in today as we move forward"
   ]
  },
  {
   "cell_type": "markdown",
   "metadata": {},
   "source": [
    "## Up and Down Casting\n",
    "* up casting is safe\n",
    "* down casting can be problematic... we must code safely when downcasting"
   ]
  },
  {
   "cell_type": "code",
   "execution_count": 6,
   "metadata": {
    "collapsed": false
   },
   "outputs": [
    {
     "name": "stdout",
     "output_type": "stream",
     "text": [
      "Inside Alpha!\n",
      "Inside Bravo!\n"
     ]
    },
    {
     "data": {
      "text/plain": [
       "defined \u001b[32mclass\u001b[39m \u001b[36mAlpha\u001b[39m\n",
       "defined \u001b[32mclass\u001b[39m \u001b[36mBravo\u001b[39m\n",
       "defined \u001b[32mfunction\u001b[39m \u001b[36mmagic\u001b[39m\n",
       "\u001b[36ma0\u001b[39m: \u001b[32mAlpha\u001b[39m = ammonite.$sess.cmd5$Helper$Alpha@2e5ed762\n",
       "\u001b[36mb0\u001b[39m: \u001b[32mBravo\u001b[39m = ammonite.$sess.cmd5$Helper$Bravo@1e20a56a"
      ]
     },
     "execution_count": 6,
     "metadata": {},
     "output_type": "execute_result"
    }
   ],
   "source": [
    "/* UPCASTING */\n",
    "\n",
    "class Alpha {\n",
    "    def foo() = {\n",
    "        println(s\"Inside Alpha!\")\n",
    "    }\n",
    "}\n",
    "\n",
    "\n",
    "class Bravo extends Alpha {\n",
    "    override def foo() = {\n",
    "        println(s\"Inside Bravo!\")\n",
    "    }\n",
    "}\n",
    "\n",
    "\n",
    "def magic(a:Alpha) = a.foo()\n",
    "\n",
    "\n",
    "val a0 = new Alpha()\n",
    "val b0 = new Bravo()\n",
    "\n",
    "magic(a0)\n",
    "magic(b0)"
   ]
  },
  {
   "cell_type": "code",
   "execution_count": 7,
   "metadata": {
    "collapsed": false
   },
   "outputs": [
    {
     "name": "stdout",
     "output_type": "stream",
     "text": [
      "I've found a Bravo Object!\n"
     ]
    },
    {
     "data": {
      "text/plain": [
       "defined \u001b[32mclass\u001b[39m \u001b[36mAlpha\u001b[39m\n",
       "defined \u001b[32mclass\u001b[39m \u001b[36mBravo\u001b[39m\n",
       "defined \u001b[32mfunction\u001b[39m \u001b[36mmagic\u001b[39m\n",
       "\u001b[36ma0\u001b[39m: \u001b[32mAlpha\u001b[39m = ammonite.$sess.cmd6$Helper$Alpha@195591ab\n",
       "\u001b[36mb0\u001b[39m: \u001b[32mBravo\u001b[39m = ammonite.$sess.cmd6$Helper$Bravo@3dbb1033"
      ]
     },
     "execution_count": 7,
     "metadata": {},
     "output_type": "execute_result"
    }
   ],
   "source": [
    "/* UP and DOWNCASTING FINE */\n",
    "\n",
    "class Alpha\n",
    "class Bravo extends Alpha\n",
    "\n",
    "// isInstanceOf takes a template, hence [Bravo] and not (Bravo)\n",
    "def magic(a:Alpha) = {\n",
    "    if (a.isInstanceOf[Bravo]) {\n",
    "        println(\"I've found a Bravo Object!\")\n",
    "    }\n",
    "}\n",
    "\n",
    "val a0 = new Alpha\n",
    "val b0 = new Bravo\n",
    "\n",
    "magic(a0)\n",
    "magic(b0)\n",
    "// we are good so far.\n",
    "// a0 and b0 can both safely be upcasted to Alpha and then b0 can safely be downcasted to Bravo"
   ]
  },
  {
   "cell_type": "code",
   "execution_count": 8,
   "metadata": {
    "collapsed": false
   },
   "outputs": [
    {
     "name": "stdout",
     "output_type": "stream",
     "text": [
      "I've found a Bravo Object!\n"
     ]
    },
    {
     "data": {
      "text/plain": [
       "defined \u001b[32mclass\u001b[39m \u001b[36mAlpha\u001b[39m\n",
       "defined \u001b[32mclass\u001b[39m \u001b[36mBravo\u001b[39m\n",
       "defined \u001b[32mclass\u001b[39m \u001b[36mCharlie\u001b[39m\n",
       "defined \u001b[32mfunction\u001b[39m \u001b[36mmagic\u001b[39m\n",
       "\u001b[36mc0\u001b[39m: \u001b[32mCharlie\u001b[39m = ammonite.$sess.cmd7$Helper$Charlie@72619d25"
      ]
     },
     "execution_count": 8,
     "metadata": {},
     "output_type": "execute_result"
    }
   ],
   "source": [
    "/* UP and DOWNCASTING less FINE*/\n",
    "\n",
    "// but what about a lower type than Bravo?\n",
    "\n",
    "class Alpha\n",
    "class Bravo extends Alpha\n",
    "class Charlie extends Bravo\n",
    "\n",
    "def magic(a:Alpha) = {\n",
    "    if (a.isInstanceOf[Bravo]) {\n",
    "        println(s\"I've found a Bravo Object!\")\n",
    "    }\n",
    "}\n",
    "\n",
    "val c0 = new Charlie\n",
    "\n",
    "magic(c0)\n",
    "// this isn't quite what I had in mind for the function...\n",
    "// I need to be careful when downcasting..."
   ]
  },
  {
   "cell_type": "code",
   "execution_count": 9,
   "metadata": {
    "collapsed": false
   },
   "outputs": [
    {
     "name": "stdout",
     "output_type": "stream",
     "text": [
      "I've found a Alpha Object!\n",
      "I've found a Bravo Object!\n",
      "I've found a Charlie Object!\n"
     ]
    },
    {
     "data": {
      "text/plain": [
       "defined \u001b[32mclass\u001b[39m \u001b[36mAlpha\u001b[39m\n",
       "defined \u001b[32mclass\u001b[39m \u001b[36mBravo\u001b[39m\n",
       "defined \u001b[32mclass\u001b[39m \u001b[36mCharlie\u001b[39m\n",
       "defined \u001b[32mfunction\u001b[39m \u001b[36mmagic\u001b[39m\n",
       "\u001b[36ma0\u001b[39m: \u001b[32mAlpha\u001b[39m = ammonite.$sess.cmd8$Helper$Alpha@2281cf7c\n",
       "\u001b[36mb0\u001b[39m: \u001b[32mBravo\u001b[39m = ammonite.$sess.cmd8$Helper$Bravo@3c292a7\n",
       "\u001b[36mc0\u001b[39m: \u001b[32mCharlie\u001b[39m = ammonite.$sess.cmd8$Helper$Charlie@313d1c63"
      ]
     },
     "execution_count": 9,
     "metadata": {},
     "output_type": "execute_result"
    }
   ],
   "source": [
    "/* \n",
    " * We need to be careful when downcasting for the sake of getting our\n",
    " * intended behavior\n",
    " */\n",
    "class Alpha\n",
    "class Bravo extends Alpha\n",
    "class Charlie extends Bravo\n",
    "\n",
    "def magic(a:Alpha) = {\n",
    "    if (a.isInstanceOf[Charlie]) {\n",
    "        println(s\"I've found a Charlie Object!\")\n",
    "    } else if (a.isInstanceOf[Bravo]) {\n",
    "        println(s\"I've found a Bravo Object!\")\n",
    "    } else if (a.isInstanceOf[Alpha]) {\n",
    "        println(s\"I've found a Alpha Object!\")\n",
    "    }\n",
    "}\n",
    "\n",
    "val a0 = new Alpha\n",
    "val b0 = new Bravo\n",
    "val c0 = new Charlie\n",
    "\n",
    "magic(a0)\n",
    "magic(b0)\n",
    "magic(c0)"
   ]
  },
  {
   "cell_type": "code",
   "execution_count": 11,
   "metadata": {
    "collapsed": false
   },
   "outputs": [
    {
     "data": {
      "text/plain": [
       "defined \u001b[32mclass\u001b[39m \u001b[36mAlpha\u001b[39m\n",
       "defined \u001b[32mclass\u001b[39m \u001b[36mBravo\u001b[39m\n",
       "defined \u001b[32mclass\u001b[39m \u001b[36mCharlie\u001b[39m\n",
       "defined \u001b[32mfunction\u001b[39m \u001b[36mmagic\u001b[39m\n",
       "\u001b[36ma0\u001b[39m: \u001b[32mAlpha\u001b[39m = ammonite.$sess.cmd10$Helper$Alpha@4e3ea6d9\n",
       "\u001b[36mb0\u001b[39m: \u001b[32mBravo\u001b[39m = ammonite.$sess.cmd10$Helper$Bravo@9e9f9e7\n",
       "\u001b[36mc0\u001b[39m: \u001b[32mCharlie\u001b[39m = ammonite.$sess.cmd10$Helper$Charlie@652d36ea\n",
       "\u001b[36mres10_7\u001b[39m: \u001b[32mCharlie\u001b[39m = ammonite.$sess.cmd10$Helper$Charlie@652d36ea"
      ]
     },
     "execution_count": 11,
     "metadata": {},
     "output_type": "execute_result"
    }
   ],
   "source": [
    "/*\n",
    " * we also need to be careful not to end up with an error thrown\n",
    " * for being too liberal with our type casting\n",
    " *\n",
    " * downcasting can be impossible\n",
    " * you should conditionally check before downcasting\n",
    " */\n",
    "class Alpha\n",
    "class Bravo extends Alpha\n",
    "class Charlie extends Bravo\n",
    "\n",
    "def magic(a:Alpha) = {\n",
    "    a.asInstanceOf[Charlie]\n",
    "}\n",
    "\n",
    "val a0 = new Alpha\n",
    "val b0 = new Bravo\n",
    "val c0 = new Charlie\n",
    "\n",
    "// magic(a0)  // errror\n",
    "// magic(b0)  // error\n",
    "magic(c0)"
   ]
  },
  {
   "cell_type": "markdown",
   "metadata": {},
   "source": [
    "## Inheritance Hierarchy\n",
    "* Consider that in strong object oriented programs, many classes will inherit from eachother\n",
    "* This creates a tree-like structure for the inheritance\n",
    "* Suppose a subclass does not define some attribute or method. Then the thing is inherited.\n",
    "* But from whom is it inherited?\n",
    "* I inherit from the nearest parent that defines the thing in question\n",
    "* In the bellow example, class Wat inherits methods foo, bar, and baz. Where does Wat inherit each of these methods from?\n",
    "    * class Wat inherits foo from class ???\n",
    "    * class Wat inherits bar from class ???\n",
    "    * class Wat inherits baz from class ???"
   ]
  },
  {
   "cell_type": "code",
   "execution_count": 14,
   "metadata": {
    "collapsed": false
   },
   "outputs": [
    {
     "name": "stdout",
     "output_type": "stream",
     "text": [
      "a simple baz function - Wiskey\n",
      "an overriden bar function - Tango\n",
      "a doubly overriden foo function - Foxtrot\n",
      "an overriden bar function - Tango\n",
      "a doubly overriden foo function - Foxtrot\n"
     ]
    },
    {
     "data": {
      "text/plain": [
       "defined \u001b[32mclass\u001b[39m \u001b[36mWiskey\u001b[39m\n",
       "defined \u001b[32mclass\u001b[39m \u001b[36mTango\u001b[39m\n",
       "defined \u001b[32mclass\u001b[39m \u001b[36mFoxtrot\u001b[39m\n",
       "defined \u001b[32mclass\u001b[39m \u001b[36mWat\u001b[39m\n",
       "\u001b[36mwat\u001b[39m: \u001b[32mWat\u001b[39m = ammonite.$sess.cmd13$Helper$Wat@65cb7877\n",
       "\u001b[36mwat2\u001b[39m: \u001b[32mTango\u001b[39m = ammonite.$sess.cmd13$Helper$Wat@65cb7877"
      ]
     },
     "execution_count": 14,
     "metadata": {},
     "output_type": "execute_result"
    }
   ],
   "source": [
    "class Wiskey {\n",
    "    def foo() = println(\"a simple foo function - Wiskey\")\n",
    "    def bar() = println(\"a simple bar function - Wiskey\")\n",
    "    def baz() = println(\"a simple baz function - Wiskey\")\n",
    "}\n",
    "\n",
    "class Tango extends Wiskey {\n",
    "    override def foo() = println(\"an overriden foo function - Tango\") \n",
    "    override def bar() = println(\"an overriden bar function - Tango\")\n",
    "}\n",
    "\n",
    "class Foxtrot extends Tango {\n",
    "    override def foo() = println(\"a doubly overriden foo function - Foxtrot\")\n",
    "}\n",
    "\n",
    "class Wat extends Foxtrot\n",
    "\n",
    "\n",
    "val wat = new Wat()\n",
    "wat.baz()\n",
    "wat.bar()\n",
    "wat.foo()\n",
    "\n",
    "// wat.super[Tango].foo()\n",
    "\n",
    "val wat2 = wat.asInstanceOf[Tango]\n",
    "wat2.bar()\n",
    "wat2.foo()"
   ]
  },
  {
   "cell_type": "markdown",
   "metadata": {},
   "source": [
    "### Qs???"
   ]
  },
  {
   "cell_type": "markdown",
   "metadata": {},
   "source": [
    "## Multiple Inheritance\n",
    "* Multiple inheritance is problematic\n",
    "* It introduces the opportunity for a \"dreaded diamond\"\n",
    "* It introduces compilaction in determining which parent object you will inherit some quality from\n",
    "* It isn't possible in Scala, but it is possible in C++"
   ]
  },
  {
   "cell_type": "code",
   "execution_count": null,
   "metadata": {
    "collapsed": false
   },
   "outputs": [],
   "source": [
    "/*\n",
    " * How do I get Charlie to inherit from both Alpha and Bravo?\n",
    " */\n",
    "class Alpha {\n",
    "    def foo() = println(\"hello there\")\n",
    "}\n",
    "class Bravo {\n",
    "    def bar() = println(\"goodbye for now\")\n",
    "}\n",
    "\n",
    "class Charlie // I want this to inherit from both Alpha and Bravo... but How?\n"
   ]
  },
  {
   "cell_type": "code",
   "execution_count": null,
   "metadata": {
    "collapsed": false
   },
   "outputs": [],
   "source": [
    "/*\n",
    " * Option 1: chain the inheritance\n",
    " */\n",
    "class Alpha {\n",
    "    def foo() = println(\"hello there\")\n",
    "}\n",
    "class Bravo extends Alpha {\n",
    "    def bar() = println(\"goodbye for now\")\n",
    "}\n",
    "\n",
    "class Charlie extends Bravo\n",
    "\n",
    "val c0 = new Charlie\n",
    "c0.foo()\n",
    "c0.bar()"
   ]
  },
  {
   "cell_type": "code",
   "execution_count": null,
   "metadata": {
    "collapsed": false
   },
   "outputs": [],
   "source": [
    "/*\n",
    " * But let's say the goal is to have Charlie inherit from both Alpha and Bravo\n",
    " * without having Bravo inherit from Alpha. How would we do that?\n",
    " * Scala may have a way to support this as a SUPER DUPER advanced feature...\n",
    " *    it is problematic as it introduces a \"Dreaded Diamond\" which can cause issues\n",
    " *        ASIDE: It happens to be easy to do in C++ but not in Scala\n",
    " *    it is Out of Scope for our course\n",
    " *    Instead we will use traits and mix-ins\n",
    " * Let Bravo be a trait rather than a class\n",
    " */\n",
    "class Alpha {\n",
    "    def foo() = println(\"hello there\")\n",
    "}\n",
    "\n",
    "// NOTE: Bravo is a trait, not a class\n",
    "trait Bravo {\n",
    "    def bar() = println(\"goodbye for now\")\n",
    "}\n",
    "\n",
    "// NOTE: we use \"with\" for our trait\n",
    "class Charlie extends Alpha with Bravo\n",
    "\n",
    "val c0 = new Charlie\n",
    "c0.foo()\n",
    "c0.bar()"
   ]
  },
  {
   "cell_type": "markdown",
   "metadata": {},
   "source": [
    "## Trait vs Class\n",
    "* Scala has traits and classes\n",
    "* traits\n",
    "    * traits are similar to abstract classes in that traits cannot be instantiated\n",
    "    * traits are similar to classes, as traits can be inherited\n",
    "    * traits are more powerful than classes, as traits can be “Mixed-In” to provide the same effects as multiple-inheritance\n",
    "* classes\n",
    "    * classes can be instantiated so long as they are not “abstract” classes\n",
    "    * classes cannot be used as mix-ins"
   ]
  },
  {
   "cell_type": "code",
   "execution_count": 15,
   "metadata": {
    "collapsed": false
   },
   "outputs": [
    {
     "data": {
      "text/plain": [
       "defined \u001b[32mtrait\u001b[39m \u001b[36mA\u001b[39m\n",
       "defined \u001b[32mclass\u001b[39m \u001b[36mB\u001b[39m"
      ]
     },
     "execution_count": 15,
     "metadata": {},
     "output_type": "execute_result"
    }
   ],
   "source": [
    "trait A\n",
    "class B extends A"
   ]
  },
  {
   "cell_type": "code",
   "execution_count": 17,
   "metadata": {
    "collapsed": false
   },
   "outputs": [
    {
     "data": {
      "text/plain": [
       "defined \u001b[32mclass\u001b[39m \u001b[36mA\u001b[39m\n",
       "defined \u001b[32mclass\u001b[39m \u001b[36mB\u001b[39m"
      ]
     },
     "execution_count": 17,
     "metadata": {},
     "output_type": "execute_result"
    }
   ],
   "source": [
    "abstract class A\n",
    "class B extends A"
   ]
  },
  {
   "cell_type": "code",
   "execution_count": 17,
   "metadata": {
    "collapsed": false
   },
   "outputs": [
    {
     "name": "stderr",
     "output_type": "stream",
     "text": [
      "cmd17.sc:3: class B needs to be a trait to be mixed in\n",
      "class C extends A with B\n",
      "                       ^Compilation Failed"
     ]
    },
    {
     "ename": "",
     "evalue": "",
     "output_type": "error",
     "traceback": [
      "Compilation Failed"
     ]
    }
   ],
   "source": [
    "class A\n",
    "abstract class B\n",
    "class C extends A with B"
   ]
  },
  {
   "cell_type": "code",
   "execution_count": 19,
   "metadata": {
    "collapsed": false
   },
   "outputs": [
    {
     "data": {
      "text/plain": [
       "defined \u001b[32mclass\u001b[39m \u001b[36mA\u001b[39m\n",
       "defined \u001b[32mtrait\u001b[39m \u001b[36mB\u001b[39m\n",
       "defined \u001b[32mclass\u001b[39m \u001b[36mC\u001b[39m"
      ]
     },
     "execution_count": 19,
     "metadata": {},
     "output_type": "execute_result"
    }
   ],
   "source": [
    "class A\n",
    "trait B\n",
    "class C extends A with B"
   ]
  },
  {
   "cell_type": "markdown",
   "metadata": {},
   "source": [
    "## Mix-ins for “Multiple Inheritance”\n",
    "* multiple-inheritance is the idea that we would allow for a sub-class to inherit from multiple super-classes\n",
    "    * C++ allows this\n",
    "    * Scala does not allow this\n",
    "    * This can cause issues as it creates a “dreaded diamond”\n",
    "* Scala does not allow for multiple inheritance.\n",
    "    * Or if it does, it is through some super obscure, advanced, and unnecessary method\n",
    "* Scala uses traits for “Mix-Ins” in the code to provide similar behaviors as multiple inheritance\n",
    "* Here is the easist thing I could think of and it's rather useless:"
   ]
  },
  {
   "cell_type": "code",
   "execution_count": null,
   "metadata": {
    "collapsed": false
   },
   "outputs": [],
   "source": [
    "abstract class A\n",
    "abstract class B extends A\n",
    "// abstract class C extends A  // fails at class D... because class vs trait in Scala\n",
    "trait C extends A\n",
    "\n",
    "class D extends B with C"
   ]
  },
  {
   "cell_type": "markdown",
   "metadata": {},
   "source": [
    "### Qs???"
   ]
  },
  {
   "cell_type": "markdown",
   "metadata": {},
   "source": [
    "### Dogs\n",
    "* Now let us explore a more useful example\n",
    "* NOTE: if you were implementing this particular thing, there is certainly a \"better\" way to do it that doesn't involve mix-ins... this is just a reasonably sized example that uses mix-ins\n",
    "* I happen to love dogs. Let's start with a dog class that has no mix-ins"
   ]
  },
  {
   "cell_type": "code",
   "execution_count": 20,
   "metadata": {
    "collapsed": false
   },
   "outputs": [
    {
     "name": "stdout",
     "output_type": "stream",
     "text": [
      "woof\n"
     ]
    },
    {
     "data": {
      "text/plain": [
       "defined \u001b[32mclass\u001b[39m \u001b[36mAnimal\u001b[39m\n",
       "defined \u001b[32mclass\u001b[39m \u001b[36mDog\u001b[39m\n",
       "\u001b[36mdog\u001b[39m: \u001b[32mDog\u001b[39m = ammonite.$sess.cmd19$Helper$Dog@785a253c"
      ]
     },
     "execution_count": 20,
     "metadata": {},
     "output_type": "execute_result"
    }
   ],
   "source": [
    "abstract class Animal {\n",
    "    val sound: String\n",
    "    def speak = {\n",
    "        println(sound)\n",
    "    }\n",
    "}\n",
    "\n",
    "class Dog extends Animal {\n",
    "    val sound = \"woof\"\n",
    "}\n",
    "\n",
    "\n",
    "val dog = new Dog()\n",
    "dog.speak"
   ]
  },
  {
   "cell_type": "markdown",
   "metadata": {},
   "source": [
    "### Dogs with one trait\n",
    "* Let's add a trait to dogs to create certain kinds of dogs"
   ]
  },
  {
   "cell_type": "code",
   "execution_count": 23,
   "metadata": {
    "collapsed": false
   },
   "outputs": [
    {
     "name": "stdout",
     "output_type": "stream",
     "text": [
      "MEOW MEOW MEOW MEOW MEOW \n"
     ]
    },
    {
     "data": {
      "text/plain": [
       "defined \u001b[32mclass\u001b[39m \u001b[36mAnimal\u001b[39m\n",
       "defined \u001b[32mclass\u001b[39m \u001b[36mDog\u001b[39m\n",
       "defined \u001b[32mtrait\u001b[39m \u001b[36mLoud\u001b[39m\n",
       "defined \u001b[32mclass\u001b[39m \u001b[36mLoudDog\u001b[39m\n",
       "defined \u001b[32mclass\u001b[39m \u001b[36mCat\u001b[39m\n",
       "defined \u001b[32mclass\u001b[39m \u001b[36mLoudCat\u001b[39m\n",
       "\u001b[36mloudCat\u001b[39m: \u001b[32mLoudCat\u001b[39m = ammonite.$sess.cmd22$Helper$LoudCat@22a47618"
      ]
     },
     "execution_count": 23,
     "metadata": {},
     "output_type": "execute_result"
    }
   ],
   "source": [
    "abstract class Animal {\n",
    "    val sound: String\n",
    "    def speak = {\n",
    "        println(sound)\n",
    "    }\n",
    "}\n",
    "\n",
    "class Dog extends Animal {\n",
    "    val sound = \"woof\"\n",
    "}\n",
    "\n",
    "\n",
    "trait Loud extends Animal {\n",
    "    override def speak = println((sound.toUpperCase() + \" \") * 5)\n",
    "}\n",
    "\n",
    "class LoudDog extends Dog with Loud\n",
    "\n",
    "\n",
    "\n",
    "val dog = new Dog()\n",
    "dog.speak\n",
    "\n",
    "val loudDog = new LoudDog()\n",
    "loudDog.speak\n",
    "\n",
    "\n",
    "// // NOTE: this trait Raging can also apply to other types of animals\n",
    "class Cat extends Animal { val sound = \"meow\" }\n",
    "class LoudCat extends Cat with Loud\n",
    "val loudCat = new LoudCat()\n",
    "loudCat.speak"
   ]
  },
  {
   "cell_type": "markdown",
   "metadata": {},
   "source": [
    "### Dogs with multiple traits\n",
    "* Let's add another trait to create more different kind of dogs"
   ]
  },
  {
   "cell_type": "code",
   "execution_count": 24,
   "metadata": {
    "collapsed": false
   },
   "outputs": [
    {
     "name": "stdout",
     "output_type": "stream",
     "text": [
      "\n",
      "\n",
      "\n",
      "First, a sitting dog::\n",
      "WOOF WOOF WOOF WOOF WOOF \n",
      "Yes, of course I'll sit for you. You're going to give me a treat right?\n",
      "\n",
      "\n",
      "\n",
      "Now for a disobediant dog::\n",
      "WOOF WOOF WOOF WOOF WOOF \n",
      "No, I refuse! And I'll have that piazza of yours now if you don't mind!\n",
      "\n",
      "\n",
      "\n",
      "\n"
     ]
    },
    {
     "data": {
      "text/plain": [
       "defined \u001b[32mclass\u001b[39m \u001b[36mAnimal\u001b[39m\n",
       "defined \u001b[32mclass\u001b[39m \u001b[36mDog\u001b[39m\n",
       "defined \u001b[32mtrait\u001b[39m \u001b[36mLoud\u001b[39m\n",
       "defined \u001b[32mtrait\u001b[39m \u001b[36mObey\u001b[39m\n",
       "defined \u001b[32mtrait\u001b[39m \u001b[36mDisobedient\u001b[39m\n",
       "defined \u001b[32mtrait\u001b[39m \u001b[36mSit\u001b[39m\n",
       "defined \u001b[32mclass\u001b[39m \u001b[36mLoudDisobedientDog\u001b[39m\n",
       "defined \u001b[32mclass\u001b[39m \u001b[36mSittingLoudDog\u001b[39m\n",
       "\u001b[36msrd\u001b[39m: \u001b[32mSittingLoudDog\u001b[39m = ammonite.$sess.cmd23$Helper$SittingLoudDog@2d196620\n",
       "\u001b[36mrdd\u001b[39m: \u001b[32mLoudDisobedientDog\u001b[39m = ammonite.$sess.cmd23$Helper$LoudDisobedientDog@40fd75b2"
      ]
     },
     "execution_count": 24,
     "metadata": {},
     "output_type": "execute_result"
    }
   ],
   "source": [
    "abstract class Animal {\n",
    "    val sound: String\n",
    "    def speak = {\n",
    "        println(sound)\n",
    "    }\n",
    "}\n",
    "\n",
    "class Dog extends Animal {\n",
    "    val sound = \"woof\"\n",
    "}\n",
    "\n",
    "trait Loud extends Animal {\n",
    "    override def speak = println((sound.toUpperCase() + \" \") * 5)\n",
    "}\n",
    "\n",
    "\n",
    "trait Obey extends Animal {\n",
    "    val action: String\n",
    "    def act = {\n",
    "        println(action)\n",
    "    }\n",
    "}\n",
    "\n",
    "trait Disobedient extends Obey {\n",
    "    val action = \"No, I refuse! And I'll have that piazza of yours now if you don't mind!\"\n",
    "}\n",
    "\n",
    "trait Sit extends Obey {\n",
    "    val action = \"Yes, of course I'll sit for you. You're going to give me a treat right?\"\n",
    "}\n",
    "\n",
    "class LoudDisobedientDog extends Dog with Loud with Disobedient\n",
    "class SittingLoudDog extends Dog with Sit with Loud\n",
    "\n",
    "\n",
    "println(\"\\n\\n\\nFirst, a sitting dog::\")\n",
    "val srd = new SittingLoudDog()\n",
    "srd.speak\n",
    "srd.act\n",
    "\n",
    "println(\"\\n\\n\\nNow for a disobediant dog::\")\n",
    "val rdd = new LoudDisobedientDog()\n",
    "rdd.speak\n",
    "rdd.act\n",
    "\n",
    "println(\"\\n\\n\\n\")"
   ]
  },
  {
   "cell_type": "code",
   "execution_count": 26,
   "metadata": {
    "collapsed": false
   },
   "outputs": [
    {
     "name": "stdout",
     "output_type": "stream",
     "text": [
      "WOOF WOOF WOOF WOOF WOOF \n",
      "...\n"
     ]
    },
    {
     "data": {
      "text/plain": [
       "defined \u001b[32mclass\u001b[39m \u001b[36mAnimal\u001b[39m\n",
       "defined \u001b[32mclass\u001b[39m \u001b[36mDog\u001b[39m\n",
       "defined \u001b[32mtrait\u001b[39m \u001b[36mLoud\u001b[39m\n",
       "defined \u001b[32mtrait\u001b[39m \u001b[36mObey\u001b[39m\n",
       "defined \u001b[32mtrait\u001b[39m \u001b[36mDisobedient\u001b[39m\n",
       "defined \u001b[32mclass\u001b[39m \u001b[36mA\u001b[39m\n",
       "defined \u001b[32mclass\u001b[39m \u001b[36mB\u001b[39m\n",
       "\u001b[36ma\u001b[39m: \u001b[32mA\u001b[39m = ammonite.$sess.cmd25$Helper$A@328daee3\n",
       "\u001b[36mb\u001b[39m: \u001b[32mB\u001b[39m = ammonite.$sess.cmd25$Helper$B@48dfe75e"
      ]
     },
     "execution_count": 26,
     "metadata": {},
     "output_type": "execute_result"
    }
   ],
   "source": [
    "abstract class Animal {\n",
    "    val sound: String\n",
    "    def speak = {\n",
    "        println(sound)\n",
    "    }\n",
    "}\n",
    "\n",
    "class Dog extends Animal {\n",
    "    val sound = \"woof\"\n",
    "}\n",
    "\n",
    "trait Loud extends Animal {\n",
    "    override def speak = println((sound.toUpperCase() + \" \") * 5)\n",
    "}\n",
    "\n",
    "\n",
    "trait Obey extends Animal {\n",
    "    val action: String\n",
    "    def act = {\n",
    "        println(action)\n",
    "    }\n",
    "}\n",
    "\n",
    "trait Disobedient extends Obey {\n",
    "    val action = \"No, I refuse! And I'll have that piazza of yours now if you don't mind!\"\n",
    "    override def speak = println(\"...\")\n",
    "}\n",
    "\n",
    "\n",
    "class A extends Dog with Disobedient with Loud\n",
    "class B extends Dog with Loud with Disobedient\n",
    "\n",
    "val a = new A\n",
    "a.speak\n",
    "\n",
    "val b = new B\n",
    "b.speak"
   ]
  },
  {
   "cell_type": "markdown",
   "metadata": {},
   "source": [
    "### Qs???"
   ]
  },
  {
   "cell_type": "markdown",
   "metadata": {},
   "source": [
    "## More Practice with OO Concepts"
   ]
  },
  {
   "cell_type": "markdown",
   "metadata": {},
   "source": [
    "### Something Fun\n",
    "* before we get into a harder topic, let's look at a common problem that may have purplexed you in the past\n",
    "* What is the difference between i++ and ++i"
   ]
  },
  {
   "cell_type": "markdown",
   "metadata": {},
   "source": [
    "In JavaScript:\n",
    "~~~\n",
    "CODE                 DISPAY on Screen        Value of I\n",
    "i = 5                                         5\n",
    "console.log(i++)      5                       6\n",
    "console.log(i)        6                       6\n",
    "console.log(++i)      7                       7\n",
    "~~~"
   ]
  },
  {
   "cell_type": "markdown",
   "metadata": {},
   "source": [
    "* What is the spec here?\n",
    "* i++\n",
    "    * ???\n",
    "* ++i\n",
    "    * ???"
   ]
  },
  {
   "cell_type": "code",
   "execution_count": 29,
   "metadata": {
    "collapsed": false
   },
   "outputs": [
    {
     "name": "stdout",
     "output_type": "stream",
     "text": [
      "Num(5.0)\n",
      "5.0\n",
      "Num(6.0)\n",
      "7.0\n",
      "Num(7.0)\n"
     ]
    },
    {
     "data": {
      "text/plain": [
       "defined \u001b[32mclass\u001b[39m \u001b[36mNum\u001b[39m\n",
       "defined \u001b[32mfunction\u001b[39m \u001b[36m++\u001b[39m\n",
       "\u001b[36mn\u001b[39m: \u001b[32mNum\u001b[39m = Num(7.0)"
      ]
     },
     "execution_count": 29,
     "metadata": {},
     "output_type": "execute_result"
    }
   ],
   "source": [
    "class Num(private var i:Double) {\n",
    "    \n",
    "    def getI = i\n",
    "    def setI(ip:Double) = i = ip\n",
    "    \n",
    "    override def toString = s\"Num(${i})\"\n",
    "    \n",
    "    def ++():Double = {\n",
    "        val a = i\n",
    "        i = i + 1\n",
    "        a\n",
    "    }\n",
    "}\n",
    "\n",
    "// Scala won't allow me to make this a method of Num... I assume because of parsing issues...\n",
    "def ++(n:Num):Double = {\n",
    "    val i = n.getI\n",
    "    n.setI(i + 1)\n",
    "    n.getI  // i + 1\n",
    "}\n",
    "\n",
    "var n = new Num(5)\n",
    "println(n)      // Num(5.0)\n",
    "println(n++)    // 5.0\n",
    "println(n)      // Num(6.0)\n",
    "println(++(n))  // 7.0\n",
    "println(n)      // Num(7.0)\n",
    "\n",
    "\n",
    "\n",
    "// n.++()\n",
    "// 1.+(2)\n",
    "// 1 + 2"
   ]
  },
  {
   "cell_type": "markdown",
   "metadata": {},
   "source": [
    "### Testing\n",
    "* As a Software Engineer at Northrop Grumman, on my current project, I actually spend a significant portion of my time as a test engineer\n",
    "* When I transferred to the project I was assigned a large section of testing that required me to manually call all sorts of bash and perl scripts and observe the output\n",
    "* It was a ridiculous way to test the system and I said, “Hey, couldn’t this be automated?”\n",
    "* I received approval to automate the tests, but I was required to write it in BASH, which is a very powerful language, but hard to work in and not an object oriented language\n",
    "* Let us try to write a test infrastructure using Scala’s OO features... for the heck of it"
   ]
  },
  {
   "cell_type": "markdown",
   "metadata": {},
   "source": [
    "#### Displays\n",
    "* Tests are hierarchical\n",
    "* You need to run hundreds of tests and many of them are related to eachother\n",
    "* Many of them are sub-tests of some larger test\n",
    "*  Consider the situation where we have 10 tests t0 – t9\n",
    "    * t1 and t2 are subtests of t0\n",
    "    * t4 - t9 are subtests of t3\n",
    "    * t6 - t8 are \n",
    "* I could display results as follows:\n",
    "~~~\n",
    "Passed t0\n",
    "Passed t1\n",
    "Passed t2\n",
    "Passed t3\n",
    "Passed t4\n",
    "Passed t5\n",
    "Passed t6\n",
    "Passed t7\n",
    "Passed t8\n",
    "Passed t9\n",
    "~~~\n",
    "\n",
    "* But, I think it would be cooler if the tests results formatted as follows:\n",
    "~~~\n",
    "Passed t0\n",
    "\tPassed t1\n",
    "\tPassed t2\n",
    "Passed t3\n",
    "\tPassed t4\n",
    "\tPassed t5\n",
    "\t\tPassed t6\n",
    "\t\tPassed t7\n",
    "\t\tPassed t8\n",
    "\tPassed t9\n",
    "~~~\n",
    "\n",
    "* Also I want errors to propogate, so if t7 fails I want to see:\n",
    "~~~\n",
    "Passed t0\n",
    "\tPassed t1\n",
    "\tPassed t2\n",
    "Failed t3\n",
    "\tPassed t4\n",
    "\tFailed t5\n",
    "\t\tPassed t6\n",
    "\t\tFailed t7\n",
    "\t\tPassed t8\n",
    "\tPassed t9\n",
    "~~~\n",
    "\n",
    "* NOTE, in this example system:\n",
    "    * t0 only passes if t1 and t2 pass\n",
    "    * t3 only passes if t4, t5 and t9 pass\n",
    "    * t5 only passes if t6, t7, and t8 pass\n",
    "* How would we design such a system?\n",
    "* I know there are plenty of unknowns here, but let’s try to construct a formatter for reporting test results\n",
    "    * if we have time we can look at constructing the tests itself\n",
    "* I’ve written my solution in the Solutions section of this document\n",
    "    * It reports results in the way described above\n",
    "    * but it also runs tests to construct a report\n",
    "    * and it works on test types of any single type\n",
    "        * This is one place where BASH is actually cooler than Scala. Since BASH doesn't have a strong type system we can write our tests to work on all types\n",
    "    * and it tells you how a full TestSuite runs\n",
    "    * and if you fail a test, it gives you extra special information about which specific tests failed\n",
    "    * NOTE. it's not very clean code, but you all have the ability to read it\n",
    "* We will likely only get through the report structure today.\n",
    "* Again, this is not an ideal solution to the task at hand... but it is an excuse to practice our OO concepts"
   ]
  },
  {
   "cell_type": "markdown",
   "metadata": {},
   "source": [
    "### Report\n",
    "* We'll start with a reporter class\n",
    "* Given a JSON like so:\n",
    "~~~\n",
    "{\n",
    "    t0: {\n",
    "        t1: true,\n",
    "        t2: true\n",
    "    },\n",
    "    t3: {\n",
    "        t4: true,\n",
    "        t5: {\n",
    "            t6: true,\n",
    "            t7: false,\n",
    "            t8: true\n",
    "        },\n",
    "        t9: true\n",
    "    }\n",
    "}\n",
    "~~~\n",
    "* report results as follows\n",
    "~~~\n",
    "Passed t0\n",
    "\tPassed t1\n",
    "\tPassed t2\n",
    "Failed t3\n",
    "\tPassed t4\n",
    "\tFailed t5\n",
    "\t\tPassed t6\n",
    "\t\tFailed t7\n",
    "\t\tPassed t8\n",
    "\tPassed t9\n",
    "~~~\n",
    "\n",
    "* Note that we will not be looking for JSON support in Scala\n",
    "* Instead we will design a structure ourselves"
   ]
  },
  {
   "cell_type": "code",
   "execution_count": null,
   "metadata": {
    "collapsed": false
   },
   "outputs": [],
   "source": [
    "abstract class Report {\n",
    "    \n",
    "    override def toString = this.helpToString(0)\n",
    "    \n",
    "    private def helpToString(lvl:Int):String = {\n",
    "        val prefix = \"\\t\" * lvl\n",
    "        ???\n",
    "    }\n",
    "        \n",
    "    private def formatResult(desc:String, passed:Boolean):String = {\n",
    "        if (passed) s\"Passed $desc\"\n",
    "        else s\"Failed $desc\"\n",
    "    }\n",
    "    \n",
    "    // Other methods?\n",
    "}\n",
    "\n",
    "// we must define the Report Structure\n",
    "// BASE CASE: the report is empty\n",
    "\n",
    "// Simple Test report: a test that has a name and it either succeeded or failed\n",
    "\n",
    "// Advanced Test report: a test that simply is a parent of other tests"
   ]
  },
  {
   "cell_type": "code",
   "execution_count": null,
   "metadata": {
    "collapsed": true
   },
   "outputs": [],
   "source": [
    "/*\n",
    "Passed t0\n",
    "Passed t1\n",
    "Passed t2\n",
    "*/\n",
    "// need to construct an object to test the work from the previous block"
   ]
  },
  {
   "cell_type": "code",
   "execution_count": null,
   "metadata": {
    "collapsed": true
   },
   "outputs": [],
   "source": [
    "/*\n",
    "Failed t3\n",
    "    Failed t4\n",
    "        Failed t5\n",
    "        Passed t6\n",
    "    Passed t7\n",
    "    Passed t8\n",
    " */\n",
    "// need to construct an object to test the work from the previous block"
   ]
  },
  {
   "cell_type": "markdown",
   "metadata": {},
   "source": [
    "## Solutions\n",
    "* Please don't look at these until after class"
   ]
  },
  {
   "cell_type": "markdown",
   "metadata": {},
   "source": [
    "### ++Num++"
   ]
  },
  {
   "cell_type": "code",
   "execution_count": null,
   "metadata": {
    "collapsed": false
   },
   "outputs": [],
   "source": [
    "class Num(private var i:Double) {\n",
    "    \n",
    "    def getI = i\n",
    "    def setI(ip:Double) = i = ip\n",
    "    \n",
    "    override def toString = s\"Num(${i})\"\n",
    "    \n",
    "    def ++():Double  = {\n",
    "        val oldI = i\n",
    "        i = i + 1\n",
    "        oldI\n",
    "    }\n",
    "}\n",
    "\n",
    "def ++(n:Num):Double  = {\n",
    "    n.setI(n.getI + 1.0)\n",
    "    n.getI\n",
    "}\n",
    "\n",
    "var n = new Num(5)\n",
    "println(n)\n",
    "println(n++)\n",
    "println(n)\n",
    "println(++(n))\n",
    "println(n)"
   ]
  },
  {
   "cell_type": "markdown",
   "metadata": {},
   "source": [
    "### Testing\n",
    "* As mentioned above, I am aware that this is not great code. It is just what came to mind the first time around\n",
    "    * Okay that's a lie. This was the 3rd idea. The first 2 ideas were garbage solutions.\n",
    "* you'll have to run each of these in order"
   ]
  },
  {
   "cell_type": "code",
   "execution_count": null,
   "metadata": {
    "collapsed": false
   },
   "outputs": [],
   "source": [
    "abstract class Report {\n",
    "    override def toString = this.helpToString(1)\n",
    "    \n",
    "    private def helpToString(lvl:Int):String = {\n",
    "        val prefix = \"\\t\" * (lvl - 1)\n",
    "        this match {\n",
    "            case EmptyReport => \"\"\n",
    "            case SubExtendReport(rep, desc, b, _) => {\n",
    "                val thisTest = prefix + formatResult(desc, b)\n",
    "                val thoseTests = rep.helpToString(lvl)\n",
    "                s\"${thoseTests}\\n${thisTest}\"\n",
    "            }\n",
    "            case SuperExtendReport(rep, desc, subReps) => {\n",
    "                val subRep = subReps.helpToString(lvl+1)\n",
    "                val passed = this.subsPassed\n",
    "                val thisTest = formatResult(desc, passed) + subRep\n",
    "                val thoseTests = rep.helpToString(lvl)\n",
    "                s\"${thoseTests}\\n${prefix}${thisTest}\"\n",
    "            }\n",
    "            case _ => ???\n",
    "        }\n",
    "    }\n",
    "    \n",
    "    def subsPassed:Boolean = this match {\n",
    "        case EmptyReport => true\n",
    "        case SubExtendReport(rep, _, b, _) => b && rep.subsPassed\n",
    "        case SuperExtendReport(rep, _, subReps) => {\n",
    "            subReps.subsPassed && rep.subsPassed\n",
    "        }\n",
    "        case _ => ???\n",
    "    }\n",
    "    \n",
    "    def getFeedback:String = this match {\n",
    "        case EmptyReport => \"\"\n",
    "        case SubExtendReport(rep, _, _, oFeedback) => oFeedback match {\n",
    "            case None => rep.getFeedback\n",
    "            case Some(feedback) => {\n",
    "                val thatFeedback = rep.getFeedback\n",
    "                s\"${feedback}\\n${thatFeedback}\"\n",
    "            }\n",
    "        }\n",
    "        case SuperExtendReport(rep, _, subReps) => subReps.getFeedback + rep.getFeedback\n",
    "    }\n",
    "    \n",
    "    private def formatResult(desc:String, passed:Boolean):String = {\n",
    "        if (passed) s\"Passed $desc\"\n",
    "        else s\"Failed $desc\"\n",
    "    }\n",
    "}\n",
    "case object EmptyReport extends Report\n",
    "case class SubExtendReport(val report:Report, val description:String, val passed:Boolean, val feedback:Option[String] = None) extends Report\n",
    "case class SuperExtendReport(val report:Report, val description:String, val subReports:Report) extends Report"
   ]
  },
  {
   "cell_type": "code",
   "execution_count": null,
   "metadata": {
    "collapsed": false
   },
   "outputs": [],
   "source": [
    "abstract class Test {\n",
    "    \n",
    "    private def validate() = this match {\n",
    "        case SubTest(desc, code, expected) => require(desc != \"\")\n",
    "        case SuperTest(desc, subTests) => {\n",
    "            require(desc != \"\")\n",
    "            require(subTests != Nil)\n",
    "        }\n",
    "    }\n",
    "    \n",
    "    def constructReport: Report = {\n",
    "        this.validate()\n",
    "        this.helpConstructReport(EmptyReport)\n",
    "    }\n",
    "        \n",
    "    private def helpConstructReport(rep:Report): Report = this match {\n",
    "        case SubTest(desc, code, expected) => {\n",
    "            try {\n",
    "                val found = code()\n",
    "                if (found == expected) {\n",
    "                    SubExtendReport(rep, desc, true)\n",
    "                } else {\n",
    "                    SubExtendReport(rep, desc, false, Some(s\"Failed ${desc}\\n\\tEXPECTED : ${expected}\\n\\tFOUND    : ${found}\"))\n",
    "                }\n",
    "            } catch {\n",
    "                case e:Throwable => SubExtendReport(rep, desc, false, Some(s\"Failed ${desc}\\n\\tError thrown - $e\"))\n",
    "            }\n",
    "        }\n",
    "        case SuperTest(desc, subTests) => {\n",
    "            val subRep = subTests.foldLeft(EmptyReport:Report){\n",
    "                (rep, test) => test.helpConstructReport(rep)\n",
    "            }\n",
    "            SuperExtendReport(rep, desc, subRep)\n",
    "        }\n",
    "    }\n",
    "}\n",
    "case class SubTest[A](val description:String, val code:() => A, val expected: A) extends Test\n",
    "case class SuperTest(val description:String, val subTests:List[Test]) extends Test"
   ]
  },
  {
   "cell_type": "code",
   "execution_count": null,
   "metadata": {
    "collapsed": false
   },
   "outputs": [],
   "source": [
    "class SuiteReport(val reps:List[Report]) {\n",
    "    override def toString = {\n",
    "        val thoseTests = (reps map { _.toString }).mkString(\"\\n\")\n",
    "        val b = !((reps map { rep => rep.subsPassed }) exists { _ == false })\n",
    "        \n",
    "        val pad = 20\n",
    "        \n",
    "        val thisTest = if (b) {\n",
    "                    val ds = \"$\" * pad\n",
    "                    s\"${ds}\\nPASSED ALL TESTS!\\n${ds}\"\n",
    "                } else {\n",
    "                    val xs = \"X\" * pad\n",
    "                    val feedback = (reps map { _.getFeedback }).mkString(\"\\n\")\n",
    "                    s\"${xs}\\nFAILED SOMETHING :(\\n\\n${feedback}\\n${xs}\"\n",
    "                }\n",
    "        s\"${thoseTests}\\n\\n${thisTest}\"\n",
    "    }\n",
    "}"
   ]
  },
  {
   "cell_type": "code",
   "execution_count": null,
   "metadata": {
    "collapsed": false
   },
   "outputs": [],
   "source": [
    "class TestSuite(tests:List[Test]) {\n",
    "    def run(): SuiteReport = new SuiteReport(tests map { _.constructReport })\n",
    "}"
   ]
  },
  {
   "cell_type": "code",
   "execution_count": null,
   "metadata": {
    "collapsed": false
   },
   "outputs": [],
   "source": [
    "val t1 = SubTest(\"t1\", () => { 1 + 2 }, 3)  // random code to test...\n",
    "val t2 = SubTest(\"t2\", () => { 1 + 3 }, 4)\n",
    "val t0 = SuperTest(\"t0\", List(t1,t2))\n",
    "val t4 = SubTest(\"t4\", () => { 1 + 4 }, 5)\n",
    "val t6 = SubTest(\"t6\", () => { 1 + 6 }, 7)\n",
    "val t7 = SubTest(\"t7\", () => { 1 + 7 }, 20000)  // Intentionally Failed\n",
    "val t8 = SubTest(\"t8\", () => { 1 + 8 }, 9)\n",
    "val t5 = SuperTest(\"t5\", List(t6,t7,t8))\n",
    "val t9 = SubTest(\"t9\", () => { 1 + 9 }, 10)\n",
    "val t3 = SuperTest(\"t3\", List(t4,t5,t9))\n",
    "\n",
    "\n",
    "val ts = new TestSuite(List(t0,t3))\n",
    "val r = ts.run()\n",
    "println(r)"
   ]
  },
  {
   "cell_type": "code",
   "execution_count": null,
   "metadata": {
    "collapsed": false
   },
   "outputs": [],
   "source": [
    "// now with all passing\n",
    "println((new TestSuite(List(SuperTest(\"t0\", List(SubTest(\"t1\", () => { 1 + 2 }, 3),SubTest(\"t2\", () => { 1 + 3 }, 4))),SuperTest(\"t3\", List(SubTest(\"t4\", () => { 1 + 4 }, 5),SuperTest(\"t5\", List(SubTest(\"t6\", () => { 1 + 6 }, 7),SubTest(\"t7\", () => { 1 + 7 }, 8),SubTest(\"t8\", () => { 1 + 8 }, 9))),SubTest(\"t9\", () => { 1 + 9 }, 10)))))).run())"
   ]
  },
  {
   "cell_type": "code",
   "execution_count": null,
   "metadata": {
    "collapsed": false
   },
   "outputs": [],
   "source": [
    "def sumList(l:List[Int]) = l.foldLeft(0){ _ + _ }\n",
    "\n",
    "// need to run the code lazily\n",
    "// I like to have a function factory\n",
    "// but you don't have to\n",
    "def wrap(l:List[Int]) = () => { sumList(l) }\n",
    "println(new TestSuite(List(SubTest(\"1,2,3\", wrap(List(1,2,3)), 6),\n",
    "                          SubTest(\"5, 10, 15\", wrap(List(5,10,15)), 30),\n",
    "                          SubTest(\"100, 1\", () => { sumList(List(100,1)) }, 101)  // w/o wrap\n",
    "                          )).run)"
   ]
  },
  {
   "cell_type": "code",
   "execution_count": null,
   "metadata": {
    "collapsed": false
   },
   "outputs": [],
   "source": [
    "// and for a fail case:\n",
    "def sumList(l:List[Int]) = l.foldLeft(0){ _ + _ }\n",
    "\n",
    "// need to run the code lazily\n",
    "// I like to have a function factory\n",
    "// but you don't have to\n",
    "def wrap(l:List[Int]) = () => { sumList(l) }\n",
    "println(new TestSuite(List(SubTest(\"1,2,3\", wrap(List(1,2,3)), 6),\n",
    "                          SubTest(\"5, 10, 15\", wrap(List(5,10,15)), 300000),\n",
    "                          SubTest(\"100, 1\", () => { sumList(List(100,1)) }, 101)  // w/o wrap\n",
    "                          )).run)"
   ]
  },
  {
   "cell_type": "markdown",
   "metadata": {},
   "source": [
    "## Overview\n",
    "* Review\n",
    "* Up and Down Casting\n",
    "* Inheritance Hierarchy\n",
    "* Multiple Inheritance\n",
    "* Trait vs Class\n",
    "* Mix-Ins for “Multiple Inheritanc”\n",
    "* Involved Example"
   ]
  },
  {
   "cell_type": "markdown",
   "metadata": {},
   "source": [
    "## TODOs:\n",
    "* Homework and Quiz 8 are due tomorrow\n",
    "* Homework and Quiz 9 should release tomorrow\n",
    "* Project 3 is live. It is \"Due\" next friday 04/26. But it can be turned in as late as May 3rd with no penalty\n",
    "* Spot Exam 4\n",
    "    * Friday 04/26 (next Friday)\n",
    "    * open from 8am - 2pm on Moodle\n",
    "    * 30 minutes to take the exam\n",
    "    * You only get one try\n",
    "    * You will not be able to review the exam until after 2pm\n",
    "    * IF YOU HAVE TIME ACCOMMODATIONS: please email Sriram and Spencer ASAP so that we can be sure to set the exam up correctly for you\n",
    "    * NOTE: Just in case this was not already clear to you... Your lowest spot exam grade is dropped. Your final exam is NOT a spot exam. It WILL NOT be dropped\n",
    "    * Topics:\n",
    "        * Explicit Type Checking\n",
    "        * Type Inference\n",
    "        * Object Fundamentals"
   ]
  }
 ],
 "metadata": {
  "anaconda-cloud": {},
  "kernelspec": {
   "display_name": "Scala",
   "language": "scala",
   "name": "scala"
  },
  "language_info": {
   "codemirror_mode": "text/x-scala",
   "file_extension": ".scala",
   "mimetype": "text/x-scala",
   "name": "scala",
   "nbconvert_exporter": "script",
   "version": "2.12.8"
  }
 },
 "nbformat": 4,
 "nbformat_minor": 1
}
