{
 "cells": [
  {
   "cell_type": "markdown",
   "metadata": {},
   "source": [
    "# Topics\n",
    "\n",
    "- Wrap up classes\n",
    "- Recursive functions\n",
    "- Tail recursion\n",
    "- Writing a function in a tail recursive form\n",
    "- Mutual recursion Co-Routines (if time permits)."
   ]
  },
  {
   "cell_type": "code",
   "execution_count": 1,
   "metadata": {},
   "outputs": [
    {
     "data": {
      "text/plain": [
       "defined \u001b[32mclass\u001b[39m \u001b[36mDoggie\u001b[39m"
      ]
     },
     "execution_count": 1,
     "metadata": {},
     "output_type": "execute_result"
    }
   ],
   "source": [
    "class Doggie (val age: Int, val name: String) {\n",
    "    // age and name are class parameters. \n",
    "    val barkString = \"ruff\"\n",
    "    \n",
    "    def getName: String = name\n",
    "    \n",
    "    def getAge(): Int = age\n",
    "    \n",
    "    def bark(): Unit = println(barkString+\"!\"+barkString+\"!\")\n",
    "    \n",
    "    def altBark(): Unit = {\n",
    "        val pref = \"aaaaa\"\n",
    "        val suff = \"ffff\"\n",
    "        println(pref+barkString+suff)\n",
    "        \n",
    "    }\n",
    "    \n",
    "}"
   ]
  },
  {
   "cell_type": "code",
   "execution_count": 2,
   "metadata": {},
   "outputs": [
    {
     "data": {
      "text/plain": [
       "\u001b[36md\u001b[39m: \u001b[32mDoggie\u001b[39m = ammonite.$sess.cmd0$Helper$Doggie@5d5fa85a\n",
       "\u001b[36md2\u001b[39m: \u001b[32mDoggie\u001b[39m = ammonite.$sess.cmd0$Helper$Doggie@6d26e6fc\n",
       "\u001b[36md3\u001b[39m: \u001b[32mDoggie\u001b[39m = ammonite.$sess.cmd0$Helper$Doggie@60fbc88a"
      ]
     },
     "execution_count": 2,
     "metadata": {},
     "output_type": "execute_result"
    }
   ],
   "source": [
    "val d = new Doggie (10, \"Bo\")\n",
    "val d2 = new Doggie (2, \"Max\")\n",
    "val d3 = new Doggie (1, \"Mr.Mistoffelees\")"
   ]
  },
  {
   "cell_type": "code",
   "execution_count": 3,
   "metadata": {},
   "outputs": [
    {
     "data": {
      "text/plain": [
       "\u001b[36mres2\u001b[39m: \u001b[32mString\u001b[39m = \u001b[32m\"Bo\"\u001b[39m"
      ]
     },
     "execution_count": 3,
     "metadata": {},
     "output_type": "execute_result"
    }
   ],
   "source": [
    "d.getName"
   ]
  },
  {
   "cell_type": "code",
   "execution_count": 4,
   "metadata": {},
   "outputs": [
    {
     "data": {
      "text/plain": [
       "\u001b[36mres3\u001b[39m: \u001b[32mInt\u001b[39m = \u001b[32m2\u001b[39m"
      ]
     },
     "execution_count": 4,
     "metadata": {},
     "output_type": "execute_result"
    }
   ],
   "source": [
    "d2.getAge()"
   ]
  },
  {
   "cell_type": "code",
   "execution_count": 5,
   "metadata": {},
   "outputs": [
    {
     "data": {
      "text/plain": [
       "defined \u001b[32mclass\u001b[39m \u001b[36mCat\u001b[39m"
      ]
     },
     "execution_count": 5,
     "metadata": {},
     "output_type": "execute_result"
    }
   ],
   "source": [
    "class Cat(var age: Int, val name: String) {\n",
    "    var numLives = 9\n",
    "    def incrementAge: Unit = { age = age + 1}\n",
    "    def die: Unit = {numLives = numLives - 1; if (numLives <= 0) {print(\"RIP %s\\n\".format(name))} }\n",
    "    def isAlive: Boolean = numLives > 0\n",
    "    \n",
    "}"
   ]
  },
  {
   "cell_type": "code",
   "execution_count": 6,
   "metadata": {},
   "outputs": [
    {
     "data": {
      "text/plain": [
       "\u001b[36mc\u001b[39m: \u001b[32mCat\u001b[39m = ammonite.$sess.cmd4$Helper$Cat@54bc826"
      ]
     },
     "execution_count": 6,
     "metadata": {},
     "output_type": "execute_result"
    }
   ],
   "source": [
    "val c = new Cat(10, \"Macavity\")"
   ]
  },
  {
   "cell_type": "code",
   "execution_count": 7,
   "metadata": {},
   "outputs": [
    {
     "name": "stdout",
     "output_type": "stream",
     "text": [
      "Cat named: Macavity has 9 lives and is 10 years old\n",
      "Cat named: Macavity has 9 lives and is 11 years old\n",
      "Cat named: Macavity has 8 lives and is 11 years old\n",
      "Cat named: Macavity has 1 lives and is 11 years old\n",
      "RIP Macavity\n"
     ]
    }
   ],
   "source": [
    "println(\"Cat named: %s has %d lives and is %d years old\".format(c.name, c.numLives, c.age))\n",
    "\n",
    "c.incrementAge\n",
    "\n",
    "println(\"Cat named: %s has %d lives and is %d years old\".format(c.name, c.numLives, c.age))\n",
    "\n",
    "c.die\n",
    "\n",
    "println(\"Cat named: %s has %d lives and is %d years old\".format(c.name, c.numLives, c.age))\n",
    "\n",
    "for (i <- 0 until 7){ c.die }\n",
    "println(\"Cat named: %s has %d lives and is %d years old\".format(c.name, c.numLives, c.age))\n",
    "\n",
    "c.die"
   ]
  },
  {
   "cell_type": "code",
   "execution_count": 8,
   "metadata": {},
   "outputs": [
    {
     "name": "stdout",
     "output_type": "stream",
     "text": [
      "ammonite.$sess.cmd4$Helper$Cat@54bc826\n"
     ]
    }
   ],
   "source": [
    "println(c)"
   ]
  },
  {
   "cell_type": "code",
   "execution_count": 9,
   "metadata": {},
   "outputs": [
    {
     "data": {
      "text/plain": [
       "defined \u001b[32mclass\u001b[39m \u001b[36mPrettyPrintCat\u001b[39m"
      ]
     },
     "execution_count": 9,
     "metadata": {},
     "output_type": "execute_result"
    }
   ],
   "source": [
    "// Pretty Printing\n",
    "class PrettyPrintCat(var age: Int, val name: String) {\n",
    "    var numLives = 9\n",
    "    def incrementAge: Unit = { age = age + 1}\n",
    "    def die: Unit = {numLives = numLives - 1; if (numLives <= 0) {print(\"RIP %s\\n\".format(name))} }\n",
    "    def isAlive: Boolean = numLives > 0\n",
    "    \n",
    "    override def toString: String = {\"Cat named: %s has %d lives and is %d years old\".format(name, numLives, this.age)}\n",
    "}"
   ]
  },
  {
   "cell_type": "code",
   "execution_count": 10,
   "metadata": {},
   "outputs": [
    {
     "data": {
      "text/plain": [
       "\u001b[36mpc\u001b[39m: \u001b[32mPrettyPrintCat\u001b[39m = Cat named: Rum Rum Tugger has 9 lives and is 12 years old"
      ]
     },
     "execution_count": 10,
     "metadata": {},
     "output_type": "execute_result"
    }
   ],
   "source": [
    "val pc = new PrettyPrintCat(12, \"Rum Rum Tugger\")"
   ]
  },
  {
   "cell_type": "code",
   "execution_count": 11,
   "metadata": {},
   "outputs": [
    {
     "data": {
      "text/plain": [
       "\u001b[36mgc\u001b[39m: \u001b[32mPrettyPrintCat\u001b[39m = Cat named: Grizabella The Glamour Cat has 9 lives and is 8 years old"
      ]
     },
     "execution_count": 11,
     "metadata": {},
     "output_type": "execute_result"
    }
   ],
   "source": [
    "/*Remark the woman\n",
    "Who hesitates toward you in the light of the door\n",
    "Which opens on her like a grin.\t\n",
    "You see the border of her coat\n",
    "Is torn and stained with sand,\n",
    "And you see the corner of her eye\n",
    "Twists like a crooked pin.\n",
    "- TS Elliot \n",
    "*/\n",
    "\n",
    "val gc = new PrettyPrintCat(8, \"Grizabella The Glamour Cat\")\n"
   ]
  },
  {
   "cell_type": "code",
   "execution_count": 12,
   "metadata": {},
   "outputs": [
    {
     "data": {
      "text/plain": [
       "\u001b[36mgc2\u001b[39m: \u001b[32mPrettyPrintCat\u001b[39m = Cat named: Grizabella The Glamour Cat has 9 lives and is 8 years old"
      ]
     },
     "execution_count": 12,
     "metadata": {},
     "output_type": "execute_result"
    }
   ],
   "source": [
    "val gc2 = new PrettyPrintCat(8, \"Grizabella The Glamour Cat\") // The same as previous val gc\n"
   ]
  },
  {
   "cell_type": "code",
   "execution_count": 13,
   "metadata": {},
   "outputs": [
    {
     "name": "stdout",
     "output_type": "stream",
     "text": [
      "false\n"
     ]
    }
   ],
   "source": [
    "println(gc == gc2)"
   ]
  },
  {
   "cell_type": "markdown",
   "metadata": {},
   "source": [
    "Why? Porque? Pourquoi? क्यूं? なぜ? 为什么?"
   ]
  },
  {
   "cell_type": "code",
   "execution_count": 14,
   "metadata": {},
   "outputs": [
    {
     "data": {
      "text/plain": [
       "defined \u001b[32mclass\u001b[39m \u001b[36mCatsWithEquality\u001b[39m"
      ]
     },
     "execution_count": 14,
     "metadata": {},
     "output_type": "execute_result"
    }
   ],
   "source": [
    "class CatsWithEquality(val name: String, val age: Int) {\n",
    "    override def equals(c: Any): Boolean = {\n",
    "        c match {\n",
    "            case d: CatsWithEquality => (d.name == this.name ) && (d.age == this.age)\n",
    "            case _ => false\n",
    "        }\n",
    "    }\n",
    "    \n",
    "    override def toString: String = \"CatsWithEquality Name: %s, Age: %d\".format(name, age)\n",
    "    \n",
    "}"
   ]
  },
  {
   "cell_type": "code",
   "execution_count": 15,
   "metadata": {},
   "outputs": [
    {
     "data": {
      "text/plain": [
       "\u001b[36mhc1\u001b[39m: \u001b[32mCatsWithEquality\u001b[39m = CatsWithEquality Name: RumRumTugger, Age: 5\n",
       "\u001b[36mhc2\u001b[39m: \u001b[32mCatsWithEquality\u001b[39m = CatsWithEquality Name: RumRumTugger, Age: 5\n",
       "\u001b[36mhc3\u001b[39m: \u001b[32mCatsWithEquality\u001b[39m = CatsWithEquality Name: Tygger, Age: 4\n",
       "\u001b[36mres14_3\u001b[39m: \u001b[32mBoolean\u001b[39m = true\n",
       "\u001b[36mres14_4\u001b[39m: \u001b[32mBoolean\u001b[39m = false"
      ]
     },
     "execution_count": 15,
     "metadata": {},
     "output_type": "execute_result"
    }
   ],
   "source": [
    "val hc1 = new CatsWithEquality(\"RumRumTugger\", 5)\n",
    "val hc2 = new CatsWithEquality(\"RumRumTugger\", 5)\n",
    "val hc3 = new CatsWithEquality(\"Tygger\", 4)\n",
    "\n",
    "hc1 == hc2\n",
    "hc2 == hc3"
   ]
  },
  {
   "cell_type": "markdown",
   "metadata": {},
   "source": [
    "## Recursion and Tail Recursion"
   ]
  },
  {
   "cell_type": "code",
   "execution_count": 16,
   "metadata": {},
   "outputs": [
    {
     "data": {
      "text/plain": [
       "defined \u001b[32mfunction\u001b[39m \u001b[36mfact\u001b[39m"
      ]
     },
     "execution_count": 16,
     "metadata": {},
     "output_type": "execute_result"
    }
   ],
   "source": [
    "def fact(n: Int): Int = {\n",
    "    if (n <= 0) 1\n",
    "    else n * fact(n-1)\n",
    "}"
   ]
  },
  {
   "cell_type": "code",
   "execution_count": 17,
   "metadata": {},
   "outputs": [
    {
     "data": {
      "text/plain": [
       "defined \u001b[32mfunction\u001b[39m \u001b[36mfibonacci\u001b[39m"
      ]
     },
     "execution_count": 17,
     "metadata": {},
     "output_type": "execute_result"
    }
   ],
   "source": [
    "def fibonacci(n: Int): Int = {\n",
    "    if (n <= 1) 1\n",
    "    else fibonacci(n-1)+ fibonacci(n-2)\n",
    "}"
   ]
  },
  {
   "cell_type": "code",
   "execution_count": 18,
   "metadata": {},
   "outputs": [
    {
     "data": {
      "text/plain": [
       "defined \u001b[32mfunction\u001b[39m \u001b[36mfactTail\u001b[39m"
      ]
     },
     "execution_count": 18,
     "metadata": {},
     "output_type": "execute_result"
    }
   ],
   "source": [
    "def factTail(n : Int, resultAccumulator: Int): Int = {\n",
    "    if (n <= 0) resultAccumulator\n",
    "    else factTail(n-1, resultAccumulator * n)\n",
    "}"
   ]
  },
  {
   "cell_type": "code",
   "execution_count": 18,
   "metadata": {},
   "outputs": [],
   "source": [
    "// Write test cases for a recursive function"
   ]
  },
  {
   "cell_type": "markdown",
   "metadata": {},
   "source": [
    "### Concepts: Recursion Stack, Recursion Depth and Number of Recursive Calls\n",
    "\n",
    "Using diagrams on the blackboard in class."
   ]
  },
  {
   "cell_type": "code",
   "execution_count": null,
   "metadata": {},
   "outputs": [],
   "source": []
  },
  {
   "cell_type": "markdown",
   "metadata": {},
   "source": [
    "## Concept: Tail Recursion\n",
    "\n",
    "Definition: The result of the recursive call is returned back to the caller without any further processing.\n",
    "\n",
    "In class: examples of tail vs. non-tail recursion."
   ]
  },
  {
   "cell_type": "code",
   "execution_count": null,
   "metadata": {},
   "outputs": [],
   "source": []
  }
 ],
 "metadata": {
  "kernelspec": {
   "display_name": "Scala",
   "language": "scala",
   "name": "scala"
  },
  "language_info": {
   "codemirror_mode": "text/x-scala",
   "file_extension": ".scala",
   "mimetype": "text/x-scala",
   "name": "scala",
   "nbconvert_exporter": "script",
   "version": "2.12.8"
  }
 },
 "nbformat": 4,
 "nbformat_minor": 2
}
