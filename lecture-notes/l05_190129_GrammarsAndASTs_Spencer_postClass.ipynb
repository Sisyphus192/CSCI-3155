{
 "cells": [
  {
   "cell_type": "markdown",
   "metadata": {},
   "source": [
    "# CSCI 3155 - L5 - Grammars and ASTs - Spencer"
   ]
  },
  {
   "cell_type": "markdown",
   "metadata": {},
   "source": [
    "## Overview\n",
    "* 5000 ft view, where are we going?\n",
    "* Concrete vs abstract syntax (and the AST )\n",
    "* Review of generative grammars\n",
    "* More on generative grammars\n",
    "* Making a class from your generative grammar"
   ]
  },
  {
   "cell_type": "markdown",
   "metadata": {},
   "source": [
    "## Pre Class\n",
    "* Please download the files:\n",
    "    * Week 3 > Spencer Week 3 Lecture Material Folder > L5_Tuesday > All files"
   ]
  },
  {
   "cell_type": "markdown",
   "metadata": {},
   "source": [
    "## Announcements\n",
    "* My office hour has moved\n",
    "    * Now on Tuesday's 1 - 2pm\n",
    "    * And by appointment via Piazza (typically Tuesday and Thursday afternoons or on Weekends)\n",
    "* Tentative schedule is live on Moodle in the top general section\n",
    "* The first project is going live at the end of next week (more to come on Thursday)\n",
    "* The first spot exam is Friday, February 8 in your recitation\n",
    "\t* Covers week 1 and week 2 material\n",
    "\t\t* Things covered in lecture\n",
    "        * Things covered on your homeworks\n",
    "        * Things covered in the Moodle quizzes\n",
    "    * Topics such as\n",
    "        * Recursion (depth and such)\n",
    "        * Tail recursion\n",
    "        * Induction\n",
    "\t* This is one of at least 4 spot exams that we will have within the term\n",
    "\t* If you want to see more coverage of these topics in class or in readings please let me know ASAP so that I can accommodate this\n",
    "\t* If you have an accommodation letter please get that to me ASAP, like before the end of today…"
   ]
  },
  {
   "cell_type": "markdown",
   "metadata": {},
   "source": [
    "## 5000 ft view, where are we going?\n",
    "See the supplemental reading document…\n",
    "* Analyze the object language and its concrete syntax (Starting today and learning more soon)\n",
    "* Define a generative grammar (covered last week)\n",
    "* Define the AST (covering today)\n",
    "* Write a parser (We won’t cover this until the end of the course – because its rather hard)\n",
    "* Write an interpreter (covering Thursday)\n",
    "\n",
    "\n"
   ]
  },
  {
   "cell_type": "markdown",
   "metadata": {},
   "source": [
    "## Concrete syntax vs abstract syntax (and the AST)\n",
    "* Terms\n",
    "    * **semantic**: meaning\n",
    "    * **syntax**: \n",
    "        * the manner in which a sematic is expressed\n",
    "        * the manner in which multiple semantic are combined to form new semantics\n",
    "    * **concrete syntax**: ???\n",
    "    * **abstract syntax**: ???\n",
    "    * **abstract syntax tree**: ???\n",
    "* We can use grammars to define any language we wish.\n",
    "* I hope that later in the course I can show you how we use these to develop images and music but…\n",
    "* For now we will look at grammars for programming languages\n",
    "    * This is a course in programming languages after all…\n",
    "    * Throughout this course we’ll look at many tools that can be used to create your own PL if you were so inclined.\n",
    "* Today we will look at a subset of python and develop a Scala interpreter for that language. \n",
    "    * Consider the following python expressions:\n",
    "        * True\n",
    "        * not True\n",
    "        * True and False\n",
    "        * not False or True\n",
    "        * not (False or True)\n",
    "    * These expressions are in concrete python syntax\n",
    "    * Don’t believe me? Try it yourself\n",
    "        * open a python interpreter\n",
    "        * put these sentences in and see what happens\n",
    "        * each of them will evaluate to either True or False\n",
    "    * These don’t mean anything in Scala.\n",
    "        * Don’t believe me? Let's try it:"
   ]
  },
  {
   "cell_type": "code",
   "execution_count": 0,
   "metadata": {
    "collapsed": false
   },
   "outputs": [
    {
     "name": "stderr",
     "output_type": "stream",
     "text": [
      "cmd0.sc:1: not found: value True\n",
      "val res0_0 = True\n",
      "             ^cmd0.sc:2: not found: value not\n",
      "val res0_1 = not True\n",
      "             ^cmd0.sc:3: not found: value True\n",
      "True and False\n",
      "^cmd0.sc:3: not found: value False\n",
      "True and False\n",
      "         ^cmd0.sc:4: not found: value not\n",
      "val res0_2 = not False or True\n",
      "             ^cmd0.sc:4: not found: value or\n",
      "val res0_2 = not False or True\n",
      "                       ^cmd0.sc:5: not found: value not\n",
      "not (False or True)\n",
      "^cmd0.sc:5: not found: value False\n",
      "not (False or True)\n",
      "     ^cmd0.sc:5: not found: value True\n",
      "not (False or True)\n",
      "              ^Compilation Failed"
     ]
    },
    {
     "ename": "",
     "evalue": "",
     "output_type": "error",
     "traceback": [
      "Compilation Failed"
     ]
    }
   ],
   "source": [
    "// This won't work in scala\n",
    "True\n",
    "not True\n",
    "True and False\n",
    "not False or True\n",
    "not (False or True)"
   ]
  },
  {
   "cell_type": "markdown",
   "metadata": {},
   "source": [
    "* But what if I want these statements to mean something in Scala?\n",
    "* Can I do that? How would I do that?\n",
    "* Let’s abstract this concrete python syntax into something that Scala can understand\n",
    "    * ASIDE: This isn't the best example. If I were a true Scala master I could probably get this to become concrete syntax in Scala. But let's just assume for a moment that I'm not a master of Scala and then well have to abstract this a bit...\n",
    "* That would be the abstract python syntax\n",
    "* Here I ought to introduce you to the abstract syntax tree (AST):\n",
    "    * We'll start with some visualizations of an AST\n",
    "    * Notes, these are not ASTs, just visualizations\n",
    "* Consider these sentences and their visualizations bellow:\n",
    "    * True\n",
    "    * not True\n",
    "    * True and False"
   ]
  },
  {
   "cell_type": "markdown",
   "metadata": {},
   "source": [
    "* I can't get the image to load... So I posted it online next to this doc on moodle"
   ]
  },
  {
   "cell_type": "markdown",
   "metadata": {},
   "source": [
    "* NOTE\n",
    "    * We just looked at visualizations of an AST\n",
    "    * Those are not ASTs…\n",
    "    * We’ll cover those next\n",
    "\n"
   ]
  },
  {
   "cell_type": "markdown",
   "metadata": {},
   "source": [
    "#### Qs?"
   ]
  },
  {
   "cell_type": "markdown",
   "metadata": {},
   "source": [
    "#### Try it yourself\n",
    "* Now consider these sentences, can you construct your own visulaizations?\n",
    "    * not False or True\n",
    "    * not (False or True)\n",
    "* Do the parens make a difference?\n",
    "* I have solutions at the bottom of this document..."
   ]
  },
  {
   "cell_type": "markdown",
   "metadata": {},
   "source": [
    "#### Qs?"
   ]
  },
  {
   "cell_type": "markdown",
   "metadata": {},
   "source": [
    "\n",
    "### Discuss with a peer\n",
    "* define in your own words:\n",
    "    * **concrete syntax**:\n",
    "        * what the programmer sees\n",
    "        * rules about the medium thorugh which the information is expressed\n",
    "    * **abstract syntax**:\n",
    "        * extracts info from the concrete syntax\n",
    "        * how the compiler interprets the concrete\n",
    "    * **abstract syntax tree**: ???\n",
    "* I'll ask you to share your definitions\n",
    "* I'll give you ~ 3 minutes\n",
    "\n",
    "### Qs?"
   ]
  },
  {
   "cell_type": "markdown",
   "metadata": {},
   "source": [
    "## Review of generative grammars\n",
    "* first, some notation\n",
    "    * **&RightArrow;**: This means produces\n",
    "    * **|**: This means “OR” (as you likely expected)\n",
    "* Now we can define a linked list of numbers using a generative grammar\n",
    "    * First I should name this thing I'm making: *List*\n",
    "    * Next, I need to define a term for the end of the List: *Nil*\n",
    "    * Finally I need to define a term for the node: *Node(n, List)*\n",
    "    * Now I’m ready, here is my generative grammar for a linked list\n",
    "        * *List* &RightArrow; *Nil* | *Node(n, List)*\n",
    "        * *n* is a Scala Int\n",
    "* Below is one way that grammar could be made into code:"
   ]
  },
  {
   "cell_type": "code",
   "execution_count": null,
   "metadata": {
    "collapsed": true
   },
   "outputs": [],
   "source": [
    "// List --> Nil | Node(n, List)\n",
    "// n is a Scala Int\n",
    "\n",
    "sealed trait List // List\n",
    "case object Nil extends List // Nil\n",
    "case class Node(n:Int, l:List) extends List\n",
    "\n",
    "/* \n",
    "Note, if you don't like case object you can use case class:\n",
    "    case class Nil() extends List\n",
    "    but I don't like this... case object is sufficient\n",
    "    and case object looks more like my generative grammar\n",
    "*/\n"
   ]
  },
  {
   "cell_type": "markdown",
   "metadata": {},
   "source": [
    "## Help me out\n",
    "### Generative grammar\n",
    "* I would like to create a generative grammar that represents how python codes Boolean algebra. \n",
    "* Here are some sentences that are in that language\n",
    "\t* True\n",
    "\t* False\n",
    "    * True and False\n",
    "    * not True\n",
    "    * not False or True\n",
    "    * not (False or True)"
   ]
  },
  {
   "cell_type": "markdown",
   "metadata": {},
   "source": [
    "* Let me show you how we write a grammar to describe the  concrete syntax:\n",
    "    * grammar\n",
    "        * S &RightArrow; True | False | not S | S and S | S or S | (S)\n",
    "    * observations\n",
    "        * ???"
   ]
  },
  {
   "cell_type": "markdown",
   "metadata": {},
   "source": [
    "* Help me create a generative grammar for this language:\n",
    "\t* S &RightArrow; b | Not(S) | Or(S, S) | And(S, S)\n",
    "    * b is a Scala Boolean\n",
    "* observation\n",
    "    * (S) is in the concrete and not in the absract"
   ]
  },
  {
   "cell_type": "markdown",
   "metadata": {},
   "source": [
    "### Coding a class\n",
    "* Now that we have a generative grammar we should be ready to write a scala class.\n",
    "* Specifically we are ready to implement our first **Abstract Syntax Tree (AST)**\n",
    "* For now we will use:\n",
    "\t* sealed trait ???\n",
    "\t* case object ??? extends ???\n",
    "\t* case class ??? extends ???\n",
    "* We might also need:\n",
    "    * sealed trait ??? extends ???\n",
    "* Notes\n",
    "    * \"case object\" is less expensive than a \"case class\"\n",
    "    * \"case object\" is less powerful than a \"case class\"\n",
    "    * if you need to encapsulate data then you ought to use \"case class\"\n",
    "    * but if you don't need to encapsulate data then \"case object\" is likely sufficient\n",
    "* Let me show you how we write a class for our generative grammar and then you'll get a chance to try it yourself\n",
    "* This will be an **AST** because it is a tree that holds abstract syntax\n",
    "* Generative Grammar: \n",
    "    * SPWI, paste the grammar from above down here...\n",
    "    "
   ]
  },
  {
   "cell_type": "code",
   "execution_count": 6,
   "metadata": {
    "collapsed": false
   },
   "outputs": [
    {
     "data": {
      "text/plain": [
       "defined \u001b[32mtrait\u001b[39m \u001b[36mLogic\u001b[39m\n",
       "defined \u001b[32mclass\u001b[39m \u001b[36mValue\u001b[39m\n",
       "defined \u001b[32mclass\u001b[39m \u001b[36mNot\u001b[39m\n",
       "defined \u001b[32mclass\u001b[39m \u001b[36mOr\u001b[39m\n",
       "defined \u001b[32mclass\u001b[39m \u001b[36mAnd\u001b[39m"
      ]
     },
     "execution_count": 6,
     "metadata": {},
     "output_type": "execute_result"
    }
   ],
   "source": [
    "// Grammar:\n",
    "/*\n",
    " * Logic --> Value(b) | Not(Logic) | Or(Logic, Logic) | And(Logic, Logic)\n",
    " * b is a Boolean\n",
    " */\n",
    "\n",
    "// AST:\n",
    "sealed trait Logic\n",
    "case class Value(b:Boolean) extends Logic\n",
    "case class Not(s1:Logic) extends Logic  // Not(S)\n",
    "case class Or(s1:Logic, s2:Logic) extends Logic  // Or(S,S)\n",
    "case class And(s1:Logic, s2:Logic) extends Logic  // And(S, S)"
   ]
  },
  {
   "cell_type": "markdown",
   "metadata": {},
   "source": [
    "\n",
    "### Qs?"
   ]
  },
  {
   "cell_type": "markdown",
   "metadata": {},
   "source": [
    "## Try it with peer\n",
    "### Define the generative grammar\n",
    "* What if instead of working on Boolean algebra we’d like to work on some simple arithmetic\n",
    "* create a generative grammar that implements the following language features:\n",
    "\t* numbers\n",
    "\t* negation\n",
    "\t* addition\n",
    "\t* multiplication\n",
    "\t* division\n",
    "    * hightening precidence\n",
    "* For some added clarity, here is one possible grammar that implements a concrete syntax for your language:\n",
    "\t* S &RightArrow; n | - S | S + S | S* S | S / S | (S)\n",
    "\t* *n is a number*\n",
    "* Generative Grammar\n",
    "    * Maths &RightArrow; Negative(Maths) | Add(Maths, Maths) | Multiply(Maths, Maths) | Divide(Maths, Maths) | Number(Int)\n",
    "    \n",
    "\n",
    "### Code a Class\n",
    "* Using a sealed trait, implement a class for your generative grammar.\n",
    "* Look at your sealed trait and your grammar. Do they look pretty darn similar?\n",
    "\t* if they look similar than you have a great generative grammar\n",
    "\t* if they look super different than your generative grammar isn’t necessarily wrong, but it’s maybe less than ideal. Perhaps try refactoring your grammar now that you have some code."
   ]
  },
  {
   "cell_type": "code",
   "execution_count": 9,
   "metadata": {
    "collapsed": false
   },
   "outputs": [
    {
     "data": {
      "text/plain": [
       "defined \u001b[32mtrait\u001b[39m \u001b[36mMaths\u001b[39m\n",
       "defined \u001b[32mclass\u001b[39m \u001b[36mNumber\u001b[39m\n",
       "defined \u001b[32mclass\u001b[39m \u001b[36mNegative\u001b[39m\n",
       "defined \u001b[32mclass\u001b[39m \u001b[36mAdd\u001b[39m\n",
       "defined \u001b[32mclass\u001b[39m \u001b[36mDivide\u001b[39m\n",
       "defined \u001b[32mclass\u001b[39m \u001b[36mMultiply\u001b[39m"
      ]
     },
     "execution_count": 9,
     "metadata": {},
     "output_type": "execute_result"
    }
   ],
   "source": [
    "// Generative Grammar:\n",
    "/* Maths →  Negative(Maths) |\n",
    "            Add(Maths, Maths) | \n",
    "            Multiply(Maths, Maths) |\n",
    "            Divide(Maths, Maths) |\n",
    "            Number(Int)\n",
    " */\n",
    "\n",
    "// AST\n",
    "sealed trait Maths  // Maths\n",
    "case class Number(n:Int) extends Maths\n",
    "case class Negative(m1:Maths) extends Maths\n",
    "case class Add(m1:Maths, m2:Maths) extends Maths\n",
    "case class Divide(m1:Maths, m2:Maths) extends Maths\n",
    "case class Multiply(m1:Maths, m2:Maths) extends Maths\n",
    "\n",
    "\n",
    "\n",
    "Add(Number(3), Number(2))  // 3 + 2"
   ]
  },
  {
   "cell_type": "markdown",
   "metadata": {},
   "source": [
    "### Still need more work to do?\n",
    "* Try joining your arithmetic language with my Boolean algebraic language.\n",
    "\t* write a strong generative grammar\n",
    "\t* implement a class in scala\n",
    "* Is there a better way to solve this problem? If so, iterate."
   ]
  },
  {
   "cell_type": "markdown",
   "metadata": {},
   "source": [
    "### Qs?"
   ]
  },
  {
   "cell_type": "markdown",
   "metadata": {},
   "source": [
    "## Solutions\n",
    "As always, these are my solutions. They are not the only acceptable solutions to the problems presented in this document."
   ]
  },
  {
   "cell_type": "markdown",
   "metadata": {},
   "source": [
    "### ASTs\n",
    "I couldn't figure out loading images into JN so this solution is in the power point posted with this lecture."
   ]
  },
  {
   "cell_type": "markdown",
   "metadata": {},
   "source": [
    "### Terms\n",
    "* **semantic**: meaning\n",
    "* **syntax**: \n",
    "* the manner in which a sematic is expressed\n",
    "* the manner in which multiple semantic are combined to form new semantics\n",
    "* **concrete syntax**: For our purposes this is the syntax that does not work in our implementation language. It is the syntax that we wish to mimic using an abstract syntax and/or AST\n",
    "\t* e.g. we represented some python (concrete syntax) using an AST defined in Scala (the implementation language)\n",
    "* **abstract syntax tree**: a *tree-like* data structure that represents abstract syntax\n",
    "\t* e.g. Or(Not(ConstFalse),ConstTrue)\n",
    "* **abstract syntax*: syntax that abstracts some concrete syntax. This is used to allow your implementation language to make the behavior that you want."
   ]
  },
  {
   "cell_type": "markdown",
   "metadata": {},
   "source": [
    "### Boolean Algebra\n",
    "* Concrete Syntax:\n",
    "\t* S &RightArrow; True | False | not S | S or S | S and S | (S)\n",
    "* Generative Grammar:\n",
    "\t* CondExpr &RightArrow; B(b) | Not(CondExpr) | Or(CondExpr, CondExpr) | And(CondExpr, CondExpr)\n",
    "\t* b is a Scala Boolean\n",
    "* AST in scala below"
   ]
  },
  {
   "cell_type": "code",
   "execution_count": 4,
   "metadata": {
    "collapsed": false
   },
   "outputs": [
    {
     "data": {
      "text/plain": [
       "defined \u001b[32mtrait\u001b[39m \u001b[36mCondExpr\u001b[39m\n",
       "defined \u001b[32mclass\u001b[39m \u001b[36mB\u001b[39m\n",
       "defined \u001b[32mclass\u001b[39m \u001b[36mOr\u001b[39m\n",
       "defined \u001b[32mclass\u001b[39m \u001b[36mAnd\u001b[39m"
      ]
     },
     "execution_count": 4,
     "metadata": {},
     "output_type": "execute_result"
    }
   ],
   "source": [
    "sealed trait CondExpr\n",
    "case class B(b:Boolean) extends CondExpr\n",
    "case class Or(c1:CondExpr, c2:CondExpr) extends CondExpr\n",
    "case class And(c1:CondExpr, c2:CondExpr) extends CondExpr"
   ]
  },
  {
   "cell_type": "markdown",
   "metadata": {},
   "source": [
    "### Arithmetic\n",
    "* concrete syntax:\n",
    "\t* S &RightArrow; n | - S | S + S | S * S | S / S | (S)\n",
    "\t* n is a number\n",
    "* Generative Grammar:\n",
    "\t* ArithExpr &RightArrow; N(n) | Neg(ArithExpr) | Plus(ArithExpr, ArithExpr) | Times(ArithExpr, ArithExpr) | Div(ArithExpr, ArithExpr)\n",
    "\t* n is a Scala Int\n",
    "* AST in scala below"
   ]
  },
  {
   "cell_type": "code",
   "execution_count": 5,
   "metadata": {
    "collapsed": false
   },
   "outputs": [
    {
     "data": {
      "text/plain": [
       "defined \u001b[32mtrait\u001b[39m \u001b[36mArithExpr\u001b[39m\n",
       "defined \u001b[32mclass\u001b[39m \u001b[36mN\u001b[39m\n",
       "defined \u001b[32mclass\u001b[39m \u001b[36mNeg\u001b[39m\n",
       "defined \u001b[32mclass\u001b[39m \u001b[36mPlus\u001b[39m\n",
       "defined \u001b[32mclass\u001b[39m \u001b[36mTimes\u001b[39m\n",
       "defined \u001b[32mclass\u001b[39m \u001b[36mDiv\u001b[39m"
      ]
     },
     "execution_count": 5,
     "metadata": {},
     "output_type": "execute_result"
    }
   ],
   "source": [
    "sealed trait ArithExpr\n",
    "case class N(n:Int) extends ArithExpr\n",
    "case class Neg(a:ArithExpr) extends ArithExpr\n",
    "case class Plus(a1:ArithExpr, a2:ArithExpr) extends ArithExpr\n",
    "case class Times(a1:ArithExpr, a2:ArithExpr) extends ArithExpr\n",
    "case class Div(a1:ArithExpr, a2:ArithExpr) extends ArithExpr"
   ]
  },
  {
   "cell_type": "markdown",
   "metadata": {},
   "source": [
    "### Challenge problem, joining the 2 languages.\n",
    "* concrete syntax1:\n",
    "\t* S &RightArrow; b | not S | S or S | S and S | n | - S | S + S | S * S | S / S\n",
    "\t* n is a number\n",
    "\t* b is a boolean\n",
    "* concrete syntax2:\n",
    "\t* Here I am noting a template in concrete syntax1\n",
    "\t* expr &RightArrow; value | uop expr | expr bop expr | (expr)\n",
    "\t* uop &RightArrow; not | -\n",
    "\t* bop &RightArrow; or | and | + | * | /\n",
    "\t* value &RightArrow; n | b\n",
    "\t* n is a number\n",
    "\t* b is a boolean\n",
    "* Generative Grammar:\n",
    "\t* Expr &RightArrow; Value | Unary(Uop, Expr) | Binary(Bop, Expr, Expr)\n",
    "\t* Uop &RightArrow; Not | Neg\n",
    "\t* Bop &RightArrow; Or | And | Plus | Times | Div\n",
    "\t* Value &RightArrow; N(n) | B(b)\n",
    "\t* n is a Scala Int\n",
    "\t* b is a Scala Boolean\n",
    "* AST in scala below"
   ]
  },
  {
   "cell_type": "code",
   "execution_count": 6,
   "metadata": {
    "collapsed": false
   },
   "outputs": [
    {
     "data": {
      "text/plain": [
       "defined \u001b[32mtrait\u001b[39m \u001b[36mExpr\u001b[39m\n",
       "defined \u001b[32mtrait\u001b[39m \u001b[36mValue\u001b[39m\n",
       "defined \u001b[32mclass\u001b[39m \u001b[36mN\u001b[39m\n",
       "defined \u001b[32mclass\u001b[39m \u001b[36mB\u001b[39m\n",
       "defined \u001b[32mclass\u001b[39m \u001b[36mUnary\u001b[39m\n",
       "defined \u001b[32mclass\u001b[39m \u001b[36mBinary\u001b[39m\n",
       "defined \u001b[32mtrait\u001b[39m \u001b[36mUop\u001b[39m\n",
       "defined \u001b[32mobject\u001b[39m \u001b[36mNot\u001b[39m\n",
       "defined \u001b[32mobject\u001b[39m \u001b[36mNeg\u001b[39m\n",
       "defined \u001b[32mtrait\u001b[39m \u001b[36mBop\u001b[39m\n",
       "defined \u001b[32mobject\u001b[39m \u001b[36mOr\u001b[39m\n",
       "defined \u001b[32mobject\u001b[39m \u001b[36mAnd\u001b[39m\n",
       "defined \u001b[32mobject\u001b[39m \u001b[36mPlus\u001b[39m\n",
       "defined \u001b[32mobject\u001b[39m \u001b[36mTimes\u001b[39m\n",
       "defined \u001b[32mobject\u001b[39m \u001b[36mDiv\u001b[39m"
      ]
     },
     "execution_count": 6,
     "metadata": {},
     "output_type": "execute_result"
    }
   ],
   "source": [
    "sealed trait Expr\n",
    "sealed trait Value extends Expr\n",
    "    case class N(n:Int) extends Value\n",
    "    case class B(b:Boolean) extends Value\n",
    "case class Unary(uop:Uop, e1:Expr) extends Expr\n",
    "case class Binary(bop:Bop, e1:Expr, e2:Expr) extends Expr\n",
    "\n",
    "sealed trait Uop\n",
    "case object Not extends Uop\n",
    "case object Neg extends Uop\n",
    "\n",
    "sealed trait Bop\n",
    "case object Or extends Bop\n",
    "case object And extends Bop\n",
    "case object Plus extends Bop\n",
    "case object Times extends Bop\n",
    "case object Div extends Bop"
   ]
  },
  {
   "cell_type": "markdown",
   "metadata": {},
   "source": [
    "## TODO\n",
    "* Career Fair is Thursday, Jan, 31 - I might be there for NG, come say hi\n",
    "* Homework and Quiz 2 are due this Friday\n",
    "* Homework and Quiz 3 will go live this Thursday\n",
    "* My office hour is now on Tuesday's 1 - 2pm\n",
    "* Tentative schedule is live on Moodle in the top general section\n",
    "* The first project is going live at the end of next week (more to come on Thursday)\n",
    "* The first spot exam is Friday, February 8 in your recitation"
   ]
  }
 ],
 "metadata": {
  "anaconda-cloud": {},
  "kernelspec": {
   "display_name": "Scala",
   "language": "scala",
   "name": "scala"
  },
  "language_info": {
   "codemirror_mode": "text/x-scala",
   "file_extension": ".scala",
   "mimetype": "text/x-scala",
   "name": "scala",
   "nbconvert_exporter": "script",
   "version": "2.12.8"
  }
 },
 "nbformat": 4,
 "nbformat_minor": 1
}
