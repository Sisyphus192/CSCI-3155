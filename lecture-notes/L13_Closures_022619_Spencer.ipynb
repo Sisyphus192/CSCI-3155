{
 "cells": [
  {
   "cell_type": "markdown",
   "metadata": {},
   "source": [
    "# L13: Lettuce Functions"
   ]
  },
  {
   "cell_type": "markdown",
   "metadata": {},
   "source": [
    "## Overview\n",
    "* Lettuce Functions\n",
    "* Dynamic Scoped Interpreter\n",
    "* Closures\n",
    "* Static Scoped Interpreter\n",
    "* Q&A"
   ]
  },
  {
   "cell_type": "markdown",
   "metadata": {},
   "source": [
    "## The Lettuce Function"
   ]
  },
  {
   "cell_type": "markdown",
   "metadata": {},
   "source": [
    "### Function Definitions\n",
    "* Function Definition Concrete Lettuce Syntax Pattern:\n",
    "    * function (x) [ e1 ]\n",
    "* Function Definition Abstract Syntax Pattern:\n",
    "    * FunDef(Idenitifier,Expr)\n",
    "* Example:\n",
    "    * Concrete Syntax:\n",
    "        * function (a) [ a + 1 ]\n",
    "    * Abstract Syntax:\n",
    "        * FunDef(\"a\", Plus(Ident(\"a\"), Const(1.0)))\n",
    "    * Concrete Value without Closures: \n",
    "        * function (a) [ a + 1 ]\n",
    "    * Abstract Value without Closures:\n",
    "        * FunDef(\"a\", Plus(Ident(\"a\"), Const(1.0)))"
   ]
  },
  {
   "cell_type": "markdown",
   "metadata": {},
   "source": [
    "### Function Calls\n",
    "* Function Call Concrete Lettuce Syntax Pattern:\n",
    "    * e1(e2)\n",
    "* Function Call Abstract Syntax Pattern:\n",
    "    * FunCall(Expr, Expr)\n",
    "* Example:\n",
    "    * Concrete Syntax:\n",
    "        * function (b) [ b + 1 ] ( 2 )\n",
    "    * Abstract Syntax:\n",
    "        * FunCall(FunDef(\"b\", Plus(Ident(\"b\"), Const(1.0))), Const(2.0) )\n",
    "    * Concrete Value without Closures: \n",
    "        * 3\n",
    "    * Abstract Value without Closures:\n",
    "        * Const(3.0)"
   ]
  },
  {
   "cell_type": "markdown",
   "metadata": {},
   "source": [
    "### Curry\n",
    "* Currying:\n",
    "    * To write a function that takes many inputs, we must curry the function\n",
    "    * Write a function that takes one input and returns a function as output\n",
    "* example 1\n",
    "    * Concrete Syntax:\n",
    "        * function (c) [ function (d) [ d + c ] ]\n",
    "    * Abstract Syntax:\n",
    "        * FunDef(\"c\", FunDef(\"d\", Plus(Ident(\"d\"),Ident(\"c\"))))\n",
    "    * Concrete Value without Closures: \n",
    "        * function (c) [ function (d) [ d + c ] ]\n",
    "    * Abstract Value without Closures:\n",
    "        * FunDef(\"c\", FunDef(\"d\", Plus(Ident(\"d\"),Ident(\"c\"))))\n",
    "* example 2\n",
    "    * Concrete Syntax:\n",
    "        * function (c) [ function (d) [ d + c ] ] (1)\n",
    "    * Abstract Syntax:\n",
    "        * FunCall(FunDef(\"c\", FunDef(\"d\", Plus(Ident(\"d\"),Ident(\"c\")))), Const(1.0))\n",
    "    * Concrete Value without Closures: \n",
    "        * function (d) [ d + 1 ]\n",
    "    * Abstract Value without Closures:\n",
    "        * FunDef(\"d\", Plus(Ident(\"d\"),Const(1.0)))\n",
    "* example 3\n",
    "    * Concrete Syntax:\n",
    "        * function (c) [ function (d) [ d + c ] ] (1)(2)\n",
    "    * Abstract Syntax:\n",
    "        * FunCall(FunCall(FunDef(\"c\", FunDef(\"d\", Plus(Ident(\"d\"),Ident(\"c\")))), Const(1.0)), Const(2.0))\n",
    "    * Concrete Value without Closures: \n",
    "        * 3\n",
    "    * Abstract Value without Closures:\n",
    "        * Const(3.0)"
   ]
  },
  {
   "cell_type": "markdown",
   "metadata": {},
   "source": [
    "### Scoping Conditions\n",
    "* Dynamic vs Static example:\n",
    "* Concrete Syntax:\n",
    "\n",
    "~~~\n",
    "let cat = 2 in [ \n",
    "    let foo = function (dog) [ dog + cat ] in [\n",
    "        let cat = 2000 in [\n",
    "            foo(3)\n",
    "]   ]   ]\n",
    "~~~\n",
    "\n",
    "* Abstract Syntax:\n",
    "\n",
    "~~~\n",
    "Let(\"cat\",\n",
    "    Const(2.0),\n",
    "    Let(\"foo\",\n",
    "        FunDef(\"dog\", Plus(Ident(\"dog\"), Ident(\"cat\"))),\n",
    "        Let(\"cat\",\n",
    "            Const(2000.0),\n",
    "            FunCall(Ident(\"foo\"), Const(3.0))\n",
    ")   )   )\n",
    "~~~"
   ]
  },
  {
   "cell_type": "markdown",
   "metadata": {},
   "source": [
    "#### Dynamic Scope\n",
    "* Recall, dynamic scope uses the variable environment at each call time to evaluate each call\n",
    "* used in\n",
    "    * LISP\n",
    "    * LaTex\n",
    "    * BASH\n",
    "    * It also appears to be in python about Class definitions and Object creation\n",
    "        * But I don't see why someone would write a python program with such behavior\n",
    "* concrete syntax:\n",
    "\n",
    "~~~\n",
    "let cat = 2 in [ \n",
    "    let foo = function (dog) [ dog + cat ] in [\n",
    "        let cat = 2000 in [\n",
    "            foo(3)\n",
    "]   ]   ]\n",
    "~~~\n",
    "\n",
    "* Note that at call time of 'foo', the value of 'cat' is 2000\n",
    "* Concrete Value without Closures: \n",
    "    * 2003\n",
    "* Abstract Value without Closures:\n",
    "    * Const(2003.0)"
   ]
  },
  {
   "cell_type": "markdown",
   "metadata": {},
   "source": [
    "#### Static Scope\n",
    "* recall that static scope uses the variable environment at function defintion to evaluate each call\n",
    "* Common in most langauge\n",
    "* concrete syntax:\n",
    "~~~\n",
    "let cat = 2 in [ \n",
    "    let foo = function (dog) [ dog + cat ] in [\n",
    "        let cat = 2000 in [\n",
    "            foo(3)\n",
    "]   ]   ]\n",
    "~~~\n",
    "\n",
    "* Note that at definition time of 'foo', the value of 'cat' is 2\n",
    "* Concrete Value without Closures: \n",
    "    * 5\n",
    "* Abstract Value without Closures:\n",
    "    * Const(5.0)"
   ]
  },
  {
   "cell_type": "markdown",
   "metadata": {},
   "source": [
    "## Interpreter with Dynamic Scope\n",
    "* You don't need to be able to read this quickly\n",
    "* I encourage you to look at this again later if you need an example of how dynamic scope could be coded\n",
    "* To my knowledge, this semester we are not testing on dynamic scoping\n",
    "* I just want to point out what is causing the issue"
   ]
  },
  {
   "cell_type": "markdown",
   "metadata": {},
   "source": [
    "### AST"
   ]
  },
  {
   "cell_type": "code",
   "execution_count": 1,
   "metadata": {},
   "outputs": [
    {
     "data": {
      "text/plain": [
       "defined \u001b[32mtrait\u001b[39m \u001b[36mDynExpr\u001b[39m\n",
       "defined \u001b[32mtrait\u001b[39m \u001b[36mDynValue\u001b[39m\n",
       "defined \u001b[32mtype\u001b[39m \u001b[36mDynIdentifier\u001b[39m\n",
       "defined \u001b[32mtype\u001b[39m \u001b[36mDynNumber\u001b[39m\n",
       "defined \u001b[32mclass\u001b[39m \u001b[36mDynPlus\u001b[39m\n",
       "defined \u001b[32mclass\u001b[39m \u001b[36mDynLet\u001b[39m\n",
       "defined \u001b[32mclass\u001b[39m \u001b[36mDynIdent\u001b[39m\n",
       "defined \u001b[32mclass\u001b[39m \u001b[36mDynFunCall\u001b[39m\n",
       "defined \u001b[32mclass\u001b[39m \u001b[36mDynFunDef\u001b[39m\n",
       "defined \u001b[32mclass\u001b[39m \u001b[36mDynConst\u001b[39m"
      ]
     },
     "execution_count": 1,
     "metadata": {},
     "output_type": "execute_result"
    }
   ],
   "source": [
    "// Same as what you are used to seeing for Lettuce\n",
    "// but prepended with 'Dyn' for Dynamic scoping...\n",
    "sealed trait DynExpr\n",
    "sealed trait DynValue extends DynExpr\n",
    "type DynIdentifier = String\n",
    "type DynNumber = Double\n",
    "\n",
    "case class DynPlus(de1:DynExpr, de2:DynExpr) extends DynExpr\n",
    "case class DynLet(di1:DynIdentifier, de1:DynExpr, de2:DynExpr) extends DynExpr\n",
    "case class DynIdent(di1:DynIdentifier) extends DynExpr\n",
    "case class DynFunCall(e1:DynExpr, e2:DynExpr) extends DynExpr\n",
    "\n",
    "case class DynFunDef(di1: DynIdentifier, de1:DynExpr) extends DynValue\n",
    "case class DynConst(dn1:DynNumber) extends DynValue"
   ]
  },
  {
   "cell_type": "markdown",
   "metadata": {},
   "source": [
    "### Test Setup"
   ]
  },
  {
   "cell_type": "code",
   "execution_count": 2,
   "metadata": {},
   "outputs": [
    {
     "data": {
      "text/plain": [
       "\u001b[36mde0\u001b[39m: \u001b[32mDynExpr\u001b[39m = \u001b[33mDynLet\u001b[39m(\n",
       "  \u001b[32m\"cat\"\u001b[39m,\n",
       "  \u001b[33mDynConst\u001b[39m(\u001b[32m2.0\u001b[39m),\n",
       "  \u001b[33mDynLet\u001b[39m(\n",
       "    \u001b[32m\"foo\"\u001b[39m,\n",
       "    \u001b[33mDynFunDef\u001b[39m(\u001b[32m\"dog\"\u001b[39m, \u001b[33mDynPlus\u001b[39m(\u001b[33mDynIdent\u001b[39m(\u001b[32m\"dog\"\u001b[39m), \u001b[33mDynIdent\u001b[39m(\u001b[32m\"cat\"\u001b[39m))),\n",
       "    \u001b[33mDynLet\u001b[39m(\u001b[32m\"cat\"\u001b[39m, \u001b[33mDynConst\u001b[39m(\u001b[32m2000.0\u001b[39m), \u001b[33mDynFunCall\u001b[39m(\u001b[33mDynIdent\u001b[39m(\u001b[32m\"foo\"\u001b[39m), \u001b[33mDynConst\u001b[39m(\u001b[32m3.0\u001b[39m)))\n",
       "  )\n",
       ")\n",
       "\u001b[36mdv0Expected\u001b[39m: \u001b[32mDynValue\u001b[39m = \u001b[33mDynConst\u001b[39m(\u001b[32m2003.0\u001b[39m)"
      ]
     },
     "execution_count": 2,
     "metadata": {},
     "output_type": "execute_result"
    }
   ],
   "source": [
    "// concrete\n",
    "/*\n",
    "let cat = 2 in [ \n",
    "    let foo = function (dog) [ dog + cat ] in [\n",
    "        let cat = 2000 in [\n",
    "            foo(3)\n",
    "]   ]   ]\n",
    "*/\n",
    "val de0:DynExpr = DynLet(\"cat\",\n",
    "                         DynConst(2.0),\n",
    "                         DynLet(\"foo\",\n",
    "                               DynFunDef(\"dog\", DynPlus(DynIdent(\"dog\"),DynIdent(\"cat\"))),\n",
    "                               DynLet(\"cat\",\n",
    "                                      DynConst(2000.0),\n",
    "                                      DynFunCall(DynIdent(\"foo\"), DynConst(3.0))\n",
    "                                      )\n",
    "                                )\n",
    "                         )\n",
    "// concrete\n",
    "// 2003\n",
    "val dv0Expected:DynValue = DynConst(2003.0)            "
   ]
  },
  {
   "cell_type": "markdown",
   "metadata": {},
   "source": [
    "### Interpreter"
   ]
  },
  {
   "cell_type": "code",
   "execution_count": 3,
   "metadata": {},
   "outputs": [
    {
     "data": {
      "text/plain": [
       "defined \u001b[32mfunction\u001b[39m \u001b[36mdynEval\u001b[39m"
      ]
     },
     "execution_count": 3,
     "metadata": {},
     "output_type": "execute_result"
    }
   ],
   "source": [
    "def dynEval(de:DynExpr, denv:Map[DynIdentifier, DynValue] = Map()): DynValue = de match {\n",
    "    case dv:DynValue => dv\n",
    "    case DynPlus(de1,de2) => dynEval(de1, denv) match {\n",
    "        case DynConst(dn1) => dynEval(de2, denv) match {\n",
    "            case DynConst(dn2) => {\n",
    "                val dnPrime = dn1 + dn2 \n",
    "                DynConst(dnPrime)\n",
    "            }   \n",
    "            case _ => ???  // type error\n",
    "        }   \n",
    "        case _ => ???  // type error\n",
    "    }   \n",
    "    case DynLet(di1, de1, de2) => {\n",
    "        val dv1 = dynEval(de1,denv)\n",
    "        val denvPrime = denv + (di1 -> dv1)\n",
    "        val dv2 = dynEval(de2, denvPrime)\n",
    "        dv2 \n",
    "    }   \n",
    "    case DynIdent(di1) => denv.getOrElse(di1, throw new IllegalArgumentException(\"ill formed expression\"))\n",
    "    case DynFunCall(de1, de2) => dynEval(de1, denv) match {\n",
    "        case DynFunDef(di1, de1) => {\n",
    "            val dv2 = dynEval(de2, denv)\n",
    "            val denvPrime = denv + (di1 -> dv2)\n",
    "            val dv1 = dynEval(de1, denvPrime)\n",
    "            dv1 \n",
    "        }   \n",
    "        case _ => ???  // type error\n",
    "    }   \n",
    "}"
   ]
  },
  {
   "cell_type": "markdown",
   "metadata": {},
   "source": [
    "### Test"
   ]
  },
  {
   "cell_type": "code",
   "execution_count": 4,
   "metadata": {},
   "outputs": [
    {
     "name": "stdout",
     "output_type": "stream",
     "text": [
      "WOOT WOOT!\n",
      "I made an interpreter with dynamic scoping conditions!\n"
     ]
    },
    {
     "data": {
      "text/plain": [
       "\u001b[36mdv0Found\u001b[39m: \u001b[32mDynValue\u001b[39m = \u001b[33mDynConst\u001b[39m(\u001b[32m2003.0\u001b[39m)"
      ]
     },
     "execution_count": 4,
     "metadata": {},
     "output_type": "execute_result"
    }
   ],
   "source": [
    "// val de0:DynExpr = DynLet(\"cat\",\n",
    "//                          DynConst(2.0),\n",
    "//                          DynLet(\"foo\",\n",
    "//                                DynFunDef(\"dog\", DynPlus(DynIdent(\"dog\"),DynIdent(\"cat\"))),\n",
    "//                                DynLet(\"cat\",\n",
    "//                                       DynConst(2000.0),\n",
    "//                                       DynFunCall(DynIdent(\"foo\"), DynConst(3.0))\n",
    "//                                       )\n",
    "//                                 )\n",
    "//                          )\n",
    "// val dv0Expected:DynValue = DynConst(2003.0)            \n",
    "\n",
    "val dv0Found:DynValue = dynEval(de0)\n",
    "if (dv0Found == dv0Expected) {\n",
    "    println(\"WOOT WOOT!\")\n",
    "    println(\"I made an interpreter with dynamic scoping conditions!\")\n",
    "} else {\n",
    "    println(\"Uh OH... I failed\")\n",
    "    println(s\"EVALUATING: $de0\")\n",
    "    println(s\"\\tEXPECTED : $dv0Expected\")\n",
    "    println(s\"\\tFOUND    : $dv0Found\")\n",
    "}"
   ]
  },
  {
   "cell_type": "markdown",
   "metadata": {},
   "source": [
    "* What was causing the issue up there in the definiton of dynEval?\n",
    "* Look at how we complete DynFunCall...\n",
    "* We use the current environment at the time of function call to evaluate the function body\n",
    "* THAT causes dynamic scoping conditions!"
   ]
  },
  {
   "cell_type": "markdown",
   "metadata": {},
   "source": [
    "## Closures\n",
    "* There are many ways to create static scoping conditions in an interpreter\n",
    "* Since we are creating a \"big-step interpreter\" Using closures is a good choice\n",
    "* A closure is a function with special qualities\n",
    "* Basically, we don't allow all functions to be values, we only allow closures to be values\n",
    "* A Closure is a kind of a function definition. It is a function that has a parameter, a function body, and an environment of evaluation\n",
    "* Concrete Syntax\n",
    "    * Lettuce will not have a concrete syntax for closures\n",
    "* Abstract Syntax\n",
    "    * Closure(Identifier, Expr, Env)"
   ]
  },
  {
   "cell_type": "markdown",
   "metadata": {},
   "source": [
    "* ex1\n",
    "    * concrete:\n",
    "        * function (dog) [ dog + 1 ]\n",
    "    * abstract expression:\n",
    "        * FunDef( \"dog\", Plus(Ident(\"dog\"),Const(1.0)) )\n",
    "    * abstract value - a closure:\n",
    "        * Closure( \"dog\", Plus(Ident(\"dog\"),Const(1.0)), Map() )"
   ]
  },
  {
   "cell_type": "markdown",
   "metadata": {},
   "source": [
    "* ex2\n",
    "    * concrete:\n",
    "        * let cat = 2 in [  function (dog) \\[ dog + cat ](3) ]\n",
    "    * abstract:\n",
    "        * Let(\"cat\", Const(2.0), FunCall(FunDef(\"dog\", Plus(Ident(\"dog\"),Ident(\"cat\"))), Const(3.0)))\n",
    "    * concrete value:\n",
    "        * 5\n",
    "    * abstract value\n",
    "        * Const(5.0)\n",
    "    * Here I will be a bit hand wavey...\n",
    "    * look at just the function:\n",
    "        * concrete:\n",
    "            * function (dog) [ dog + cat ]\n",
    "        * Abstract:\n",
    "            * FunDef(\"dog\", Plus(Ident(\"dog\"),Ident(\"cat\")))\n",
    "        * If we consider the value of cat at the time this function is defined...\n",
    "        * We see that cat == 2\n",
    "        * Eventually durring evaluation we create a closure from the function, as follows:\n",
    "            * Closure(\"dog\", Plus(Ident(\"dog\"),Ident(\"cat\")), Map(\"cat\" -> Const(2.0)))"
   ]
  },
  {
   "cell_type": "markdown",
   "metadata": {},
   "source": [
    "* ex3\n",
    "    * concrete:\n",
    "        * let cat = 2 in [ let foo = function (dog) [ dog + cat ] in [ let cat = 2000 in [ foo(3) ] ] ]\n",
    "    * abstract:\n",
    "        * Let(\"cat\", Const(2.0), Let(\"foo\", FunDef(\"dog\", Plus(Ident(\"dog\"),Ident(\"cat\"))), Let(\"cat\", Const(2000.0), FunCall(\"foo\", Const(3.0)))))\n",
    "    * again... hand wavey...\n",
    "    * just the function:\n",
    "        * concrete:\n",
    "            * function (dog) [ dog + cat ]\n",
    "        * Abstract:\n",
    "            * FunDef(\"dog\", Plus(Ident(\"dog\"),Ident(\"cat\")))\n",
    "        * closure (also abstract):\n",
    "            * Closure(\"dog\", Plus(Ident(\"dog\"),Ident(\"cat\")), Map(\"cat\" -> 2.0))\n"
   ]
  },
  {
   "cell_type": "markdown",
   "metadata": {},
   "source": [
    "* ex3 discussion notes\n",
    "    * Why is \"cat\" not mapped to 2000.0?\n",
    "        * Discuss with peer\n",
    "        * Tell me why\n",
    "    * ???"
   ]
  },
  {
   "cell_type": "markdown",
   "metadata": {},
   "source": [
    "## Static Scoping Interpreter"
   ]
  },
  {
   "cell_type": "markdown",
   "metadata": {},
   "source": [
    "### Generative Grammar\n",
    "    * $$\\begin{array} &\n",
    "Program & \\rightarrow & TopLevel(Expr) \\\\\n",
    "\\\\\n",
    "Expr & \\rightarrow & Plus(Expr, Expr) \\\\\n",
    "& | & Let(Identifier, Expr, Expr) \\\\\n",
    "& | & Ident(Identifier) \\\\\n",
    "& | & FunDef(Identifier, Expr) \\\\\n",
    "& | & FunCall(Expr, Expr) \\\\\n",
    "& | & Value \\\\\n",
    "\\\\\n",
    "Value & \\rightarrow & Const(Number) \\\\\n",
    "& | & Closure(Identifier, Expr, Env) \\\\\n",
    "\\\\\n",
    "Identifier & \\rightarrow & String \\\\\n",
    "Number & \\rightarrow & Double \\\\\n",
    "Env & \\rightarrow & Map[Identifier, Value] \\\\\n",
    "\\end{array}$$\n",
    "* But I thought functions are values?\n",
    "    * Yes, yes, functions are values\n",
    "        * That a core principle of functional programming\n",
    "    * But we have a curveball in bigstep interpreters with static scoping\n",
    "        * We can't actually evaluate all functions on there own\n",
    "        * and so now only a closure is a value\n",
    "        * NOTE: closures are a special class of functions\n",
    "            * they're a function with an evaluation environment attached to them\n",
    "        * (sad face)"
   ]
  },
  {
   "cell_type": "markdown",
   "metadata": {},
   "source": [
    "### AST"
   ]
  },
  {
   "cell_type": "code",
   "execution_count": 5,
   "metadata": {},
   "outputs": [
    {
     "data": {
      "text/plain": [
       "defined \u001b[32mtrait\u001b[39m \u001b[36mProgram\u001b[39m\n",
       "defined \u001b[32mtrait\u001b[39m \u001b[36mExpr\u001b[39m\n",
       "defined \u001b[32mtrait\u001b[39m \u001b[36mValue\u001b[39m\n",
       "defined \u001b[32mtype\u001b[39m \u001b[36mIdentifier\u001b[39m\n",
       "defined \u001b[32mtype\u001b[39m \u001b[36mNumber\u001b[39m\n",
       "defined \u001b[32mtype\u001b[39m \u001b[36mEnv\u001b[39m\n",
       "defined \u001b[32mclass\u001b[39m \u001b[36mTopLevel\u001b[39m\n",
       "defined \u001b[32mclass\u001b[39m \u001b[36mPlus\u001b[39m\n",
       "defined \u001b[32mclass\u001b[39m \u001b[36mLet\u001b[39m\n",
       "defined \u001b[32mclass\u001b[39m \u001b[36mIdent\u001b[39m\n",
       "defined \u001b[32mclass\u001b[39m \u001b[36mFunDef\u001b[39m\n",
       "defined \u001b[32mclass\u001b[39m \u001b[36mFunCall\u001b[39m\n",
       "defined \u001b[32mclass\u001b[39m \u001b[36mConst\u001b[39m\n",
       "defined \u001b[32mclass\u001b[39m \u001b[36mClosure\u001b[39m"
      ]
     },
     "execution_count": 5,
     "metadata": {},
     "output_type": "execute_result"
    }
   ],
   "source": [
    "sealed trait Program\n",
    "sealed trait Expr\n",
    "sealed trait Value extends Expr\n",
    "type Identifier = String\n",
    "type Number = Double\n",
    "type Env = Map[Identifier,Value]\n",
    "\n",
    "case class TopLevel(e0:Expr) extends Program\n",
    "\n",
    "case class Plus(eLeft:Expr, eRight:Expr) extends Expr\n",
    "case class Let(x:Identifier, eBind:Expr, eBody:Expr) extends Expr\n",
    "case class Ident(x:Identifier) extends Expr\n",
    "case class FunDef(param:Identifier, body:Expr) extends Expr\n",
    "case class FunCall(hopefullyFunction:Expr, argument:Expr) extends Expr\n",
    "\n",
    "case class Const(n:Number) extends Value\n",
    "case class Closure(param:Identifier, body:Expr, environmentAtDeclaration:Env) extends Value"
   ]
  },
  {
   "cell_type": "markdown",
   "metadata": {},
   "source": [
    "### Test Setup"
   ]
  },
  {
   "cell_type": "code",
   "execution_count": 6,
   "metadata": {},
   "outputs": [
    {
     "data": {
      "text/plain": [
       "\u001b[36me0\u001b[39m: \u001b[32mExpr\u001b[39m = \u001b[33mLet\u001b[39m(\n",
       "  \u001b[32m\"cat\"\u001b[39m,\n",
       "  \u001b[33mConst\u001b[39m(\u001b[32m2.0\u001b[39m),\n",
       "  \u001b[33mLet\u001b[39m(\n",
       "    \u001b[32m\"foo\"\u001b[39m,\n",
       "    \u001b[33mFunDef\u001b[39m(\u001b[32m\"dog\"\u001b[39m, \u001b[33mPlus\u001b[39m(\u001b[33mIdent\u001b[39m(\u001b[32m\"dog\"\u001b[39m), \u001b[33mIdent\u001b[39m(\u001b[32m\"cat\"\u001b[39m))),\n",
       "    \u001b[33mLet\u001b[39m(\u001b[32m\"cat\"\u001b[39m, \u001b[33mConst\u001b[39m(\u001b[32m2000.0\u001b[39m), \u001b[33mFunCall\u001b[39m(\u001b[33mIdent\u001b[39m(\u001b[32m\"foo\"\u001b[39m), \u001b[33mConst\u001b[39m(\u001b[32m3.0\u001b[39m)))\n",
       "  )\n",
       ")\n",
       "\u001b[36mv0Expected\u001b[39m: \u001b[32mValue\u001b[39m = \u001b[33mConst\u001b[39m(\u001b[32m5.0\u001b[39m)"
      ]
     },
     "execution_count": 6,
     "metadata": {},
     "output_type": "execute_result"
    }
   ],
   "source": [
    "// concrete\n",
    "/*\n",
    "let cat = 2 in [ \n",
    "    let foo = function (dog) [ dog + cat ] in [\n",
    "        let cat = 2000 in [\n",
    "            foo(3)\n",
    "]   ]   ]\n",
    "*/\n",
    "val e0:Expr = Let(\"cat\",\n",
    "                  Const(2.0),\n",
    "                  Let(\"foo\",\n",
    "                      FunDef(\"dog\", Plus(Ident(\"dog\"),Ident(\"cat\"))),\n",
    "                      Let(\"cat\",\n",
    "                          Const(2000.0),\n",
    "                          FunCall(Ident(\"foo\"),Const(3.0))\n",
    "                         )\n",
    "                     )\n",
    "                 )\n",
    "// concrete\n",
    "// 5\n",
    "val v0Expected:Value = Const(5.0)            "
   ]
  },
  {
   "cell_type": "markdown",
   "metadata": {},
   "source": [
    "### Interpreter"
   ]
  },
  {
   "cell_type": "code",
   "execution_count": 7,
   "metadata": {},
   "outputs": [
    {
     "data": {
      "text/plain": [
       "defined \u001b[32mfunction\u001b[39m \u001b[36meval\u001b[39m"
      ]
     },
     "execution_count": 7,
     "metadata": {},
     "output_type": "execute_result"
    }
   ],
   "source": [
    "def eval(e:Expr, env:Env = Map()):Value = {\n",
    "    \n",
    "    def e2v(e:Expr):Value = eval(e,env)\n",
    "    \n",
    "    def e2n(e:Expr):Number = e2v(e) match {\n",
    "        case Const(n) => n\n",
    "        case _ => ???  // type error\n",
    "    }\n",
    "    \n",
    "    def applyBinaryArith(e1:Expr, e2:Expr)(f:(Number, Number) => Number):Value = {\n",
    "        val n1 = e2n(e1)\n",
    "        val n2 = e2n(e2)\n",
    "        val nNew = f(n1,n2)\n",
    "        Const(nNew)\n",
    "    }\n",
    "    \n",
    "    e match {\n",
    "        case Const(n) => ???\n",
    "        case Closure(praram, body, environmentAtDeclaration) => ???\n",
    "        \n",
    "        case v:Value => ???\n",
    "        \n",
    "        case FunDef(param, body) => ???\n",
    "        \n",
    "        case FunCall(hopefullyAFunction, argument) => ???\n",
    "        \n",
    "        case Plus(e1,e2) => applyBinaryArith(e1,e2){ _ + _ }\n",
    "        case Let(i1, e1, e2) => {\n",
    "            val v1 = e2v(e1)\n",
    "            val envNew = env + (i1 -> v1)\n",
    "            val v2 = eval(e2, envNew)\n",
    "            v2\n",
    "        }\n",
    "        case Ident(i1) => env.getOrElse(i1, ???)  // ill formed expression\n",
    "        \n",
    "        case _ => ???\n",
    "    }\n",
    "    \n",
    "}"
   ]
  },
  {
   "cell_type": "markdown",
   "metadata": {},
   "source": [
    "### Test"
   ]
  },
  {
   "cell_type": "code",
   "execution_count": 8,
   "metadata": {},
   "outputs": [
    {
     "ename": "",
     "evalue": "",
     "output_type": "error",
     "traceback": [
      "\u001b[31mscala.NotImplementedError: an implementation is missing\u001b[39m\n  scala.Predef$.$qmark$qmark$qmark(\u001b[32mPredef.scala\u001b[39m:\u001b[32m288\u001b[39m)\n  ammonite.$sess.cmd6$Helper.eval(\u001b[32mcmd6.sc\u001b[39m:\u001b[32m18\u001b[39m)\n  ammonite.$sess.cmd6$Helper.e2v$1(\u001b[32mcmd6.sc\u001b[39m:\u001b[32m3\u001b[39m)\n  ammonite.$sess.cmd6$Helper.eval(\u001b[32mcmd6.sc\u001b[39m:\u001b[32m29\u001b[39m)\n  ammonite.$sess.cmd7$Helper.<init>(\u001b[32mcmd7.sc\u001b[39m:\u001b[32m1\u001b[39m)\n  ammonite.$sess.cmd7$.<init>(\u001b[32mcmd7.sc\u001b[39m:\u001b[32m7\u001b[39m)\n  ammonite.$sess.cmd7$.<clinit>(\u001b[32mcmd7.sc\u001b[39m:\u001b[32m-1\u001b[39m)"
     ]
    }
   ],
   "source": [
    "// val e0:Expr = Let(\"cat\",\n",
    "//                   Const(2.0),\n",
    "//                   Let(\"foo\",\n",
    "//                       FunDef(\"dog\", Plus(Ident(\"dog\"),Ident(\"cat\"))),\n",
    "//                       Let(\"cat\",\n",
    "//                           Const(2000.0),\n",
    "//                           FunCall(Ident(\"foo\"),Const(3.0))\n",
    "//                          )\n",
    "//                      )\n",
    "//                  )\n",
    "// val v0Expected:Value = Const(5.0)   \n",
    "\n",
    "val v0Found:Value = eval(e0)\n",
    "if (v0Found == v0Expected) {\n",
    "    println(\"WOOT WOOT!\")\n",
    "    println(\"I made an interpreter with dynamic scoping conditions!\")\n",
    "} else {\n",
    "    println(\"Uh OH... I failed\")\n",
    "    println(s\"EVALUATING: $e0\")\n",
    "    println(s\"\\tEXPECTED : $v0Expected\")\n",
    "    println(s\"\\tFOUND    : $v0Found\")\n",
    "}"
   ]
  },
  {
   "cell_type": "markdown",
   "metadata": {},
   "source": [
    "## Discussion\n",
    "* What is a closure?\n",
    "* Why do closures implement static scoping in the above interpretor?"
   ]
  },
  {
   "cell_type": "markdown",
   "metadata": {},
   "source": [
    "## Solutions\n",
    "* I've decided to cut down on my overhead here...\n",
    "* The solutions are now in the preclass notes\n",
    "* Please don't read the solutions before or during class... It will spoil my surprises\n",
    "* After class I will replace the preclass document with the post-class document\n",
    "* agreed?"
   ]
  },
  {
   "cell_type": "code",
   "execution_count": 9,
   "metadata": {},
   "outputs": [
    {
     "data": {
      "text/plain": [
       "defined \u001b[32mfunction\u001b[39m \u001b[36meval\u001b[39m"
      ]
     },
     "execution_count": 9,
     "metadata": {},
     "output_type": "execute_result"
    }
   ],
   "source": [
    "// static scoping interpreter\n",
    "def eval(e:Expr, env:Env = Map()):Value = {\n",
    "    \n",
    "    def e2v(e:Expr):Value = eval(e,env)\n",
    "    \n",
    "    def e2n(e:Expr):Number = e2v(e) match {\n",
    "        case Const(n) => n\n",
    "        case _ => ???  // type error\n",
    "    }\n",
    "    \n",
    "    def applyBinaryArith(e1:Expr, e2:Expr)(f:(Number, Number) => Number):Value = {\n",
    "        val n1 = e2n(e1)\n",
    "        val n2 = e2n(e2)\n",
    "        val nNew = f(n1,n2)\n",
    "        Const(nNew)\n",
    "    }\n",
    "    \n",
    "    e match {\n",
    "        case v:Value => v\n",
    "        case FunDef(i1,e1) => Closure(i1,e1,env)\n",
    "        \n",
    "        case FunCall(e1,e2) => e2v(e1) match {\n",
    "            // NOTE: Here I have \"shaddowed\" e1 and env\n",
    "            case Closure(i1,e1,env) => eval(e1,env + (i1 -> e2v(e2)))\n",
    "            case _ => ???  // type error\n",
    "        }\n",
    "        \n",
    "        case Plus(e1,e2) => applyBinaryArith(e1,e2){ _ + _ }\n",
    "        case Let(i1, e1, e2) => {\n",
    "            val v1 = e2v(e1)\n",
    "            val envNew = env + (i1 -> v1)\n",
    "            val v2 = eval(e2, envNew)\n",
    "            v2\n",
    "        }\n",
    "        case Ident(i1) => env.getOrElse(i1, ???)  // ill formed expression\n",
    "        \n",
    "        case _ => ???\n",
    "    }\n",
    "    \n",
    "}"
   ]
  },
  {
   "cell_type": "markdown",
   "metadata": {},
   "source": [
    "## Overview\n",
    "* Lettuce Functions\n",
    "* Dynamic Scoped Interpreter\n",
    "* Closures\n",
    "* Static Scoped Interpreter\n",
    "* Q&A"
   ]
  },
  {
   "cell_type": "markdown",
   "metadata": {},
   "source": [
    "## TODOs:\n",
    "* We have a survey on Moodle that I'd love for you to take:\n",
    "    * try the link (might work if you're logged into Moodle): https://moodle.cs.colorado.edu/mod/feedback/view.php?id=35105\n",
    "    * OR go to moodle and search for: \"Anonymous Feedback\"\n",
    "* By Rohit's request I created a google survey about recitations. Please take it\n",
    "    * Sent via email from 'spwi6980@colorado.edu'\n",
    "* Second Spot Exam is this Friday, 03/01, in Recitation\n",
    "* The first project is due next Monday, 03/04\n",
    "* This Thursday we will combine lecture. Meet in the big lecture hall ECCR 265"
   ]
  }
 ],
 "metadata": {
  "anaconda-cloud": {},
  "kernelspec": {
   "display_name": "Scala",
   "language": "scala",
   "name": "scala"
  },
  "language_info": {
   "codemirror_mode": "text/x-scala",
   "file_extension": ".scala",
   "mimetype": "text/x-scala",
   "name": "scala",
   "nbconvert_exporter": "script",
   "version": "2.12.8"
  }
 },
 "nbformat": 4,
 "nbformat_minor": 1
}
