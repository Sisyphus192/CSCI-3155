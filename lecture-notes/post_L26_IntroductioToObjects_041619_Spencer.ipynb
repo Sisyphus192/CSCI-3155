{
 "cells": [
  {
   "cell_type": "markdown",
   "metadata": {},
   "source": [
    "# L26: Introduction to Objects\n",
    "\n",
    "* NOTE: I am not a great speller and I still don't have a spell-check plugin for JN, so sorry in advance for the typos\n",
    "* Before class, please download this document so that you can more easily follow along\n",
    "    * Moodle : crtl + f : \"Week13\" (no spaces)"
   ]
  },
  {
   "cell_type": "markdown",
   "metadata": {},
   "source": [
    "## Overview\n",
    "* Roadmap\n",
    "* Why Study Objects?\n",
    "* Defining an Object\n",
    "* Classs\n",
    "* Abstraction\n",
    "* Polymorphism\n",
    "* Encapsulation\n",
    "* Inheritance\n",
    "* ... and more"
   ]
  },
  {
   "cell_type": "markdown",
   "metadata": {},
   "source": [
    "## Roadmap\n",
    "* For this last section of the course we will be looking at the fundamentals for Object Orientated Programming\n",
    "    * today\n",
    "        * What is an Object?\n",
    "        * What are the 4 pillars of Objects?\n",
    "        * ... More fundamentals of Object Oriented Programming\n",
    "    * Thursday\n",
    "        * class vs trait\n",
    "        * mix-ins as an alternative to multiple-inheritance\n",
    "        * practice OO concepts\n",
    "    * Next week\n",
    "        * Issues with multiple-inheritance\n",
    "        * Liskov’s Substitution Principle\n",
    "        * Co-Variance vs Contra-Variance\n",
    "* After that, we'll use the final week of class to review course material"
   ]
  },
  {
   "cell_type": "markdown",
   "metadata": {},
   "source": [
    "## Why Study Objects?\n",
    "* Most if not all, modern (non-esoteric) programming languages today support objects and use them behind the scenes to ensure type safety in the programming language\n",
    "* Many software companies expect that new hires are able to apply object concepts to their programming\n",
    "* This course is a prerequisite for OOAD and it wouldn’t be fair for us to not study this concept a bit\n",
    "    * ASIDE: I don't know what OOAD looks like now that there is a new instructor, but... it used to be a project course. If you want to take this course, I'd recommend taking it with some friends and entering the course with a few project ideas ready to go.\n",
    "* Personally, a few months back I applied to work for MinuteKey here in Boulder as a Scala developer. They make those key creation kiosks that you see at walmart and such. They are using AI to remotely fix issues with their hardware. Anyway, the short of the story is that they liked my coding skills in Scala but they didn't love it. They wanted me to be using more OO concepts, which I wasn't using because I never learned it and didn't want to teach myself. Ultimately, they recommended that I look at the Coarsera course on Scala before re-applying to the position. Apperantly that Coarsera course is a great resource for learning Scala for production level code. \n",
    "    * Given the core knowledge you've learned in this course, that shouldn't be difficult for you. Check it out if you're interested: https://www.coursera.org/specializations/scala\n",
    "    * If you do try it out, let us know what you think about it"
   ]
  },
  {
   "cell_type": "markdown",
   "metadata": {},
   "source": [
    "## Defining an Object\n",
    "* What is an object?\n",
    "    * representation of real life things\n",
    "    * container class of values and functions that represent the thing\n",
    "    * encapsulates functions and vars with ways to access them\n",
    "    * collection of data and operations on the data\n",
    "* What are the four fundamentals of objects? What do they mean?\n",
    "    * Abstraction\n",
    "        * restriction of underlying functionality that doesn't need to be handled by the user\n",
    "    * Polymorphism\n",
    "        * adaptability\n",
    "        * an operation on an object should be able to work on many types of objects\n",
    "    * Encapsulation\n",
    "        * makes data and functions portable, accessable, inacceable\n",
    "        * private\n",
    "    * Inheritance\n",
    "        * super-class and a sub-class that are similar\n",
    "        * the sub-class inherits a bunch of stuff from the super-class\n",
    "        "
   ]
  },
  {
   "cell_type": "markdown",
   "metadata": {},
   "source": [
    "### Qs???"
   ]
  },
  {
   "cell_type": "markdown",
   "metadata": {},
   "source": [
    "## Class"
   ]
  },
  {
   "cell_type": "markdown",
   "metadata": {},
   "source": [
    "### Ex 1\n",
    "* Just some silly code to get a warmed up\n",
    "* One important thing to discover... Where is the constructor for Alpha defined?"
   ]
  },
  {
   "cell_type": "code",
   "execution_count": 23,
   "metadata": {
    "collapsed": false
   },
   "outputs": [
    {
     "name": "stdout",
     "output_type": "stream",
     "text": [
      "5\n",
      "20\n",
      "8\n",
      "5\n"
     ]
    },
    {
     "data": {
      "text/plain": [
       "defined \u001b[32mclass\u001b[39m \u001b[36mAlpha\u001b[39m\n",
       "\u001b[36mobjectAlpha_1\u001b[39m: \u001b[32mAlpha\u001b[39m = ammonite.$sess.cmd22$Helper$Alpha@309763f2\n",
       "\u001b[36mobjectAlpha_2\u001b[39m: \u001b[32mAlpha\u001b[39m = ammonite.$sess.cmd22$Helper$Alpha@a65e4a5\n",
       "\u001b[36mtmp1\u001b[39m: \u001b[32mInt\u001b[39m = \u001b[32m8\u001b[39m"
      ]
     },
     "execution_count": 23,
     "metadata": {},
     "output_type": "execute_result"
    }
   ],
   "source": [
    "// primary constructor\n",
    "class Alpha(val n: Int) {\n",
    "    def Add(x:Int): Int = n + x\n",
    "}\n",
    "\n",
    "val objectAlpha_1 = new Alpha(5)\n",
    "val objectAlpha_2 = new Alpha(20)\n",
    "\n",
    "println(objectAlpha_1.n)  // 5\n",
    "println(objectAlpha_2.n)  // 20\n",
    "\n",
    "val tmp1 = objectAlpha_1.Add(3)\n",
    "println(tmp1)  // 8\n",
    "\n",
    "println(objectAlpha_1.n)  // 5"
   ]
  },
  {
   "cell_type": "code",
   "execution_count": 25,
   "metadata": {
    "collapsed": false
   },
   "outputs": [
    {
     "name": "stdout",
     "output_type": "stream",
     "text": [
      "5\n",
      "20\n"
     ]
    },
    {
     "data": {
      "text/plain": [
       "defined \u001b[32mclass\u001b[39m \u001b[36mAlpha\u001b[39m\n",
       "\u001b[36mobjectAlpha_1\u001b[39m: \u001b[32mAlpha\u001b[39m = ammonite.$sess.cmd24$Helper$Alpha@33f36185\n",
       "\u001b[36mobjectAlpha_2\u001b[39m: \u001b[32mAlpha\u001b[39m = ammonite.$sess.cmd24$Helper$Alpha@70d74109"
      ]
     },
     "execution_count": 25,
     "metadata": {},
     "output_type": "execute_result"
    }
   ],
   "source": [
    "// primary constructor\n",
    "class Alpha(private val n: Int) {\n",
    "    def Add(x:Int): Int = n + x\n",
    "    \n",
    "    def getN():Int = n\n",
    "    \n",
    "//     def setN():Int = ???\n",
    "}\n",
    "\n",
    "val objectAlpha_1 = new Alpha(5)\n",
    "val objectAlpha_2 = new Alpha(20)\n",
    "\n",
    "println(objectAlpha_1.getN())  // 5\n",
    "println(objectAlpha_2.getN())  // 20\n",
    "\n",
    "// val tmp1 = objectAlpha_1.Add(3)\n",
    "// println(tmp1)  // 8\n",
    "\n",
    "// println(objectAlpha_1.n)  // 5"
   ]
  },
  {
   "cell_type": "code",
   "execution_count": null,
   "metadata": {
    "collapsed": false
   },
   "outputs": [],
   "source": [
    "// my class definition for 'Alpha'\n",
    "// Attribute: n\n",
    "// Method: Add\n",
    "// A class is a blueprint for objects\n",
    "// I create a class, then I can construct many objects\n",
    "\n",
    "// this is the default constructor\n",
    "class Alpha(val n: Int) {\n",
    "    \n",
    "    // this is our method\n",
    "    def Add(x:Int): Int = n + x\n",
    "}\n",
    "\n",
    "\n",
    "// Here I instantiate the class by creating an object - an instance of the class\n",
    "// I initilize the object with value 5 for attribute n\n",
    "val objectAlpha_1 = new Alpha(5)\n",
    "\n",
    "// I can also create more object from the class\n",
    "// I don't have to set n to 5 if I don't want to\n",
    "val objectAlpha_2 = new Alpha(20)\n",
    "\n",
    "// Here, since I'm not making 'n' a private attribute of the class, I can access it for each of my objects\n",
    "println(objectAlpha_1.n)\n",
    "println(objectAlpha_2.n)\n",
    "\n",
    "// I can also call my method 'Add' on one of the objects\n",
    "val tmp1 = objectAlpha_1.Add(3)\n",
    "println(tmp)\n",
    "\n",
    "// note that the method doesn't change the value of 'n'\n",
    "println(objectAlpha_1.n)"
   ]
  },
  {
   "cell_type": "markdown",
   "metadata": {},
   "source": [
    "### Ex 2\n",
    "* Now let's make this a bit more interesting\n",
    "* What if we have mutability?\n",
    "* This won't be very \"functional\" of us, but that is okay\n",
    "* NOTE: as we close out the course we will be looking at Object Oriented Programming (OOP)\n",
    "    * Object Oriented Programming can also be Functional Programming (FP)\n",
    "    * ... but it doesn't have to be functional"
   ]
  },
  {
   "cell_type": "code",
   "execution_count": 1,
   "metadata": {
    "collapsed": false
   },
   "outputs": [
    {
     "name": "stdout",
     "output_type": "stream",
     "text": [
      "5\n",
      "8\n",
      "5\n"
     ]
    },
    {
     "data": {
      "text/plain": [
       "defined \u001b[32mclass\u001b[39m \u001b[36mAlpha\u001b[39m\n",
       "\u001b[36moA\u001b[39m: \u001b[32mAlpha\u001b[39m = ammonite.$sess.cmd0$Helper$Alpha@763c647d\n",
       "\u001b[36mn0\u001b[39m: \u001b[32mInt\u001b[39m = \u001b[32m5\u001b[39m\n",
       "\u001b[36mn1\u001b[39m: \u001b[32mInt\u001b[39m = \u001b[32m8\u001b[39m"
      ]
     },
     "execution_count": 1,
     "metadata": {},
     "output_type": "execute_result"
    }
   ],
   "source": [
    "class Alpha(var n: Int) {\n",
    "    def Inc(z:Int) = n = n + z\n",
    "}\n",
    "\n",
    "val oA = new Alpha(5)\n",
    "\n",
    "val n0 = oA.n\n",
    "println(n0)  // 5\n",
    "\n",
    "oA.Inc(3)\n",
    "\n",
    "val n1 = oA.n\n",
    "println(n1)  // 8\n",
    "\n",
    "println(n0)  // 5"
   ]
  },
  {
   "cell_type": "code",
   "execution_count": null,
   "metadata": {
    "collapsed": false
   },
   "outputs": [],
   "source": [
    "// here 'n' is a variable\n",
    "class Alpha(var n: Int) {\n",
    "    \n",
    "    // Inc is going to acually change the value of n\n",
    "    // It will mutate the object being used\n",
    "    def Inc(z:Int) = n = n + z\n",
    "}\n",
    "\n",
    "val oA = new Alpha(5)\n",
    "\n",
    "// we can access attributes value like so\n",
    "val n0 = oA.n\n",
    "println(n0)  // println(oA.n)\n",
    "\n",
    "// this changes the value of n...\n",
    "oA.Inc(3)\n",
    "\n",
    "// n1 will have a different value than n0\n",
    "val n1 = oA.n\n",
    "println(n1)\n",
    "\n",
    "\n",
    "// n0 didn't change. It is still 5.\n",
    "println(n0)"
   ]
  },
  {
   "cell_type": "markdown",
   "metadata": {},
   "source": [
    "### Qs???\n",
    "* I know that is pretty high level there\n",
    "* Hopefully this is familiar to you all already, but I know I didn't know any of this when I started this course (or even by the time that I graduated CU)"
   ]
  },
  {
   "cell_type": "markdown",
   "metadata": {},
   "source": [
    "## Abstraction\n",
    "* I don’t have very much brilliant to say on the matter of “Abstraction”. Basically it suggests that you should use good variable naming so that your abstraction makes sense\n",
    "* If you are describing a functional programming language abstractly, then you might consider using words like “Expression” and “Value”. You also might cut corners and shorten the terms to “Expr” or “Val”. Or any combination of those options.\n",
    "* If I were to describe a langauge of mathmatics, which of the following code samples looks better to you?\n",
    "* Which is a better abstract representation?\n",
    "* Note that these two code samples are equally as powerful in representing a small language of mathmatics."
   ]
  },
  {
   "cell_type": "code",
   "execution_count": 2,
   "metadata": {
    "collapsed": false
   },
   "outputs": [
    {
     "data": {
      "text/plain": [
       "defined \u001b[32mclass\u001b[39m \u001b[36mAxx\u001b[39m\n",
       "defined \u001b[32mclass\u001b[39m \u001b[36mXbb\u001b[39m\n",
       "defined \u001b[32mclass\u001b[39m \u001b[36mExcited\u001b[39m\n",
       "defined \u001b[32mclass\u001b[39m \u001b[36mHappy\u001b[39m\n",
       "defined \u001b[32mclass\u001b[39m \u001b[36mFine\u001b[39m"
      ]
     },
     "execution_count": 2,
     "metadata": {},
     "output_type": "execute_result"
    }
   ],
   "source": [
    "abstract class Axx\n",
    "abstract class Xbb extends Axx\n",
    "case class Excited(celary:Axx, carrot: Axx) extends Axx\n",
    "case class Happy(steak:Axx) extends Axx\n",
    "case class Fine(doooooooom:Double) extends Xbb"
   ]
  },
  {
   "cell_type": "code",
   "execution_count": 22,
   "metadata": {
    "collapsed": false
   },
   "outputs": [
    {
     "data": {
      "text/plain": [
       "defined \u001b[32mclass\u001b[39m \u001b[36mMaths\u001b[39m\n",
       "defined \u001b[32mclass\u001b[39m \u001b[36mNumber\u001b[39m\n",
       "defined \u001b[32mclass\u001b[39m \u001b[36mPlus\u001b[39m\n",
       "defined \u001b[32mclass\u001b[39m \u001b[36mNeg\u001b[39m\n",
       "defined \u001b[32mclass\u001b[39m \u001b[36mN\u001b[39m"
      ]
     },
     "execution_count": 22,
     "metadata": {},
     "output_type": "execute_result"
    }
   ],
   "source": [
    "abstract class Maths\n",
    "abstract class Number extends Maths\n",
    "case class Plus(m_left:Maths, m_right: Maths) extends Maths  // BUG in published notes... \"Maxths\" should be \"Maths\"\n",
    "case class Neg(m:Maths) extends Maths\n",
    "case class N(d:Double) extends Number"
   ]
  },
  {
   "cell_type": "markdown",
   "metadata": {},
   "source": [
    "* NOTE: the keyterm **abstract** defines a class, that you cannot create objects from. Or rather a class that can never be instantiated"
   ]
  },
  {
   "cell_type": "code",
   "execution_count": 3,
   "metadata": {
    "collapsed": false
   },
   "outputs": [
    {
     "name": "stderr",
     "output_type": "stream",
     "text": [
      "cmd3.sc:3: class Maths is abstract; cannot be instantiated\n",
      "val m = new Maths\n",
      "        ^Compilation Failed"
     ]
    },
    {
     "ename": "",
     "evalue": "",
     "output_type": "error",
     "traceback": [
      "Compilation Failed"
     ]
    }
   ],
   "source": [
    "abstract class Maths\n",
    "\n",
    "val m = new Maths"
   ]
  },
  {
   "cell_type": "code",
   "execution_count": 3,
   "metadata": {
    "collapsed": false
   },
   "outputs": [
    {
     "name": "stderr",
     "output_type": "stream",
     "text": [
      "cmd3.sc:4: class Number is abstract; cannot be instantiated\n",
      "val n = new Number\n",
      "        ^Compilation Failed"
     ]
    },
    {
     "ename": "",
     "evalue": "",
     "output_type": "error",
     "traceback": [
      "Compilation Failed"
     ]
    }
   ],
   "source": [
    "abstract class Maths\n",
    "abstract class Number extends Maths\n",
    "\n",
    "val n = new Number"
   ]
  },
  {
   "cell_type": "code",
   "execution_count": 4,
   "metadata": {
    "collapsed": false
   },
   "outputs": [
    {
     "data": {
      "text/plain": [
       "defined \u001b[32mclass\u001b[39m \u001b[36mMaths\u001b[39m\n",
       "defined \u001b[32mclass\u001b[39m \u001b[36mNumber\u001b[39m\n",
       "defined \u001b[32mclass\u001b[39m \u001b[36mPlus\u001b[39m\n",
       "defined \u001b[32mclass\u001b[39m \u001b[36mN\u001b[39m\n",
       "\u001b[36mn3\u001b[39m: \u001b[32mN\u001b[39m = \u001b[33mN\u001b[39m(\u001b[32m3.0\u001b[39m)\n",
       "\u001b[36mmp\u001b[39m: \u001b[32mPlus\u001b[39m = \u001b[33mPlus\u001b[39m(\u001b[33mN\u001b[39m(\u001b[32m3.0\u001b[39m), \u001b[33mN\u001b[39m(\u001b[32m5.0\u001b[39m))"
      ]
     },
     "execution_count": 4,
     "metadata": {},
     "output_type": "execute_result"
    }
   ],
   "source": [
    "abstract class Maths\n",
    "abstract class Number extends Maths\n",
    "case class Plus(m_left:Maths, m_right: Maths) extends Maths\n",
    "case class N(d:Double) extends Number\n",
    "\n",
    "val n3 = N(3.0)\n",
    "val mp = Plus(n3, N(5.0))"
   ]
  },
  {
   "cell_type": "markdown",
   "metadata": {},
   "source": [
    "## Polymorphism\n",
    "* Polymorphism is the ability for a thing to have multiple input signatures.\n",
    "* In my mind this describes functions\n",
    "* But it is a necessity for Objects\n",
    "* Let's start with functions:\n",
    "    * If I say hello to somebody, but I'm not confident I know their name, I might say \"Hey You....\"\n",
    "    * On the other hand, if I do know their name, I might use their name when greeting them"
   ]
  },
  {
   "cell_type": "code",
   "execution_count": 5,
   "metadata": {
    "collapsed": false
   },
   "outputs": [
    {
     "name": "stdout",
     "output_type": "stream",
     "text": [
      "Hey You!\n",
      "Hey John!\n"
     ]
    },
    {
     "data": {
      "text/plain": [
       "defined \u001b[32mfunction\u001b[39m \u001b[36mheyYou\u001b[39m\n",
       "defined \u001b[32mfunction\u001b[39m \u001b[36mheyYou\u001b[39m"
      ]
     },
     "execution_count": 5,
     "metadata": {},
     "output_type": "execute_result"
    }
   ],
   "source": [
    "def heyYou() = {\n",
    "    println(\"Hey You!\")\n",
    "}\n",
    "\n",
    "def heyYou(name:String) = {\n",
    "    println(s\"Hey ${name}!\")\n",
    "}\n",
    "            \n",
    "\n",
    "heyYou()\n",
    "heyYou(\"John\")"
   ]
  },
  {
   "cell_type": "code",
   "execution_count": 6,
   "metadata": {
    "collapsed": false
   },
   "outputs": [
    {
     "name": "stdout",
     "output_type": "stream",
     "text": [
      "Hey You!\n",
      "Hey John!\n"
     ]
    },
    {
     "data": {
      "text/plain": [
       "defined \u001b[32mfunction\u001b[39m \u001b[36mheyYou\u001b[39m\n",
       "defined \u001b[32mfunction\u001b[39m \u001b[36mheyYou\u001b[39m"
      ]
     },
     "execution_count": 6,
     "metadata": {},
     "output_type": "execute_result"
    }
   ],
   "source": [
    "// this definition of heyYou doesn't take any parameters\n",
    "def heyYou() = {\n",
    "    println(\"Hey You!\")\n",
    "}\n",
    "\n",
    "// this definition of heyYou takes a paremeter called 'name' of type 'String'\n",
    "def heyYou(name:String) = {\n",
    "    println(s\"Hey ${name}!\")\n",
    "}\n",
    "            \n",
    "// I can call either heyYou\n",
    "heyYou()\n",
    "heyYou(\"John\")"
   ]
  },
  {
   "cell_type": "markdown",
   "metadata": {},
   "source": [
    "ASIDE"
   ]
  },
  {
   "cell_type": "code",
   "execution_count": 26,
   "metadata": {
    "collapsed": false
   },
   "outputs": [
    {
     "name": "stdout",
     "output_type": "stream",
     "text": [
      "Hey You!\n",
      "Hey John!\n"
     ]
    },
    {
     "data": {
      "text/plain": [
       "defined \u001b[32mfunction\u001b[39m \u001b[36mheyYou\u001b[39m"
      ]
     },
     "execution_count": 26,
     "metadata": {},
     "output_type": "execute_result"
    }
   ],
   "source": [
    "// Note there is also some syntax sugar that can condence code like this\n",
    "// Consider using a default argument as follows\n",
    "def heyYou(name:String = \"You\") = {\n",
    "    println(s\"Hey ${name}!\")\n",
    "}\n",
    "            \n",
    "// I can call heyYou with or without a parameter\n",
    "heyYou()\n",
    "heyYou(\"John\")"
   ]
  },
  {
   "cell_type": "markdown",
   "metadata": {},
   "source": [
    "ASIDE"
   ]
  },
  {
   "cell_type": "code",
   "execution_count": null,
   "metadata": {
    "collapsed": false
   },
   "outputs": [],
   "source": [
    "// Note there is also the option type that can be quite helpful for problems like this one\n",
    "def heyYou(oName:Option[String]) = oName match {\n",
    "    case None => println(s\"Hey You!\")\n",
    "    case Some(name) => println(s\"Hey ${name}\")\n",
    "}\n",
    "            \n",
    "// I can call heyYou with or without a parameter\n",
    "heyYou(None)\n",
    "heyYou(Some(\"John\"))"
   ]
  },
  {
   "cell_type": "markdown",
   "metadata": {},
   "source": [
    "* Polymorphism can apply to classes\n",
    "* We can define multiple instructors for our class\n",
    "    * primary constructor\n",
    "    * auxillary constructor"
   ]
  },
  {
   "cell_type": "code",
   "execution_count": 7,
   "metadata": {
    "collapsed": false
   },
   "outputs": [
    {
     "name": "stdout",
     "output_type": "stream",
     "text": [
      "0\n",
      "5\n"
     ]
    },
    {
     "data": {
      "text/plain": [
       "defined \u001b[32mclass\u001b[39m \u001b[36mAlpha\u001b[39m\n",
       "\u001b[36ma0\u001b[39m: \u001b[32mAlpha\u001b[39m = ammonite.$sess.cmd6$Helper$Alpha@7212c4d4\n",
       "\u001b[36ma1\u001b[39m: \u001b[32mAlpha\u001b[39m = ammonite.$sess.cmd6$Helper$Alpha@71bf2e29"
      ]
     },
     "execution_count": 7,
     "metadata": {},
     "output_type": "execute_result"
    }
   ],
   "source": [
    "class Alpha(val n:Int) {\n",
    "    \n",
    "    def this() = {\n",
    "        this(0)\n",
    "    }\n",
    "    \n",
    "}\n",
    "\n",
    "val a0 = new Alpha()\n",
    "val a1 = new Alpha(5)\n",
    "\n",
    "println(a0.n)\n",
    "println(a1.n)"
   ]
  },
  {
   "cell_type": "code",
   "execution_count": null,
   "metadata": {
    "collapsed": false
   },
   "outputs": [],
   "source": [
    "// primary constructor\n",
    "class Alpha(val n:Int) {\n",
    "    \n",
    "    // auxiliary constructor\n",
    "    def this() = {\n",
    "        this(0)\n",
    "    }\n",
    "    \n",
    "}\n",
    "\n",
    "// we can use either constructor\n",
    "val a0 = new Alpha()\n",
    "val a1 = new Alpha(5)\n",
    "\n",
    "println(a0.n)\n",
    "println(a1.n)"
   ]
  },
  {
   "cell_type": "markdown",
   "metadata": {},
   "source": [
    "ASIDE"
   ]
  },
  {
   "cell_type": "code",
   "execution_count": 30,
   "metadata": {
    "collapsed": false
   },
   "outputs": [
    {
     "name": "stdout",
     "output_type": "stream",
     "text": [
      "Alpha with n: 0\n",
      "Alpha with n: 5\n"
     ]
    },
    {
     "data": {
      "text/plain": [
       "defined \u001b[32mclass\u001b[39m \u001b[36mAlpha\u001b[39m\n",
       "\u001b[36ma0\u001b[39m: \u001b[32mAlpha\u001b[39m = Alpha with n: 0\n",
       "\u001b[36ma1\u001b[39m: \u001b[32mAlpha\u001b[39m = Alpha with n: 5"
      ]
     },
     "execution_count": 30,
     "metadata": {},
     "output_type": "execute_result"
    }
   ],
   "source": [
    "// This is just a bit cooler...\n",
    "\n",
    "class Alpha(val n:Int) {\n",
    "    \n",
    "    def this() = {\n",
    "        this(0)\n",
    "    }\n",
    "    \n",
    "    // toString is a member of Any\n",
    "    // our class Alpha inherits from Any, so we can override toString...\n",
    "    // and we get prettier output...\n",
    "    override def toString = {\n",
    "        s\"Alpha with n: $n\"\n",
    "    }\n",
    "}\n",
    "\n",
    "val a0 = new Alpha()\n",
    "val a1 = new Alpha(5)\n",
    "\n",
    "println(a0)\n",
    "println(a1)"
   ]
  },
  {
   "cell_type": "markdown",
   "metadata": {},
   "source": [
    "* note that the above example defines both a primary constructor for the class Alpha and an auxiliary constructor for the class Alpha."
   ]
  },
  {
   "cell_type": "markdown",
   "metadata": {},
   "source": [
    "### Qs???"
   ]
  },
  {
   "cell_type": "markdown",
   "metadata": {},
   "source": [
    "## Encapsulation\n",
    "* An Object is a collection of data and operations on the data that allow for controlled access to the data (plus a bunch of other stuff should be a part of the definition of objects)\n",
    "* Encapsulation sometimes refers to the ability to use the keyterm “private” in order to encapsulate some of your data. \n",
    "* If an attribute of the class is private, you may consider adding get and set methods to the class definition which allow a controlled way to access the data"
   ]
  },
  {
   "cell_type": "code",
   "execution_count": 33,
   "metadata": {
    "collapsed": false
   },
   "outputs": [
    {
     "name": "stdout",
     "output_type": "stream",
     "text": [
      "1\n",
      "2\n",
      "3\n",
      "3\n",
      "20\n",
      "8\n",
      "13\n",
      "13\n"
     ]
    },
    {
     "data": {
      "text/plain": [
       "defined \u001b[32mclass\u001b[39m \u001b[36mAlpha\u001b[39m\n",
       "\u001b[36ma0\u001b[39m: \u001b[32mAlpha\u001b[39m = ammonite.$sess.cmd32$Helper$Alpha@1d08ad41\n",
       "\u001b[36mres32_6\u001b[39m: \u001b[32mInt\u001b[39m = \u001b[32m20\u001b[39m\n",
       "\u001b[36mres32_10\u001b[39m: \u001b[32mInt\u001b[39m = \u001b[32m13\u001b[39m"
      ]
     },
     "execution_count": 33,
     "metadata": {},
     "output_type": "execute_result"
    }
   ],
   "source": [
    "class Alpha(private val b:Int, private var c:Int, var d:Int) {\n",
    "    def get_b():Int = b\n",
    "    def get_c:Int = c\n",
    "    def get_d = d\n",
    "    \n",
    "    def set_c(cp:Int):Int = {\n",
    "        c = cp\n",
    "        c\n",
    "    }\n",
    "    def set_d(dp:Int) = {\n",
    "        d = dp\n",
    "        d\n",
    "    }\n",
    "}\n",
    "\n",
    "val a0 = new Alpha(1,2,3)\n",
    "\n",
    "/* GET */\n",
    "// println(a0.b)   // error\n",
    "println(a0.get_b)  // 1\n",
    "// println(a0.c)   // error\n",
    "println(a0.get_c)  // 2\n",
    "println(a0.d)      // 3\n",
    "println(a0.get_d)  // 3\n",
    "\n",
    "/* SET */\n",
    "// cannot change b, it's a val\n",
    "\n",
    "// a0.c = 20 // error\n",
    "a0.set_c(20)\n",
    "println(a0.get_c)  // 20\n",
    "\n",
    "a0.d = a0.d + 5\n",
    "println(a0.d)       // 8\n",
    "a0.set_d(a0.d + 5)\n",
    "println(a0.d)       // 13\n",
    "println(a0.get_d)   // 13"
   ]
  },
  {
   "cell_type": "code",
   "execution_count": null,
   "metadata": {
    "collapsed": false
   },
   "outputs": [],
   "source": [
    "// b and c are private\n",
    "//    so they cannot be accesses directly from outside the class\n",
    "//    we should consider creating get and set methods for these attributes\n",
    "// d is not private. It's public.\n",
    "//    And it can be accessed directly.\n",
    "//    But we can still create get and set methods for it\n",
    "class Alpha(private val b:Int, private var c:Int, var d:Int) {\n",
    "    \n",
    "    // we should consider havign getters for b and c since they are private\n",
    "    def get_b = b\n",
    "    def get_c = c\n",
    "    \n",
    "    // we don't need get_d since d is public\n",
    "    // but we can have it anyway\n",
    "    def get_d = d\n",
    "\n",
    "    // we note that set_b is not defined\n",
    "    //     b is a value. b is immutable\n",
    "    //     creating a set_b wouldn't really work (tmk)\n",
    "    \n",
    "    // this will mutate c\n",
    "    def set_c(cp:Int) = {\n",
    "        c = cp\n",
    "    }\n",
    "    \n",
    "    // this will mutate d\n",
    "    // we don't need this since d is public\n",
    "    // but we can have it anyway\n",
    "    def set_d(dp:Int) = {\n",
    "        d = dp\n",
    "    }\n",
    "}\n",
    "\n",
    "val a0 = new Alpha(1,2,3)\n",
    "\n",
    "/* GET */\n",
    "// b can only be read through get_b\n",
    "// println(a0.b) // error\n",
    "println(a0.get_b)\n",
    "\n",
    "// c can only be read through get_c\n",
    "// println(a0.c) // error\n",
    "println(a0.get_c)\n",
    "\n",
    "// d can be accessed directly, or through get_d\n",
    "println(a0.d)\n",
    "println(a0.get_d)\n",
    "\n",
    "/* SET */\n",
    "// cannot change b, it's a val\n",
    "\n",
    "// c cannot be changed directly. must use set\n",
    "// a0.c = 20 // error\n",
    "a0.set_c(20)\n",
    "println(a0.get_c)\n",
    "\n",
    "// d can be set directly, or set using the set_d method of our object\n",
    "a0.d = a0.d + 5\n",
    "println(a0.d)\n",
    "a0.set_d(a0.d + 5)\n",
    "println(a0.d)\n",
    "println(a0.get_d)"
   ]
  },
  {
   "cell_type": "markdown",
   "metadata": {},
   "source": [
    "* Encapsulation also referes to the ability of the programmer defining the class to limit how others interact with objects of your class\n",
    "    * not only can the attributes be private, but the methods can also be private\n",
    "* Consider that your class might do a lot of complex work and user input\n",
    "    * What are issues with user input?\n",
    "    * Why would I want to check user input all over the place?\n",
    "    * Maybe with objects, I can allow for one user access point that verifies user input once\n",
    "* Consider that some data is sensative and shouldn't be shared with others. Makeing attributes private is important for peoples safety.\n",
    "* Consider the following code sample.\n",
    "    * It attempts to help people know if they are older than someone else without actually knowing their age\n",
    "    * Act like you cannot see the peoples ages. Act like they were stored somewhere a long time ago..."
   ]
  },
  {
   "cell_type": "code",
   "execution_count": 9,
   "metadata": {
    "collapsed": false
   },
   "outputs": [
    {
     "name": "stdout",
     "output_type": "stream",
     "text": [
      "true\n",
      "false\n"
     ]
    },
    {
     "data": {
      "text/plain": [
       "defined \u001b[32mclass\u001b[39m \u001b[36mPerson\u001b[39m\n",
       "\u001b[36mnathan\u001b[39m: \u001b[32mPerson\u001b[39m = ammonite.$sess.cmd8$Helper$Person@2d86e153\n",
       "\u001b[36mchuck\u001b[39m: \u001b[32mPerson\u001b[39m = ammonite.$sess.cmd8$Helper$Person@5c95eccc"
      ]
     },
     "execution_count": 9,
     "metadata": {},
     "output_type": "execute_result"
    }
   ],
   "source": [
    "class Person(var name:String, private var age:Int) {\n",
    "    require(name != \"\")\n",
    "    require(age >= 0)\n",
    "    \n",
    "    private def getAge() = { age }\n",
    "    \n",
    "    def isOlderThan(otherPerson:Person):Boolean = {\n",
    "        age > otherPerson.getAge()\n",
    "    } \n",
    "}\n",
    "\n",
    "// ACT like you can't see the numbers on these lines\n",
    "val nathan = new Person(\"Nathan\", 22)\n",
    "val chuck = new Person(\"Chuck\", 18)\n",
    "\n",
    "// println(nathan.age)       // error\n",
    "// println(nathan.getAge())  // error\n",
    "\n",
    "println(nathan.isOlderThan(chuck))\n",
    "println(chuck isOlderThan nathan)"
   ]
  },
  {
   "cell_type": "code",
   "execution_count": null,
   "metadata": {
    "collapsed": false
   },
   "outputs": [],
   "source": [
    "class Person(var name:String, private var age:Int) {\n",
    "    // ... I can make requirements for the attributes ...\n",
    "    require(name != \"\")  // people must have name that isn't the empty string\n",
    "    require(age >= 0)    // people must be at least 0 years old\n",
    "\n",
    "    // I can create private methods\n",
    "    private def getAge() = { age }\n",
    "    \n",
    "    def isOlderThan(otherPerson:Person):Boolean = {\n",
    "        // from inside the class, getAge can be used on other classes\n",
    "         age > otherPerson.getAge()\n",
    "    } \n",
    "}\n",
    "\n",
    "// ACT like you can't see the RHS of these expressions\n",
    "val nathan = new Person(\"Nathan\", 22)\n",
    "val chuck = new Person(\"Chuck\", 18)\n",
    "\n",
    "// I cannot access the age of a person\n",
    "// I can't do it directly\n",
    "// println(nathan.age)  // error\n",
    "// I can't do it through the get method...\n",
    "// println(nathan.getAge())  // error\n",
    "\n",
    "// the comparisons work\n",
    "println(nathan.isOlderThan(chuck))\n",
    "println(chuck isOlderThan nathan)"
   ]
  },
  {
   "cell_type": "markdown",
   "metadata": {},
   "source": [
    "ASIDE"
   ]
  },
  {
   "cell_type": "code",
   "execution_count": null,
   "metadata": {
    "collapsed": false
   },
   "outputs": [],
   "source": [
    "// note that the getAge method wasn't actually necessary for this particular example\n",
    "\n",
    "class Person(var name:String, private var age:Int) {\n",
    "    require(name != \"\")\n",
    "    require(age >= 0)\n",
    "    \n",
    "    def isOlder(otherPerson:Person):Boolean = {\n",
    "         age > otherPerson.age\n",
    "    } \n",
    "}\n",
    "\n",
    "val nathan = new Person(\"Nathan\", 22)\n",
    "val chuck = new Person(\"Chuck\", 18)\n",
    "\n",
    "println(nathan.isOlder(chuck))\n",
    "println(chuck.isOlder(nathan))"
   ]
  },
  {
   "cell_type": "markdown",
   "metadata": {},
   "source": [
    "### Qs???"
   ]
  },
  {
   "cell_type": "markdown",
   "metadata": {},
   "source": [
    "## Inheritance\n",
    "* Inheritance allows classes to take on attributes an methods of other classes\n",
    "* Most commonly we allow the sub class (child class) to inherit from it's super class (parent class) \n",
    "    * But it can also go the other direction\n",
    "* We can override inherited items\n",
    "* Inheritance isn’t a particularly complex concept, however we will be spending quite a bit of time on it this semester becuase it is so valuable to understand\n",
    "    * there are different kinds of inheritance (we'll explore these)\n",
    "    * there are cool mathmatic proofs about inheritance (we might show you the proofs, but we won't test you on them)\n",
    "    * there are usefull implications of those proofs (we'll explore these)\n",
    "* Consider the following code:"
   ]
  },
  {
   "cell_type": "code",
   "execution_count": 10,
   "metadata": {
    "collapsed": false
   },
   "outputs": [
    {
     "name": "stdout",
     "output_type": "stream",
     "text": [
      "Inside Alpha!\n"
     ]
    },
    {
     "data": {
      "text/plain": [
       "defined \u001b[32mclass\u001b[39m \u001b[36mAlpha\u001b[39m\n",
       "\u001b[36ma0\u001b[39m: \u001b[32mAlpha\u001b[39m = ammonite.$sess.cmd9$Helper$Alpha@26ef35d0"
      ]
     },
     "execution_count": 10,
     "metadata": {},
     "output_type": "execute_result"
    }
   ],
   "source": [
    "class Alpha() {\n",
    "    def foo() = {\n",
    "        println(s\"Inside Alpha!\")\n",
    "    }\n",
    "}\n",
    "\n",
    "val a0 = new Alpha()\n",
    "a0.foo()"
   ]
  },
  {
   "cell_type": "markdown",
   "metadata": {},
   "source": [
    "* Any questions on that code?\n",
    "* Consider the following code:"
   ]
  },
  {
   "cell_type": "code",
   "execution_count": 11,
   "metadata": {
    "collapsed": false
   },
   "outputs": [
    {
     "name": "stdout",
     "output_type": "stream",
     "text": [
      "Inside Alpha!\n",
      "Inside Bravo!\n"
     ]
    },
    {
     "data": {
      "text/plain": [
       "defined \u001b[32mclass\u001b[39m \u001b[36mAlpha\u001b[39m\n",
       "defined \u001b[32mclass\u001b[39m \u001b[36mBravo\u001b[39m\n",
       "\u001b[36ma0\u001b[39m: \u001b[32mAlpha\u001b[39m = ammonite.$sess.cmd10$Helper$Alpha@4002b4dc\n",
       "\u001b[36mb0\u001b[39m: \u001b[32mBravo\u001b[39m = ammonite.$sess.cmd10$Helper$Bravo@549e35f5"
      ]
     },
     "execution_count": 11,
     "metadata": {},
     "output_type": "execute_result"
    }
   ],
   "source": [
    "class Alpha {\n",
    "    def foo() = {\n",
    "        println(s\"Inside Alpha!\")\n",
    "    }\n",
    "}\n",
    "\n",
    "\n",
    "class Bravo extends Alpha {\n",
    "    override def foo() = {\n",
    "        println(s\"Inside Bravo!\")\n",
    "    }\n",
    "}\n",
    "\n",
    "val a0 = new Alpha()\n",
    "a0.foo()\n",
    "val b0 = new Bravo()\n",
    "b0.foo()"
   ]
  },
  {
   "cell_type": "code",
   "execution_count": 12,
   "metadata": {
    "collapsed": false
   },
   "outputs": [
    {
     "name": "stdout",
     "output_type": "stream",
     "text": [
      "Inside Alpha!\n",
      "Inside Bravo!\n"
     ]
    },
    {
     "data": {
      "text/plain": [
       "defined \u001b[32mclass\u001b[39m \u001b[36mAlpha\u001b[39m\n",
       "defined \u001b[32mclass\u001b[39m \u001b[36mBravo\u001b[39m\n",
       "\u001b[36ma0\u001b[39m: \u001b[32mAlpha\u001b[39m = ammonite.$sess.cmd11$Helper$Alpha@1a5b31a4\n",
       "\u001b[36mb0\u001b[39m: \u001b[32mBravo\u001b[39m = ammonite.$sess.cmd11$Helper$Bravo@f09a73a"
      ]
     },
     "execution_count": 12,
     "metadata": {},
     "output_type": "execute_result"
    }
   ],
   "source": [
    "class Alpha {\n",
    "    def foo() = {\n",
    "        println(s\"Inside Alpha!\")\n",
    "    }\n",
    "}\n",
    "\n",
    "\n",
    "// Bravo inherits everything that Alpha has\n",
    "class Bravo extends Alpha {\n",
    "    \n",
    "    // we must use key-term override, to change the definition of foo from within Bravo\n",
    "    // it's just like C++ 'virtual'\n",
    "    // without this, Bravo would use the foo from Alpha\n",
    "    override def foo() = {\n",
    "        println(s\"Inside Bravo!\")\n",
    "    }\n",
    "}\n",
    "\n",
    "val a0 = new Alpha()\n",
    "a0.foo()\n",
    "val b0 = new Bravo()\n",
    "b0.foo()"
   ]
  },
  {
   "cell_type": "markdown",
   "metadata": {},
   "source": [
    "* In the above code, Bravo inherits from Alpha\n",
    "* all objects of type Bravo shall be a subset of all objects of type Alpha!\n",
    "* pretty nift quality to have"
   ]
  },
  {
   "cell_type": "markdown",
   "metadata": {},
   "source": [
    "* Any questions on that code?\n",
    "* Consider the following code:\n",
    "* Why does this code work?"
   ]
  },
  {
   "cell_type": "code",
   "execution_count": 13,
   "metadata": {
    "collapsed": false
   },
   "outputs": [
    {
     "name": "stdout",
     "output_type": "stream",
     "text": [
      "Inside Alpha!\n",
      "Inside Bravo!\n"
     ]
    },
    {
     "data": {
      "text/plain": [
       "defined \u001b[32mclass\u001b[39m \u001b[36mAlpha\u001b[39m\n",
       "defined \u001b[32mclass\u001b[39m \u001b[36mBravo\u001b[39m\n",
       "defined \u001b[32mfunction\u001b[39m \u001b[36mmagic\u001b[39m\n",
       "\u001b[36ma0\u001b[39m: \u001b[32mAlpha\u001b[39m = ammonite.$sess.cmd12$Helper$Alpha@20dbaa56\n",
       "\u001b[36mb0\u001b[39m: \u001b[32mBravo\u001b[39m = ammonite.$sess.cmd12$Helper$Bravo@44db9986"
      ]
     },
     "execution_count": 13,
     "metadata": {},
     "output_type": "execute_result"
    }
   ],
   "source": [
    "class Alpha {\n",
    "    def foo() = {\n",
    "        println(s\"Inside Alpha!\")\n",
    "    }\n",
    "}\n",
    "\n",
    "\n",
    "class Bravo extends Alpha {\n",
    "    override def foo() = {\n",
    "        println(s\"Inside Bravo!\")\n",
    "    }\n",
    "}\n",
    "\n",
    "\n",
    "def magic(a:Alpha) = a.foo()\n",
    "\n",
    "\n",
    "val a0 = new Alpha()\n",
    "val b0 = new Bravo()\n",
    "\n",
    "magic(a0)\n",
    "magic(b0)"
   ]
  },
  {
   "cell_type": "markdown",
   "metadata": {},
   "source": [
    "* In the above code we \"upcasted\" our Bravo object 'b0' to type \"Alpha\" this is very acceptable\n",
    "* We have also demonstrated **dynamic dispatch**. Consider that the magic function explicitly takes as input, objects of type \"Alpha\", but it also implicitly accepts arguments of type \"Bravo\". In static time / at compile time, the magic function doesn't know if it will be using a foo function from the \"Alpha\" class or the \"Bravo\" class. That decision must be determined at run time. That is termed **dynamic dispatch**.\n",
    "    * exactly how this is handled is langauge dependant and a topic which is Out of Scope for 3155. But if you are interested in the topic, I encourage you to read up and share what you learn on Piazza."
   ]
  },
  {
   "cell_type": "markdown",
   "metadata": {},
   "source": [
    "### Qs???"
   ]
  },
  {
   "cell_type": "markdown",
   "metadata": {},
   "source": [
    "## More topics"
   ]
  },
  {
   "cell_type": "markdown",
   "metadata": {},
   "source": [
    "### Up and Down Casting\n",
    "* up casting is safe\n",
    "* down casting can be problematic... we must code safely when downcasting"
   ]
  },
  {
   "cell_type": "code",
   "execution_count": 14,
   "metadata": {
    "collapsed": false
   },
   "outputs": [
    {
     "name": "stdout",
     "output_type": "stream",
     "text": [
      "I've found a Bravo Object!\n"
     ]
    },
    {
     "data": {
      "text/plain": [
       "defined \u001b[32mclass\u001b[39m \u001b[36mAlpha\u001b[39m\n",
       "defined \u001b[32mclass\u001b[39m \u001b[36mBravo\u001b[39m\n",
       "defined \u001b[32mfunction\u001b[39m \u001b[36mmagic\u001b[39m\n",
       "\u001b[36ma0\u001b[39m: \u001b[32mAlpha\u001b[39m = ammonite.$sess.cmd13$Helper$Alpha@2d9736dd\n",
       "\u001b[36mb0\u001b[39m: \u001b[32mBravo\u001b[39m = ammonite.$sess.cmd13$Helper$Bravo@2f91c10a"
      ]
     },
     "execution_count": 14,
     "metadata": {},
     "output_type": "execute_result"
    }
   ],
   "source": [
    "class Alpha\n",
    "class Bravo extends Alpha\n",
    "\n",
    "// isInstanceOf takes a template, hence [Bravo] and not (Bravo)\n",
    "def magic(a:Alpha) = {\n",
    "    if (a.isInstanceOf[Bravo]) {\n",
    "        println(s\"I've found a Bravo Object!\")\n",
    "    }\n",
    "}\n",
    "\n",
    "val a0 = new Alpha\n",
    "val b0 = new Bravo\n",
    "\n",
    "magic(a0)\n",
    "magic(b0)\n",
    "// we are good so far.\n",
    "// a0 and b0 can both safely be upcasted to Alpha and then b0 can safely be downcasted to Bravo"
   ]
  },
  {
   "cell_type": "code",
   "execution_count": 15,
   "metadata": {
    "collapsed": false
   },
   "outputs": [
    {
     "name": "stdout",
     "output_type": "stream",
     "text": [
      "I've found a Bravo Object!\n"
     ]
    },
    {
     "data": {
      "text/plain": [
       "defined \u001b[32mclass\u001b[39m \u001b[36mAlpha\u001b[39m\n",
       "defined \u001b[32mclass\u001b[39m \u001b[36mBravo\u001b[39m\n",
       "defined \u001b[32mclass\u001b[39m \u001b[36mCharlie\u001b[39m\n",
       "defined \u001b[32mfunction\u001b[39m \u001b[36mmagic\u001b[39m\n",
       "\u001b[36mc0\u001b[39m: \u001b[32mCharlie\u001b[39m = ammonite.$sess.cmd14$Helper$Charlie@6652c0a5"
      ]
     },
     "execution_count": 15,
     "metadata": {},
     "output_type": "execute_result"
    }
   ],
   "source": [
    "// but what about a lower type than Bravo?\n",
    "class Alpha\n",
    "class Bravo extends Alpha\n",
    "class Charlie extends Bravo\n",
    "\n",
    "def magic(a:Alpha) = {\n",
    "    if (a.isInstanceOf[Bravo]) {\n",
    "        println(s\"I've found a Bravo Object!\")\n",
    "    }\n",
    "}\n",
    "\n",
    "val c0 = new Charlie\n",
    "\n",
    "magic(c0)\n",
    "// this isn't quite what I had in mind for the function...\n",
    "// I need to be careful when downcasting..."
   ]
  },
  {
   "cell_type": "code",
   "execution_count": 16,
   "metadata": {
    "collapsed": false
   },
   "outputs": [
    {
     "name": "stdout",
     "output_type": "stream",
     "text": [
      "I've found a Alpha Object!\n",
      "I've found a Bravo Object!\n",
      "I've found a Charlie Object!\n"
     ]
    },
    {
     "data": {
      "text/plain": [
       "defined \u001b[32mclass\u001b[39m \u001b[36mAlpha\u001b[39m\n",
       "defined \u001b[32mclass\u001b[39m \u001b[36mBravo\u001b[39m\n",
       "defined \u001b[32mclass\u001b[39m \u001b[36mCharlie\u001b[39m\n",
       "defined \u001b[32mfunction\u001b[39m \u001b[36mmagic\u001b[39m\n",
       "\u001b[36ma0\u001b[39m: \u001b[32mAlpha\u001b[39m = ammonite.$sess.cmd15$Helper$Alpha@1aa20840\n",
       "\u001b[36mb0\u001b[39m: \u001b[32mBravo\u001b[39m = ammonite.$sess.cmd15$Helper$Bravo@605b2984\n",
       "\u001b[36mc0\u001b[39m: \u001b[32mCharlie\u001b[39m = ammonite.$sess.cmd15$Helper$Charlie@3465c1f0"
      ]
     },
     "execution_count": 16,
     "metadata": {},
     "output_type": "execute_result"
    }
   ],
   "source": [
    "/* \n",
    " * We need to be careful when downcasting for the sake of getting our\n",
    " * intended behavior\n",
    " */\n",
    "class Alpha\n",
    "class Bravo extends Alpha\n",
    "class Charlie extends Bravo\n",
    "\n",
    "def magic(a:Alpha) = {\n",
    "    if (a.isInstanceOf[Charlie]) {\n",
    "        println(s\"I've found a Charlie Object!\")\n",
    "    } else if (a.isInstanceOf[Bravo]) {\n",
    "        println(s\"I've found a Bravo Object!\")\n",
    "    } else if (a.isInstanceOf[Alpha]) {\n",
    "        println(s\"I've found a Alpha Object!\")\n",
    "    }\n",
    "}\n",
    "\n",
    "val a0 = new Alpha\n",
    "val b0 = new Bravo\n",
    "val c0 = new Charlie\n",
    "\n",
    "magic(a0)\n",
    "magic(b0)\n",
    "magic(c0)"
   ]
  },
  {
   "cell_type": "code",
   "execution_count": 17,
   "metadata": {
    "collapsed": false
   },
   "outputs": [
    {
     "data": {
      "text/plain": [
       "defined \u001b[32mclass\u001b[39m \u001b[36mAlpha\u001b[39m\n",
       "defined \u001b[32mclass\u001b[39m \u001b[36mBravo\u001b[39m\n",
       "defined \u001b[32mclass\u001b[39m \u001b[36mCharlie\u001b[39m\n",
       "defined \u001b[32mfunction\u001b[39m \u001b[36mmagic\u001b[39m\n",
       "\u001b[36ma0\u001b[39m: \u001b[32mAlpha\u001b[39m = ammonite.$sess.cmd16$Helper$Alpha@4bec64e3\n",
       "\u001b[36mb0\u001b[39m: \u001b[32mBravo\u001b[39m = ammonite.$sess.cmd16$Helper$Bravo@4bb9954b\n",
       "\u001b[36mc0\u001b[39m: \u001b[32mCharlie\u001b[39m = ammonite.$sess.cmd16$Helper$Charlie@4a3d7519\n",
       "\u001b[36mres16_7\u001b[39m: \u001b[32mCharlie\u001b[39m = ammonite.$sess.cmd16$Helper$Charlie@4a3d7519"
      ]
     },
     "execution_count": 17,
     "metadata": {},
     "output_type": "execute_result"
    }
   ],
   "source": [
    "/*\n",
    " * we also need to be careful not to end up with an error thrown\n",
    " * for being to liberal with out type casting\n",
    " * downcasting can be impossible\n",
    " * you should conditionally check befor downcasting\n",
    " */\n",
    "class Alpha\n",
    "class Bravo extends Alpha\n",
    "class Charlie extends Bravo\n",
    "\n",
    "def magic(a:Alpha) = {\n",
    "    a.asInstanceOf[Charlie]\n",
    "}\n",
    "\n",
    "val a0 = new Alpha\n",
    "val b0 = new Bravo\n",
    "val c0 = new Charlie\n",
    "\n",
    "// magic(a0)  // errror\n",
    "// magic(b0)  // error\n",
    "magic(c0)"
   ]
  },
  {
   "cell_type": "markdown",
   "metadata": {},
   "source": [
    "### Multiple Inheritance\n",
    "* Multiple inheritance is problematic\n",
    "* It introduces the opportunity for a \"dreaded diamond\"\n",
    "* It introduces compilaction in determining which parent object you will inherit some quality from\n",
    "* It isn't possible in Scala, but it is possible in C++"
   ]
  },
  {
   "cell_type": "code",
   "execution_count": 18,
   "metadata": {
    "collapsed": false
   },
   "outputs": [
    {
     "data": {
      "text/plain": [
       "defined \u001b[32mclass\u001b[39m \u001b[36mAlpha\u001b[39m\n",
       "defined \u001b[32mclass\u001b[39m \u001b[36mBravo\u001b[39m\n",
       "defined \u001b[32mclass\u001b[39m \u001b[36mCharlie\u001b[39m"
      ]
     },
     "execution_count": 18,
     "metadata": {},
     "output_type": "execute_result"
    }
   ],
   "source": [
    "/*\n",
    " * How do I get Charlie to inherit from both Alpha and Bravo?\n",
    " */\n",
    "class Alpha {\n",
    "    def foo() = println(\"hello there\")\n",
    "}\n",
    "class Bravo {\n",
    "    def bar() = println(\"goodbye for now\")\n",
    "}\n",
    "\n",
    "class Charlie {\n",
    "    // have both foo and bar...\n",
    "}\n"
   ]
  },
  {
   "cell_type": "code",
   "execution_count": 19,
   "metadata": {
    "collapsed": false
   },
   "outputs": [
    {
     "name": "stdout",
     "output_type": "stream",
     "text": [
      "hello there\n",
      "goodbye for now\n"
     ]
    },
    {
     "data": {
      "text/plain": [
       "defined \u001b[32mclass\u001b[39m \u001b[36mAlpha\u001b[39m\n",
       "defined \u001b[32mclass\u001b[39m \u001b[36mBravo\u001b[39m\n",
       "defined \u001b[32mclass\u001b[39m \u001b[36mCharlie\u001b[39m\n",
       "\u001b[36mc0\u001b[39m: \u001b[32mCharlie\u001b[39m = ammonite.$sess.cmd18$Helper$Charlie@34e0730c"
      ]
     },
     "execution_count": 19,
     "metadata": {},
     "output_type": "execute_result"
    }
   ],
   "source": [
    "/*\n",
    " * Option 1: chain the inheritance\n",
    " */\n",
    "class Alpha {\n",
    "    def foo() = println(\"hello there\")\n",
    "}\n",
    "class Bravo extends Alpha {\n",
    "    def bar() = println(\"goodbye for now\")\n",
    "}\n",
    "\n",
    "class Charlie extends Bravo\n",
    "\n",
    "val c0 = new Charlie\n",
    "c0.foo()\n",
    "c0.bar()"
   ]
  },
  {
   "cell_type": "code",
   "execution_count": 20,
   "metadata": {
    "collapsed": false
   },
   "outputs": [
    {
     "name": "stdout",
     "output_type": "stream",
     "text": [
      "hello there\n",
      "goodbye for now\n"
     ]
    },
    {
     "data": {
      "text/plain": [
       "defined \u001b[32mclass\u001b[39m \u001b[36mAlpha\u001b[39m\n",
       "defined \u001b[32mtrait\u001b[39m \u001b[36mBravo\u001b[39m\n",
       "defined \u001b[32mclass\u001b[39m \u001b[36mCharlie\u001b[39m\n",
       "\u001b[36mc0\u001b[39m: \u001b[32mCharlie\u001b[39m = ammonite.$sess.cmd19$Helper$Charlie@5b184c71"
      ]
     },
     "execution_count": 20,
     "metadata": {},
     "output_type": "execute_result"
    }
   ],
   "source": [
    "/*\n",
    " * But let's say the goal is to have Charlie inherit from both Alpha and Bravo\n",
    " * without having Bravo inherit from Alpha. How would we do that?\n",
    " * Scala may have a way to support this as a SUPER DURPER advanced feature...\n",
    " *    it is problematic as it introduces a \"Dreaded Diamond\" which can cause issues\n",
    " *        ASIDE: It happens to be easy to do in C++ but not in Scala\n",
    " *    it is Out of Scope for our course\n",
    " *    Instead we will use traits and mix-ins\n",
    " * Let Bravo be a trait rather than a class\n",
    " */\n",
    "class Alpha {\n",
    "    def foo() = println(\"hello there\")\n",
    "}\n",
    "\n",
    "trait Bravo {\n",
    "    def bar() = println(\"goodbye for now\")\n",
    "}\n",
    "\n",
    "class Charlie extends Alpha with Bravo\n",
    "\n",
    "val c0 = new Charlie\n",
    "c0.foo()\n",
    "c0.bar()"
   ]
  },
  {
   "cell_type": "markdown",
   "metadata": {},
   "source": [
    "### Inheritance Hierarchy\n",
    "* I inherit from the nearest parent that defines something"
   ]
  },
  {
   "cell_type": "code",
   "execution_count": 21,
   "metadata": {
    "collapsed": false
   },
   "outputs": [
    {
     "name": "stdout",
     "output_type": "stream",
     "text": [
      "a doubly overriden foo function - Foxtrot\n",
      "a simple bar function - Tango\n",
      "a simple baz function - Wiskey\n"
     ]
    },
    {
     "data": {
      "text/plain": [
       "defined \u001b[32mclass\u001b[39m \u001b[36mWiskey\u001b[39m\n",
       "defined \u001b[32mclass\u001b[39m \u001b[36mTango\u001b[39m\n",
       "defined \u001b[32mclass\u001b[39m \u001b[36mFoxtrot\u001b[39m\n",
       "defined \u001b[32mclass\u001b[39m \u001b[36mWat\u001b[39m\n",
       "\u001b[36mwat\u001b[39m: \u001b[32mWat\u001b[39m = ammonite.$sess.cmd20$Helper$Wat@78aae505"
      ]
     },
     "execution_count": 21,
     "metadata": {},
     "output_type": "execute_result"
    }
   ],
   "source": [
    "class Wiskey {\n",
    "    def foo() = println(\"a simple foo function - Wiskey\")\n",
    "    def bar() = println(\"a simple bar function - Wiskey\")\n",
    "    def baz() = println(\"a simple baz function - Wiskey\")\n",
    "}\n",
    "\n",
    "class Tango extends Wiskey {\n",
    "    override def foo() = println(\"an overriden foo function - Tango\") \n",
    "    override def bar() = println(\"a simple bar function - Tango\")\n",
    "}\n",
    "\n",
    "class Foxtrot extends Tango {\n",
    "    override def foo() = println(\"a doubly overriden foo function - Foxtrot\")\n",
    "}\n",
    "\n",
    "class Wat extends Foxtrot\n",
    "\n",
    "\n",
    "val wat = new Wat()\n",
    "wat.foo()\n",
    "wat.bar()\n",
    "wat.baz()"
   ]
  },
  {
   "cell_type": "markdown",
   "metadata": {},
   "source": [
    " ## Playground\n",
    " * Now let's toy around with these concepts.\n",
    " * We have covered a lot of ground here, but I'm certain you still have questions\n",
    " * What sort of questions do we have?"
   ]
  },
  {
   "cell_type": "markdown",
   "metadata": {},
   "source": [
    "### ???"
   ]
  },
  {
   "cell_type": "code",
   "execution_count": null,
   "metadata": {
    "collapsed": true
   },
   "outputs": [],
   "source": [
    "/*\n",
    " * ???\n",
    " */\n"
   ]
  },
  {
   "cell_type": "markdown",
   "metadata": {},
   "source": [
    "### ???"
   ]
  },
  {
   "cell_type": "code",
   "execution_count": null,
   "metadata": {
    "collapsed": true
   },
   "outputs": [],
   "source": [
    "/*\n",
    " * ???\n",
    " */\n"
   ]
  },
  {
   "cell_type": "markdown",
   "metadata": {},
   "source": [
    "## Review notes\n",
    "* as we close out the course we will be looking at Object Oriented Programming (OOP)\n",
    "    * OOP can also be Functional Programming (FP)\n",
    "    * ... but it doesn't have to be\n",
    "* the keyterm **abstract** defines a class, that you cannot create objects from. Or rather a class that can never be instantiated\n",
    "* **upcasting** is fine. **downcasting** can be problematic\n",
    "* multiple-inheritance introduces a **dreaded diamond** in which it is difficult to know where certain qualities will be inherited from."
   ]
  },
  {
   "cell_type": "markdown",
   "metadata": {},
   "source": [
    "## Overview\n",
    "* Roadmap\n",
    "* Why Study Objects?\n",
    "* Defining an Object\n",
    "* Classs\n",
    "* Abstraction\n",
    "* Polymorphism\n",
    "* Encapsulation\n",
    "* Inheritance\n",
    "* ... and more"
   ]
  },
  {
   "cell_type": "markdown",
   "metadata": {},
   "source": [
    "## TODOs:\n",
    "* Project 2: grades are out\n",
    "* Spot Exam 3:\n",
    "    * grades are live\n",
    "    * exams are available to review\n",
    "    * There is a non-graded version available for your review: https://moodle.cs.colorado.edu/mod/quiz/view.php?id=36500\n",
    "* Homework and Quiz 8 Due Friday 04/19\n",
    "* Remaining homeworks:\n",
    "    * There will be a 9th homework\n",
    "    * There likely will not be a 10th homework, but their may be a short online quiz\n",
    "* FCQs\n",
    "    * These will be going live soon. Please do them. Please be honnest.\n",
    "    * These help the department make hiring decisions\n",
    "    * These often help other students decide if they want to take course X with prof. Y\n",
    "    * Every-so-often these will help instructors understand where they have room for improvement\n",
    "    * You'll get one for your assigned TA\n",
    "    * You'll get one for your assigned Instructor\n",
    "* Project 3\n",
    "    * **Officially** due Friday 04/26\n",
    "    * NOTE that **officially** is not so official and if you attend lecture you would know more about this due date\n",
    "    * Also, note our project policy\n",
    "* Spot Exam 4\n",
    "    * This will cover type systems\n",
    "        * Explicit types\n",
    "        * type inference\n",
    "    * This might cover a bit on objects\n",
    "    * This will be on Friday 04/26\n",
    "    * Not yet certain what the format will be (but if you're in lecutre I'll tell you what we're thinking about doing)\n",
    "* Final Exam:\n",
    "    * Monday 05/06 at 4:30 pm\n",
    "    * This will be a paper and pencil writen exam\n",
    "    * This will be cumulative\n",
    "    * more details to come soon"
   ]
  }
 ],
 "metadata": {
  "anaconda-cloud": {},
  "kernelspec": {
   "display_name": "Scala",
   "language": "scala",
   "name": "scala"
  },
  "language_info": {
   "codemirror_mode": "text/x-scala",
   "file_extension": ".scala",
   "mimetype": "text/x-scala",
   "name": "scala",
   "nbconvert_exporter": "script",
   "version": "2.12.8"
  }
 },
 "nbformat": 4,
 "nbformat_minor": 1
}
