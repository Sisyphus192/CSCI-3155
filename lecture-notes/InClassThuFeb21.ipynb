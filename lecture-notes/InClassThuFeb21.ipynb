{
 "cells": [
  {
   "cell_type": "markdown",
   "metadata": {},
   "source": [
    "Lecture Topics\n",
    "\n",
    "- Reminder Spot Exam 2: Friday, March 1st. \n",
    "  - Syllabus: until today's lecture (to be confirmed).\n",
    "- Functional Programming\n",
    "  - Manipulating lists using functional programs.\n",
    "  - Map, filter, iter, fold (reduce)\n",
    "  - Getting rid of loops.\n",
    " "
   ]
  },
  {
   "cell_type": "code",
   "execution_count": 1,
   "metadata": {},
   "outputs": [
    {
     "data": {
      "text/plain": [
       "defined \u001b[32mfunction\u001b[39m \u001b[36maddTwoNumbers\u001b[39m"
      ]
     },
     "execution_count": 1,
     "metadata": {},
     "output_type": "execute_result"
    }
   ],
   "source": [
    "def addTwoNumbers(x: Double, y: Double) = x + y"
   ]
  },
  {
   "cell_type": "code",
   "execution_count": 2,
   "metadata": {},
   "outputs": [
    {
     "data": {
      "text/plain": [
       "\u001b[36maddTwoNumbersAnon\u001b[39m: (\u001b[32mDouble\u001b[39m, \u001b[32mDouble\u001b[39m) => \u001b[32mDouble\u001b[39m = ammonite.$sess.cmd1$Helper$$Lambda$2394/256514757@73bc25d4"
      ]
     },
     "execution_count": 2,
     "metadata": {},
     "output_type": "execute_result"
    }
   ],
   "source": [
    "val addTwoNumbersAnon: (Double, Double) => Double = (x, y) => x+y"
   ]
  },
  {
   "cell_type": "code",
   "execution_count": 3,
   "metadata": {},
   "outputs": [
    {
     "data": {
      "text/plain": [
       "\u001b[36ml\u001b[39m: \u001b[32mList\u001b[39m[\u001b[32mInt\u001b[39m] = \u001b[33mList\u001b[39m(\u001b[32m1\u001b[39m, \u001b[32m2\u001b[39m, \u001b[32m4\u001b[39m, \u001b[32m6\u001b[39m, \u001b[32m18\u001b[39m, \u001b[32m-3\u001b[39m, \u001b[32m5\u001b[39m)"
      ]
     },
     "execution_count": 3,
     "metadata": {},
     "output_type": "execute_result"
    }
   ],
   "source": [
    "val l: List[Int] = List(1,2, 4, 6, 18, -3, 5)"
   ]
  },
  {
   "cell_type": "code",
   "execution_count": 4,
   "metadata": {},
   "outputs": [
    {
     "data": {
      "text/plain": [
       "\u001b[36ma\u001b[39m: \u001b[32mInt\u001b[39m = \u001b[32m-12960\u001b[39m"
      ]
     },
     "execution_count": 4,
     "metadata": {},
     "output_type": "execute_result"
    }
   ],
   "source": [
    "val a = l.product"
   ]
  },
  {
   "cell_type": "code",
   "execution_count": 5,
   "metadata": {},
   "outputs": [
    {
     "data": {
      "text/plain": [
       "defined \u001b[32mfunction\u001b[39m \u001b[36mmultiplyList\u001b[39m"
      ]
     },
     "execution_count": 5,
     "metadata": {},
     "output_type": "execute_result"
    }
   ],
   "source": [
    "def multiplyList(l: List[Int]): Int = {\n",
    "    var acc = 1\n",
    "    for (x <- l) {\n",
    "        acc = acc * x\n",
    "    }\n",
    "    return acc\n",
    "}"
   ]
  },
  {
   "cell_type": "code",
   "execution_count": 6,
   "metadata": {},
   "outputs": [
    {
     "data": {
      "text/plain": [
       "\u001b[36mres5\u001b[39m: \u001b[32mInt\u001b[39m = \u001b[32m-12960\u001b[39m"
      ]
     },
     "execution_count": 6,
     "metadata": {},
     "output_type": "execute_result"
    }
   ],
   "source": [
    "multiplyList(l)"
   ]
  },
  {
   "cell_type": "code",
   "execution_count": 7,
   "metadata": {},
   "outputs": [
    {
     "data": {
      "text/plain": [
       "defined \u001b[32mfunction\u001b[39m \u001b[36msquareEachElement\u001b[39m"
      ]
     },
     "execution_count": 7,
     "metadata": {},
     "output_type": "execute_result"
    }
   ],
   "source": [
    "def squareEachElement(l: List[Int]): List[Int] = {\n",
    "    var returnList : List[Int] = List()\n",
    "    for (x <- l) {\n",
    "        val sq = x * x\n",
    "        returnList = returnList ++ List(sq)\n",
    "    }\n",
    "    return returnList\n",
    "}"
   ]
  },
  {
   "cell_type": "code",
   "execution_count": 8,
   "metadata": {},
   "outputs": [
    {
     "data": {
      "text/plain": [
       "\u001b[36mres7\u001b[39m: \u001b[32mList\u001b[39m[\u001b[32mInt\u001b[39m] = \u001b[33mList\u001b[39m(\u001b[32m1\u001b[39m, \u001b[32m4\u001b[39m, \u001b[32m16\u001b[39m, \u001b[32m36\u001b[39m, \u001b[32m324\u001b[39m, \u001b[32m9\u001b[39m, \u001b[32m25\u001b[39m)"
      ]
     },
     "execution_count": 8,
     "metadata": {},
     "output_type": "execute_result"
    }
   ],
   "source": [
    "squareEachElement(l)"
   ]
  },
  {
   "cell_type": "markdown",
   "metadata": {},
   "source": [
    "## Map\n",
    "\n",
    "list.map (function)"
   ]
  },
  {
   "cell_type": "code",
   "execution_count": 10,
   "metadata": {},
   "outputs": [
    {
     "data": {
      "text/plain": [
       "defined \u001b[32mfunction\u001b[39m \u001b[36msquareEachElement\u001b[39m"
      ]
     },
     "execution_count": 10,
     "metadata": {},
     "output_type": "execute_result"
    }
   ],
   "source": [
    "def squareEachElement(l: List[Int]): List[Int] = {\n",
    "    def square(x: Int): Int = x * x\n",
    "    l.map (square)\n",
    "}"
   ]
  },
  {
   "cell_type": "code",
   "execution_count": 11,
   "metadata": {},
   "outputs": [
    {
     "data": {
      "text/plain": [
       "\u001b[36ml\u001b[39m: \u001b[32mList\u001b[39m[\u001b[32mString\u001b[39m] = \u001b[33mList\u001b[39m(\u001b[32m\"Potato\"\u001b[39m, \u001b[32m\"Tomato\"\u001b[39m, \u001b[32m\"Zucchini\"\u001b[39m, \u001b[32m\"Chicken\"\u001b[39m)"
      ]
     },
     "execution_count": 11,
     "metadata": {},
     "output_type": "execute_result"
    }
   ],
   "source": [
    "val l: List[String] = List(\"Potato\", \"Tomato\", \"Zucchini\", \"Chicken\")"
   ]
  },
  {
   "cell_type": "code",
   "execution_count": 12,
   "metadata": {},
   "outputs": [
    {
     "data": {
      "text/plain": [
       "defined \u001b[32mfunction\u001b[39m \u001b[36msayHelloTo\u001b[39m"
      ]
     },
     "execution_count": 12,
     "metadata": {},
     "output_type": "execute_result"
    }
   ],
   "source": [
    "def sayHelloTo(l: List[String]): List[String] = {\n",
    "    l.map (x => (\"Hello  \" + x))\n",
    "}"
   ]
  },
  {
   "cell_type": "code",
   "execution_count": 13,
   "metadata": {},
   "outputs": [
    {
     "data": {
      "text/plain": [
       "\u001b[36mres12\u001b[39m: \u001b[32mList\u001b[39m[\u001b[32mString\u001b[39m] = \u001b[33mList\u001b[39m(\n",
       "  \u001b[32m\"Hello  Potato\"\u001b[39m,\n",
       "  \u001b[32m\"Hello  Tomato\"\u001b[39m,\n",
       "  \u001b[32m\"Hello  Zucchini\"\u001b[39m,\n",
       "  \u001b[32m\"Hello  Chicken\"\u001b[39m\n",
       ")"
      ]
     },
     "execution_count": 13,
     "metadata": {},
     "output_type": "execute_result"
    }
   ],
   "source": [
    "sayHelloTo(l)"
   ]
  },
  {
   "cell_type": "markdown",
   "metadata": {},
   "source": [
    "# Filter"
   ]
  },
  {
   "cell_type": "code",
   "execution_count": 14,
   "metadata": {},
   "outputs": [
    {
     "data": {
      "text/plain": [
       "\u001b[36mlst\u001b[39m: \u001b[32mList\u001b[39m[\u001b[32mInt\u001b[39m] = \u001b[33mList\u001b[39m(\u001b[32m1\u001b[39m, \u001b[32m2\u001b[39m, \u001b[32m5\u001b[39m, \u001b[32m6\u001b[39m, \u001b[32m19\u001b[39m, \u001b[32m21\u001b[39m)"
      ]
     },
     "execution_count": 14,
     "metadata": {},
     "output_type": "execute_result"
    }
   ],
   "source": [
    "val lst = List(1, 2, 5, 6, 19, 21)"
   ]
  },
  {
   "cell_type": "code",
   "execution_count": 15,
   "metadata": {},
   "outputs": [
    {
     "data": {
      "text/plain": [
       "\u001b[36mnewList\u001b[39m: \u001b[32mList\u001b[39m[\u001b[32mInt\u001b[39m] = \u001b[33mList\u001b[39m(\u001b[32m1\u001b[39m, \u001b[32m5\u001b[39m, \u001b[32m19\u001b[39m, \u001b[32m21\u001b[39m)"
      ]
     },
     "execution_count": 15,
     "metadata": {},
     "output_type": "execute_result"
    }
   ],
   "source": [
    "val newList = lst.filter (x => x % 2 == 1)"
   ]
  },
  {
   "cell_type": "code",
   "execution_count": 16,
   "metadata": {},
   "outputs": [
    {
     "data": {
      "text/plain": [
       "\u001b[36mlst2\u001b[39m: \u001b[32mList\u001b[39m[\u001b[32mInt\u001b[39m] = \u001b[33mList\u001b[39m(\u001b[32m1\u001b[39m, \u001b[32m5\u001b[39m, \u001b[32m19\u001b[39m, \u001b[32m21\u001b[39m)\n",
       "\u001b[36mlst3\u001b[39m: \u001b[32mList\u001b[39m[\u001b[32mInt\u001b[39m] = \u001b[33mList\u001b[39m(\u001b[32m1\u001b[39m, \u001b[32m25\u001b[39m, \u001b[32m361\u001b[39m, \u001b[32m441\u001b[39m)"
      ]
     },
     "execution_count": 16,
     "metadata": {},
     "output_type": "execute_result"
    }
   ],
   "source": [
    "val lst2 = lst.filter( x => x%2 == 1)\n",
    "val lst3 = lst2.map (z => z * z)"
   ]
  },
  {
   "cell_type": "markdown",
   "metadata": {},
   "source": [
    "- fold\n",
    "- foldLeft\n",
    "- foldRight"
   ]
  },
  {
   "cell_type": "code",
   "execution_count": 17,
   "metadata": {},
   "outputs": [
    {
     "data": {
      "text/plain": [
       "defined \u001b[32mfunction\u001b[39m \u001b[36mmultiplyList\u001b[39m"
      ]
     },
     "execution_count": 17,
     "metadata": {},
     "output_type": "execute_result"
    }
   ],
   "source": [
    "def multiplyList(l: List[Int]): Int = {\n",
    "    var acc = 1 // What is the starting value of my accumulator\n",
    "    for (x <- l) {\n",
    "        acc = acc * x // How is my accumulator transformed in each loop iteration\n",
    "    }\n",
    "    return acc\n",
    "}"
   ]
  },
  {
   "cell_type": "code",
   "execution_count": 19,
   "metadata": {},
   "outputs": [
    {
     "data": {
      "text/plain": [
       "\u001b[36mlst\u001b[39m: \u001b[32mList\u001b[39m[\u001b[32mInt\u001b[39m] = \u001b[33mList\u001b[39m(\u001b[32m1\u001b[39m, \u001b[32m2\u001b[39m, \u001b[32m3\u001b[39m, \u001b[32m4\u001b[39m, \u001b[32m-5\u001b[39m, \u001b[32m-6\u001b[39m, \u001b[32m8\u001b[39m)"
      ]
     },
     "execution_count": 19,
     "metadata": {},
     "output_type": "execute_result"
    }
   ],
   "source": [
    "val lst = List(1, 2, 3, 4, -5, -6, 8)\n"
   ]
  },
  {
   "cell_type": "code",
   "execution_count": 20,
   "metadata": {},
   "outputs": [
    {
     "data": {
      "text/plain": [
       "\u001b[36mproductList\u001b[39m: \u001b[32mInt\u001b[39m = \u001b[32m5760\u001b[39m"
      ]
     },
     "execution_count": 20,
     "metadata": {},
     "output_type": "execute_result"
    }
   ],
   "source": [
    "val productList = lst.fold[Int] (1)  ((acc, x) => acc * x)"
   ]
  },
  {
   "cell_type": "code",
   "execution_count": 21,
   "metadata": {},
   "outputs": [
    {
     "data": {
      "text/plain": [
       "defined \u001b[32mfunction\u001b[39m \u001b[36mmyOwnFoldFunction\u001b[39m"
      ]
     },
     "execution_count": 21,
     "metadata": {},
     "output_type": "execute_result"
    }
   ],
   "source": [
    "def myOwnFoldFunction(lst: List[Int], startingValue: Int, \n",
    "                      updateFun: (Int, Int) => Int): Int = {\n",
    "    var acc = startingValue\n",
    "    for(x <- lst){\n",
    "        acc = updateFun(acc, x)\n",
    "    }\n",
    "    return acc\n",
    "}"
   ]
  },
  {
   "cell_type": "code",
   "execution_count": 22,
   "metadata": {},
   "outputs": [
    {
     "data": {
      "text/plain": [
       "\u001b[36mres21\u001b[39m: \u001b[32mInt\u001b[39m = \u001b[32m5760\u001b[39m"
      ]
     },
     "execution_count": 22,
     "metadata": {},
     "output_type": "execute_result"
    }
   ],
   "source": [
    "myOwnFoldFunction(lst, 1, (x, y) => x*y)"
   ]
  },
  {
   "cell_type": "code",
   "execution_count": 23,
   "metadata": {},
   "outputs": [
    {
     "data": {
      "text/plain": [
       "\u001b[36mlstOfToppings\u001b[39m: \u001b[32mList\u001b[39m[\u001b[32mString\u001b[39m] = \u001b[33mList\u001b[39m(\u001b[32m\"Potato\"\u001b[39m, \u001b[32m\"Tomato\"\u001b[39m, \u001b[32m\"Zucchini\"\u001b[39m, \u001b[32m\"Chicken\"\u001b[39m)"
      ]
     },
     "execution_count": 23,
     "metadata": {},
     "output_type": "execute_result"
    }
   ],
   "source": [
    "val lstOfToppings: List[String]=  List(\"Potato\", \"Tomato\", \"Zucchini\", \"Chicken\")"
   ]
  },
  {
   "cell_type": "code",
   "execution_count": 26,
   "metadata": {},
   "outputs": [
    {
     "data": {
      "text/plain": [
       "\u001b[36mchompChomp\u001b[39m: \u001b[32mString\u001b[39m = \u001b[32m\"CheesePotatoCheeseTomatoCheeseZucchiniCheeseChicken\"\u001b[39m"
      ]
     },
     "execution_count": 26,
     "metadata": {},
     "output_type": "execute_result"
    }
   ],
   "source": [
    "val chompChomp = lstOfToppings.fold[String] (\"\") ((acc, elt) => acc + \"Cheese\" + elt)"
   ]
  },
  {
   "cell_type": "code",
   "execution_count": 27,
   "metadata": {},
   "outputs": [
    {
     "data": {
      "text/plain": [
       "\u001b[36mlstofNum\u001b[39m: \u001b[32mList\u001b[39m[\u001b[32mInt\u001b[39m] = \u001b[33mList\u001b[39m(\u001b[32m1\u001b[39m, \u001b[32m2\u001b[39m, \u001b[32m5\u001b[39m, \u001b[32m6\u001b[39m, \u001b[32m18\u001b[39m, \u001b[32m45\u001b[39m, \u001b[32m64\u001b[39m, \u001b[32m94\u001b[39m)"
      ]
     },
     "execution_count": 27,
     "metadata": {},
     "output_type": "execute_result"
    }
   ],
   "source": [
    "val lstofNum = List(1, 2, 5, 6, 18, 45, 64, 94)"
   ]
  },
  {
   "cell_type": "code",
   "execution_count": 29,
   "metadata": {},
   "outputs": [
    {
     "data": {
      "text/plain": [
       "\u001b[36mnumOdd\u001b[39m: \u001b[32mList\u001b[39m[\u001b[32mInt\u001b[39m] = \u001b[33mList\u001b[39m(\u001b[32m1\u001b[39m, \u001b[32m5\u001b[39m, \u001b[32m45\u001b[39m)\n",
       "\u001b[36mnumEven\u001b[39m: \u001b[32mList\u001b[39m[\u001b[32mInt\u001b[39m] = \u001b[33mList\u001b[39m(\u001b[32m2\u001b[39m, \u001b[32m6\u001b[39m, \u001b[32m18\u001b[39m, \u001b[32m64\u001b[39m, \u001b[32m94\u001b[39m)\n",
       "\u001b[36mretVal\u001b[39m: (\u001b[32mInt\u001b[39m, \u001b[32mInt\u001b[39m) = (\u001b[32m3\u001b[39m, \u001b[32m5\u001b[39m)"
      ]
     },
     "execution_count": 29,
     "metadata": {},
     "output_type": "execute_result"
    }
   ],
   "source": [
    "val numOdd = lstofNum.filter (x => x%2 == 1)\n",
    "val numEven = lstofNum.filter (x => x%2 == 0)\n",
    "val retVal = (numOdd.length, numEven.length)"
   ]
  },
  {
   "cell_type": "code",
   "execution_count": 30,
   "metadata": {},
   "outputs": [
    {
     "data": {
      "text/plain": [
       "defined \u001b[32mfunction\u001b[39m \u001b[36mcountOddEven\u001b[39m"
      ]
     },
     "execution_count": 30,
     "metadata": {},
     "output_type": "execute_result"
    }
   ],
   "source": [
    "def countOddEven(lstOfNum: List[Int]) : (Int, Int) = {\n",
    "    var numOdd: Int = 0\n",
    "    var numEven: Int = 0\n",
    "    for (x <- lstOfNum) {\n",
    "        if (x %2 == 0){\n",
    "            numEven = numEven + 1\n",
    "            // numOdd = numOdd\n",
    "        } else {\n",
    "            // numEven = numEven\n",
    "            numOdd = numOdd + 1\n",
    "        }\n",
    "    }\n",
    "    return (numOdd, numEven)\n",
    "}"
   ]
  },
  {
   "cell_type": "code",
   "execution_count": 33,
   "metadata": {},
   "outputs": [
    {
     "data": {
      "text/plain": [
       "\u001b[36mstartValue\u001b[39m: (\u001b[32mInt\u001b[39m, \u001b[32mInt\u001b[39m) = (\u001b[32m0\u001b[39m, \u001b[32m0\u001b[39m)\n",
       "defined \u001b[32mfunction\u001b[39m \u001b[36mupdateFunction\u001b[39m\n",
       "\u001b[36mcountOddEven\u001b[39m: (\u001b[32mInt\u001b[39m, \u001b[32mInt\u001b[39m) = (\u001b[32m3\u001b[39m, \u001b[32m5\u001b[39m)"
      ]
     },
     "execution_count": 33,
     "metadata": {},
     "output_type": "execute_result"
    }
   ],
   "source": [
    "val startValue = (0,0)\n",
    "def updateFunction(acc: (Int, Int), x: Int) =  {\n",
    "    val (numOdd, numEven) = acc\n",
    "    if (x %2 == 1) {\n",
    "       (numOdd + 1, numEven)\n",
    "    } else {\n",
    "       (numOdd, numEven+1)\n",
    "    }\n",
    "  \n",
    "}\n",
    "\n",
    "val countOddEven: (Int, Int) = lstofNum.foldLeft[(Int, Int)] (startValue) (updateFunction)\n",
    "\n",
    "/*val countOddEven: (Int, Int) = lstofNum.foldLeft[(Int, Int)] (startValue) (\n",
    "    (acc, x) => {\n",
    "    val (numOdd, numEven) = acc\n",
    "    if (x %2 == 1) {\n",
    "       (numOdd + 1, numEven)\n",
    "    } else {\n",
    "       (numOdd, numEven+1)\n",
    "    }\n",
    "    }\n",
    ")\n",
    "*/\n",
    "   "
   ]
  },
  {
   "cell_type": "code",
   "execution_count": 34,
   "metadata": {},
   "outputs": [
    {
     "data": {
      "text/plain": [
       "\u001b[36mstartingValue\u001b[39m: \u001b[32mList\u001b[39m[\u001b[32mInt\u001b[39m] = \u001b[33mList\u001b[39m()\n",
       "defined \u001b[32mfunction\u001b[39m \u001b[36mupdateFunction\u001b[39m\n",
       "defined \u001b[32mfunction\u001b[39m \u001b[36msquareUpdateFunction\u001b[39m\n",
       "\u001b[36mmapList\u001b[39m: \u001b[32mList\u001b[39m[\u001b[32mInt\u001b[39m] = \u001b[33mList\u001b[39m(\u001b[32m1\u001b[39m, \u001b[32m4\u001b[39m, \u001b[32m25\u001b[39m, \u001b[32m36\u001b[39m, \u001b[32m324\u001b[39m, \u001b[32m2025\u001b[39m, \u001b[32m4096\u001b[39m, \u001b[32m8836\u001b[39m)"
      ]
     },
     "execution_count": 34,
     "metadata": {},
     "output_type": "execute_result"
    }
   ],
   "source": [
    "// for loop for map functon\n",
    "// var acc : List[Int] = new List()\n",
    "// for (x <- l) {\n",
    "//   acc = acc ++ List(f(x))\n",
    "// }\n",
    "// return acc\n",
    "\n",
    "val startingValue: List[Int] = List()\n",
    "def updateFunction(acc: List[Int], x: Int, f: Int => Int) = {\n",
    "    acc ++ List(f(x))\n",
    "}\n",
    "def squareUpdateFunction(acc: List[Int], x: Int) = updateFunction(acc, x, x => x*x)\n",
    "val mapList = lstofNum.foldLeft[List[Int]](startingValue) (squareUpdateFunction)"
   ]
  },
  {
   "cell_type": "code",
   "execution_count": 36,
   "metadata": {},
   "outputs": [
    {
     "data": {
      "text/plain": [
       "\u001b[36mres35\u001b[39m: (\u001b[32mInt\u001b[39m, \u001b[32mInt\u001b[39m) = (\u001b[32m3\u001b[39m, \u001b[32m5\u001b[39m)"
      ]
     },
     "execution_count": 36,
     "metadata": {},
     "output_type": "execute_result"
    }
   ],
   "source": [
    "lstofNum.foldLeft[(Int,Int)] ((0,0)) ( (acc, x) => { val (odd, even) = acc\n",
    "                    x match {\n",
    "    case y if (x %2 == 1) => (odd+1, even)\n",
    "    case _ => (odd, even+1)\n",
    "}})"
   ]
  },
  {
   "cell_type": "code",
   "execution_count": null,
   "metadata": {},
   "outputs": [],
   "source": []
  }
 ],
 "metadata": {
  "kernelspec": {
   "display_name": "Scala",
   "language": "scala",
   "name": "scala"
  },
  "language_info": {
   "codemirror_mode": "text/x-scala",
   "file_extension": ".scala",
   "mimetype": "text/x-scala",
   "name": "scala",
   "nbconvert_exporter": "script",
   "version": "2.12.8"
  }
 },
 "nbformat": 4,
 "nbformat_minor": 2
}
