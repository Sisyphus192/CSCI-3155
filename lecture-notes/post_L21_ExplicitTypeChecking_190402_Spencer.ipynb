{
 "cells": [
  {
   "cell_type": "markdown",
   "metadata": {},
   "source": [
    "# L21: Explicit Type Checking"
   ]
  },
  {
   "cell_type": "markdown",
   "metadata": {},
   "source": [
    "* Look on Moodle for \"Week11\" no spaces and you'll easily find the folder with this document"
   ]
  },
  {
   "cell_type": "markdown",
   "metadata": {},
   "source": [
    "## Overview\n",
    "* Static and Dynamic Typing\n",
    "* Static Typing in Lettuce"
   ]
  },
  {
   "cell_type": "markdown",
   "metadata": {},
   "source": [
    "## Static vs Dynamic Typing\n",
    "* As we saw before Spring Break (and hopefully in our readings) types are rather important\n",
    "* There are two big options here:\n",
    "    * Static Typing: type is checked in static time / at compile time / before evaluation\n",
    "        * C/C++\n",
    "        * Java\n",
    "        * Scala\n",
    "        * TypeScript (JavaScript with type annotations and some other special things)\n",
    "        * (Python 3.6 and above have some static type checking support)\n",
    "    * Dynamic Typing: type is checked durring evaluation\n",
    "        * Python\n",
    "        * JavaScript"
   ]
  },
  {
   "cell_type": "markdown",
   "metadata": {},
   "source": [
    "## Static Typing in Lettuce\n",
    "* Today we'll look at performing static type checking in Lettuce\n",
    "* We will examine our concrete syntax of Lettuce and create a grammar of types in Lettuce\n",
    "* We will extend our concrete syntax of Lettuce to include type annotations\n",
    "* We will practice writing valid Lettuce programs\n",
    "* We will extend our generative grammar\n",
    "* We will write code to determine the type of an expression"
   ]
  },
  {
   "cell_type": "markdown",
   "metadata": {},
   "source": [
    "### Lettuce types\n",
    "* Current concrete syntax (a sufficient subset)\n",
    "    * $$\\begin{array} &\n",
    "expr & \\rightarrow & value \\\\\n",
    "& | & x \\\\\n",
    "& | & expr\\ +\\ expr \\\\\n",
    "& | & -\\ expr \\\\\n",
    "& | & expr\\ ||\\ expr \\\\\n",
    "& | & !\\ expr \\\\\n",
    "& | & expr < expr \\\\\n",
    "& | & if\\ (expr)\\ then\\ expr\\ else\\ expr \\\\\n",
    "& | & let\\ x\\ =\\ expr\\ in\\ expr \\\\\n",
    "& | & let\\ rec\\ x\\ =\\ expr\\ in\\ expr \\\\\n",
    "& | & expr(expr) \\\\\n",
    "\\\\\n",
    "value & \\rightarrow & n \\\\\n",
    "& | & b \\\\\n",
    "& | & function\\ (x)\\ expr \\\\\n",
    "\\\\\n",
    "(\\ n\\ is\\ a\\ number\\ value\\ ) \\\\\n",
    "(\\ b\\ is\\ a\\ boolean\\ value\\ ) \\\\\n",
    "(\\ x\\ is\\ an\\ identifier\\ ) \\\\\n",
    "\\\\\n",
    "\\\\\n",
    "\\end{array}$$\n",
    "* So far lettuce has 2 obvious types:\n",
    "    * num\n",
    "    * bool\n",
    "    * yeah... you could call them whatever you want but I need to create concrete syntax here... and the powers that be have already determined that we will call them **num** and **bool**\n",
    "* But are there other types?\n",
    "    * How did I know that **num** and **bool** are types?\n",
    "        * Well **n** and **b** both exist in my **value domain**\n",
    "        * And each value must have a definite type\n",
    "    * We have one more value: function (x) expr\n",
    "    * and that must have a type\n",
    "* What is the type of function (x) expr?\n",
    "* How shall we annotate it?"
   ]
  },
  {
   "cell_type": "code",
   "execution_count": 2,
   "metadata": {
    "collapsed": false
   },
   "outputs": [
    {
     "data": {
      "text/plain": [
       "defined \u001b[32mfunction\u001b[39m \u001b[36mf\u001b[39m\n",
       "\u001b[36mg\u001b[39m: \u001b[32mInt\u001b[39m => \u001b[32mInt\u001b[39m = ammonite.$sess.cmd1$Helper$$Lambda$2397/1713166326@5e9cf261"
      ]
     },
     "execution_count": 2,
     "metadata": {},
     "output_type": "execute_result"
    }
   ],
   "source": [
    "def f(x:Int):Int = x + 1\n",
    "\n",
    "val g : Int => Int = (x) => x + 1"
   ]
  },
  {
   "cell_type": "markdown",
   "metadata": {},
   "source": [
    "<br /><br /><br /><br /><br /><br /><br /><br />\n",
    "* function (x) expr is a function and should have a function type\n",
    "* there are many ways to annotate this\n",
    "* but we'll write **type => type**\n",
    "    * so if we have a function that takes in numbers and returns booleans, then the functions type is\n",
    "        * num => bool\n",
    "* Here is a grammar for our types\n",
    "    * $$\\begin{array} &\n",
    "type & \\rightarrow & num \\\\\n",
    "& | & bool \\\\\n",
    "& | & type\\ =>\\ type\n",
    "\\end{array}$$"
   ]
  },
  {
   "cell_type": "markdown",
   "metadata": {},
   "source": [
    "#### Qs???"
   ]
  },
  {
   "cell_type": "markdown",
   "metadata": {},
   "source": [
    "###  Concrete Lettuce with Types\n",
    "* Now that we understand the concrete types of lettuce well need to extend lettuce concrete syntax to allow type annotations\n",
    "* There are many ways we can to this\n",
    "* But all that needs to change are our identifiers\n",
    "    * and so we could maybe get away with just updating the definition of identifier\n",
    "    * but I want my notes to follow the course readings today so we won't explore that option today\n",
    "* consider the following patterns\n",
    "    * let x = expr in expr\n",
    "    * let rec x = expr in expr\n",
    "    * function (x) expr\n",
    "* what do these expressions have in common?\n",
    "<br /><br /><br /><br /><br /><br /><br />\n",
    "* They each define a new identifier **x**\n",
    "* Let us add type annotations to each of these as follows:\n",
    "    * let x : type = expr in expr\n",
    "    * let rec x : type = expr in expr\n",
    "    * function (x : type) expr\n",
    "* Now I'm sure you're wondering about identifier use sights with pattern: x\n",
    "    * Why don't these need a type?\n",
    "    * Well, we could add a type annotation to these\n",
    "    * but it's not necessary\n",
    "    * the types only need to be defined at identifier definition and not at use sights\n",
    "    * But, I'm glad you asked!\n",
    "* Here is the new concrete lettuce grammar:\n",
    "    * $$\\begin{array} &\n",
    "expr & \\rightarrow & value \\\\\n",
    "& | & x \\\\\n",
    "& | & expr\\ +\\ expr \\\\\n",
    "& | & -\\ expr \\\\\n",
    "& | & expr\\ ||\\ expr \\\\\n",
    "& | & expr < expr \\\\\n",
    "& | & !\\ expr \\\\\n",
    "& | & if\\ (expr)\\ then\\ expr\\ else\\ expr \\\\\n",
    "& | & let\\ x\\ :\\ type\\ =\\ expr\\ in\\ expr \\\\\n",
    "& | & let\\ rec\\ x\\ :\\ type\\ =\\ expr\\ in\\ expr \\\\\n",
    "& | & expr(expr) \\\\\n",
    "\\\\\n",
    "value & \\rightarrow & n \\\\\n",
    "& | & b \\\\\n",
    "& | & function\\ (x :\\ type\\ )\\ expr \\\\\n",
    "\\\\\n",
    "type & \\rightarrow & num \\\\\n",
    "& | & bool \\\\\n",
    "& | & type\\ =>\\ type \\\\\n",
    "\\\\\n",
    "(\\ n\\ is\\ a\\ number\\ value\\ ) \\\\\n",
    "(\\ b\\ is\\ a\\ boolean\\ value\\ ) \\\\\n",
    "(\\ x\\ is\\ an\\ identifier\\ )\n",
    "\\end{array}$$"
   ]
  },
  {
   "cell_type": "markdown",
   "metadata": {},
   "source": [
    "#### Qs???"
   ]
  },
  {
   "cell_type": "markdown",
   "metadata": {},
   "source": [
    "### Practice\n",
    "* Let us play around with the concrete syntax and see if we understand how the types are formed"
   ]
  },
  {
   "cell_type": "markdown",
   "metadata": {},
   "source": [
    "#### Determine type of valid program\n",
    "\n",
    "##### Easy\n",
    "* ex 1\n",
    "    * \\- 5\n",
    "    * num\n",
    "* ex 2\n",
    "    * 5 + 6\n",
    "    * num\n",
    "* ex 3\n",
    "    * ! true\n",
    "    * bool\n",
    "* ex 4\n",
    "    * true && false\n",
    "    * bool\n",
    "\n",
    "##### Medium\n",
    "* ex 1\n",
    "    * function (x : num) x < 2\n",
    "    * num => bool\n",
    "* ex 2\n",
    "    * assume that ___ is any valid expression of type boolean\n",
    "    * if ( ___ ) 5 else 6 + 2\n",
    "    * ???\n",
    "\n",
    "##### Hard\n",
    "* ex 1\n",
    "    * let f : bool => bool = function (x : bool) [ !x || x ] in f(false)\n",
    "    * bool"
   ]
  },
  {
   "cell_type": "markdown",
   "metadata": {},
   "source": [
    "#### Determine if a program is valid\n",
    "* Determine if the program is valid\n",
    "    * if it is, determine its type\n",
    "    * if it is not, state why it is invalid\n",
    "* NOTE: Lettuce will not allow any type casting\n",
    "\n",
    "##### Easy\n",
    "* ex 1\n",
    "    * \\- true\n",
    "    * invalid\n",
    "    * cannot negate booleans\n",
    "* ex 2\n",
    "    * 5 + true\n",
    "    * invalid\n",
    "    * cannot add number to boolean\n",
    "\n",
    "##### Medium\n",
    "* ex 1\n",
    "    * let f : bool => bool = function (x : num) x < 2 in f(6)\n",
    "    * ???\n",
    "* ex 2\n",
    "    * assume that ___ is any valid expression of type boolean\n",
    "    * if ( ___ ) true else 6 + 2\n",
    "    * ???"
   ]
  },
  {
   "cell_type": "markdown",
   "metadata": {},
   "source": [
    "### Observations\n",
    "* Operations only operate on certain types (they are **closed** on certain types)\n",
    "    * arithmatic expressions ( -, +, \\*, / ) are closed on **num**\n",
    "    * logic expressions ( !, &&, || ) are closed on **bool**\n",
    "* binary operations operate on like types\n",
    "* if-then-else expression require that the true expression and the false expression have like types\n",
    "* inequality operations ( <, >, <=, >=) are closed on **num** and have type **bool**\n",
    "* Not demonstrated above, but note:: equality operations ( ==, != ) are closed on both **num** and **bool** but always have type **bool**"
   ]
  },
  {
   "cell_type": "markdown",
   "metadata": {},
   "source": [
    "#### Qs???"
   ]
  },
  {
   "cell_type": "markdown",
   "metadata": {},
   "source": [
    "### Inference rules\n",
    "* added these quickly after lecture since they were done on the chalkboard\n",
    "* LMK if you spot errors\n",
    "\n",
    "#### Operational semantic\n",
    "type = typeOf(expr, tenv)\n",
    "\n",
    "#### Rules"
   ]
  },
  {
   "cell_type": "markdown",
   "metadata": {},
   "source": [
    "$$\\begin{array} &\n",
    "num = typeOf(expr,tenv) \\\\\n",
    "\\hline\n",
    "num = typeOf(-expr, tenv)\n",
    "\\end{array} typeOfNegOK$$\n",
    "<br /><br />\n",
    "$$\\begin{array} &\n",
    "num \\ne typeOf(expr,tenv) \\\\\n",
    "\\hline\n",
    "ERROR = typeOf(-expr, tenv)\n",
    "\\end{array} typeOfNegERR$$"
   ]
  },
  {
   "cell_type": "markdown",
   "metadata": {},
   "source": [
    "$$\\begin{array} &\n",
    "t1 = typeOf(expr_1,tenv)\n",
    "\\hspace{1cm} t1 \\ne ERROR\n",
    "\\hspace{1cm} t2 = typeOf(expr_2, tenv)\n",
    "\\hspace{1cm} t1 == t2\n",
    "\\\\\n",
    "\\hline\n",
    "bool = typeOf(expr_1 == expr_2, tenv)\n",
    "\\end{array} typeOfEqOK$$\n",
    "<br /><br />\n",
    "MANY ERROR CASES"
   ]
  },
  {
   "cell_type": "markdown",
   "metadata": {},
   "source": [
    "$$\\begin{array} &\n",
    "bool = typeOf(e1, tenv)\n",
    "\\hspace{1cm} t2 = typeOf(e2, tenv)\n",
    "\\hspace{1cm} t2 \\ne ERROR\n",
    "\\hspace{1cm} t3 = typeOf(e3, tenv)\n",
    "\\hspace{1cm} t2 == t3\n",
    "\\\\\n",
    "\\hline\n",
    "t3 = typeOf(if (e1) then e2 else e3, tenv)\n",
    "\\end{array} typeOfIfOK$$\n",
    "<br /><br />\n",
    "MANY ERROR CASES"
   ]
  },
  {
   "cell_type": "markdown",
   "metadata": {},
   "source": [
    "(assumes that t is not an error)\n",
    "$$\\begin{array} &\n",
    "t1 = typeOf(e1, tenv)\n",
    "\\hspace{1cm} t == t1\n",
    "\\hspace{1cm} tenvp = tenv + (x \\rightarrow t1)\n",
    "\\hspace{1cm} t2 = typeOf(e2, tenvp)\n",
    "\\\\\n",
    "\\hline\n",
    "t2 = typeOf(let x : t = e1 in e2, tenv)\n",
    "\\end{array} typeOfLetOK$$\n",
    "<br /><br />\n",
    "MANY ERROR CASES"
   ]
  },
  {
   "cell_type": "markdown",
   "metadata": {},
   "source": [
    "## Overview\n",
    "* Static and Dynamic Typing\n",
    "* Static Typing in Lettuce"
   ]
  },
  {
   "cell_type": "markdown",
   "metadata": {},
   "source": [
    "## TODOs:\n",
    "* Project 2\n",
    "    * Now due this Friday, April, 5, 2019 just before midnight\n",
    "    * If you haven't started, please start ASAP\n",
    "        * I don't expect the project to take too long, but you just never know... better safe than sorry\n",
    "* Spot Exam 3\n",
    "    * This Friday in recitation\n",
    "    * This will be a Moodle exam (like spot exam 2)\n",
    "    * This will cover everything since spot exam 2\n",
    "        * more information to come over piazza soon\n",
    "* No regular homework or quiz this week"
   ]
  }
 ],
 "metadata": {
  "anaconda-cloud": {},
  "kernelspec": {
   "display_name": "Scala",
   "language": "scala",
   "name": "scala"
  },
  "language_info": {
   "codemirror_mode": "text/x-scala",
   "file_extension": ".scala",
   "mimetype": "text/x-scala",
   "name": "scala",
   "nbconvert_exporter": "script",
   "version": "2.12.8"
  }
 },
 "nbformat": 4,
 "nbformat_minor": 1
}
