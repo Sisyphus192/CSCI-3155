{
 "cells": [
  {
   "cell_type": "markdown",
   "metadata": {},
   "source": [
    "# CSCI 3155 - L6 - Operating on ASTs - Spencer"
   ]
  },
  {
   "cell_type": "markdown",
   "metadata": {},
   "source": [
    "## Overview\n",
    "* Terms\n",
    "* Operating on an AST\n",
    "    * Logic\n",
    "    * Maths\n",
    "* Solutions\n",
    "* TODOs"
   ]
  },
  {
   "cell_type": "markdown",
   "metadata": {},
   "source": [
    "## Preclass\n",
    "* Download this document from week 3 lectures"
   ]
  },
  {
   "cell_type": "markdown",
   "metadata": {},
   "source": [
    "## Announcements\n",
    "* The first spot exam is next Friday 01/08 in Recitation\n",
    "    * If you have accommodation letter that should be given to me by today\n",
    "    * The Moodle quizzes are solid references\n",
    "    * I think the first exmam will go really well for you all\n",
    "    * But you will need to study up for this\n",
    "    * Format\n",
    "        * Each question will have a box where you need to write your answer\n",
    "        * I'll discuss this further next week\n",
    "* The first project is going live at the end of next week\n",
    "    * We'll introduce a language called \"LetUs\"\n",
    "    * We'll have you implement some functions for it\n",
    "    * You'll have to work with compiled Scala code\n",
    "        * I'll cover this next week\n",
    "        * Week 1 readings cover some important points on this matter\n",
    "        * The internet will also be a great resource for this"
   ]
  },
  {
   "cell_type": "markdown",
   "metadata": {},
   "source": [
    "## Terms\n",
    "* **visitor pattern**: ???\n",
    "* **short circuiting**: ???\n",
    "* **case matching**: ???"
   ]
  },
  {
   "cell_type": "markdown",
   "metadata": {},
   "source": [
    "## Operating on an AST\n",
    "* We’ve created generative grammars\n",
    "* We skipped over parsing\n",
    "* We’ve looked at ASTs\n",
    "* How do we use these ASTs?\n"
   ]
  },
  {
   "cell_type": "markdown",
   "metadata": {},
   "source": [
    "### Logic\n",
    "#### Writing an interpreter\n",
    "* Tuesday in class we defined an AST named \"Logic\"\n",
    "* Let's write an interpreter for it using the **visitor pattern**\n",
    "    * I'll name the interpreter \"eval\"\n",
    "    * We'll start with a few tests that ought to hold true when we are done with eval\n",
    "    * Then I'll show you a few of the methods\n",
    "    * And I'll ask you to help me with a few\n",
    "    * We'll discuss the concept of **short circuiting**\n",
    "    * We'll discuss the advantages and limitations of the visitor pattern\n",
    "* Then we'll reimplement without the interpretor\n",
    "    * I'll call this method **evaluateMethod**\n",
    "    * This will take advantage of **case matching**\n",
    "        * It's like a switch statement is super powers\n",
    "* Then we'll reimplement this as a stand alone function named **evaluate**"
   ]
  },
  {
   "cell_type": "code",
   "execution_count": 4,
   "metadata": {
    "collapsed": false
   },
   "outputs": [
    {
     "name": "stdout",
     "output_type": "stream",
     "text": [
      "You're awesome!\n"
     ]
    },
    {
     "data": {
      "text/plain": [
       "defined \u001b[32mtrait\u001b[39m \u001b[36mLogic\u001b[39m\n",
       "defined \u001b[32mclass\u001b[39m \u001b[36mValue\u001b[39m\n",
       "defined \u001b[32mclass\u001b[39m \u001b[36mNot\u001b[39m\n",
       "defined \u001b[32mclass\u001b[39m \u001b[36mOr\u001b[39m\n",
       "defined \u001b[32mclass\u001b[39m \u001b[36mAnd\u001b[39m\n",
       "defined \u001b[32mfunction\u001b[39m \u001b[36mevaluate\u001b[39m"
      ]
     },
     "execution_count": 4,
     "metadata": {},
     "output_type": "execute_result"
    }
   ],
   "source": [
    "// Grammar:\n",
    "/*\n",
    " * Logic --> Value(b) | Not(Logic) | Or(Logic, Logic) | And(Logic, Logic)\n",
    " * b is a Boolean\n",
    " */\n",
    "\n",
    "// // AST\n",
    "// sealed trait Logic\n",
    "// case class Value(b:Boolean) extends Logic\n",
    "// case class Not(l1:Logic) extends Logic \n",
    "// case class Or(l1:Logic, l2:Logic) extends Logic \n",
    "// case class And(l1:Logic, l2:Logic) extends Logic\n",
    "\n",
    "\n",
    "// Not(Not(Value(true))).evaluateMethod() = true\n",
    "//     l1 = Not(Value(true))\n",
    "//     b1 = l1.evaluateMethod() = Not(Value(true)).evaluateMethod() = false\n",
    "//         l1 = Value(true)\n",
    "//         b1 = l1.evaluateMethod() = Value(true).evaluateMethod() = true\n",
    "//             b1 = true\n",
    "//         b1p = !b1 = ! true = false\n",
    "//     b1p = !b1 = !false = true\n",
    "\n",
    "// AST and interpreter:\n",
    "sealed trait Logic {\n",
    "    def evaluateMethod():Boolean = this match {\n",
    "        case Value(b1) => b1\n",
    "        case Not(l1) => {\n",
    "            val b1 = l1.evaluateMethod()\n",
    "            val b1p = !b1\n",
    "            b1p\n",
    "        }\n",
    "        case And(l1,l2) => {\n",
    "            // this doesn't short circuits\n",
    "            // I also used way more variables than necessary\n",
    "            val b1 = l1.evaluateMethod()\n",
    "            val b2 = l2.evaluateMethod()\n",
    "            val bp = b1 && b2\n",
    "            bp\n",
    "        }\n",
    "        case Or(l1,l2) => {\n",
    "            // this short curcuits, because Scala short circuits\n",
    "            l1.evaluateMethod() || l2.evaluateMethod()\n",
    "        }\n",
    "    }\n",
    "   \n",
    "    \n",
    "    \n",
    "    def eval():Boolean = this.eval()\n",
    "}\n",
    "case class Value(b:Boolean) extends Logic {\n",
    "    // What's this?\n",
    "    override def eval():Boolean = {\n",
    "        val Value(b) = this\n",
    "        b\n",
    "        // this.b\n",
    "    }\n",
    "}\n",
    "case class Not(l1:Logic) extends Logic {\n",
    "    override def eval():Boolean = {\n",
    "        val Not(l1) = this\n",
    "        val l1Evaluation:Boolean = l1.eval()\n",
    "        !l1Evaluation\n",
    "    }\n",
    "}\n",
    "case class Or(l1:Logic, l2:Logic) extends Logic {\n",
    "    override def eval():Boolean = {\n",
    "//         val Or(l1,l2) = this\n",
    "        val l1Evaluation:Boolean = l1.eval()\n",
    "        val l2Evaluation:Boolean = l2.eval()\n",
    "        l1Evaluation || l2Evaluation\n",
    "    }\n",
    "}\n",
    "case class And(l1:Logic, l2:Logic) extends Logic {\n",
    "    override def eval():Boolean = {\n",
    "//         val And(l1,l2) = this\n",
    "        val l1Evaluation:Boolean = l1.eval()\n",
    "        val l2Evaluation:Boolean = l2.eval()\n",
    "        l1Evaluation && l2Evaluation\n",
    "    }\n",
    "}\n",
    "\n",
    "def evaluate(l:Logic):Boolean = l match {\n",
    "    case Value(b1) => b1\n",
    "    case Not(l1) => !evaluate(l1)\n",
    "    case And(l1,l2) => evaluate(l1) && evaluate(l2)\n",
    "    case Or(l1,l2) => evaluate(l1) || evaluate(l2)\n",
    "}\n",
    "\n",
    "// Tests:\n",
    "// True = True\n",
    "assert( true == Value(true).eval() )\n",
    "assert(Value(true).eval())\n",
    "// False = False\n",
    "assert( false == Value(false).eval() )\n",
    "assert(!Value(false).eval())\n",
    "// True = not False\n",
    "assert( true == Not(Value(false)).eval() )\n",
    "assert(Not(Value(false)).eval())\n",
    "// True = not False or True\n",
    "assert( true == Or(Not(Value(false)),Value(true)).eval() )\n",
    "// False = not (False or True)\n",
    "assert( false == Not(Or(Value(false),Value(true))).eval() )\n",
    "\n",
    "println(\"You're awesome!\")\n",
    "\n"
   ]
  },
  {
   "cell_type": "markdown",
   "metadata": {},
   "source": [
    "#### Observations\n",
    "* Visitors Pattern\n",
    "    * If a programming language doesn't have case matching, then writing an interpreter in that language will likely require a visitor pattern\n",
    "    * Advantages\n",
    "        * The code is very strong\n",
    "        * The code is very object oriented\n",
    "    * Disadvantages\n",
    "        * imo: The code is quite difficult to read\n",
    "        * The code is not extensible\n",
    "* Short Circuiting\n",
    "    * In python\n",
    "        * True or B evaluates to True regardless of the value of B\n",
    "        * False and B evaluates to False regardless of the value of B\n",
    "        * Consider python expressions of the form: A or B\n",
    "            * If I evaluate A and it's value is True\n",
    "            * Then I don't need to evaluate B\n",
    "            * I can save some time!!!\n",
    "        * Consider python expressions of the form: A and B\n",
    "            * If I evaluate A and it's value is False\n",
    "            * Then I don't need to evaluate B\n",
    "            * I can save some time!!!\n",
    "        * For expressions of that type, python won't evaluate B when it doesn't need to\n",
    "    * In general\n",
    "        * Most programming languages won't evaluate B either if they don't have to\n",
    "        * This is known as **short circuiting**\n",
    "* Case Matching\n",
    "    * This looks a lot like a switch statement\n",
    "    * This is WAAAAAY more powerful than a switch statement\n",
    "    * We can use it to create useful variables as we go\n",
    "    * If a language has case matching we can write an interpreter in that language without the visitor pattern\n",
    "    * WARNING: Case statements are read sequentially.\n"
   ]
  },
  {
   "cell_type": "markdown",
   "metadata": {},
   "source": [
    "### Qs ???"
   ]
  },
  {
   "cell_type": "markdown",
   "metadata": {},
   "source": [
    "## Define Terms (Discuss with a peer)\n",
    "* **visitor pattern**: \n",
    "    * \"go as it comes\", interpret at each sub-class\n",
    "* **short circuiting**: \n",
    "    * side-effects are not observed\n",
    "* **case matching**: \n",
    "    * like a switch statement"
   ]
  },
  {
   "cell_type": "markdown",
   "metadata": {},
   "source": [
    "### Qs ???"
   ]
  },
  {
   "cell_type": "markdown",
   "metadata": {},
   "source": [
    "### Maths\n",
    "* Tuesday in class we defined an AST named \"Maths\"\n",
    "* Implement an interpreter function call \"doMaths\" that interprets Maths objects\n",
    "* Do this as a method of the Maths class\n",
    "* Write some tests\n"
   ]
  },
  {
   "cell_type": "code",
   "execution_count": 5,
   "metadata": {
    "collapsed": false
   },
   "outputs": [
    {
     "ename": "",
     "evalue": "",
     "output_type": "error",
     "traceback": [
      "\u001b[31mscala.NotImplementedError: an implementation is missing\u001b[39m\n  scala.Predef$.$qmark$qmark$qmark(\u001b[32mPredef.scala\u001b[39m:\u001b[32m288\u001b[39m)\n  ammonite.$sess.cmd4$Helper$Maths.doMaths(\u001b[32mcmd4.sc\u001b[39m:\u001b[32m3\u001b[39m)\n  ammonite.$sess.cmd4$Helper$Maths.doMaths$(\u001b[32mcmd4.sc\u001b[39m:\u001b[32m2\u001b[39m)\n  ammonite.$sess.cmd4$Helper$Add.doMaths(\u001b[32mcmd4.sc\u001b[39m:\u001b[32m8\u001b[39m)\n  ammonite.$sess.cmd4$Helper.<init>(\u001b[32mcmd4.sc\u001b[39m:\u001b[32m14\u001b[39m)\n  ammonite.$sess.cmd4$.<init>(\u001b[32mcmd4.sc\u001b[39m:\u001b[32m7\u001b[39m)\n  ammonite.$sess.cmd4$.<clinit>(\u001b[32mcmd4.sc\u001b[39m:\u001b[32m-1\u001b[39m)"
     ]
    }
   ],
   "source": [
    "// Generative Grammar:\n",
    "/* Maths →  Negative(Maths) |\n",
    "            Add(Maths, Maths) | \n",
    "            Multiply(Maths, Maths) |\n",
    "            Divide(Maths, Maths) |\n",
    "            Number(Int)\n",
    " */\n",
    "\n",
    "// AST\n",
    "sealed trait Maths {\n",
    "    def doMaths():Int = {\n",
    "        ???\n",
    "    }\n",
    "}\n",
    "case class Number(n:Int) extends Maths\n",
    "case class Negative(m1:Maths) extends Maths\n",
    "case class Add(m1:Maths, m2:Maths) extends Maths\n",
    "case class Divide(m1:Maths, m2:Maths) extends Maths\n",
    "case class Multiply(m1:Maths, m2:Maths) extends Maths\n",
    "\n",
    "\n",
    "// 5 = 3 + 2\n",
    "assert( 5 == Add(Number(3), Number(2)).doMaths() )"
   ]
  },
  {
   "cell_type": "markdown",
   "metadata": {},
   "source": [
    "### Qs ???"
   ]
  },
  {
   "cell_type": "markdown",
   "metadata": {},
   "source": [
    "### Logical Maths\n",
    "* Now let's bring these together \n",
    "* Pythonic concrete syntax\n",
    "    * e &RightArrow; b | n | not e | e or e | e and e | - e | e + e | e * e | e / e | (e)\n",
    "    * b &RightArrow; True | False\n",
    "    * n is a number\n",
    "* What should we do with statements that don't have like types?\n",
    "    * examples\n",
    "        * True + 3\n",
    "        * 6 and False\n",
    "    * Options:\n",
    "        * we could cast types\n",
    "            * True casts to 1\n",
    "            * False casts to 0\n",
    "            * 0 casts to False\n",
    "            * n casts to True if n doesn't equal 0\n",
    "        * we could require types\n",
    "            * throw errors on expressions like that\n",
    "        * we could analyze the object language (python) and do whatever it does\n",
    "            * in python find out how the following expressions evaluate\n",
    "                * True + 4\n",
    "                * False + 4\n",
    "                * 1 and True\n",
    "                * 0 and True\n",
    "                * 25 and True\n",
    "            * what does this data suggest about what python does?\n",
    "* Should we give our language short curcuiting?\n",
    "* And then how do we add in if else statements?\n",
    "    * python has a ternary: e<sub>true</sub> if e<sub>condition</sub> else e<sub>false</sub>\n",
    "    * e &RightArrow; b | n | not e | e or e | e and e | **e if e else e** | - e | e + e | e * e | e / e | (e)"
   ]
  },
  {
   "cell_type": "code",
   "execution_count": 6,
   "metadata": {
    "collapsed": false
   },
   "outputs": [
    {
     "ename": "",
     "evalue": "",
     "output_type": "error",
     "traceback": [
      "\u001b[31mscala.NotImplementedError: an implementation is missing\u001b[39m\n  scala.Predef$.$qmark$qmark$qmark(\u001b[32mPredef.scala\u001b[39m:\u001b[32m288\u001b[39m)\n  ammonite.$sess.cmd5$Helper.<init>(\u001b[32mcmd5.sc\u001b[39m:\u001b[32m1\u001b[39m)\n  ammonite.$sess.cmd5$.<init>(\u001b[32mcmd5.sc\u001b[39m:\u001b[32m7\u001b[39m)\n  ammonite.$sess.cmd5$.<clinit>(\u001b[32mcmd5.sc\u001b[39m:\u001b[32m-1\u001b[39m)"
     ]
    }
   ],
   "source": [
    "// Grammar:\n",
    "/*\n",
    "\n",
    " */\n",
    "\n",
    "// AST:\n",
    "???"
   ]
  },
  {
   "cell_type": "markdown",
   "metadata": {},
   "source": [
    "## Solutions\n",
    "These solutions use my implementations from lecture 5"
   ]
  },
  {
   "cell_type": "markdown",
   "metadata": {},
   "source": [
    "### Logic"
   ]
  },
  {
   "cell_type": "code",
   "execution_count": 7,
   "metadata": {
    "collapsed": false
   },
   "outputs": [
    {
     "data": {
      "text/plain": [
       "defined \u001b[32mtrait\u001b[39m \u001b[36mLogic\u001b[39m\n",
       "defined \u001b[32mclass\u001b[39m \u001b[36mValue\u001b[39m\n",
       "defined \u001b[32mclass\u001b[39m \u001b[36mNot\u001b[39m\n",
       "defined \u001b[32mclass\u001b[39m \u001b[36mOr\u001b[39m\n",
       "defined \u001b[32mclass\u001b[39m \u001b[36mAnd\u001b[39m\n",
       "defined \u001b[32mfunction\u001b[39m \u001b[36mevaluate\u001b[39m\n",
       "defined \u001b[32mfunction\u001b[39m \u001b[36mtest\u001b[39m\n",
       "\u001b[36mb_l_list\u001b[39m: \u001b[32mList\u001b[39m[(\u001b[32mBoolean\u001b[39m, \u001b[32mProduct\u001b[39m with \u001b[32mSerializable\u001b[39m with \u001b[32mLogic\u001b[39m)] = \u001b[33mList\u001b[39m(\n",
       "  (true, \u001b[33mValue\u001b[39m(true)),\n",
       "  (false, \u001b[33mValue\u001b[39m(false)),\n",
       "  (true, \u001b[33mNot\u001b[39m(\u001b[33mValue\u001b[39m(false))),\n",
       "  (true, \u001b[33mOr\u001b[39m(\u001b[33mNot\u001b[39m(\u001b[33mValue\u001b[39m(false)), \u001b[33mValue\u001b[39m(true))),\n",
       "  (false, \u001b[33mNot\u001b[39m(\u001b[33mOr\u001b[39m(\u001b[33mValue\u001b[39m(false), \u001b[33mValue\u001b[39m(true))))\n",
       ")\n",
       "\u001b[36mres6_8\u001b[39m: \u001b[32mList\u001b[39m[\u001b[32mUnit\u001b[39m] = \u001b[33mList\u001b[39m((), (), (), (), ())"
      ]
     },
     "execution_count": 7,
     "metadata": {},
     "output_type": "execute_result"
    }
   ],
   "source": [
    "// Grammar:\n",
    "/*\n",
    " * Logic --> Value(b) | Not(Logic) | Or(Logic, Logic) | And(Logic, Logic)\n",
    " * b is a Boolean\n",
    " */\n",
    "\n",
    "\n",
    "\n",
    "\n",
    "// AST and interpreter:\n",
    "sealed trait Logic {\n",
    "    def evalMethod():Boolean = this match {\n",
    "        case Value(b) => b\n",
    "        case Not(l1) => !l1.evalMethod()\n",
    "        case Or(l1,l2) => l1.evalMethod() || l2.evalMethod()\n",
    "        case And(l1,l2) => l1.evalMethod() && l2.evalMethod()\n",
    "    }\n",
    "    def eval():Boolean = this.eval()\n",
    "}\n",
    "case class Value(b:Boolean) extends Logic {\n",
    "    override def eval():Boolean = {\n",
    "        val Value(b) = this\n",
    "        b\n",
    "    }\n",
    "}\n",
    "case class Not(s1:Logic) extends Logic {\n",
    "    override def eval():Boolean = {\n",
    "        val Not(e) = this\n",
    "        !e.eval()\n",
    "    }\n",
    "}\n",
    "case class Or(s1:Logic, s2:Logic) extends Logic {\n",
    "    override def eval():Boolean = {\n",
    "        val Or(e1,e2) = this\n",
    "        e1.eval() || e2.eval()\n",
    "    }\n",
    "}\n",
    "case class And(s1:Logic, s2:Logic) extends Logic {\n",
    "    override def eval():Boolean = {\n",
    "        val And(e1,e2) = this\n",
    "        e1.eval() && e2.eval()\n",
    "    }\n",
    "}\n",
    "\n",
    "def evaluate(l:Logic):Boolean = l match {\n",
    "    case Value(b) => b\n",
    "    case Not(l1) => !evaluate(l1)\n",
    "    case Or(l1,l2) => evaluate(l1) || evaluate(l2)\n",
    "    case And(l1,l2) => evaluate(l1) && evaluate(l2)\n",
    "}\n",
    "\n",
    "// Tests:\n",
    "def test(l:Logic, b:Boolean) = {\n",
    "    assert(b == l.eval())\n",
    "    assert(b == l.evalMethod())\n",
    "    assert(b == evaluate(l))\n",
    "}\n",
    "\n",
    "val b_l_list = List(\n",
    "    (true, Value(true)),\n",
    "    (false, Value(false)),\n",
    "    (true, Not(Value(false))),\n",
    "    (true, Or(Not(Value(false)),Value(true))),\n",
    "    (false, Not(Or(Value(false),Value(true))))\n",
    ")\n",
    "\n",
    "b_l_list map { case (b,l) => test(l,b) }\n",
    "\n",
    "\n"
   ]
  },
  {
   "cell_type": "markdown",
   "metadata": {},
   "source": [
    "### Boolean Algebra"
   ]
  },
  {
   "cell_type": "code",
   "execution_count": 8,
   "metadata": {
    "collapsed": false
   },
   "outputs": [
    {
     "name": "stdout",
     "output_type": "stream",
     "text": [
      "SUCCESS: false = Not(Or(B(false),B(true))).eval()\n",
      "SUCCESS: true = Or(Not(B(false)),B(true)).eval()\n"
     ]
    },
    {
     "data": {
      "text/plain": [
       "defined \u001b[32mtrait\u001b[39m \u001b[36mCondExpr\u001b[39m\n",
       "defined \u001b[32mclass\u001b[39m \u001b[36mB\u001b[39m\n",
       "defined \u001b[32mclass\u001b[39m \u001b[36mNot\u001b[39m\n",
       "defined \u001b[32mclass\u001b[39m \u001b[36mOr\u001b[39m\n",
       "defined \u001b[32mclass\u001b[39m \u001b[36mAnd\u001b[39m\n",
       "\u001b[36me0\u001b[39m: \u001b[32mNot\u001b[39m = \u001b[33mNot\u001b[39m(\u001b[33mOr\u001b[39m(\u001b[33mB\u001b[39m(false), \u001b[33mB\u001b[39m(true)))\n",
       "\u001b[36mb0\u001b[39m: \u001b[32mBoolean\u001b[39m = false\n",
       "\u001b[36me1\u001b[39m: \u001b[32mOr\u001b[39m = \u001b[33mOr\u001b[39m(\u001b[33mNot\u001b[39m(\u001b[33mB\u001b[39m(false)), \u001b[33mB\u001b[39m(true))\n",
       "\u001b[36mb1\u001b[39m: \u001b[32mBoolean\u001b[39m = true"
      ]
     },
     "execution_count": 8,
     "metadata": {},
     "output_type": "execute_result"
    }
   ],
   "source": [
    "sealed trait CondExpr {\n",
    "    def eval():Boolean = this match {\n",
    "        case B(b) => b\n",
    "        case Not(c1) => !c1.eval()\n",
    "        case And(c1, c2) => {\n",
    "            val b1 = c1.eval()\n",
    "            val b2 = c2.eval()\n",
    "            b1 && b2\n",
    "        }\n",
    "        case Or(c1, c2) => {\n",
    "            val b1 = c1.eval()\n",
    "            val b2 = c2.eval()\n",
    "            val bout = b1 || b2\n",
    "            bout\n",
    "        }\n",
    "    }\n",
    "    def cmp(bExpected:Boolean):Unit = {\n",
    "        val bGot = this.eval()\n",
    "        if (bExpected == bGot) {\n",
    "            println(s\"SUCCESS: $bExpected = $this.eval()\")\n",
    "        }\n",
    "        else {\n",
    "            println(\"XXXXXXXXXXXX\")\n",
    "            println(\"FAILURE\")\n",
    "            println(s\"\\tAST      : $this\")\n",
    "            println(s\"\\tExpected : $bExpected\")\n",
    "            println(s\"\\tFound    : $bGot\")\n",
    "            println(\"XXXXXXXXXXXX\")\n",
    "        }\n",
    "        \n",
    "    }\n",
    "}\n",
    "case class B(b:Boolean) extends CondExpr\n",
    "case class Not(c1:CondExpr) extends CondExpr\n",
    "case class Or(c1:CondExpr, c2:CondExpr) extends CondExpr\n",
    "case class And(c1:CondExpr, c2:CondExpr) extends CondExpr\n",
    "\n",
    "// not(False or True)\n",
    "val e0 = Not(Or(B(false),B(true)))\n",
    "val b0 = false\n",
    "e0 cmp b0\n",
    "\n",
    "// not False or True\n",
    "val e1 = Or(Not(B(false)), B(true))\n",
    "val b1 = true\n",
    "e1 cmp b1\n"
   ]
  },
  {
   "cell_type": "markdown",
   "metadata": {},
   "source": [
    "### Arithamtic"
   ]
  },
  {
   "cell_type": "code",
   "execution_count": 9,
   "metadata": {
    "collapsed": false
   },
   "outputs": [
    {
     "name": "stdout",
     "output_type": "stream",
     "text": [
      "Passed 7 = 1 + 2 * 3\n",
      "Passed 9 = (1 + 2) * 3\n",
      "Passed 2 + 2 == -1 + 5\n",
      "ALL TESTS PASSED!\n"
     ]
    },
    {
     "data": {
      "text/plain": [
       "defined \u001b[32mtrait\u001b[39m \u001b[36mArithExpr\u001b[39m\n",
       "defined \u001b[32mclass\u001b[39m \u001b[36mN\u001b[39m\n",
       "defined \u001b[32mclass\u001b[39m \u001b[36mNeg\u001b[39m\n",
       "defined \u001b[32mclass\u001b[39m \u001b[36mPlus\u001b[39m\n",
       "defined \u001b[32mclass\u001b[39m \u001b[36mTimes\u001b[39m\n",
       "defined \u001b[32mclass\u001b[39m \u001b[36mDiv\u001b[39m\n",
       "\u001b[36ma0\u001b[39m: \u001b[32mPlus\u001b[39m = \u001b[33mPlus\u001b[39m(\u001b[33mN\u001b[39m(\u001b[32m1\u001b[39m), \u001b[33mTimes\u001b[39m(\u001b[33mN\u001b[39m(\u001b[32m2\u001b[39m), \u001b[33mN\u001b[39m(\u001b[32m3\u001b[39m)))\n",
       "\u001b[36mn0\u001b[39m: \u001b[32mInt\u001b[39m = \u001b[32m7\u001b[39m\n",
       "\u001b[36ma1\u001b[39m: \u001b[32mTimes\u001b[39m = \u001b[33mTimes\u001b[39m(\u001b[33mPlus\u001b[39m(\u001b[33mN\u001b[39m(\u001b[32m1\u001b[39m), \u001b[33mN\u001b[39m(\u001b[32m2\u001b[39m)), \u001b[33mN\u001b[39m(\u001b[32m3\u001b[39m))\n",
       "\u001b[36mn1\u001b[39m: \u001b[32mInt\u001b[39m = \u001b[32m9\u001b[39m\n",
       "\u001b[36ma2\u001b[39m: \u001b[32mPlus\u001b[39m = \u001b[33mPlus\u001b[39m(\u001b[33mNeg\u001b[39m(\u001b[33mN\u001b[39m(\u001b[32m1\u001b[39m)), \u001b[33mN\u001b[39m(\u001b[32m5\u001b[39m))\n",
       "\u001b[36ma3\u001b[39m: \u001b[32mPlus\u001b[39m = \u001b[33mPlus\u001b[39m(\u001b[33mN\u001b[39m(\u001b[32m2\u001b[39m), \u001b[33mN\u001b[39m(\u001b[32m2\u001b[39m))"
      ]
     },
     "execution_count": 9,
     "metadata": {},
     "output_type": "execute_result"
    }
   ],
   "source": [
    "sealed trait ArithExpr {\n",
    "    def eval():Int = this match {\n",
    "        case N(n) => n\n",
    "        case Neg(a) => - a.eval()\n",
    "        case Plus(a1, a2) => a1.eval() + a2.eval()\n",
    "        case Times(a1, a2) => a1.eval() * a2.eval()\n",
    "        case Div(a1, a2) => a1.eval() / a2.eval()\n",
    "    }\n",
    "    def ==(n2:Int): Boolean = {\n",
    "        this.eval() == n2\n",
    "    }\n",
    "    def ==(a2:ArithExpr): Boolean = {\n",
    "        this == a2.eval()\n",
    "    }\n",
    "\n",
    "}\n",
    "case class N(n:Int) extends ArithExpr\n",
    "case class Neg(a:ArithExpr) extends ArithExpr\n",
    "case class Plus(a1:ArithExpr, a2:ArithExpr) extends ArithExpr\n",
    "case class Times(a1:ArithExpr, a2:ArithExpr) extends ArithExpr\n",
    "case class Div(a1:ArithExpr, a2:ArithExpr) extends ArithExpr\n",
    "\n",
    "val a0 = Plus(N(1),Times(N(2), N(3)))\n",
    "val n0 = 7\n",
    "assert(a0 == n0)\n",
    "println(\"Passed 7 = 1 + 2 * 3\")\n",
    "\n",
    "val a1 = Times(Plus(N(1), N(2)), N(3))\n",
    "val n1 = 9\n",
    "assert(a1 == n1)\n",
    "println(\"Passed 9 = (1 + 2) * 3\")\n",
    "\n",
    "val a2 = Plus(Neg(N(1)), N(5))\n",
    "val a3 = Plus(N(2),N(2))\n",
    "assert(a2 == a3)\n",
    "println(\"Passed 2 + 2 == -1 + 5\")\n",
    "\n",
    "println(\"ALL TESTS PASSED!\")"
   ]
  },
  {
   "cell_type": "markdown",
   "metadata": {},
   "source": [
    "### Both\n",
    "* here we need to sort of decide in advance if we'll allow for interopability between numbers and booleans.\n",
    "* For this one I decided to allow it. In part because my grammar suggests it is possible. But also because I know this is a little easier to code given the AST I currently have\n",
    "* operators of the boolean algebra will cast the value to a boolean then apply\n",
    "    * 0 => false\n",
    "    * all other numbers are true\n",
    "* operators of the arithmatic will cast the value to a number then apply\n",
    "    * true => 1\n",
    "    * false => 0\n",
    "* The eval must now return an AST rather than a Boolean or an Int..."
   ]
  },
  {
   "cell_type": "code",
   "execution_count": 10,
   "metadata": {
    "collapsed": false
   },
   "outputs": [
    {
     "name": "stdout",
     "output_type": "stream",
     "text": [
      "ALL TESTS PASSED!\n"
     ]
    },
    {
     "data": {
      "text/plain": [
       "defined \u001b[32mtrait\u001b[39m \u001b[36mExpr\u001b[39m\n",
       "defined \u001b[32mtrait\u001b[39m \u001b[36mValue\u001b[39m\n",
       "defined \u001b[32mclass\u001b[39m \u001b[36mN\u001b[39m\n",
       "defined \u001b[32mclass\u001b[39m \u001b[36mB\u001b[39m\n",
       "defined \u001b[32mclass\u001b[39m \u001b[36mUnary\u001b[39m\n",
       "defined \u001b[32mclass\u001b[39m \u001b[36mBinary\u001b[39m\n",
       "defined \u001b[32mtrait\u001b[39m \u001b[36mUop\u001b[39m\n",
       "defined \u001b[32mobject\u001b[39m \u001b[36mNot\u001b[39m\n",
       "defined \u001b[32mobject\u001b[39m \u001b[36mNeg\u001b[39m\n",
       "defined \u001b[32mtrait\u001b[39m \u001b[36mBop\u001b[39m\n",
       "defined \u001b[32mobject\u001b[39m \u001b[36mOr\u001b[39m\n",
       "defined \u001b[32mobject\u001b[39m \u001b[36mAnd\u001b[39m\n",
       "defined \u001b[32mobject\u001b[39m \u001b[36mPlus\u001b[39m\n",
       "defined \u001b[32mobject\u001b[39m \u001b[36mTimes\u001b[39m\n",
       "defined \u001b[32mobject\u001b[39m \u001b[36mDiv\u001b[39m"
      ]
     },
     "execution_count": 10,
     "metadata": {},
     "output_type": "execute_result"
    }
   ],
   "source": [
    "sealed trait Expr {\n",
    "    def eval():Value = this match {\n",
    "        case v:Value => v\n",
    "        case Unary(uop, e1) => uop match {\n",
    "            case Not => {\n",
    "                val v1 = e1.eval()\n",
    "                val b1 = v1.toBoolean()\n",
    "                val bout = !b1\n",
    "                val vout = B(bout)\n",
    "                vout\n",
    "            }\n",
    "            case Neg => {\n",
    "                val v1 = e1.eval()\n",
    "                val n1 = v1.toInt()\n",
    "                N(-n1)\n",
    "            }\n",
    "        }\n",
    "        case Binary(bop, e1, e2) => bop match {\n",
    "            case Or => B(e1.eval().toBoolean() || e2.eval().toBoolean())\n",
    "            case And => B(e1.eval().toBoolean() && e2.eval().toBoolean())\n",
    "            case Plus => N(e1.eval().toInt() + e2.eval().toInt())\n",
    "            case Times => N(e1.eval().toInt() * e2.eval().toInt())\n",
    "            case Div => N(e1.eval().toInt() / e2.eval().toInt())  \n",
    "        }\n",
    "    }\n",
    "}\n",
    "sealed trait Value extends Expr {\n",
    "    def toBoolean():Boolean = this match {\n",
    "        case B(b) => b\n",
    "        case N(0) => false\n",
    "        case N(_) => true\n",
    "    }\n",
    "    def toInt():Int = this match {\n",
    "        case N(n) => n\n",
    "        case B(true) => 1\n",
    "        case B(false) => 0\n",
    "    }\n",
    "}\n",
    "case class N(n:Int) extends Value\n",
    "case class B(b:Boolean) extends Value\n",
    "case class Unary(uop:Uop, e1:Expr) extends Expr\n",
    "case class Binary(bop:Bop, e1:Expr, e2:Expr) extends Expr\n",
    "\n",
    "sealed trait Uop\n",
    "case object Not extends Uop\n",
    "case object Neg extends Uop\n",
    "\n",
    "sealed trait Bop\n",
    "case object Or extends Bop\n",
    "case object And extends Bop\n",
    "case object Plus extends Bop\n",
    "case object Times extends Bop\n",
    "case object Div extends Bop\n",
    "\n",
    "\n",
    "// 2 = 1 + true\n",
    "assert( N(2) == Binary(Plus,N(1),B(true)).eval() )\n",
    "// false = ! 25\n",
    "assert( B(false) == Unary(Not, N(25)).eval() )\n",
    "println(\"ALL TESTS PASSED!\")"
   ]
  },
  {
   "cell_type": "markdown",
   "metadata": {},
   "source": [
    "## TODOs\n",
    "* Homework and quiz 3 goes live tonight\n",
    "* Homework and quiz 2 is due tomorrow\n",
    "* Spot exam 1 is next Friday\n",
    "* The first project will go live next week"
   ]
  }
 ],
 "metadata": {
  "anaconda-cloud": {},
  "kernelspec": {
   "display_name": "Scala",
   "language": "scala",
   "name": "scala"
  },
  "language_info": {
   "codemirror_mode": "text/x-scala",
   "file_extension": ".scala",
   "mimetype": "text/x-scala",
   "name": "scala",
   "nbconvert_exporter": "script",
   "version": "2.12.8"
  }
 },
 "nbformat": 4,
 "nbformat_minor": 1
}
