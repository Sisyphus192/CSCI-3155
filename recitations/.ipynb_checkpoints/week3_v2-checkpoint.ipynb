{
 "cells": [
  {
   "cell_type": "markdown",
   "metadata": {},
   "source": [
    "# Recitation 3\n",
    "\n",
    "Topics: ASTs, higher order functions, pattern functions"
   ]
  },
  {
   "cell_type": "markdown",
   "metadata": {},
   "source": [
    "## Lists and Pattern Matching"
   ]
  },
  {
   "cell_type": "markdown",
   "metadata": {},
   "source": [
    "Our inductive structure of choice for this problem is a linked list. The below code defines the structure."
   ]
  },
  {
   "cell_type": "code",
   "execution_count": 1,
   "metadata": {},
   "outputs": [
    {
     "data": {
      "text/plain": [
       "defined \u001b[32mtrait\u001b[39m \u001b[36mNumList\u001b[39m\n",
       "defined \u001b[32mobject\u001b[39m \u001b[36mMyNil\u001b[39m\n",
       "defined \u001b[32mclass\u001b[39m \u001b[36mMyCons\u001b[39m"
      ]
     },
     "execution_count": 1,
     "metadata": {},
     "output_type": "execute_result"
    }
   ],
   "source": [
    "sealed trait NumList\n",
    "case object MyNil extends NumList\n",
    "case class MyCons(firstElement : Int, restOfList : NumList) extends NumList"
   ]
  },
  {
   "cell_type": "markdown",
   "metadata": {},
   "source": [
    "Since it's an inductive structure, we can write a grammar for it:\n",
    "\n",
    "$$\n",
    "\\begin{array}{rcl}\n",
    "    \\textbf{NumList} & \\rightarrow & MyNil \\\\\n",
    "                     &           | & MyCons(\\textbf{Int}, \\textbf{NumList}) \\\\\n",
    "\\end{array}\n",
    "$$"
   ]
  },
  {
   "cell_type": "markdown",
   "metadata": {},
   "source": [
    "### Exercise: Writing lists\n",
    "Write out the following lists with our `NumList` class.\n",
    "\n",
    "1. `[]` (The empty list)\n",
    "2. `[1, 2, 3]`"
   ]
  },
  {
   "cell_type": "code",
   "execution_count": 4,
   "metadata": {},
   "outputs": [
    {
     "data": {
      "text/plain": [
       "\u001b[36mv1\u001b[39m: \u001b[32mMyNil\u001b[39m = MyNil\n",
       "\u001b[36mv2\u001b[39m: \u001b[32mMyCons\u001b[39m = \u001b[33mMyCons\u001b[39m(\u001b[32m1\u001b[39m, \u001b[33mMyCons\u001b[39m(\u001b[32m2\u001b[39m, \u001b[33mMyCons\u001b[39m(\u001b[32m3\u001b[39m, MyNil)))"
      ]
     },
     "execution_count": 4,
     "metadata": {},
     "output_type": "execute_result"
    }
   ],
   "source": [
    "// YOUR CODE HERE\n",
    "val v1 = MyNil\n",
    "val v2 = MyCons(1, MyCons(2, MyCons(3,v1)))"
   ]
  },
  {
   "cell_type": "markdown",
   "metadata": {},
   "source": [
    "### Exercise: Length of list\n",
    "Implement a `myLength` function for our list type using [pattern matching](https://docs.scala-lang.org/tour/pattern-matching.html)."
   ]
  },
  {
   "cell_type": "code",
   "execution_count": 16,
   "metadata": {},
   "outputs": [
    {
     "data": {
      "text/plain": [
       "defined \u001b[32mfunction\u001b[39m \u001b[36mmyLength\u001b[39m"
      ]
     },
     "execution_count": 16,
     "metadata": {},
     "output_type": "execute_result"
    }
   ],
   "source": [
    "def myLength(list : NumList) : Int = {\n",
    "    // YOUR CODE HERE\n",
    "    list match {\n",
    "        case MyNil => 0\n",
    "        case MyCons(_, n) => myLength(n) + 1\n",
    "    }\n",
    "}"
   ]
  },
  {
   "cell_type": "code",
   "execution_count": 17,
   "metadata": {},
   "outputs": [],
   "source": [
    "assert(myLength(MyNil) == 0)\n",
    "assert(myLength(MyCons(1, MyCons(2, MyNil))) == 2)"
   ]
  },
  {
   "cell_type": "markdown",
   "metadata": {},
   "source": [
    "### Exercise: Translate to built in lists\n",
    "Rewrite `length` to use [Scala's list class](https://www.scala-lang.org/api/current/scala/collection/immutable/List.html), which is very similar to the one defined above. The table below shows the equivalences:\n",
    "\n",
    "|`NumList`      | `List[Int]`|\n",
    "|---------------|------------|\n",
    "|`MyNil`        | `Nil`      |\n",
    "|`MyCons(a, b)` | `a :: b`   |"
   ]
  },
  {
   "cell_type": "code",
   "execution_count": 24,
   "metadata": {},
   "outputs": [
    {
     "data": {
      "text/plain": [
       "defined \u001b[32mfunction\u001b[39m \u001b[36mlength\u001b[39m"
      ]
     },
     "execution_count": 24,
     "metadata": {},
     "output_type": "execute_result"
    }
   ],
   "source": [
    "def length(list : List[Int]) : Int = {\n",
    "    // YOUR CODE HERE\n",
    "    list match {\n",
    "        case Nil => 0\n",
    "        case _ :: n => length(n) + 1\n",
    "    }\n",
    "}"
   ]
  },
  {
   "cell_type": "code",
   "execution_count": 25,
   "metadata": {},
   "outputs": [],
   "source": [
    "assert(length(List()) == 0)\n",
    "assert(length(List(1, 2, 3)) == 3)"
   ]
  },
  {
   "cell_type": "markdown",
   "metadata": {},
   "source": [
    "### Exercise: Higher Order functions"
   ]
  },
  {
   "cell_type": "code",
   "execution_count": 28,
   "metadata": {},
   "outputs": [
    {
     "data": {
      "text/plain": [
       "defined \u001b[32mfunction\u001b[39m \u001b[36mmap\u001b[39m"
      ]
     },
     "execution_count": 28,
     "metadata": {},
     "output_type": "execute_result"
    }
   ],
   "source": [
    "// YOUR CODE HERE\n",
    "def map(l: List[Int], f: Int => Int): List[Int] = {\n",
    "    l match {\n",
    "        case Nil => List()\n",
    "        case a :: b => f(a) :: map(b, f)\n",
    "    }\n",
    "}"
   ]
  },
  {
   "cell_type": "code",
   "execution_count": 30,
   "metadata": {},
   "outputs": [],
   "source": [
    "assert(map(List(), _ + 1) == List())\n",
    "assert(map(List(1), _ + 1) == List(2))\n",
    "assert(map(List(1, 9, 2), _ + 1) == List(2, 10, 3))"
   ]
  },
  {
   "cell_type": "markdown",
   "metadata": {},
   "source": [
    "## ASTs\n",
    "We'll be reusing the AST for sets from the previous recitation (removing the complement operator). Use Scala lists as your underlying datatype to represent sets (even though it won't be very efficient):\n",
    "\n",
    "$$\n",
    "\\begin{array}{rcl}\n",
    "    \\textbf{Set} & \\rightarrow & Empty \\\\\n",
    "                 &           | & Cons(\\textbf{Int}, \\textbf{Set}) \\\\\n",
    "                 &           | & Intersection(\\textbf{Set}, \\textbf{Set}) \\\\\n",
    "                 &           | & Union(\\textbf{Set}, \\textbf{Set}) \\\\\n",
    "                 &           | & Subtraction(\\textbf{Set}, \\textbf{Set}) \\\\\n",
    "\\end{array}\n",
    "$$\n",
    "\n",
    "One last little note: $\\textbf{Int}$ and $\\textbf{Set}$ are switched from last week to match with Scala's `::` and the lecture."
   ]
  },
  {
   "cell_type": "code",
   "execution_count": 31,
   "metadata": {},
   "outputs": [
    {
     "data": {
      "text/plain": [
       "defined \u001b[32mtrait\u001b[39m \u001b[36mSet\u001b[39m\n",
       "defined \u001b[32mobject\u001b[39m \u001b[36mEmpty\u001b[39m\n",
       "defined \u001b[32mclass\u001b[39m \u001b[36mCons\u001b[39m\n",
       "defined \u001b[32mclass\u001b[39m \u001b[36mIntersection\u001b[39m\n",
       "defined \u001b[32mclass\u001b[39m \u001b[36mUnion\u001b[39m\n",
       "defined \u001b[32mclass\u001b[39m \u001b[36mSubtraction\u001b[39m"
      ]
     },
     "execution_count": 31,
     "metadata": {},
     "output_type": "execute_result"
    }
   ],
   "source": [
    "sealed trait Set\n",
    "case object Empty extends Set\n",
    "case class Cons(n: Int, s: Set) extends Set\n",
    "// Removed\n",
    "// case class Complement(s: Set) extends Set\n",
    "case class Intersection(s1: Set, s2: Set) extends Set\n",
    "case class Union(s1: Set, s2: Set) extends Set\n",
    "case class Subtraction(s1: Set, s2: Set) extends Set"
   ]
  },
  {
   "cell_type": "markdown",
   "metadata": {},
   "source": [
    "### Exercise: Interpreter\n",
    "Write an interpreter for the language of sets you've created. Don't worry about duplicates in the list (unless they need to be removed).\n",
    "\n",
    "```\n",
    "List.++:       (List[Int], List[Int])      => List[Int]\n",
    "List.filter:   (List[Int], Int => Boolean) => List[Int]\n",
    "List.contains: (List[Int], Int)            => Boolean\n",
    "```"
   ]
  },
  {
   "cell_type": "code",
   "execution_count": null,
   "metadata": {},
   "outputs": [],
   "source": [
    "def eval(set_expression: Set): List[Int] = {\n",
    "    // YOUR CODE HERE\n",
    "    set_expression match {\n",
    "        \n",
    "    }\n",
    "}"
   ]
  },
  {
   "cell_type": "code",
   "execution_count": null,
   "metadata": {},
   "outputs": [],
   "source": [
    "val set_1_2 = Cons(1, Cons(2, Empty))\n",
    "val set_1_2_3 = Cons(1, Cons(2, Cons(3, Empty)))\n",
    "val set_3 = Cons(3, Empty)\n",
    "\n",
    "assert(eval(Empty) == List())\n",
    "assert(eval(set_1_2) == List(1, 2))\n",
    "assert(eval(Union(set_1_2, set_3)) == List(1, 2, 3))\n",
    "assert(eval(Intersection(set_1_2, set_1_2_3)) == List(1, 2))\n",
    "assert(eval(Subtraction(set_1_2, set_1_2_3)) == List())"
   ]
  }
 ],
 "metadata": {
  "kernelspec": {
   "display_name": "Scala",
   "language": "scala",
   "name": "scala"
  },
  "language_info": {
   "codemirror_mode": "text/x-scala",
   "file_extension": ".scala",
   "mimetype": "text/x-scala",
   "name": "scala",
   "nbconvert_exporter": "script",
   "version": "2.12.8"
  }
 },
 "nbformat": 4,
 "nbformat_minor": 2
}
