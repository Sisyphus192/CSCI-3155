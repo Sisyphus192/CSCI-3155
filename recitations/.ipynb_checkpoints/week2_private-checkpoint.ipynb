{
 "cells": [
  {
   "cell_type": "markdown",
   "metadata": {
    "nbgrader": {
     "grade": false,
     "grade_id": "cell-4b046c8798d6213e",
     "locked": true,
     "schema_version": 1,
     "solution": false
    }
   },
   "source": [
    "# Tail Recursion\n",
    "\n",
    "A recursive function is *tail-recursive* when the recursive subcall is the last computation of of the recursive function body. The benefit of tail recursion is that it consumes less stack memory. See [here](https://docs.google.com/presentation/d/1q0l0RTgsTe2ux3VuhbsgeJZ50-rFeUhy-l8RjTiCiWc/edit?usp=sharing) for some visuals."
   ]
  },
  {
   "cell_type": "markdown",
   "metadata": {
    "nbgrader": {
     "grade": false,
     "grade_id": "cell-4368609d1a17ee23",
     "locked": true,
     "schema_version": 1,
     "solution": false
    }
   },
   "source": [
    "## Making a recursive function tail-recursive\n",
    "\n",
    "A recursive function is *not* tail-recursive when it still has to perform computation after its recursive subcall returns. For example, in the following implementation of `factorial`, we need to multiply the returned result of `factorial(n-1)` by `n`."
   ]
  },
  {
   "cell_type": "code",
   "execution_count": 1,
   "metadata": {},
   "outputs": [
    {
     "data": {
      "text/plain": [
       "defined \u001b[32mfunction\u001b[39m \u001b[36mfactorial\u001b[39m"
      ]
     },
     "execution_count": 1,
     "metadata": {},
     "output_type": "execute_result"
    }
   ],
   "source": [
    "def factorial(n : Int) : Int = {\n",
    "    if (n == 0) {\n",
    "        return 1\n",
    "    }\n",
    "    return n * factorial(n-1)\n",
    "}"
   ]
  },
  {
   "cell_type": "markdown",
   "metadata": {
    "nbgrader": {
     "grade": false,
     "grade_id": "cell-37caf60119718627",
     "locked": true,
     "schema_version": 1,
     "solution": false
    }
   },
   "source": [
    "To make this function tail-recursive, we want to take the work we perform *after* the recursive subcall and perform it *before* the recursive subcall. The trick is to perform that work on an accumulator variable, which then gets passed into the recursive subcall. When you reach the base case, you can simply return the work that you've accumulated in the accumulator variable."
   ]
  },
  {
   "cell_type": "code",
   "execution_count": 5,
   "metadata": {},
   "outputs": [
    {
     "data": {
      "text/plain": [
       "defined \u001b[32mfunction\u001b[39m \u001b[36mfactorial_tr\u001b[39m"
      ]
     },
     "execution_count": 5,
     "metadata": {},
     "output_type": "execute_result"
    }
   ],
   "source": [
    "def factorial_tr(n : Int, acc : Int = 1) : Int = {\n",
    "    if (n == 0) {\n",
    "        return acc\n",
    "    }\n",
    "    return factorial_tr(n-1, n*acc)\n",
    "}"
   ]
  },
  {
   "cell_type": "markdown",
   "metadata": {
    "nbgrader": {
     "grade": false,
     "grade_id": "cell-2abd22e5bc945197",
     "locked": true,
     "schema_version": 1,
     "solution": false
    }
   },
   "source": [
    "## Exercise: implement tail-recursive `reverse`\n",
    "\n",
    "Here is a non-tail-recursive implementation of `reverse`."
   ]
  },
  {
   "cell_type": "code",
   "execution_count": 6,
   "metadata": {},
   "outputs": [
    {
     "data": {
      "text/plain": [
       "defined \u001b[32mfunction\u001b[39m \u001b[36mreverse\u001b[39m"
      ]
     },
     "execution_count": 6,
     "metadata": {},
     "output_type": "execute_result"
    }
   ],
   "source": [
    "def reverse(s : String) : String = {\n",
    "    if (s.isEmpty()) {\n",
    "        return \"\"\n",
    "    }\n",
    "    val n = s.size\n",
    "    return s(n-1) + reverse(s.slice(0, n-1))\n",
    "}"
   ]
  },
  {
   "cell_type": "code",
   "execution_count": 7,
   "metadata": {
    "nbgrader": {
     "grade": true,
     "grade_id": "cell-099ad5cc8ff462b9",
     "locked": true,
     "points": 1,
     "schema_version": 1,
     "solution": false
    }
   },
   "outputs": [],
   "source": [
    "assert(reverse(\"\") == \"\", \"Failed on \\\"\\\"\")\n",
    "assert(reverse(\"a\") == \"a\", \"Failed on \\\"a\\\"\")\n",
    "assert(reverse(\"abcde\") == \"edcba\", \"Failed on \\\"abcde\\\"\")\n",
    "assert(reverse(\"Mom's spaghetti\") == \"ittehgaps s'moM\", \"Failed on \\\"Mom's spaghetti\\\"\")"
   ]
  },
  {
   "cell_type": "markdown",
   "metadata": {
    "nbgrader": {
     "grade": false,
     "grade_id": "cell-dc00478985232eed",
     "locked": true,
     "schema_version": 1,
     "solution": false
    }
   },
   "source": [
    "Your task is to implement the tail-recursive version `reverse_tr`."
   ]
  },
  {
   "cell_type": "code",
   "execution_count": 12,
   "metadata": {
    "nbgrader": {
     "grade": false,
     "grade_id": "cell-fcb94a97759a1e94",
     "locked": false,
     "schema_version": 1,
     "solution": true
    }
   },
   "outputs": [
    {
     "data": {
      "text/plain": [
       "defined \u001b[32mfunction\u001b[39m \u001b[36mreverse_tr\u001b[39m"
      ]
     },
     "execution_count": 12,
     "metadata": {},
     "output_type": "execute_result"
    }
   ],
   "source": [
    "// BEGIN SOLUTION\n",
    "def reverse_tr(s : String, acc : String = \"\") : String = {\n",
    "    if (s.isEmpty()) {\n",
    "        return acc\n",
    "    }\n",
    "    val n = s.size\n",
    "    return reverse_tr(s.slice(0, n-1), acc + s(n-1))\n",
    "}\n",
    "// END SOLUTION"
   ]
  },
  {
   "cell_type": "code",
   "execution_count": 9,
   "metadata": {
    "nbgrader": {
     "grade": true,
     "grade_id": "cell-56099d8df8a74e27",
     "locked": true,
     "points": 1,
     "schema_version": 1,
     "solution": false
    }
   },
   "outputs": [],
   "source": [
    "assert(reverse_tr(\"\") == \"\", \"Failed on \\\"\\\"\")\n",
    "assert(reverse_tr(\"a\") == \"a\", \"Failed on \\\"a\\\"\")\n",
    "assert(reverse_tr(\"abcde\") == \"edcba\", \"Failed on \\\"abcde\\\"\")\n",
    "assert(reverse_tr(\"Mom's spaghetti\") == \"ittehgaps s'moM\", \"Failed on \\\"Mom's spaghetti\\\"\")"
   ]
  },
  {
   "cell_type": "markdown",
   "metadata": {},
   "source": [
    "# Inductive definitions\n",
    "## Grammars\n",
    "## Exercise: Give grammar for inductively defined set of numbers\n",
    "\n",
    "Convert the following inductive definition for sets given in english into a grammar.\n",
    "\n",
    "A set ($S$) is defined inductively as follows:\n",
    "- The empty set, $\\emptyset$, is a set\n",
    "- If $S$ is a set, then the insertion of a number is also a set: $S, n$.\n",
    "- If $S$ is a set, then its complement is also a set: $\\lnot S$\n",
    "- If $S_1$ and $S_2$ are sets, then so are the following:\n",
    "  - The intersection $S_1 \\bigcap S_2$.\n",
    "  - The union $S_1 \\bigcup S_2$.\n",
    "  - The subtraction $S_1 - S_2$.\n",
    "\n",
    "See the following table for the constructor symbols which correspond to the given syntax (use these in your solution):\n",
    "\n",
    "| Syntax | Constructor |\n",
    "|------|------|\n",
    "| $n$ | $\\textbf{int}$ |\n",
    "| $S$ | $\\textbf{Set}$ |\n",
    "| $\\emptyset$ | $Empty$ |\n",
    "| $S, n$ | $Cons$ |\n",
    "| $\\lnot S$ | $Complement$ |\n",
    "| $S_1 \\bigcap S_2$ | $Intersection$ |\n",
    "| $S_1 \\bigcup S_2$ | $Union$ |\n",
    "| $S_1 - S_2$ | $Subtraction$ |"
   ]
  },
  {
   "cell_type": "markdown",
   "metadata": {
    "nbgrader": {
     "grade": false,
     "grade_id": "cell-b498600ca3de5458",
     "locked": true,
     "schema_version": 1,
     "solution": false
    }
   },
   "source": [
    "$\\LaTeX$ to get you started:\n",
    "$$\n",
    "\\begin{array}{rcl}\n",
    "    \\textbf{Set} & \\rightarrow & Cons(\\textbf{Set}, n) \\\\\n",
    "                 &           | & TODO \\\\\n",
    "\\end{array}\n",
    "$$"
   ]
  },
  {
   "cell_type": "markdown",
   "metadata": {
    "nbgrader": {
     "grade": true,
     "grade_id": "cell-0bc75692ef5a3daa",
     "locked": false,
     "points": 1,
     "schema_version": 1,
     "solution": true
    }
   },
   "source": [
    "$$\n",
    "\\begin{array}{rcl}\n",
    "    \\textbf{Set} & \\rightarrow & Empty \\\\\n",
    "                 &           | & Cons(\\textbf{Set}, \\textbf{int}) \\\\\n",
    "                 &           | & Complement(\\textbf{Set}) \\\\\n",
    "                 &           | & Intersection(\\textbf{Set}, \\textbf{Set}) \\\\\n",
    "                 &           | & Union(\\textbf{Set}, \\textbf{Set}) \\\\\n",
    "                 &           | & Subtraction(\\textbf{Set}, \\textbf{Set}) \\\\\n",
    "\\end{array}\n",
    "$$"
   ]
  },
  {
   "cell_type": "markdown",
   "metadata": {
    "nbgrader": {
     "grade": false,
     "grade_id": "cell-bf27c5835c3e1c20",
     "locked": true,
     "schema_version": 1,
     "solution": false
    }
   },
   "source": [
    "## Exercise: Scala\n",
    "Give the Scala case classes that represent the same structure."
   ]
  },
  {
   "cell_type": "code",
   "execution_count": 10,
   "metadata": {
    "nbgrader": {
     "grade": false,
     "grade_id": "cell-08da72763665aaf9",
     "locked": false,
     "schema_version": 1,
     "solution": true
    }
   },
   "outputs": [
    {
     "data": {
      "text/plain": [
       "defined \u001b[32mtrait\u001b[39m \u001b[36mSet\u001b[39m\n",
       "defined \u001b[32mclass\u001b[39m \u001b[36mEmpty\u001b[39m\n",
       "defined \u001b[32mclass\u001b[39m \u001b[36mCons\u001b[39m\n",
       "defined \u001b[32mclass\u001b[39m \u001b[36mComplement\u001b[39m\n",
       "defined \u001b[32mclass\u001b[39m \u001b[36mIntersection\u001b[39m\n",
       "defined \u001b[32mclass\u001b[39m \u001b[36mUnion\u001b[39m\n",
       "defined \u001b[32mclass\u001b[39m \u001b[36mSubtraction\u001b[39m"
      ]
     },
     "execution_count": 10,
     "metadata": {},
     "output_type": "execute_result"
    }
   ],
   "source": [
    "// BEGIN SOLUTION\n",
    "sealed trait Set\n",
    "// Use the same constructors as above.\n",
    "case class Empty() extends Set\n",
    "case class Cons(s: Set, n: Int) extends Set\n",
    "case class Complement(s: Set) extends Set\n",
    "case class Intersection(s1: Set, s2: Set) extends Set\n",
    "case class Union(s1: Set, s2: Set) extends Set\n",
    "case class Subtraction(s1: Set, s2: Set) extends Set\n",
    "// END SOLUTION"
   ]
  },
  {
   "cell_type": "markdown",
   "metadata": {
    "nbgrader": {
     "grade": false,
     "grade_id": "cell-36db756670fb7035",
     "locked": true,
     "schema_version": 1,
     "solution": false
    }
   },
   "source": [
    "Create the following expressios as Scala values:\n",
    "1. $\\emptyset$\n",
    "2. $\\emptyset, 1, 2$\n",
    "3. $\\emptyset \\bigcup \\emptyset$\n",
    "4. $(\\emptyset \\bigcup \\emptyset) \\bigcap \\lnot \\emptyset$\n",
    "5. $\\emptyset - \\emptyset \\bigcup \\emptyset$"
   ]
  },
  {
   "cell_type": "code",
   "execution_count": 11,
   "metadata": {
    "nbgrader": {
     "grade": false,
     "grade_id": "cell-78c694043839ba98",
     "locked": false,
     "schema_version": 1,
     "solution": true
    },
    "scrolled": true
   },
   "outputs": [
    {
     "data": {
      "text/plain": [
       "\u001b[36mv1\u001b[39m: \u001b[32mEmpty\u001b[39m = \u001b[33mEmpty\u001b[39m()\n",
       "\u001b[36mv2\u001b[39m: \u001b[32mCons\u001b[39m = Cons(Cons(Empty(),1),2)\n",
       "\u001b[36mv3\u001b[39m: \u001b[32mUnion\u001b[39m = Union(Empty(),Empty())\n",
       "\u001b[36mv4\u001b[39m: \u001b[32mIntersection\u001b[39m = Intersection(Union(Empty(),Empty()),Complement(Empty()))\n",
       "\u001b[36mv5_option1\u001b[39m: \u001b[32mSubtraction\u001b[39m = Subtraction(Empty(),Intersection(Empty(),Empty()))\n",
       "\u001b[36mv5_option2\u001b[39m: \u001b[32mIntersection\u001b[39m = Intersection(Subtraction(Empty(),Empty()),Empty())"
      ]
     },
     "execution_count": 11,
     "metadata": {},
     "output_type": "execute_result"
    }
   ],
   "source": [
    "val v1 = Empty()\n",
    "val v2 = Cons(Cons(v1, 1), 2)\n",
    "val v3 = Union(v1, v1)\n",
    "val v4 = Intersection(v3, Complement(v1))\n",
    "// No parens, so either are valid\n",
    "val v5_option1 = Subtraction(v1, Intersection(v1, v1))\n",
    "val v5_option2 = Intersection(Subtraction(v1, v1), v1)\n",
    "// Why doesn't v2 need parens? Can't construct the set `1, 2`, so `Empty, 1` must go first"
   ]
  }
 ],
 "metadata": {
  "celltoolbar": "Create Assignment",
  "kernelspec": {
   "display_name": "Scala",
   "language": "scala",
   "name": "scala"
  },
  "language_info": {
   "codemirror_mode": "text/x-scala",
   "file_extension": ".scala",
   "mimetype": "text/x-scala",
   "name": "scala",
   "nbconvert_exporter": "script",
   "version": "2.12.8"
  }
 },
 "nbformat": 4,
 "nbformat_minor": 2
}
