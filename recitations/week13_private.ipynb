{
 "cells": [
  {
   "cell_type": "markdown",
   "metadata": {},
   "source": [
    "# CSCI 3155 Recitation 13\n",
    "\n",
    "April 19, 2019"
   ]
  },
  {
   "cell_type": "markdown",
   "metadata": {},
   "source": [
    "### Exercise\n",
    "Given the following classes:\n",
    "```scala\n",
    "class A {\n",
    "    def m1(): String = \"m1 in A\"\n",
    "    def m2(): String = \"m2 in A\"\n",
    "}\n",
    "\n",
    "abstract class B extends A {\n",
    "    def m1(): String = \"m1 in B\"\n",
    "    def m3(): String\n",
    "}\n",
    "\n",
    "trait C {\n",
    "    def m2(): String\n",
    "    def m3(): String = \"m3 in C\"\n",
    "}\n",
    "\n",
    "class D extends B with C {\n",
    "    def m2(x: Int): String = \"m2 in D\"\n",
    "    def m4(): String = \"m4 in D\"\n",
    "}\n",
    "```\n",
    "\n",
    "Write the result of each of the following calls, then comment on how overloading, overriding, and / or inheritance result in the given behavior. Assume the following has been run before each:\n",
    "```scala\n",
    "val d: D = new D()\n",
    "val a: A = new A()\n",
    "val a_from_d: A = d\n",
    "```\n",
    "1. `d.m1()`\n",
    "2. `d.m2()`\n",
    "3. `d.m2(46)`\n",
    "4. `d.m3()`\n",
    "5. `d.m4()`\n",
    "\n",
    "6. `a_from_d.m1()`\n",
    "7. `a_from_d.m2()`\n",
    "8. `a.m1()`\n",
    "9. `a.m2()`\n",
    "\n",
    "Next, say whether each of the following casts is valid\n",
    "1. `d.asInstanceOf[A]`\n",
    "2. `a_from_d.asInstanceOf[D]`\n",
    "3. `a_from_d.asInstanceOf[C]`\n",
    "4. `a.asInstanceOf[D]`"
   ]
  },
  {
   "cell_type": "markdown",
   "metadata": {},
   "source": [
    "### Solution\n",
    "1. `\"m1 in B\"` - D doesn't implement m1 directly, so the method defined by B is used, which overrides m1 on A.\n",
    "2. `\"m2 in A\"` - Method m2 on class D is overloaded, and this call is to the overload that also overrides m2 from B and implements m2 from C.\n",
    "3. `\"m2 in D\"` - Method m2 on class D is overloaded, and this call is to the overload that is not inherited from either B or C\n",
    "4. `\"m3 in C\"` - The implementation of m3 is inherited from C\n",
    "5. `\"m4 in D\"` - m4 is defined only by D, and so doesn't override anything.\n",
    "6. `\"m1 in B\"` - Though it has been cast to an A, the underlying object is still a D, and so we go through it's inheritance hierarchy and find that m1 is overriden in B.\n",
    "7. `\"m2 in A\"` - Since nothing overrides m2, we use the only implementation in our hierarchy, found in A.\n",
    "8. `\"m1 in A\"` - A does not inherit from anything, thus there is only one possible method to call.\n",
    "9. `\"m2 in A\"` - A does not inherit from anything, thus there is only one possible method to call.\n",
    "\n",
    "\n",
    "1. valid - D inherits from B which inherits from A, so (since inheritance is transitive) D \"is an\" A.\n",
    "2. valid - The object is a D, it's just being treated as an A by the type system, so this is safe.\n",
    "3. valid - The object is a D, it's just being treated as an A by the type system, so this is safe because D \"is a\" C (in other words, D <: C)\n",
    "4. invalid - a is not a D, so it doesn't have the methods class D claims to provide."
   ]
  },
  {
   "cell_type": "code",
   "execution_count": 1,
   "metadata": {},
   "outputs": [
    {
     "data": {
      "text/plain": [
       "defined \u001b[32mclass\u001b[39m \u001b[36mA\u001b[39m\n",
       "defined \u001b[32mclass\u001b[39m \u001b[36mB\u001b[39m\n",
       "defined \u001b[32mtrait\u001b[39m \u001b[36mC\u001b[39m\n",
       "defined \u001b[32mclass\u001b[39m \u001b[36mD\u001b[39m\n",
       "\u001b[36md\u001b[39m: \u001b[32mD\u001b[39m = ammonite.$sess.cmd0$Helper$D@bc9c617\n",
       "\u001b[36ma\u001b[39m: \u001b[32mA\u001b[39m = ammonite.$sess.cmd0$Helper$A@cd8e7b4\n",
       "\u001b[36ma_from_d\u001b[39m: \u001b[32mA\u001b[39m = ammonite.$sess.cmd0$Helper$D@bc9c617\n",
       "\u001b[36mres0_7\u001b[39m: \u001b[32mString\u001b[39m = \u001b[32m\"m1 in B\"\u001b[39m\n",
       "\u001b[36mres0_8\u001b[39m: \u001b[32mString\u001b[39m = \u001b[32m\"m2 in A\"\u001b[39m\n",
       "\u001b[36mres0_9\u001b[39m: \u001b[32mString\u001b[39m = \u001b[32m\"m2 in D\"\u001b[39m\n",
       "\u001b[36mres0_10\u001b[39m: \u001b[32mString\u001b[39m = \u001b[32m\"m3 in C\"\u001b[39m\n",
       "\u001b[36mres0_11\u001b[39m: \u001b[32mString\u001b[39m = \u001b[32m\"m4 in D\"\u001b[39m\n",
       "\u001b[36mres0_12\u001b[39m: \u001b[32mString\u001b[39m = \u001b[32m\"m1 in B\"\u001b[39m\n",
       "\u001b[36mres0_13\u001b[39m: \u001b[32mString\u001b[39m = \u001b[32m\"m2 in A\"\u001b[39m\n",
       "\u001b[36mres0_14\u001b[39m: \u001b[32mString\u001b[39m = \u001b[32m\"m1 in A\"\u001b[39m\n",
       "\u001b[36mres0_15\u001b[39m: \u001b[32mString\u001b[39m = \u001b[32m\"m2 in A\"\u001b[39m\n",
       "\u001b[36md_casted1\u001b[39m: \u001b[32mA\u001b[39m = ammonite.$sess.cmd0$Helper$D@bc9c617\n",
       "\u001b[36md_casted2\u001b[39m: \u001b[32mD\u001b[39m = ammonite.$sess.cmd0$Helper$D@bc9c617\n",
       "\u001b[36md_casted3\u001b[39m: \u001b[32mC\u001b[39m = ammonite.$sess.cmd0$Helper$D@bc9c617"
      ]
     },
     "execution_count": 1,
     "metadata": {},
     "output_type": "execute_result"
    }
   ],
   "source": [
    "class A {\n",
    "    def m1(): String = \"m1 in A\"\n",
    "    def m2(): String = \"m2 in A\"\n",
    "}\n",
    "\n",
    "abstract class B extends A {\n",
    "    override def m1(): String = \"m1 in B\"\n",
    "    def m3(): String\n",
    "}\n",
    "\n",
    "trait C {\n",
    "    def m2(): String\n",
    "    def m3(): String = \"m3 in C\"\n",
    "}\n",
    "\n",
    "class D extends B with C {\n",
    "    def m2(x: Int): String = \"m2 in D\"\n",
    "    def m4(): String = \"m4 in D\"\n",
    "}\n",
    "\n",
    "val d: D = new D()\n",
    "val a: A = new A()\n",
    "val a_from_d: A = d\n",
    "\n",
    "// SOLUTIOMN\n",
    "\n",
    "d.m1()\n",
    "d.m2()\n",
    "d.m2(46)\n",
    "d.m3()\n",
    "d.m4()\n",
    "\n",
    "a_from_d.m1()\n",
    "a_from_d.m2()\n",
    "a.m1()\n",
    "a.m2()\n",
    "\n",
    "val d_casted1 = d.asInstanceOf[A]\n",
    "val d_casted2 = a_from_d.asInstanceOf[D]\n",
    "val d_casted3 = a_from_d.asInstanceOf[C]\n",
    "// val d_casted4 = a.asInstanceOf[D]"
   ]
  },
  {
   "cell_type": "markdown",
   "metadata": {},
   "source": [
    "## Exercise: Bringing it all together\n",
    "\n",
    "We will create a simple class first and build to include more advanced topics each time.\n",
    "\n",
    "### Initial attempt\n",
    "The class below is our starting point"
   ]
  },
  {
   "cell_type": "code",
   "execution_count": 2,
   "metadata": {},
   "outputs": [
    {
     "data": {
      "text/plain": [
       "\u001b[32mimport \u001b[39m\u001b[36mscala.collection.mutable.Queue\n",
       "\n",
       "\u001b[39m\n",
       "defined \u001b[32mclass\u001b[39m \u001b[36mCoke\u001b[39m\n",
       "defined \u001b[32mclass\u001b[39m \u001b[36mCokeVendingMachine\u001b[39m"
      ]
     },
     "execution_count": 2,
     "metadata": {},
     "output_type": "execute_result"
    }
   ],
   "source": [
    "// Basic\n",
    "import scala.collection.mutable.Queue\n",
    "\n",
    "class Coke\n",
    "\n",
    "class CokeVendingMachine {\n",
    "    var money_collected: Int = 0\n",
    "\n",
    "    def drop(): Coke = new Coke()\n",
    "    \n",
    "    def purchase(payment: Int): Coke = {\n",
    "        this.money_collected += payment\n",
    "        this.drop()\n",
    "    }\n",
    "}"
   ]
  },
  {
   "cell_type": "code",
   "execution_count": 3,
   "metadata": {},
   "outputs": [
    {
     "data": {
      "text/plain": [
       "\u001b[36mcoke_vm\u001b[39m: \u001b[32mCokeVendingMachine\u001b[39m = ammonite.$sess.cmd1$Helper$CokeVendingMachine@e357a67\n",
       "\u001b[36mres2_1\u001b[39m: \u001b[32mCoke\u001b[39m = ammonite.$sess.cmd1$Helper$Coke@69133692"
      ]
     },
     "execution_count": 3,
     "metadata": {},
     "output_type": "execute_result"
    }
   ],
   "source": [
    "val coke_vm = new CokeVendingMachine()\n",
    "coke_vm.purchase(2)"
   ]
  },
  {
   "cell_type": "markdown",
   "metadata": {},
   "source": [
    "### Exercise: Inheritance and Generics\n",
    "We want to have vending machines that dispense different items, refactor the code to use a base `VendingMachine` type with a type parameter representing the product."
   ]
  },
  {
   "cell_type": "code",
   "execution_count": 4,
   "metadata": {},
   "outputs": [
    {
     "data": {
      "text/plain": [
       "defined \u001b[32mclass\u001b[39m \u001b[36mCoke\u001b[39m\n",
       "defined \u001b[32mclass\u001b[39m \u001b[36mVendingMachine\u001b[39m\n",
       "defined \u001b[32mclass\u001b[39m \u001b[36mCokeVendingMachine\u001b[39m"
      ]
     },
     "execution_count": 4,
     "metadata": {},
     "output_type": "execute_result"
    }
   ],
   "source": [
    "// Inheritance + Generics\n",
    "class Coke\n",
    "\n",
    "abstract class VendingMachine[TProduct] {\n",
    "    var money_collected: Int = 0\n",
    "\n",
    "    def drop(): TProduct\n",
    "    \n",
    "    def purchase(payment: Int): TProduct = {\n",
    "        this.money_collected += payment\n",
    "        this.drop()\n",
    "    }\n",
    "}\n",
    "\n",
    "class CokeVendingMachine extends VendingMachine[Coke] {\n",
    "    def drop() = new Coke()\n",
    "}"
   ]
  },
  {
   "cell_type": "code",
   "execution_count": 5,
   "metadata": {},
   "outputs": [
    {
     "data": {
      "text/plain": [
       "defined \u001b[32mclass\u001b[39m \u001b[36mChips\u001b[39m\n",
       "defined \u001b[32mclass\u001b[39m \u001b[36mChipVendingMachine\u001b[39m"
      ]
     },
     "execution_count": 5,
     "metadata": {},
     "output_type": "execute_result"
    }
   ],
   "source": [
    "class Chips\n",
    "\n",
    "class ChipVendingMachine extends VendingMachine[Chips] {\n",
    "    def drop() = new Chips()\n",
    "}"
   ]
  },
  {
   "cell_type": "markdown",
   "metadata": {},
   "source": [
    "### Exercise: Multiple Inheritance\n",
    "Next, we want to add 2 abilities to our vending machines:\n",
    "1. Create a `Serviceable` trait or abstract class with a method `def perform_maintenance()` and implement it for our `VendingMachine` class (so that it empties `money_collected`).\n",
    "2. Create a `Shakeable` trait or abstract class with a method `def shake(): ???` and implement it for our `VendingMachine` class (so that it empties calls drop). Figure out a way to replace the `???` with the product type."
   ]
  },
  {
   "cell_type": "code",
   "execution_count": 6,
   "metadata": {},
   "outputs": [
    {
     "data": {
      "text/plain": [
       "defined \u001b[32mclass\u001b[39m \u001b[36mCoke\u001b[39m\n",
       "defined \u001b[32mtrait\u001b[39m \u001b[36mServiceable\u001b[39m\n",
       "defined \u001b[32mtrait\u001b[39m \u001b[36mShakeable\u001b[39m\n",
       "defined \u001b[32mclass\u001b[39m \u001b[36mVendingMachine\u001b[39m\n",
       "defined \u001b[32mclass\u001b[39m \u001b[36mCokeVendingMachine\u001b[39m"
      ]
     },
     "execution_count": 6,
     "metadata": {},
     "output_type": "execute_result"
    }
   ],
   "source": [
    "// Traits\n",
    "class Coke\n",
    "\n",
    "trait Serviceable {\n",
    "    def perform_maintenance()\n",
    "}\n",
    "\n",
    "trait Shakeable[TStuffThatFallsOut] {\n",
    "    def shake(): TStuffThatFallsOut\n",
    "}\n",
    "\n",
    "abstract class VendingMachine[TProduct] extends Shakeable[TProduct] with Serviceable {\n",
    "    var money_collected: Int = 0\n",
    "\n",
    "    def drop(): TProduct\n",
    "    \n",
    "    def purchase(payment: Int): TProduct = {\n",
    "        this.money_collected += payment\n",
    "        this.drop()\n",
    "    }\n",
    "    \n",
    "    // For Serviceable trait\n",
    "    def perform_maintenance() {\n",
    "        // Clear collected money\n",
    "        this.money_collected = 0\n",
    "    }\n",
    "    \n",
    "    // For Shakeable trait\n",
    "    def shake(): TProduct = this.drop()\n",
    "}\n",
    "\n",
    "class CokeVendingMachine extends VendingMachine[Coke] {\n",
    "    def drop(): Coke = new Coke()\n",
    "}"
   ]
  },
  {
   "cell_type": "code",
   "execution_count": 7,
   "metadata": {},
   "outputs": [
    {
     "data": {
      "text/plain": [
       "\u001b[36mcoke_vm\u001b[39m: \u001b[32mCokeVendingMachine\u001b[39m = ammonite.$sess.cmd5$Helper$CokeVendingMachine@1df8677f\n",
       "\u001b[36mres6_1\u001b[39m: \u001b[32mCoke\u001b[39m = ammonite.$sess.cmd5$Helper$Coke@7fbfb2d6\n",
       "\u001b[36mcoke\u001b[39m: \u001b[32mCoke\u001b[39m = ammonite.$sess.cmd5$Helper$Coke@5a75d579\n",
       "defined \u001b[32mclass\u001b[39m \u001b[36mRoad\u001b[39m"
      ]
     },
     "execution_count": 7,
     "metadata": {},
     "output_type": "execute_result"
    }
   ],
   "source": [
    "val coke_vm = new CokeVendingMachine()\n",
    "coke_vm.purchase(2)\n",
    "assert(coke_vm.money_collected == 2)\n",
    "coke_vm.perform_maintenance()\n",
    "assert(coke_vm.money_collected == 0)\n",
    "val coke: Coke = coke_vm.shake()\n",
    "\n",
    "class Road extends Serviceable {\n",
    "    var potholes = 20\n",
    "    def perform_maintenance() {\n",
    "        this.potholes -= 1\n",
    "    }\n",
    "}"
   ]
  },
  {
   "cell_type": "markdown",
   "metadata": {},
   "source": [
    "### Exercise: Type Constraints\n",
    "Lets introduce vending machines that take specific payment types.\n",
    "Use the following to change the `purchase` method to take a specific payment type as opposed to an integer using generics:\n",
    "```scala\n",
    "abstract class PaymentMethod {\n",
    "    def get_amount(): Int = 5 // hardcoded for example\n",
    "}\n",
    "abstract class Card extends PaymentMethod\n",
    "class Credit extends Card\n",
    "class Cash extends PaymentMethod\n",
    "```\n",
    "Change `VendingMachine` as needed to specify a payment type."
   ]
  },
  {
   "cell_type": "code",
   "execution_count": 8,
   "metadata": {
    "scrolled": false
   },
   "outputs": [
    {
     "data": {
      "text/plain": [
       "defined \u001b[32mtrait\u001b[39m \u001b[36mServiceable\u001b[39m\n",
       "defined \u001b[32mclass\u001b[39m \u001b[36mCoke\u001b[39m\n",
       "defined \u001b[32mtrait\u001b[39m \u001b[36mShakeable\u001b[39m\n",
       "defined \u001b[32mclass\u001b[39m \u001b[36mPaymentMethod\u001b[39m\n",
       "defined \u001b[32mclass\u001b[39m \u001b[36mCard\u001b[39m\n",
       "defined \u001b[32mclass\u001b[39m \u001b[36mCredit\u001b[39m\n",
       "defined \u001b[32mclass\u001b[39m \u001b[36mCash\u001b[39m\n",
       "defined \u001b[32mclass\u001b[39m \u001b[36mVendingMachine\u001b[39m\n",
       "defined \u001b[32mclass\u001b[39m \u001b[36mCokeVendingMachine\u001b[39m"
      ]
     },
     "execution_count": 8,
     "metadata": {},
     "output_type": "execute_result"
    }
   ],
   "source": [
    "// Type constraints\n",
    "// Variance\n",
    "trait Serviceable {\n",
    "    def perform_maintenance()\n",
    "}\n",
    "\n",
    "class Coke\n",
    "\n",
    "trait Shakeable[TStuffThatFallsOut] {\n",
    "    def shake(): TStuffThatFallsOut\n",
    "}\n",
    "\n",
    "abstract class PaymentMethod {\n",
    "    def get_amount(): Int = 5 // hardcoded for example\n",
    "}\n",
    "abstract class Card extends PaymentMethod\n",
    "class Credit extends Card\n",
    "class Cash extends PaymentMethod\n",
    "\n",
    "abstract class VendingMachine[TPayment <: PaymentMethod, TProduct] extends Shakeable[TProduct] with Serviceable {\n",
    "    var money_collected: Int = 0\n",
    "\n",
    "    def drop(): TProduct\n",
    "    \n",
    "    def purchase(payment: TPayment): TProduct = {\n",
    "        this.money_collected += payment.get_amount()\n",
    "        this.drop()\n",
    "    }\n",
    "    \n",
    "    // For Serviceable trait\n",
    "    def perform_maintenance() {\n",
    "        // Clear collected money\n",
    "        this.money_collected = 0\n",
    "    }\n",
    "    \n",
    "    // For Shakeable trait\n",
    "    def shake(): TProduct = this.drop()\n",
    "}\n",
    "\n",
    "class CokeVendingMachine[TPayment <: PaymentMethod] extends VendingMachine[TPayment, Coke] {\n",
    "    def drop(): Coke = new Coke()\n",
    "}"
   ]
  },
  {
   "cell_type": "code",
   "execution_count": 9,
   "metadata": {},
   "outputs": [
    {
     "data": {
      "text/plain": [
       "\u001b[36mcard_coke_vm\u001b[39m: \u001b[32mCokeVendingMachine\u001b[39m[\u001b[32mCard\u001b[39m] = ammonite.$sess.cmd7$Helper$CokeVendingMachine@6feef8bc"
      ]
     },
     "execution_count": 9,
     "metadata": {},
     "output_type": "execute_result"
    }
   ],
   "source": [
    "// This may not work under some versions of the scala kernel,\n",
    "// but it's correct\n",
    "val card_coke_vm = new CokeVendingMachine[Card]()"
   ]
  },
  {
   "cell_type": "markdown",
   "metadata": {},
   "source": [
    "## Inheritance + Generics = Variance\n",
    "\n",
    "*Reminder*: `A <: B` means `A` is a subtype / inherits from / can replace `B`.\n",
    "\n",
    "| Name          | Scala         | English |\n",
    "|---------------|---------------|---------|\n",
    "| Invariant     | `class C[T]`  | If `A <: B` then `C[A]` has no relation to `C[B]`. `T` can be used anywhere.  |\n",
    "| Covariant     | `class C[+T]` | If `A <: B` then `C[A] <: C[B]` (same direction). `T` can only be used as input to methods.|\n",
    "| Contravariant | `class C[-T]` | If `A <: B` then `C[A] >: C[B]`  (oposite direction). `T` can only be used as output of methods. |"
   ]
  },
  {
   "cell_type": "markdown",
   "metadata": {},
   "source": [
    "### Exercise: Variance\n",
    "For each of the following, mark whether the class should be in- co- or contra-variant with each type parameter:\n",
    "\n",
    "1. A `RecyclingBin` class defined as follows:\n",
    "    ```scala\n",
    "    class RecyclingBin[TRecycleable] {\n",
    "        def recycle(trash: TRecycleable): Unit\n",
    "    }\n",
    "    ```\n",
    "\n",
    "2. If we made a class `ParkingMeter[PaymentMethod]` which takes in the specified type of payment, what would it's variance be?\n",
    "\n",
    "3. If we made a class `MovieNight[Genre]` which plays a movie of the given genre, what would it's variance be?\n",
    "\n",
    "4. If we made a class representing functions: `Function[InType, OutType]`, should it be co- or contravariant in `InType`? `OutType`?"
   ]
  },
  {
   "cell_type": "markdown",
   "metadata": {},
   "source": [
    "### Solution\n",
    "\n",
    "1. Contravariant. A recycling bin that takes all types of recycleables (paper, plastic, glass) can stand in for a paper recycling bin, but people can't put plastic in a paper recycling bin.\n",
    "2. Contravariant. A parking meter that takes any coin can stand in for one that only takes quarters, but the other way will not work.\n",
    "3. Covariant. A `MovieNight[FastAndFurious]` could stand in for a `MovieNight[Fiction]`, but playing an arbitrary fiction movie on Fast and Furious night will absolutely not suffice.\n",
    "4. Contravariant with `InType`, covariant with `OutType`. Since `Int <: Complex` and `PositiveInt <: Real`, a `Complex => PositiveInt` can stand in for a `Int => Real`. If we try it the other way then `Int => Real` can't take in `3 + 4i` and it won't necessarily produce a positive integer."
   ]
  },
  {
   "cell_type": "markdown",
   "metadata": {},
   "source": [
    "### Exercise: Back to the vending machines with variance\n",
    "Finally, we want the ability to use a vending machine that takes any payment type and dispenses coke in a place where a vending machine that takes cash and produces soda is expected. In other words, we want to define the variance of `VendingMachine`.\n",
    "\n",
    "Add the proper variance to any type parameters in order to make this happen.\n",
    "Use the following inheritance structure for coke:\n",
    "```scala\n",
    "abstract class Soda\n",
    "class Coke extends Soda\n",
    "```"
   ]
  },
  {
   "cell_type": "code",
   "execution_count": 10,
   "metadata": {},
   "outputs": [
    {
     "data": {
      "text/plain": [
       "\u001b[32mimport \u001b[39m\u001b[36mscala.collection.mutable.Queue\n",
       "\n",
       "\u001b[39m\n",
       "defined \u001b[32mtrait\u001b[39m \u001b[36mServiceable\u001b[39m\n",
       "defined \u001b[32mclass\u001b[39m \u001b[36mPaymentMethod\u001b[39m\n",
       "defined \u001b[32mclass\u001b[39m \u001b[36mCard\u001b[39m\n",
       "defined \u001b[32mclass\u001b[39m \u001b[36mCredit\u001b[39m\n",
       "defined \u001b[32mclass\u001b[39m \u001b[36mCash\u001b[39m\n",
       "defined \u001b[32mclass\u001b[39m \u001b[36mSoda\u001b[39m\n",
       "defined \u001b[32mclass\u001b[39m \u001b[36mCoke\u001b[39m\n",
       "defined \u001b[32mtrait\u001b[39m \u001b[36mShakeable\u001b[39m\n",
       "defined \u001b[32mclass\u001b[39m \u001b[36mVendingMachine\u001b[39m\n",
       "defined \u001b[32mclass\u001b[39m \u001b[36mCokeVendingMachine\u001b[39m"
      ]
     },
     "execution_count": 10,
     "metadata": {},
     "output_type": "execute_result"
    }
   ],
   "source": [
    "// Variance\n",
    "import scala.collection.mutable.Queue\n",
    "\n",
    "trait Serviceable {\n",
    "    def perform_maintenance()\n",
    "}\n",
    "\n",
    "abstract class PaymentMethod {\n",
    "    def get_amount(): Int = 5 // hardcoded for example, $5\n",
    "}\n",
    "abstract class Card extends PaymentMethod\n",
    "class Credit extends Card\n",
    "class Cash extends PaymentMethod\n",
    "\n",
    "abstract class Soda\n",
    "class Coke extends Soda\n",
    "\n",
    "trait Shakeable[+TStuffThatFallsOut] {\n",
    "    def shake(): TStuffThatFallsOut\n",
    "}\n",
    "\n",
    "abstract class VendingMachine[-TPayment <: PaymentMethod, +TProduct] extends Shakeable[TProduct] with Serviceable {\n",
    "    var money_collected: Int = 0\n",
    "\n",
    "    def drop(): TProduct\n",
    "    \n",
    "    def purchase(payment: TPayment): TProduct = {\n",
    "        this.money_collected += payment.get_amount()\n",
    "        this.drop()\n",
    "    }\n",
    "    \n",
    "    // For Serviceable trait\n",
    "    def perform_maintenance() {\n",
    "        // Clear collected money\n",
    "        this.money_collected = 0\n",
    "    }\n",
    "    \n",
    "    // For Shakeable trait\n",
    "    def shake(): TProduct = this.drop()\n",
    "}\n",
    "\n",
    "class CokeVendingMachine[-TPayment <: PaymentMethod] extends VendingMachine[TPayment, Coke] {\n",
    "    def drop(): Coke = new Coke()\n",
    "}"
   ]
  },
  {
   "cell_type": "code",
   "execution_count": 11,
   "metadata": {},
   "outputs": [
    {
     "data": {
      "text/plain": [
       "\u001b[36mcard_coke_vm\u001b[39m: \u001b[32mCokeVendingMachine\u001b[39m[\u001b[32mCard\u001b[39m] = ammonite.$sess.cmd9$Helper$CokeVendingMachine@6cd50cf3\n",
       "\u001b[36mcredit_soda_vm\u001b[39m: \u001b[32mVendingMachine\u001b[39m[\u001b[32mCredit\u001b[39m, \u001b[32mSoda\u001b[39m] = ammonite.$sess.cmd9$Helper$CokeVendingMachine@6cd50cf3"
      ]
     },
     "execution_count": 11,
     "metadata": {},
     "output_type": "execute_result"
    }
   ],
   "source": [
    "// This may not work under some versions of the scala kernel,\n",
    "// but it's correct\n",
    "val card_coke_vm = new CokeVendingMachine[Card]()\n",
    "val credit_soda_vm: VendingMachine[Credit, Soda] = card_coke_vm"
   ]
  },
  {
   "cell_type": "code",
   "execution_count": null,
   "metadata": {},
   "outputs": [],
   "source": []
  }
 ],
 "metadata": {
  "kernelspec": {
   "display_name": "Scala",
   "language": "scala",
   "name": "scala"
  },
  "language_info": {
   "codemirror_mode": "text/x-scala",
   "file_extension": ".scala",
   "mimetype": "text/x-scala",
   "name": "scala",
   "nbconvert_exporter": "script",
   "version": "2.12.8"
  }
 },
 "nbformat": 4,
 "nbformat_minor": 2
}
