{
 "cells": [
  {
   "cell_type": "markdown",
   "metadata": {},
   "source": [
    "# CSCI 3155 Recitation 11\n",
    "\n",
    "April 5, 2019"
   ]
  },
  {
   "cell_type": "markdown",
   "metadata": {},
   "source": [
    "## Exercise: Types in concrete and abstract syntax\n",
    "For the following program, add type annotations, write the resulting type of the entire expression, then convert it into abstract / concrete syntax.\n",
    "\n",
    "* Annotated: (multiple correct solutions)\n",
    "```\n",
    "let y = function(x) x in\n",
    "    let x = y(3) == 2 in function(f) f(5)\n",
    "```"
   ]
  },
  {
   "cell_type": "markdown",
   "metadata": {},
   "source": [
    "### Solution\n",
    "* Annotated: (multiple correct solutions)\n",
    "```\n",
    "let y: num => num = function(x: num) x in\n",
    "    let x: bool = y(3) == 2 in function(f: num => num => num) f(5)\n",
    "```\n",
    "* Result type: `(num => num => num) => num => num`\n",
    "* Abstract Syntax:\n",
    "```\n",
    "    Let(\n",
    "        \"y\",\n",
    "        FunType(NumType, NumType),\"\n",
    "        FunDef(\n",
    "            \"x\",\n",
    "            NumType,\n",
    "            Ident(\"x\")\n",
    "        ),\n",
    "        Let(\n",
    "            \"x\",\n",
    "            BoolType,\n",
    "            Eq(FunCall(Ident(\"Y\"), Const(3)), Const(2)),\n",
    "            FunDef(\n",
    "                \"f\",\n",
    "                FunType(NumType, FunType(NumType, NumType)),\n",
    "                FunCall(Ident(\"f\"), Const(5))\n",
    "            )\n",
    "        )\n",
    "    )\n",
    "```"
   ]
  },
  {
   "cell_type": "markdown",
   "metadata": {},
   "source": [
    "## Exercise: Typechecking rules\n",
    "Imagine we add references to our typed Lettuce:\n",
    "$$\\begin{array}{rcl}\n",
    "\\mathbf{Type} & \\rightarrow & NumType \\\\\n",
    "& | & BoolType \\\\\n",
    "& | & FunType(\\mathbf{Type}, \\mathbf{Type}) \\\\\n",
    "& | & \\color{red}{RefType(\\mathbf{Type})} \\\\\n",
    "\\end{array} $$\n",
    "\n",
    "Assume the type's concrete syntax is `ref(t)`\n",
    "\n",
    "Write rules for checking the type of a `DeRef` and `AssignRef`.\n",
    "\n",
    "Then, annotate the following program:\n",
    "```\n",
    "let x = NewRef(3) in function(y) AssignRef(x, y)\n",
    "```"
   ]
  },
  {
   "cell_type": "markdown",
   "metadata": {},
   "source": [
    "### Solution:\n",
    "$$\\newcommand\\typeOf{\\mathbf{typeOf}}$$\n",
    "$$\\newcommand\\semRule[3]{\\begin{array}{c} #1 \\\\ \\hline #2 \\\\ \\end{array}\\;(\\text{#3}) }$$\n",
    "$$\\semRule{\\typeOf(\\texttt{expr}, \\alpha) = \\texttt{RefType(}\\texttt{t)}}{ \\typeOf(\\texttt{DeRef(expr)}, \\alpha) =  t}{deref-ok}$$\n",
    "\n",
    "\n",
    "$$\\semRule{\\typeOf(\\texttt{e1}, \\alpha) = \\texttt{RefType(}\\texttt{t)}\\ \\typeOf(\\texttt{e2}, \\alpha) = t}{ \\typeOf(\\texttt{AssignRef(e1, e2)}, \\alpha) =  t}{assignref-ok}$$\n",
    "\n",
    "* Annotated:\n",
    "```\n",
    "let x: ref(num) = NewRef(3) in function(y: num) AssignRef(x, y)\n",
    "```\n",
    "* Result type: `num => num`\n",
    "* Abstract Syntax:\n",
    "```\n",
    "Let(\n",
    "    \"x\",\n",
    "    RefType(NumType),\n",
    "    NewRef(Const(3)),\n",
    "    FunDef(\n",
    "        \"y\",\n",
    "        NumType,\n",
    "        AssignRef(Ident(x), Ident(y))\n",
    "    )\n",
    ")\n",
    "```"
   ]
  },
  {
   "cell_type": "markdown",
   "metadata": {},
   "source": [
    "# REVIEW"
   ]
  },
  {
   "cell_type": "markdown",
   "metadata": {},
   "source": [
    "## Exercise: Generics\n",
    "**\\[generics\\]** **\\[CPS\\]** **\\[fold\\]**\n",
    "\n",
    "Implement a `zip` function that turns two lists into a list of tuples. It should work for all types.\n",
    "\n",
    "Next add a continuation to make it tail recursive.\n",
    "\n",
    "Next, do it with a fold."
   ]
  },
  {
   "cell_type": "code",
   "execution_count": 26,
   "metadata": {},
   "outputs": [
    {
     "data": {
      "text/plain": [
       "\u001b[32mimport \u001b[39m\u001b[36mscala.annotation.tailrec\n",
       "\n",
       "\n",
       "\u001b[39m\n",
       "\u001b[36ml1\u001b[39m: \u001b[32mList\u001b[39m[\u001b[32mInt\u001b[39m] = \u001b[33mList\u001b[39m(\u001b[32m1\u001b[39m, \u001b[32m2\u001b[39m, \u001b[32m3\u001b[39m, \u001b[32m4\u001b[39m)\n",
       "\u001b[36ml2\u001b[39m: \u001b[32mList\u001b[39m[\u001b[32mString\u001b[39m] = \u001b[33mList\u001b[39m(\u001b[32m\"a\"\u001b[39m, \u001b[32m\"b\"\u001b[39m, \u001b[32m\"c\"\u001b[39m, \u001b[32m\"d\"\u001b[39m)\n",
       "defined \u001b[32mfunction\u001b[39m \u001b[36mzip\u001b[39m\n",
       "defined \u001b[32mfunction\u001b[39m \u001b[36mzip_continuation\u001b[39m\n",
       "defined \u001b[32mfunction\u001b[39m \u001b[36mzip_fold\u001b[39m\n",
       "\u001b[36ml3\u001b[39m: \u001b[32mList\u001b[39m[(\u001b[32mInt\u001b[39m, \u001b[32mString\u001b[39m)] = \u001b[33mList\u001b[39m((\u001b[32m1\u001b[39m, \u001b[32m\"a\"\u001b[39m), (\u001b[32m2\u001b[39m, \u001b[32m\"b\"\u001b[39m), (\u001b[32m3\u001b[39m, \u001b[32m\"c\"\u001b[39m), (\u001b[32m4\u001b[39m, \u001b[32m\"d\"\u001b[39m))"
      ]
     },
     "execution_count": 26,
     "metadata": {},
     "output_type": "execute_result"
    }
   ],
   "source": [
    "import scala.annotation.tailrec\n",
    "\n",
    "\n",
    "val l1 = List(1, 2, 3, 4)\n",
    "val l2 = List(\"a\", \"b\", \"c\", \"d\")\n",
    "\n",
    "// BEGIN SOLUTION\n",
    "def zip[T1, T2](l1: List[T1], l2: List[T2]): List[(T1, T2)] = (l1, l2) match {\n",
    "    case (h1 :: t1, h2 :: t2) => (h1, h2) :: zip(t1, t2)\n",
    "    case _ => List()\n",
    "}\n",
    "\n",
    "\n",
    "@tailrec\n",
    "def zip_continuation[T1, T2, TFinal](l1: List[T1], l2: List[T2])(k: (List[(T1, T2)]) => TFinal): TFinal = (l1, l2) match {\n",
    "    case (h1 :: t1, h2 :: t2) => zip_continuation(t1, t2)(l => k((h1, h2) :: l))\n",
    "    case _ => k(List())\n",
    "}\n",
    "\n",
    "def zip_fold[T1, T2](l1: List[T1], l2: List[T2]): List[(T1, T2)] = \n",
    "    l1.foldLeft((List[(T1, T2)](), l2))(\n",
    "        (acc, el) => acc match {\n",
    "            case (l3, h :: t) => ((el, h) :: l3, t)\n",
    "        }\n",
    "    )._1.reverse\n",
    "// END SOLUTION\n",
    "\n",
    "val l3: List[(Int, String)] = zip(l1, l2)\n",
    "assert(zip(l1, l2) == l1.zip(l2))\n",
    "assert(zip(l2, l1) == l2.zip(l1))"
   ]
  },
  {
   "cell_type": "markdown",
   "metadata": {},
   "source": [
    "## Exercise: Generic folds\n",
    "**\\[generics\\]**, **\\[continuations\\]**, **\\[fold\\]**\n",
    "\n",
    "Implement `foldRight` and `foldLeft` supporting arbitrary types using tail-recursion (use continuations if needed). Feel free to add the extra parameter to the assert if you use continuations."
   ]
  },
  {
   "cell_type": "code",
   "execution_count": 6,
   "metadata": {},
   "outputs": [
    {
     "data": {
      "text/plain": [
       "\u001b[32mimport \u001b[39m\u001b[36mscala.annotation.tailrec\n",
       "\n",
       "\u001b[39m\n",
       "defined \u001b[32mfunction\u001b[39m \u001b[36mfoldLeft\u001b[39m\n",
       "defined \u001b[32mfunction\u001b[39m \u001b[36mfoldRight\u001b[39m\n",
       "defined \u001b[32mfunction\u001b[39m \u001b[36mid\u001b[39m"
      ]
     },
     "execution_count": 6,
     "metadata": {},
     "output_type": "execute_result"
    }
   ],
   "source": [
    "import scala.annotation.tailrec\n",
    "\n",
    "@tailrec\n",
    "// BEGIN SOLUTION\n",
    "def foldLeft[TElem, TAcc](l: List[TElem], init_acc: TAcc)(f: (TAcc, TElem) => TAcc): TAcc =\n",
    "    l match {\n",
    "        case Nil => init_acc\n",
    "        case el :: t => foldLeft(t, f(init_acc, el))( f)\n",
    "    }\n",
    "// END SOLUTION\n",
    "\n",
    "assert(foldLeft(List(1, 2, 3), 0  )((acc, el) => acc + el)          == 6)\n",
    "assert(foldLeft(List(1, 2, 3), \"0\")((acc, el) => acc + el.toString) == \"0123\")\n",
    "\n",
    "@tailrec\n",
    "// BEGIN SOLUTION\n",
    "// The default `id` for parameter k is optional. If we exclude it we'd just need to\n",
    "// pass it in during the test\n",
    "def foldRight[TElem, TAcc](l: List[TElem], init_acc: TAcc)(f: (TElem, TAcc) => TAcc, k: TAcc => TAcc = id[TAcc](_)): TAcc =\n",
    "    l match {\n",
    "        case Nil => k(init_acc)\n",
    "        case el :: t => foldRight(t, init_acc)(f, acc => k(f(el, acc)))\n",
    "    }\n",
    "def id[T](x: T): T = x\n",
    "// END SOLUTION\n",
    "\n",
    "assert(foldRight(List(1, 2, 3), 0  )((acc, el) => acc + el)          == 6)\n",
    "assert(foldRight(List(1, 2, 3), \"0\")((el, acc) => acc + el.toString) == \"0321\")"
   ]
  },
  {
   "cell_type": "markdown",
   "metadata": {},
   "source": [
    "## Exercise: Loop to fold / map / filter\n",
    "**\\[fold map filter\\]**\n",
    "\n",
    "Convert the following loops to their functional equivalents:"
   ]
  },
  {
   "cell_type": "code",
   "execution_count": 2,
   "metadata": {},
   "outputs": [
    {
     "data": {
      "text/plain": [
       "\u001b[36ml\u001b[39m: \u001b[32mList\u001b[39m[\u001b[32mInt\u001b[39m] = \u001b[33mList\u001b[39m(\u001b[32m4\u001b[39m, \u001b[32m6\u001b[39m, \u001b[32m2\u001b[39m, \u001b[32m8\u001b[39m, \u001b[32m5\u001b[39m, \u001b[32m12\u001b[39m, \u001b[32m16\u001b[39m)\n",
       "\u001b[36mx\u001b[39m: \u001b[32mString\u001b[39m = \u001b[32m\"481216\"\u001b[39m\n",
       "\u001b[36my\u001b[39m: \u001b[32mInt\u001b[39m = \u001b[32m16\u001b[39m\n",
       "\u001b[36mz\u001b[39m: \u001b[32mList\u001b[39m[\u001b[32mInt\u001b[39m] = \u001b[33mList\u001b[39m(\u001b[32m16\u001b[39m, \u001b[32m12\u001b[39m, \u001b[32m8\u001b[39m, \u001b[32m4\u001b[39m, \u001b[32m1\u001b[39m, \u001b[32m2\u001b[39m)\n",
       "\u001b[36mx_ans\u001b[39m: \u001b[32mString\u001b[39m = \u001b[32m\"481216\"\u001b[39m\n",
       "\u001b[36my_ans\u001b[39m: \u001b[32mInt\u001b[39m = \u001b[32m16\u001b[39m\n",
       "\u001b[36mz_ans\u001b[39m: \u001b[32mList\u001b[39m[\u001b[32mInt\u001b[39m] = \u001b[33mList\u001b[39m(\u001b[32m16\u001b[39m, \u001b[32m12\u001b[39m, \u001b[32m8\u001b[39m, \u001b[32m4\u001b[39m, \u001b[32m1\u001b[39m, \u001b[32m2\u001b[39m)"
      ]
     },
     "execution_count": 2,
     "metadata": {},
     "output_type": "execute_result"
    }
   ],
   "source": [
    "val l = List(4, 6, 2, 8, 5, 12, 16)\n",
    "\n",
    "var x = \"\"\n",
    "var y = 4\n",
    "var z = List(1, 2)\n",
    "for (element <- l) {\n",
    "    if (element % 4 == 0) {\n",
    "        x += element.toString\n",
    "        y = element\n",
    "        z = element :: z\n",
    "    }\n",
    "}\n",
    "\n",
    "// BEGIN SOLUTION\n",
    "val (x_ans, y_ans, z_ans) = l\n",
    "    .filter(element => element % 4 == 0)\n",
    "    .foldLeft((\"\", 4, List(1, 2)))(\n",
    "        (acc, el) => acc match {\n",
    "            case (x, y, z) => (x + el.toString, el, el :: z)\n",
    "        }\n",
    "    )\n",
    "// END SOLUTION\n",
    "\n",
    "assert(x == x_ans && y == y_ans && z == z_ans)"
   ]
  },
  {
   "cell_type": "code",
   "execution_count": 11,
   "metadata": {},
   "outputs": [
    {
     "data": {
      "text/plain": [
       "\u001b[36ml\u001b[39m: \u001b[32mList\u001b[39m[\u001b[32mInt\u001b[39m] = \u001b[33mList\u001b[39m(\u001b[32m4\u001b[39m, \u001b[32m6\u001b[39m, \u001b[32m2\u001b[39m, \u001b[32m8\u001b[39m, \u001b[32m5\u001b[39m, \u001b[32m12\u001b[39m, \u001b[32m6\u001b[39m)\n",
       "\u001b[36mx\u001b[39m: \u001b[32mList\u001b[39m[\u001b[32mInt\u001b[39m] = \u001b[33mList\u001b[39m(\u001b[32m12\u001b[39m, \u001b[32m18\u001b[39m, \u001b[32m6\u001b[39m, \u001b[32m15\u001b[39m, \u001b[32m18\u001b[39m)\n",
       "\u001b[36manswer\u001b[39m: \u001b[32mList\u001b[39m[\u001b[32mInt\u001b[39m] = \u001b[33mList\u001b[39m(\u001b[32m12\u001b[39m, \u001b[32m18\u001b[39m, \u001b[32m6\u001b[39m, \u001b[32m15\u001b[39m, \u001b[32m18\u001b[39m)"
      ]
     },
     "execution_count": 11,
     "metadata": {},
     "output_type": "execute_result"
    }
   ],
   "source": [
    "val l = List(4, 6, 2, 8, 5, 12, 6)\n",
    "\n",
    "var x = List[Int]()\n",
    "for (element <- l) {\n",
    "    if(element < 7) {\n",
    "        x = (element * 3) :: x\n",
    "    }\n",
    "}\n",
    "x = x.reverse\n",
    "\n",
    "// BEGIN SOLUTION\n",
    "val answer = l\n",
    "    .filter(el => el < 7)\n",
    "    .map(el => el * 3)\n",
    "// END SOLUTION\n",
    "\n",
    "assert(answer == x)"
   ]
  }
 ],
 "metadata": {
  "kernelspec": {
   "display_name": "Scala",
   "language": "scala",
   "name": "scala"
  },
  "language_info": {
   "codemirror_mode": "text/x-scala",
   "file_extension": ".scala",
   "mimetype": "text/x-scala",
   "name": "scala",
   "nbconvert_exporter": "script",
   "version": "2.12.8"
  }
 },
 "nbformat": 4,
 "nbformat_minor": 2
}
