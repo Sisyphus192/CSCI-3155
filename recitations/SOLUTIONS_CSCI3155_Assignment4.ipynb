{
 "cells": [
  {
   "cell_type": "markdown",
   "metadata": {
    "nbgrader": {
     "grade": false,
     "grade_id": "cell-554205c9fbf8e007",
     "locked": true,
     "schema_version": 1,
     "solution": false
    }
   },
   "source": [
    "# CSCI 3155: Assignment 4\n",
    "\n",
    "Topics Covered: Operations on inductive definitions."
   ]
  },
  {
   "cell_type": "markdown",
   "metadata": {},
   "source": [
    "__Name__: WRITE YOUR NAME HERE"
   ]
  },
  {
   "cell_type": "markdown",
   "metadata": {
    "nbgrader": {
     "grade": false,
     "grade_id": "cell-c96c33d1328b5f1b",
     "locked": true,
     "schema_version": 1,
     "solution": false
    }
   },
   "source": [
    "## Problem 1: Pattern Matching, Inductive Structures (40 points)\n",
    "\n",
    "This assignment asks you to implement `hasKey` and `deleteKey` operations on a Binary Search Tree (BST) in order to implement `deleteKey`. We have already seen how to  do some basic tasks on BSTs such as `isBST` and `insert` (lecture on Sept. 18, recitation on Sept. 21)."
   ]
  },
  {
   "cell_type": "markdown",
   "metadata": {
    "nbgrader": {
     "grade": false,
     "grade_id": "cell-00c7d2a86059598a",
     "locked": true,
     "schema_version": 1,
     "solution": false
    }
   },
   "source": [
    "### 1A: hasKey (5 points)\n",
    "\n",
    "Implement a `hasKey` function on binary search trees that returns `true` if a key `k` is present and `false` otherwise."
   ]
  },
  {
   "cell_type": "code",
   "execution_count": 1,
   "metadata": {
    "nbgrader": {
     "grade": false,
     "grade_id": "cell-8fa7eb048256fdff",
     "locked": true,
     "schema_version": 1,
     "solution": false
    }
   },
   "outputs": [
    {
     "data": {
      "text/plain": [
       "defined \u001b[32mfunction\u001b[39m \u001b[36mpassed\u001b[39m"
      ]
     },
     "execution_count": 1,
     "metadata": {},
     "output_type": "execute_result"
    }
   ],
   "source": [
    "// TEST HELPER\n",
    "def passed(points: Int) {\n",
    "    require(points >=0)\n",
    "    if (points == 1) print(s\"Tests Passed (1 point)\")\n",
    "    else print(s\"Tests Passed ($points points)\") \n",
    "}"
   ]
  },
  {
   "cell_type": "code",
   "execution_count": 2,
   "metadata": {
    "nbgrader": {
     "grade": false,
     "grade_id": "1a-answer",
     "locked": false,
     "schema_version": 1,
     "solution": true
    }
   },
   "outputs": [
    {
     "data": {
      "text/plain": [
       "defined \u001b[32mtrait\u001b[39m \u001b[36mNumTree\u001b[39m\n",
       "defined \u001b[32mobject\u001b[39m \u001b[36mLeaf\u001b[39m\n",
       "defined \u001b[32mclass\u001b[39m \u001b[36mNode\u001b[39m\n",
       "defined \u001b[32mfunction\u001b[39m \u001b[36mhasKey\u001b[39m"
      ]
     },
     "execution_count": 2,
     "metadata": {},
     "output_type": "execute_result"
    }
   ],
   "source": [
    "sealed trait NumTree\n",
    "case object Leaf extends NumTree\n",
    "case class Node(j: Int, left: NumTree, right: NumTree ) extends NumTree\n",
    "\n",
    "def hasKey(t: NumTree, k: Int): Boolean =\n",
    "    // BEGIN SOLUTION\n",
    "    t match {\n",
    "        case Leaf => false\n",
    "        case Node(j, left, right) => if (j == k) true else (hasKey(left, k) || hasKey(right, k))\n",
    "    }\n",
    "    // END SOLUTION"
   ]
  },
  {
   "cell_type": "code",
   "execution_count": 45,
   "metadata": {
    "nbgrader": {
     "grade": true,
     "grade_id": "1a-tests",
     "locked": true,
     "points": 5,
     "schema_version": 1,
     "solution": false
    }
   },
   "outputs": [
    {
     "name": "stdout",
     "output_type": "stream",
     "text": [
      "Tests Passed (5 points)"
     ]
    },
    {
     "data": {
      "text/plain": [
       "\u001b[36mt1\u001b[39m: \u001b[32mLeaf\u001b[39m.type = Leaf\n",
       "\u001b[36mt2\u001b[39m: \u001b[32mNode\u001b[39m = Node(10,Node(8,Leaf,Node(9,Leaf,Leaf)),Node(12,Node(11,Leaf,Leaf),Leaf))\n",
       "\u001b[36mt3\u001b[39m: \u001b[32mNode\u001b[39m = Node(20,Node(10,Node(8,Leaf,Node(9,Leaf,Leaf)),Node(12,Node(11,Leaf,Leaf),Leaf)),Node(25,Node(18,Leaf,Leaf),Leaf))"
      ]
     },
     "execution_count": 45,
     "metadata": {},
     "output_type": "execute_result"
    }
   ],
   "source": [
    "// BEGIN TESTS\n",
    "val t1 = Leaf\n",
    "assert(hasKey(t1, 20) == false, \"Test 1 failed: hasKey(Leaf, 20) should be false\")\n",
    "\n",
    "val t2 = Node(10, Node(8, Leaf, Node(9, Leaf, Leaf)), Node(12, Node(11, Leaf, Leaf), Leaf))\n",
    "assert(hasKey(t2, 10), \"Test 2 failed hasKey(t2, 10)\")\n",
    "assert(hasKey(t2, 11), \"Test 3 failed hasKey(t2, 11)\")\n",
    "assert(!hasKey(t2, 7), \"Test 4 failed !hasKey(t2, 7)\")\n",
    "\n",
    "val t3 = Node(20, t2, Node(25, Node(18, Leaf, Leaf), Leaf))\n",
    "assert(!hasKey(t3, 7), \"Test 5 failed !hasKey(t3, 7)\")\n",
    "assert(hasKey(t3, 12), \"Test 6 failed hasKey(t3, 12)\")\n",
    "\n",
    "passed(5)\n",
    "// END TESTS"
   ]
  },
  {
   "cell_type": "markdown",
   "metadata": {
    "nbgrader": {
     "grade": false,
     "grade_id": "cell-a707ddd95961ad6f",
     "locked": true,
     "schema_version": 1,
     "solution": false
    }
   },
   "source": [
    "### 1B: deleteMin (15 points)\n",
    "\n",
    "Implement a function `deleteMin(t: NumTree): (NumTree, Int)` that deletes the minimum element of a binary search tree `t` and returns a tuple of two things: (a) the new tree with the deletion and (b) the minimum of the old tree. "
   ]
  },
  {
   "cell_type": "code",
   "execution_count": 46,
   "metadata": {
    "nbgrader": {
     "grade": false,
     "grade_id": "1b-answer",
     "locked": false,
     "schema_version": 1,
     "solution": true
    }
   },
   "outputs": [
    {
     "data": {
      "text/plain": [
       "defined \u001b[32mfunction\u001b[39m \u001b[36mdeleteMin\u001b[39m"
      ]
     },
     "execution_count": 46,
     "metadata": {},
     "output_type": "execute_result"
    }
   ],
   "source": [
    "def deleteMin(t: NumTree): (NumTree, Int) =  {\n",
    "    require(t != Leaf)\n",
    "    // BEGIN SOLUTION\n",
    "    t match {\n",
    "        case Leaf => throw new IllegalArgumentException\n",
    "        case Node(j, Leaf, rChild) => (rChild, j)\n",
    "        case Node(j, lChild, rChild) => {\n",
    "            val (t1, j1) = deleteMin(lChild)\n",
    "            (Node(j, t1, rChild), j1)\n",
    "        }\n",
    "    }\n",
    "    // END SOLUTION\n",
    "}"
   ]
  },
  {
   "cell_type": "code",
   "execution_count": 47,
   "metadata": {
    "nbgrader": {
     "grade": true,
     "grade_id": "1b-test-left_leaf",
     "locked": true,
     "points": 5,
     "schema_version": 1,
     "solution": false
    }
   },
   "outputs": [
    {
     "name": "stdout",
     "output_type": "stream",
     "text": [
      "Tests Passed (3 points)"
     ]
    },
    {
     "data": {
      "text/plain": [
       "\u001b[36mt1\u001b[39m: \u001b[32mNode\u001b[39m = Node(10,Leaf,Leaf)\n",
       "\u001b[36mt1r\u001b[39m: \u001b[32mLeaf\u001b[39m.type = Leaf\n",
       "\u001b[36mt1res\u001b[39m: \u001b[32mNumTree\u001b[39m = Leaf\n",
       "\u001b[36mminval1\u001b[39m: \u001b[32mInt\u001b[39m = \u001b[32m10\u001b[39m"
      ]
     },
     "execution_count": 47,
     "metadata": {},
     "output_type": "execute_result"
    }
   ],
   "source": [
    "// BEGIN TESTS\n",
    "\n",
    "// TEST 1\n",
    "val t1 = Node(10, Leaf, Leaf )\n",
    "val t1r = Leaf\n",
    "val (t1res, minval1) = deleteMin(t1)\n",
    "assert((t1res, minval1) == (t1r, 10), s\"Test 1 failed: expected $t1r, obtained: ${(t1res, minval1)})\")\n",
    "\n",
    "passed(5)"
   ]
  },
  {
   "cell_type": "code",
   "execution_count": 48,
   "metadata": {
    "nbgrader": {
     "grade": true,
     "grade_id": "1b-test-large",
     "locked": true,
     "points": 10,
     "schema_version": 1,
     "solution": false
    }
   },
   "outputs": [
    {
     "name": "stdout",
     "output_type": "stream",
     "text": [
      "Tests Passed (7 points)"
     ]
    },
    {
     "data": {
      "text/plain": [
       "\u001b[36mt2\u001b[39m: \u001b[32mNode\u001b[39m = Node(10,Node(8,Leaf,Node(9,Leaf,Leaf)),Node(12,Node(11,Leaf,Leaf),Leaf))\n",
       "\u001b[36mt2r\u001b[39m: \u001b[32mNode\u001b[39m = Node(10,Node(9,Leaf,Leaf),Node(12,Node(11,Leaf,Leaf),Leaf))\n",
       "\u001b[36mt2res\u001b[39m: \u001b[32mNumTree\u001b[39m = Node(10,Node(9,Leaf,Leaf),Node(12,Node(11,Leaf,Leaf),Leaf))\n",
       "\u001b[36mminval2\u001b[39m: \u001b[32mInt\u001b[39m = \u001b[32m8\u001b[39m\n",
       "\u001b[36mt3\u001b[39m: \u001b[32mNode\u001b[39m = Node(20,Node(10,Node(8,Leaf,Node(9,Leaf,Leaf)),Node(12,Node(11,Leaf,Leaf),Leaf)),Node(25,Node(18,Leaf,Leaf),Leaf))\n",
       "\u001b[36mt3r\u001b[39m: \u001b[32mNode\u001b[39m = Node(20,Node(10,Node(9,Leaf,Leaf),Node(12,Node(11,Leaf,Leaf),Leaf)),Node(25,Node(18,Leaf,Leaf),Leaf))\n",
       "\u001b[36mt3res\u001b[39m: \u001b[32mNumTree\u001b[39m = Node(20,Node(10,Node(9,Leaf,Leaf),Node(12,Node(11,Leaf,Leaf),Leaf)),Node(25,Node(18,Leaf,Leaf),Leaf))\n",
       "\u001b[36mminval3\u001b[39m: \u001b[32mInt\u001b[39m = \u001b[32m8\u001b[39m\n",
       "\u001b[36mt4\u001b[39m: \u001b[32mNode\u001b[39m = Node(20,Node(10,Node(5,Node(2,Node(1,Leaf,Leaf),Node(3,Leaf,Leaf)),Leaf),Leaf),Leaf)\n",
       "\u001b[36mt4r\u001b[39m: \u001b[32mNode\u001b[39m = Node(20,Node(10,Node(5,Node(2,Leaf,Node(3,Leaf,Leaf)),Leaf),Leaf),Leaf)\n",
       "\u001b[36mt4res\u001b[39m: \u001b[32mNumTree\u001b[39m = Node(20,Node(10,Node(5,Node(2,Leaf,Node(3,Leaf,Leaf)),Leaf),Leaf),Leaf)\n",
       "\u001b[36mminval4\u001b[39m: \u001b[32mInt\u001b[39m = \u001b[32m1\u001b[39m"
      ]
     },
     "execution_count": 48,
     "metadata": {},
     "output_type": "execute_result"
    }
   ],
   "source": [
    "// TEST 2\n",
    "val t2 = Node(10, Node(8, Leaf, Node(9, Leaf, Leaf)), Node(12, Node(11, Leaf, Leaf), Leaf))\n",
    "val t2r = Node(10, Node(9, Leaf, Leaf), Node(12, Node(11, Leaf, Leaf), Leaf))\n",
    "val (t2res, minval2) = deleteMin(t2)\n",
    "assert((t2res, minval2) == (t2r, 8), s\"Test 2 failed: expected $t2r, obtained: (${(t2res, minval2)})\")\n",
    "\n",
    "// Test 3\n",
    "val t3 = Node(20, t2, Node(25, Node(18, Leaf, Leaf), Leaf))\n",
    "val t3r = Node(20, t2r, Node(25, Node(18, Leaf, Leaf), Leaf))\n",
    "val (t3res, minval3) = deleteMin(t3)\n",
    "assert((t3res, minval3) == (t3r, 8), s\"Test 3 failed: expected $t3r, obtained: (${(t3res, minval3)})\")\n",
    "\n",
    "// Test 4\n",
    "\n",
    "val t4 = Node(20, Node(10, Node(5, Node(2, Node(1, Leaf, Leaf), Node(3, Leaf, Leaf)), Leaf), Leaf), Leaf)\n",
    "val t4r = Node(20, Node(10, Node(5, Node(2, Leaf, Node(3, Leaf, Leaf)), Leaf), Leaf), Leaf)\n",
    "val (t4res, minval4) = deleteMin(t4)\n",
    "assert((t4res, minval4) == (t4r, 1), s\"Test 4 failed: expected $t4r, obtained: (${(t4res, minval4)})\")\n",
    "\n",
    "passed(10)\n",
    "// END TESTS"
   ]
  },
  {
   "cell_type": "markdown",
   "metadata": {
    "nbgrader": {
     "grade": false,
     "grade_id": "cell-989837fca92be5ec",
     "locked": true,
     "schema_version": 1,
     "solution": false
    }
   },
   "source": [
    "### 1C: deleteKey (20 points)\n",
    "\n",
    "Now implement a function `deleteKey(j: Int)` that deletes a given key from the BST. Assume that the key `j` to be deleted will be part of the BST.\n",
    "\n",
    "Recall how to do BST deletion:\n",
    "\n",
    "- First recursively get to the node to be deleted.\n",
    "- If one of its children is a `Leaf`, simply replace the node by the other child.\n",
    "- If both its children are non leaf, use `deleteMin` on the right child and \n",
    "   replace the node's value by the integer value returned by `deleteMin`, and the right child of the\n",
    "   node by the resulting tree of the `deleteMin`."
   ]
  },
  {
   "cell_type": "code",
   "execution_count": 49,
   "metadata": {
    "nbgrader": {
     "grade": false,
     "grade_id": "1c-answer",
     "locked": false,
     "schema_version": 1,
     "solution": true
    }
   },
   "outputs": [
    {
     "data": {
      "text/plain": [
       "defined \u001b[32mfunction\u001b[39m \u001b[36mdeleteKey\u001b[39m"
      ]
     },
     "execution_count": 49,
     "metadata": {},
     "output_type": "execute_result"
    }
   ],
   "source": [
    "def deleteKey(t: NumTree, j: Int): NumTree =\n",
    "    // BEGIN SOLUTION\n",
    "    t match {\n",
    "        case Leaf => Leaf\n",
    "        case Node(k, left, right) if j < k => Node(k, deleteKey(left, j), right)\n",
    "        case Node(k, left, right) if j > k => Node(k, left, deleteKey(right, j))\n",
    "        case Node(k, Leaf, right) if j == k => right\n",
    "        case Node(k, left, Leaf) if j == k => left\n",
    "        case Node(k, left, right) if j == k => {\n",
    "            val (rhat, v) = deleteMin(right)\n",
    "            Node(v, left, rhat)\n",
    "        }\n",
    "    }\n",
    "    // END SOLUTION"
   ]
  },
  {
   "cell_type": "code",
   "execution_count": 50,
   "metadata": {
    "nbgrader": {
     "grade": true,
     "grade_id": "1c-test-leaves",
     "locked": true,
     "points": 5,
     "schema_version": 1,
     "solution": false
    },
    "scrolled": false
   },
   "outputs": [
    {
     "name": "stdout",
     "output_type": "stream",
     "text": [
      "Tests Passed (2 points)"
     ]
    },
    {
     "data": {
      "text/plain": [
       "\u001b[36mt1\u001b[39m: \u001b[32mNode\u001b[39m = Node(10,Leaf,Leaf)"
      ]
     },
     "execution_count": 50,
     "metadata": {},
     "output_type": "execute_result"
    }
   ],
   "source": [
    "// BEGIN TESTS\n",
    "// TEST 1\n",
    "val t1 = Node(10, Leaf, Leaf )\n",
    "assert(deleteKey(t1, 10) == Leaf, \"Test 1 failed: deleteKey(t1, 10) == Leaf\")\n",
    "\n",
    "passed(5)"
   ]
  },
  {
   "cell_type": "code",
   "execution_count": 51,
   "metadata": {
    "nbgrader": {
     "grade": true,
     "grade_id": "1c-test-simple_search",
     "locked": true,
     "points": 5,
     "schema_version": 1,
     "solution": false
    }
   },
   "outputs": [
    {
     "name": "stdout",
     "output_type": "stream",
     "text": [
      "Tests Passed (2 points)"
     ]
    },
    {
     "data": {
      "text/plain": [
       "\u001b[36mt2\u001b[39m: \u001b[32mNode\u001b[39m = Node(10,Node(8,Leaf,Node(9,Leaf,Leaf)),Node(15,Leaf,Leaf))"
      ]
     },
     "execution_count": 51,
     "metadata": {},
     "output_type": "execute_result"
    }
   ],
   "source": [
    "// TEST 2\n",
    "val t2 = Node(10, Node(8, Leaf, Node(9, Leaf, Leaf)), Node(15, Leaf, Leaf))\n",
    "assert(deleteKey(t2, 8) == Node(10, Node(9, Leaf, Leaf), Node(15, Leaf, Leaf)), \"Test 2 failed\" )\n",
    "passed(5)"
   ]
  },
  {
   "cell_type": "code",
   "execution_count": 52,
   "metadata": {
    "nbgrader": {
     "grade": true,
     "grade_id": "1c-test-large",
     "locked": true,
     "points": 10,
     "schema_version": 1,
     "solution": false
    }
   },
   "outputs": [
    {
     "name": "stdout",
     "output_type": "stream",
     "text": [
      "Tests Passed (6 points)"
     ]
    },
    {
     "data": {
      "text/plain": [
       "\u001b[36mt3\u001b[39m: \u001b[32mNode\u001b[39m = Node(25,Node(10,Node(8,Leaf,Node(9,Leaf,Leaf)),Node(15,Leaf,Leaf)),Node(100,Leaf,Node(120,Leaf,Leaf)))\n",
       "\u001b[36mt4\u001b[39m: \u001b[32mNode\u001b[39m = Node(25,Leaf,Node(40,Node(35,Leaf,Leaf),Node(50,Node(49,Leaf,Leaf),Leaf)))\n",
       "\u001b[36mt4_expected\u001b[39m: \u001b[32mNode\u001b[39m = Node(25,Leaf,Node(49,Node(35,Leaf,Leaf),Node(50,Leaf,Leaf)))\n",
       "\u001b[36mt4_result\u001b[39m: \u001b[32mNumTree\u001b[39m = Node(25,Leaf,Node(49,Node(35,Leaf,Leaf),Node(50,Leaf,Leaf)))\n",
       "\u001b[36mt5_expected\u001b[39m: \u001b[32mNode\u001b[39m = Node(40,Node(35,Leaf,Leaf),Node(50,Node(49,Leaf,Leaf),Leaf))\n",
       "\u001b[36mt5_result\u001b[39m: \u001b[32mNumTree\u001b[39m = Node(40,Node(35,Leaf,Leaf),Node(50,Node(49,Leaf,Leaf),Leaf))\n",
       "\u001b[36mt6h1\u001b[39m: \u001b[32mNode\u001b[39m = Node(50,Node(45,Leaf,Leaf),Node(75,Node(73,Node(71,Node(69,Node(67,Node(64,Leaf,Leaf),Node(68,Leaf,Leaf)),Leaf),Leaf),Leaf),Leaf))\n",
       "\u001b[36mt6\u001b[39m: \u001b[32mNode\u001b[39m = Node(25,Node(10,Node(8,Leaf,Node(9,Leaf,Leaf)),Node(15,Leaf,Leaf)),Node(100,Node(50,Node(45,Leaf,Leaf),Node(75,Node(73,Node(71,Node(69,Node(67,Node(64,Leaf,Leaf),Node(68,Leaf,Leaf)),Leaf),Leaf),Leaf),Leaf)),Leaf))\n",
       "\u001b[36mt6h2\u001b[39m: \u001b[32mNode\u001b[39m = Node(64,Node(45,Leaf,Leaf),Node(75,Node(73,Node(71,Node(69,Node(67,Leaf,Node(68,Leaf,Leaf)),Leaf),Leaf),Leaf),Leaf))\n",
       "\u001b[36mt6_expected\u001b[39m: \u001b[32mNode\u001b[39m = Node(25,Node(10,Node(8,Leaf,Node(9,Leaf,Leaf)),Node(15,Leaf,Leaf)),Node(100,Node(64,Node(45,Leaf,Leaf),Node(75,Node(73,Node(71,Node(69,Node(67,Leaf,Node(68,Leaf,Leaf)),Leaf),Leaf),Leaf),Leaf)),Leaf))\n",
       "\u001b[36mt6_result\u001b[39m: \u001b[32mNumTree\u001b[39m = Node(25,Node(10,Node(8,Leaf,Node(9,Leaf,Leaf)),Node(15,Leaf,Leaf)),Node(100,Node(64,Node(45,Leaf,Leaf),Node(75,Node(73,Node(71,Node(69,Node(67,Leaf,Node(68,Leaf,Leaf)),Leaf),Leaf),Leaf),Leaf)),Leaf))"
      ]
     },
     "execution_count": 52,
     "metadata": {},
     "output_type": "execute_result"
    }
   ],
   "source": [
    "// TEST 3\n",
    "val t3 = Node(25, t2, Node(100, Leaf, Node(120, Leaf, Leaf)))\n",
    "assert(deleteKey(t3, 25) == Node(100, t2, Node(120, Leaf, Leaf)), \"Test 3 failed\")\n",
    "// Test 4\n",
    "val t4 = Node(25, Leaf, Node(40, Node(35, Leaf, Leaf), Node(50, Node(49, Leaf, Leaf), Leaf)))\n",
    "val t4_expected = Node(25, Leaf, Node(49, Node(35, Leaf, Leaf), Node(50, Leaf, Leaf)))\n",
    "val t4_result = deleteKey(t4, 40)\n",
    "assert(t4_result == t4_expected, \"Test 4 failed\")\n",
    "// Test 5 \n",
    "val t5_expected= Node(40,  Node(35, Leaf, Leaf), Node(50, Node(49, Leaf, Leaf), Leaf))\n",
    "val t5_result = deleteKey(t4, 25)\n",
    "assert(t5_result == t5_expected, \"Test 5 Failed\")\n",
    "// Test 6\n",
    "val t6h1 = Node(50, Node(45, Leaf, Leaf), Node(75, Node(73, Node(71, Node(69, Node(67, Node(64, Leaf, Leaf), Node(68, Leaf, Leaf)),Leaf), Leaf), Leaf), Leaf))\n",
    "val t6 = Node(25, t2, Node(100, t6h1, Leaf))\n",
    "val t6h2 = Node(64, Node(45, Leaf, Leaf), Node(75, Node(73, Node(71, Node(69, Node(67, Leaf, Node(68, Leaf, Leaf)),Leaf), Leaf), Leaf), Leaf))\n",
    "val t6_expected = Node(25, t2, Node(100, t6h2, Leaf))\n",
    "val t6_result = deleteKey(t6, 50)\n",
    "assert(t6_result == t6_expected, \"Test 6 failed\")\n",
    "\n",
    "passed(10)\n",
    "// END TESTS"
   ]
  }
 ],
 "metadata": {
  "celltoolbar": "Create Assignment",
  "kernelspec": {
   "display_name": "Scala",
   "language": "scala",
   "name": "scala"
  },
  "language_info": {
   "codemirror_mode": "text/x-scala",
   "file_extension": ".scala",
   "mimetype": "text/x-scala",
   "name": "scala211",
   "nbconvert_exporter": "script",
   "pygments_lexer": "scala",
   "version": "2.11.11"
  }
 },
 "nbformat": 4,
 "nbformat_minor": 2
}
