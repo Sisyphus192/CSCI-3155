{
 "cells": [
  {
   "cell_type": "markdown",
   "metadata": {
    "nbgrader": {
     "grade": false,
     "grade_id": "cell-e4ec8e4f42d06d14",
     "locked": true,
     "schema_version": 1,
     "solution": false
    }
   },
   "source": [
    "# Recitation 4\n",
    "Topics: Anonymous Functions, Semantics, Scoping"
   ]
  },
  {
   "cell_type": "markdown",
   "metadata": {
    "nbgrader": {
     "grade": false,
     "grade_id": "cell-b8df8cb319677f2a",
     "locked": true,
     "schema_version": 1,
     "solution": false
    }
   },
   "source": [
    "## Anonymous functions\n",
    "\n",
    "Syntax:\n",
    "```\n",
    "Scala:  (param1, param2) => expression\n",
    "Python: lambda param1, param2: expression\n",
    "Java:   (param1, param2) -> expression\n",
    "```"
   ]
  },
  {
   "cell_type": "markdown",
   "metadata": {
    "nbgrader": {
     "grade": false,
     "grade_id": "cell-79c2a81c668fa9d0",
     "locked": true,
     "schema_version": 1,
     "solution": false
    }
   },
   "source": [
    "### Exercise: Anonymous func intro\n",
    "Make anonymous functions that perform the requested operations. (Ok, we're putting them in variables, so they're not quite \"anonymous\")\n",
    "\n",
    "**WARNING**: `return` doesn't do what you expect in anonymous functions: https://stackoverflow.com/questions/17754976/scala-return-statements-in-anonymous-functions"
   ]
  },
  {
   "cell_type": "code",
   "execution_count": 1,
   "metadata": {
    "nbgrader": {
     "grade": false,
     "grade_id": "cell-ac54b03388c07a84",
     "locked": false,
     "schema_version": 1,
     "solution": true
    }
   },
   "outputs": [
    {
     "name": "stderr",
     "output_type": "stream",
     "text": [
      "cmd1.sc:21: missing parameter type\n",
      "val make_adder = (i: Int) => (f => j+i)\n",
      "                              ^cmd1.sc:21: not found: value j\n",
      "val make_adder = (i: Int) => (f => j+i)\n",
      "                                   ^Compilation Failed"
     ]
    },
    {
     "ename": "",
     "evalue": "",
     "output_type": "error",
     "traceback": [
      "Compilation Failed"
     ]
    }
   ],
   "source": [
    "// Returns true if input is 1, false otherwise\n",
    "val is_one = (i: Int) => if (i == 1) true else false\n",
    "assert(is_one(1))\n",
    "assert(!is_one(2))\n",
    "\n",
    "// new: pattern matching\n",
    "// Returns true if input is 1, false otherwise *using patterrn matching*\n",
    "val is_one_pattern = (i: Int) => i match{\n",
    "    case 1 => true\n",
    "    case _ => false\n",
    "} \n",
    "assert(is_one_pattern(1))\n",
    "assert(!is_one_pattern(2))\n",
    "\n",
    "// new: multi-param\n",
    "// Returns the addition of the inputs\n",
    "val add = (i: Int, j: Int) => i + j\n",
    "assert(add(1, 2) == 3)\n",
    "\n",
    "// new: return funcs\n",
    "// Returns a function that adds the given number to its input\n",
    "val make_adder = (i: Int) => (f => j+i)\n",
    "assert(make_adder(1)(2) == 3)\n",
    "\n",
    "// new: take funcs\n",
    "// Takes a function and applies it to 3\n",
    "val call_on_3: (Int => Int) => Int = ???\n",
    "assert(call_on_3((x) => x + 5) == 8)\n",
    "\n",
    "// new: statements\n",
    "// Any anonymous function with a loop in it\n",
    "val func_with_loop: (Int) => Unit = ???"
   ]
  },
  {
   "cell_type": "markdown",
   "metadata": {
    "nbgrader": {
     "grade": false,
     "grade_id": "cell-d2b8230885a2e1a4",
     "locked": true,
     "schema_version": 1,
     "solution": false
    }
   },
   "source": [
    "### Exercise: Mini interpreter\n",
    "Implement the function below to apply the operations, from left to right of the list to the input by passing an anonymous function to fold"
   ]
  },
  {
   "cell_type": "code",
   "execution_count": 8,
   "metadata": {
    "nbgrader": {
     "grade": false,
     "grade_id": "cell-6b837257055969c3",
     "locked": false,
     "schema_version": 1,
     "solution": true
    }
   },
   "outputs": [
    {
     "data": {
      "text/plain": [
       "defined \u001b[32mtrait\u001b[39m \u001b[36mOperation\u001b[39m\n",
       "defined \u001b[32mclass\u001b[39m \u001b[36mPlus\u001b[39m\n",
       "defined \u001b[32mclass\u001b[39m \u001b[36mMinus\u001b[39m\n",
       "defined \u001b[32mclass\u001b[39m \u001b[36mPow\u001b[39m\n",
       "defined \u001b[32mclass\u001b[39m \u001b[36mNestedOps\u001b[39m\n",
       "defined \u001b[32mobject\u001b[39m \u001b[36mSin\u001b[39m\n",
       "defined \u001b[32mfunction\u001b[39m \u001b[36mperform_ops\u001b[39m"
      ]
     },
     "execution_count": 8,
     "metadata": {},
     "output_type": "execute_result"
    }
   ],
   "source": [
    "sealed trait Operation\n",
    "case class Plus(n: Double) extends Operation\n",
    "case class Minus(n: Double) extends Operation\n",
    "case class Pow(n: Double) extends Operation\n",
    "case class NestedOps(ops: List[Operation]) extends Operation\n",
    "case object Sin extends Operation\n",
    "\n",
    "def perform_ops(init: Double, steps: List[Operation]): Double = {\n",
    "    steps.foldLeft(init)(\n",
    "        (acc, op) => op match {\n",
    "            case Plus(n) => acc + n\n",
    "            case Pow(n) => scala.math.pow(acc, n)\n",
    "            case Minus(n) => acc - n\n",
    "            case NestedOps(ops) => perform_ops(acc, ops)\n",
    "            case Sin => scala.math.sin(acc)\n",
    "        }\n",
    "    )\n",
    "}\n",
    "\n",
    "assert(perform_ops(5, List(Plus(5), Pow(2), NestedOps(List(Minus(3))))) == 97)"
   ]
  },
  {
   "cell_type": "markdown",
   "metadata": {},
   "source": [
    "### Exercise: Operartional semantics\n",
    "Write inference rules to define `Plus` and `NestedOps` (on paper)."
   ]
  },
  {
   "cell_type": "markdown",
   "metadata": {
    "nbgrader": {
     "grade": false,
     "grade_id": "cell-5a645649cac30f2f",
     "locked": true,
     "schema_version": 1,
     "solution": false
    }
   },
   "source": [
    "### Exercise: Sort\n",
    "Don't worry, you don't have to write quick-sort. Use Scala's built in `sortWith` to sort food in the requested ways with anonymous functions.\n",
    "\n",
    "```scala\n",
    "// Method of list class\n",
    "def sortWith(lt: (A, A) ⇒ Boolean): List[A]\n",
    "```"
   ]
  },
  {
   "cell_type": "code",
   "execution_count": 9,
   "metadata": {},
   "outputs": [
    {
     "data": {
      "text/plain": [
       "defined \u001b[32mclass\u001b[39m \u001b[36mFood\u001b[39m\n",
       "\u001b[36mdonut\u001b[39m: \u001b[32mFood\u001b[39m = \u001b[33mFood\u001b[39m(\u001b[32m300.0\u001b[39m, \u001b[32m1.5\u001b[39m)\n",
       "\u001b[36mgoat_cheese_spinach_kale_and_soy_infused_kombucha\u001b[39m: \u001b[32mFood\u001b[39m = \u001b[33mFood\u001b[39m(\u001b[32m-50.0\u001b[39m, \u001b[32m1000.0\u001b[39m)\n",
       "\u001b[36mbuffalo_chicken_pizza\u001b[39m: \u001b[32mFood\u001b[39m = \u001b[33mFood\u001b[39m(\u001b[32m500.0\u001b[39m, \u001b[32m20.0\u001b[39m)\n",
       "\u001b[36mmenu\u001b[39m: \u001b[32mList\u001b[39m[\u001b[32mFood\u001b[39m] = \u001b[33mList\u001b[39m(\n",
       "  \u001b[33mFood\u001b[39m(\u001b[32m300.0\u001b[39m, \u001b[32m1.5\u001b[39m),\n",
       "  \u001b[33mFood\u001b[39m(\u001b[32m-50.0\u001b[39m, \u001b[32m1000.0\u001b[39m),\n",
       "  \u001b[33mFood\u001b[39m(\u001b[32m500.0\u001b[39m, \u001b[32m20.0\u001b[39m)\n",
       ")\n",
       "\u001b[36msorted_by_calories\u001b[39m: \u001b[32mList\u001b[39m[\u001b[32mFood\u001b[39m] = \u001b[33mList\u001b[39m(\n",
       "  \u001b[33mFood\u001b[39m(\u001b[32m-50.0\u001b[39m, \u001b[32m1000.0\u001b[39m),\n",
       "  \u001b[33mFood\u001b[39m(\u001b[32m300.0\u001b[39m, \u001b[32m1.5\u001b[39m),\n",
       "  \u001b[33mFood\u001b[39m(\u001b[32m500.0\u001b[39m, \u001b[32m20.0\u001b[39m)\n",
       ")\n",
       "\u001b[36msorted_by_price\u001b[39m: \u001b[32mList\u001b[39m[\u001b[32mFood\u001b[39m] = \u001b[33mList\u001b[39m(\n",
       "  \u001b[33mFood\u001b[39m(\u001b[32m300.0\u001b[39m, \u001b[32m1.5\u001b[39m),\n",
       "  \u001b[33mFood\u001b[39m(\u001b[32m500.0\u001b[39m, \u001b[32m20.0\u001b[39m),\n",
       "  \u001b[33mFood\u001b[39m(\u001b[32m-50.0\u001b[39m, \u001b[32m1000.0\u001b[39m)\n",
       ")"
      ]
     },
     "execution_count": 9,
     "metadata": {},
     "output_type": "execute_result"
    }
   ],
   "source": [
    "case class Food(val calories: Double, val price: Double) // Like a sealed trait with fields\n",
    "\n",
    "val donut = Food(300, 1.50)\n",
    "val goat_cheese_spinach_kale_and_soy_infused_kombucha = Food(-50, 1000)\n",
    "val buffalo_chicken_pizza = Food(500, 20)\n",
    "\n",
    "val menu = List(donut, goat_cheese_spinach_kale_and_soy_infused_kombucha, buffalo_chicken_pizza)\n",
    "\n",
    "val sorted_by_calories = menu.sortWith(_.calories < _.calories)\n",
    "val sorted_by_price = menu.sortWith(_.price < _.price)\n",
    "\n",
    "assert(sorted_by_calories == List(goat_cheese_spinach_kale_and_soy_infused_kombucha, donut, buffalo_chicken_pizza))\n",
    "assert(sorted_by_price == List(donut, buffalo_chicken_pizza, goat_cheese_spinach_kale_and_soy_infused_kombucha))"
   ]
  },
  {
   "cell_type": "markdown",
   "metadata": {
    "nbgrader": {
     "grade": false,
     "grade_id": "cell-90a1c627f767f6d6",
     "locked": true,
     "schema_version": 1,
     "solution": false
    }
   },
   "source": [
    "## Scoping\n",
    "Declarations and bindings and scopes, oh my!"
   ]
  },
  {
   "cell_type": "markdown",
   "metadata": {
    "nbgrader": {
     "grade": false,
     "grade_id": "cell-ef512cdfe58014fd",
     "locked": true,
     "schema_version": 1,
     "solution": false
    }
   },
   "source": [
    "###  Exercise: Lettuce concrete syntax scoping\n",
    "For each variable use below, match each use with its declaration."
   ]
  },
  {
   "cell_type": "markdown",
   "metadata": {},
   "source": [
    "```\n",
    "let a = 5 in\n",
    "    let b = a in\n",
    "        let a = b in a + b\n",
    "```"
   ]
  },
  {
   "cell_type": "markdown",
   "metadata": {},
   "source": [
    "```\n",
    "let a = function(a)\n",
    "            let a = a in\n",
    "                a(5) + 4\n",
    "    in\n",
    "        function(b)\n",
    "            let a = a(let a = 5 in a) in\n",
    "                a(a(b))\n",
    "```"
   ]
  },
  {
   "cell_type": "markdown",
   "metadata": {},
   "source": [
    "###  Exercise: Lettuce abstract syntax scoping\n",
    "For each variable use below, match each use with its declaration."
   ]
  },
  {
   "cell_type": "markdown",
   "metadata": {},
   "source": [
    "```\n",
    "Let(\"x\",\n",
    "    Let(\"f\",\n",
    "        FunDef(\"y\"\n",
    "               Plus(Ident(\"x\", Ident(\"y\"))))\n",
    "        FunCall(Ident(\"f\"), Const(3))),\n",
    "    Let(\"y\",\n",
    "        Ident(\"x\"),\n",
    "        FunCall(Ident(\"f\"), Ident(\"y\")))\n",
    "```"
   ]
  },
  {
   "cell_type": "markdown",
   "metadata": {
    "nbgrader": {
     "grade": false,
     "grade_id": "cell-4cb09471788ab656",
     "locked": true,
     "schema_version": 1,
     "solution": false
    }
   },
   "source": [
    "###  Exercise: Scala concrete syntax scoping\n",
    "For each variable use below, match each use with its declaration."
   ]
  },
  {
   "cell_type": "code",
   "execution_count": 10,
   "metadata": {
    "scrolled": true
   },
   "outputs": [
    {
     "data": {
      "text/plain": [
       "\u001b[36mx\u001b[39m: \u001b[32mInt\u001b[39m = \u001b[32m5\u001b[39m\n",
       "\u001b[36my\u001b[39m: \u001b[32mInt\u001b[39m = \u001b[32m8\u001b[39m\n",
       "\u001b[36mf2\u001b[39m: \u001b[32mInt\u001b[39m => \u001b[32mInt\u001b[39m => \u001b[32mInt\u001b[39m = ammonite.$sess.cmd9$Helper$$Lambda$3497/0x0000000800e52840@6f02bc53\n",
       "\u001b[36mf3\u001b[39m: \u001b[32mInt\u001b[39m => \u001b[32mInt\u001b[39m => \u001b[32mInt\u001b[39m => \u001b[32mInt\u001b[39m = ammonite.$sess.cmd9$Helper$$Lambda$3498/0x0000000800e53840@56ea772f\n",
       "\u001b[36mres9_4\u001b[39m: \u001b[32mInt\u001b[39m = \u001b[32m5\u001b[39m"
      ]
     },
     "execution_count": 10,
     "metadata": {},
     "output_type": "execute_result"
    }
   ],
   "source": [
    "   val x = 5\n",
    "   val y = x + 3\n",
    "   val f2: (Int => Int) => Int = (y) => {\n",
    "       y(x)\n",
    "   }\n",
    "\n",
    "   val f3: ((Int => Int) => Int) => Int =\n",
    "       (f3) => f3((f3) => f3)\n",
    "   f3(f2)"
   ]
  },
  {
   "cell_type": "code",
   "execution_count": 11,
   "metadata": {},
   "outputs": [
    {
     "data": {
      "text/plain": [
       "\u001b[36mx\u001b[39m: \u001b[32mInt\u001b[39m = \u001b[32m5\u001b[39m\n",
       "\u001b[36mres10_1\u001b[39m: \u001b[32mInt\u001b[39m = \u001b[32m4\u001b[39m"
      ]
     },
     "execution_count": 11,
     "metadata": {},
     "output_type": "execute_result"
    }
   ],
   "source": [
    "   val x = 5\n",
    "   x match {\n",
    "       case x if x == x => {\n",
    "           val x = 4\n",
    "           x\n",
    "       }\n",
    "       case y if x == y =>\n",
    "           ((x: Int) => y + x)(x)\n",
    "       // Extra credit...\n",
    "       case `x` => x match {\n",
    "           case x @ `x` => x\n",
    "       }\n",
    "   }"
   ]
  },
  {
   "cell_type": "markdown",
   "metadata": {},
   "source": [
    "### End\n",
    "* Project\n",
    "    * Running\n",
    "    * Testing\n",
    "    * Zipping\n",
    "* Assignment 4\n",
    "* Assignment 5\n",
    "* Quiz"
   ]
  }
 ],
 "metadata": {
  "celltoolbar": "Create Assignment",
  "kernelspec": {
   "display_name": "Scala",
   "language": "scala",
   "name": "scala"
  },
  "language_info": {
   "codemirror_mode": "text/x-scala",
   "file_extension": ".scala",
   "mimetype": "text/x-scala",
   "name": "scala",
   "nbconvert_exporter": "script",
   "version": "2.12.8"
  }
 },
 "nbformat": 4,
 "nbformat_minor": 2
}
