{
 "cells": [
  {
   "cell_type": "markdown",
   "metadata": {},
   "source": [
    "# CSCI 3155 Recitation 11\n",
    "\n",
    "April 5, 2019"
   ]
  },
  {
   "cell_type": "markdown",
   "metadata": {},
   "source": [
    "## Exercise: Types in concrete and abstract syntax\n",
    "For the following program, add type annotations, write the resulting type of the entire expression, then convert it into abstract / concrete syntax.\n",
    "\n",
    "* Annotated: (multiple correct solutions)\n",
    "```\n",
    "let y = function(x) x in\n",
    "    let x = y(3) == 2 in function(f) f(5)\n",
    "```"
   ]
  },
  {
   "cell_type": "markdown",
   "metadata": {},
   "source": [
    "let y: num => num = function(x: num) x in\n",
    "    let x: bool = y(3) == 2 in function(f: num=>(num=>bool)) f(5)\n",
    "    \n",
    "let(\"y\", FuncType(NumType, NumType), FuncDef(\"x\", NumType, Ident(\"x\")), let(\"x\", BoolType, ..., FunDef(\"f\", FunType(NumType, FuntType))"
   ]
  },
  {
   "cell_type": "markdown",
   "metadata": {},
   "source": [
    "## Exercise: Typechecking rules\n",
    "Imagine we add references to our typed Lettuce:\n",
    "$$\\begin{array}{rcl}\n",
    "\\mathbf{Type} & \\rightarrow & NumType \\\\\n",
    "& | & BoolType \\\\\n",
    "& | & FunType(\\mathbf{Type}, \\mathbf{Type}) \\\\\n",
    "& | & \\color{red}{RefType(\\mathbf{Type})} \\\\\n",
    "\\end{array} $$\n",
    "\n",
    "Assume the type's concrete syntax is `ref(t)`\n",
    "\n",
    "Write rules for checking the type of a `DeRef` and `AssignRef`.\n",
    "\n",
    "Then, annotate the following program:\n",
    "```\n",
    "let x = NewRef(3) in function(y) AssignRef(x, y)\n",
    "```"
   ]
  },
  {
   "cell_type": "markdown",
   "metadata": {},
   "source": [
    "YOUR ANSWER HERE"
   ]
  },
  {
   "cell_type": "markdown",
   "metadata": {},
   "source": [
    "# REVIEW"
   ]
  },
  {
   "cell_type": "markdown",
   "metadata": {},
   "source": [
    "## Exercise: Generics\n",
    "**\\[generics\\]** **\\[CPS\\]** **\\[fold\\]**\n",
    "\n",
    "Implement a `zip` function that turns two lists into a list of tuples. It should work for all types.\n",
    "\n",
    "Next add a continuation to make it tail recursive.\n",
    "\n",
    "Next, do it with a fold."
   ]
  },
  {
   "cell_type": "code",
   "execution_count": 0,
   "metadata": {},
   "outputs": [
    {
     "ename": "",
     "evalue": "",
     "output_type": "error",
     "traceback": [
      "SyntaxError: found \"???\\n\\nval l3: List[(I\", expected \"@\" | LocalMod | AccessMod | `override` | Dcl | TraitDef | ClsDef | ObjDef at index 122",
      "???",
      "^"
     ]
    }
   ],
   "source": [
    "import scala.annotation.tailrec\n",
    "\n",
    "\n",
    "val l1 = List(1, 2, 3, 4)\n",
    "val l2 = List(\"a\", \"b\", \"c\", \"d\")\n",
    "\n",
    "@tailrec\n",
    "// YOUR CODE HERE\n",
    "???\n",
    "\n",
    "val l3: List[(Int, String)] = zip(l1, l2)\n",
    "assert(zip(l1, l2) == l1.zip(l2))\n",
    "assert(zip(l2, l1) == l2.zip(l1))"
   ]
  },
  {
   "cell_type": "markdown",
   "metadata": {},
   "source": [
    "## Exercise: Generic folds\n",
    "**\\[generics\\]**, **\\[continuations\\]**, **\\[fold\\]**\n",
    "\n",
    "Implement `foldRight` and `foldLeft` supporting arbitrary types using tail-recursion (use continuations if needed). Feel free to add the extra parameter to the assert if you use continuations."
   ]
  },
  {
   "cell_type": "code",
   "execution_count": 0,
   "metadata": {},
   "outputs": [
    {
     "ename": "",
     "evalue": "",
     "output_type": "error",
     "traceback": [
      "SyntaxError: found \"???\\n\\nassert(foldLeft\", expected \"@\" | LocalMod | AccessMod | `override` | Dcl | TraitDef | ClsDef | ObjDef at index 60",
      "???",
      "^"
     ]
    }
   ],
   "source": [
    "import scala.annotation.tailrec\n",
    "\n",
    "@tailrec\n",
    "// YOUR CODE HERE\n",
    "???\n",
    "\n",
    "assert(foldLeft(List(1, 2, 3), 0  )((acc, el) => acc + el)          == 6)\n",
    "assert(foldLeft(List(1, 2, 3), \"0\")((acc, el) => acc + el.toString) == \"0123\")\n",
    "\n",
    "@tailrec\n",
    "// YOUR CODE HERE\n",
    "???\n",
    "\n",
    "assert(foldRight(List(1, 2, 3), 0  )((acc, el) => acc + el)          == 6)\n",
    "assert(foldRight(List(1, 2, 3), \"0\")((el, acc) => acc + el.toString) == \"0321\")"
   ]
  },
  {
   "cell_type": "markdown",
   "metadata": {},
   "source": [
    "## Exercise: Loop to fold / map / filter\n",
    "**\\[fold map filter\\]**\n",
    "\n",
    "Convert the following loops to their functional equivalents:"
   ]
  },
  {
   "cell_type": "code",
   "execution_count": 0,
   "metadata": {},
   "outputs": [
    {
     "name": "stderr",
     "output_type": "stream",
     "text": [
      "cmd0.sc:17: not found: value x_ans\n",
      "val res0_6 = assert(x == x_ans && y == y_ans && z == z_ans)\n",
      "                         ^cmd0.sc:17: not found: value y_ans\n",
      "val res0_6 = assert(x == x_ans && y == y_ans && z == z_ans)\n",
      "                                       ^cmd0.sc:17: not found: value z_ans\n",
      "val res0_6 = assert(x == x_ans && y == y_ans && z == z_ans)\n",
      "                                                     ^"
     ]
    },
    {
     "ename": "",
     "evalue": "",
     "output_type": "error",
     "traceback": [
      "Compilation Failed"
     ]
    }
   ],
   "source": [
    "val l = List(4, 6, 2, 8, 5, 12, 16)\n",
    "\n",
    "var x = \"\"\n",
    "var y = 4\n",
    "var z = List(1, 2)\n",
    "for (element <- l) {\n",
    "    if (element % 4 == 0) {\n",
    "        x += element.toString\n",
    "        y = element\n",
    "        z = element :: z\n",
    "    }\n",
    "}\n",
    "\n",
    "// YOUR CODE HERE\n",
    "???\n",
    "\n",
    "assert(x == x_ans && y == y_ans && z == z_ans)"
   ]
  },
  {
   "cell_type": "code",
   "execution_count": 0,
   "metadata": {},
   "outputs": [
    {
     "name": "stderr",
     "output_type": "stream",
     "text": [
      "cmd0.sc:14: not found: value answer\n",
      "val res0_5 = assert(answer == x)\n",
      "                    ^"
     ]
    },
    {
     "ename": "",
     "evalue": "",
     "output_type": "error",
     "traceback": [
      "Compilation Failed"
     ]
    }
   ],
   "source": [
    "val l = List(4, 6, 2, 8, 5, 12, 6)\n",
    "\n",
    "var x = List[Int]()\n",
    "for (element <- l) {\n",
    "    if(element < 7) {\n",
    "        x = (element * 3) :: x\n",
    "    }\n",
    "}\n",
    "x = x.reverse\n",
    "\n",
    "// YOUR CODE HERE\n",
    "???\n",
    "\n",
    "assert(answer == x)"
   ]
  }
 ],
 "metadata": {
  "kernelspec": {
   "display_name": "Scala",
   "language": "scala",
   "name": "scala"
  },
  "language_info": {
   "codemirror_mode": "text/x-scala",
   "file_extension": ".scala",
   "mimetype": "text/x-scala",
   "name": "scala",
   "nbconvert_exporter": "script",
   "version": "2.12.8"
  }
 },
 "nbformat": 4,
 "nbformat_minor": 2
}
