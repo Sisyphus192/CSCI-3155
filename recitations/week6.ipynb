{
 "cells": [
  {
   "cell_type": "markdown",
   "metadata": {
    "nbgrader": {
     "grade": false,
     "grade_id": "cell-0bf4d589af6d5f9c",
     "locked": true,
     "schema_version": 1,
     "solution": false
    }
   },
   "source": [
    "# Recitation 6\n",
    "Topics: Higher order functions"
   ]
  },
  {
   "cell_type": "markdown",
   "metadata": {},
   "source": [
    "## Exercise: Fold\n",
    "\n",
    "Implement your own `foldLeft` function using:\n",
    "1. A loop\n",
    "2. Recursion\n",
    "3. Inference rules"
   ]
  },
  {
   "cell_type": "code",
   "execution_count": 1,
   "metadata": {},
   "outputs": [
    {
     "data": {
      "text/plain": [
       "defined \u001b[32mfunction\u001b[39m \u001b[36mfold_with_loop\u001b[39m\n",
       "\u001b[36mtest_list\u001b[39m: \u001b[32mList\u001b[39m[\u001b[32mInt\u001b[39m] = \u001b[33mList\u001b[39m(\u001b[32m1\u001b[39m, \u001b[32m5\u001b[39m, \u001b[32m9\u001b[39m)"
      ]
     },
     "execution_count": 1,
     "metadata": {},
     "output_type": "execute_result"
    }
   ],
   "source": [
    "def fold_with_loop(l: List[Int], init_acc: Int, f: (Int, Int) => Int): Int = {\n",
    "    var acc = init_acc\n",
    "    for (element <- l) {\n",
    "        acc = f(acc, element)\n",
    "    }\n",
    "    acc\n",
    "}\n",
    "\n",
    "val test_list = List(1, 5, 9)\n",
    "assert(fold_with_loop(test_list, 0, _ + _) == 15)"
   ]
  },
  {
   "cell_type": "code",
   "execution_count": 2,
   "metadata": {},
   "outputs": [
    {
     "data": {
      "text/plain": [
       "defined \u001b[32mfunction\u001b[39m \u001b[36mfold_with_recursion\u001b[39m"
      ]
     },
     "execution_count": 2,
     "metadata": {},
     "output_type": "execute_result"
    }
   ],
   "source": [
    "def fold_with_recursion(l: List[Int], init_acc: Int, f: (Int, Int) => Int): Int = \n",
    "    l match {\n",
    "        case Nil => init_acc\n",
    "        case element :: rest => fold_with_recursion(rest, f(init_acc, element), f)\n",
    "    }\n",
    "\n",
    "assert(fold_with_recursion(test_list, 0, _ + _) == 15)"
   ]
  },
  {
   "cell_type": "markdown",
   "metadata": {},
   "source": [
    "Nil rule:\n",
    "$$\n",
    "\\newcommand{\\t}[1]{\\texttt{#1}}\n",
    "\\begin{array}{c}\n",
    "\\hline\n",
    "\\t{fold}(\\t{Nil},\\ init\\_acc,\\ f) = init\\_acc \\\\\n",
    "\\end{array}\n",
    "$$\n",
    "\n",
    "---\n",
    "\n",
    "Cons rule:\n",
    "$$\n",
    "\\begin{array}{c}\n",
    "f(init\\_acc,\\ element) = n' \\\\\n",
    "\\t{fold}(rest,\\ n',\\ f) = n'' \\\\\n",
    "\\hline\n",
    "\\t{fold}(element :: rest,\\ init\\_acc,\\ f) = n'' \\\\\n",
    "\\end{array}\n",
    "$$"
   ]
  },
  {
   "cell_type": "markdown",
   "metadata": {},
   "source": [
    "## Exercise: Translate\n",
    "Translate the recursive function to a fold, then to inference rules"
   ]
  },
  {
   "cell_type": "code",
   "execution_count": 3,
   "metadata": {},
   "outputs": [
    {
     "data": {
      "text/plain": [
       "defined \u001b[32mfunction\u001b[39m \u001b[36mmap_rec\u001b[39m\n",
       "defined \u001b[32mfunction\u001b[39m \u001b[36mmap_fold\u001b[39m\n",
       "\u001b[36mf\u001b[39m: \u001b[32mInt\u001b[39m => \u001b[32mInt\u001b[39m = ammonite.$sess.cmd2$Helper$$Lambda$2692/0x0000000800d09840@2adc8ed4\n",
       "\u001b[36ml\u001b[39m: \u001b[32mList\u001b[39m[\u001b[32mInt\u001b[39m] = \u001b[33mList\u001b[39m(\u001b[32m3\u001b[39m, \u001b[32m94\u001b[39m, \u001b[32m0\u001b[39m)"
      ]
     },
     "execution_count": 3,
     "metadata": {},
     "output_type": "execute_result"
    }
   ],
   "source": [
    "def map_rec(l: List[Int], f: Int => Int): List[Int] = {\n",
    "    l match {\n",
    "        case Nil => Nil\n",
    "        case element :: rest => f(element) :: map_rec(rest, f)\n",
    "    }\n",
    "}\n",
    "\n",
    "// Implement map with fold\n",
    "def map_fold(l: List[Int], f: Int => Int): List[Int] =\n",
    "    l.foldRight(Nil: List[Int])(\n",
    "        (element, acc) => f(element) :: acc\n",
    "    )\n",
    "\n",
    "val f: Int => Int = _ + 1\n",
    "val l = List(3, 94, 0)\n",
    "assert(map_fold(l, f) == l.map(f))"
   ]
  },
  {
   "cell_type": "markdown",
   "metadata": {},
   "source": [
    "Nil rule:\n",
    "$$\n",
    "\\newcommand{\\t}[1]{\\texttt{#1}}\n",
    "\\begin{array}{c}\n",
    "\\hline\n",
    "\\t{map}(\\t{Nil},\\ f) = \\t{Nil} \\\\\n",
    "\\end{array}\n",
    "$$\n",
    "\n",
    "---\n",
    "\n",
    "Cons rule:\n",
    "$$\n",
    "\\begin{array}{c}\n",
    "f(\\ element) = element' \\\\\n",
    "\\t{map}(rest, \\ f) = rest' \\\\\n",
    "\\hline\n",
    "\\t{map}(element :: rest,\\ f) = element' :: rest' \\\\\n",
    "\\end{array}\n",
    "$$"
   ]
  },
  {
   "cell_type": "markdown",
   "metadata": {},
   "source": [
    "## Exercise: Manipulating logs\n",
    "\n",
    "We have a file that contains a series of log messages, and we want to manipulate them programatically."
   ]
  },
  {
   "cell_type": "code",
   "execution_count": 4,
   "metadata": {
    "scrolled": false
   },
   "outputs": [
    {
     "data": {
      "text/plain": [
       "\u001b[36mlogs\u001b[39m: \u001b[32mList\u001b[39m[\u001b[32mString\u001b[39m] = \u001b[33mList\u001b[39m(\n",
       "  \u001b[32m\"ERROR   (0034) Your toast is burning\"\u001b[39m,\n",
       "  \u001b[32m\"WARNING (0030) No need for a good error message, this'll never break!\"\u001b[39m,\n",
       "  \u001b[32m\"WARNING (0031) Stack overflow is down, abandon ship!\"\u001b[39m,\n",
       "  \u001b[32m\"ERROR   (0026) 'cpu' not found. To continue, please run `apt install cpu`\"\u001b[39m,\n",
       "  \u001b[32m\"ERROR   (0032) Perfectly balanced...\"\u001b[39m,\n",
       "  \u001b[32m\"WARNING (0033) ... as all things should be\"\u001b[39m,\n",
       "  \u001b[32m\"ERROR   (0028) \\\"'You miss 100% of the shots you don't take -Wayne Gretsky' -Michael Scott\\\" -PPL\"\u001b[39m,\n",
       "  \u001b[32m\"ERRORR  (ABCD) Error: there are an errors in this error message.\"\u001b[39m,\n",
       "  \u001b[32m\"ERROR   (0027) The real slim shady didn't stand up\"\u001b[39m,\n",
       "  \u001b[32m\"ERROR   (5059) Send me $100 in bitcoin - from your boss\"\u001b[39m,\n",
       "  \u001b[32m\"WARNING (0029) Your computer is about to explode\"\u001b[39m\n",
       ")\n",
       "defined \u001b[32mtrait\u001b[39m \u001b[36mAlertLevel\u001b[39m\n",
       "defined \u001b[32mobject\u001b[39m \u001b[36mERROR\u001b[39m\n",
       "defined \u001b[32mobject\u001b[39m \u001b[36mWARNING\u001b[39m\n",
       "defined \u001b[32mclass\u001b[39m \u001b[36mLog\u001b[39m\n",
       "\u001b[36mres3_5\u001b[39m: \u001b[32mLog\u001b[39m = \u001b[33mLog\u001b[39m(ERROR, \u001b[32m34\u001b[39m, \u001b[32m\"Your toast is burning\"\u001b[39m)"
      ]
     },
     "execution_count": 4,
     "metadata": {},
     "output_type": "execute_result"
    }
   ],
   "source": [
    "val logs = List(\n",
    "    \"ERROR   (0034) Your toast is burning\",\n",
    "    \"WARNING (0030) No need for a good error message, this'll never break!\",\n",
    "    \"WARNING (0031) Stack overflow is down, abandon ship!\",\n",
    "    \"ERROR   (0026) 'cpu' not found. To continue, please run `apt install cpu`\",\n",
    "    \"ERROR   (0032) Perfectly balanced...\",\n",
    "    \"WARNING (0033) ... as all things should be\",\n",
    "    \"ERROR   (0028) \\\"'You miss 100% of the shots you don't take -Wayne Gretsky' -Michael Scott\\\" -PPL\",\n",
    "    \"ERRORR  (ABCD) Error: there are an errors in this error message.\",\n",
    "    \"ERROR   (0027) The real slim shady didn't stand up\",\n",
    "    \"ERROR   (5059) Send me $100 in bitcoin - from your boss\",\n",
    "    \"WARNING (0029) Your computer is about to explode\"\n",
    ")\n",
    "\n",
    "sealed trait AlertLevel\n",
    "case object ERROR extends AlertLevel\n",
    "case object WARNING extends AlertLevel\n",
    "\n",
    "case class Log(val alert_level: AlertLevel, val time: Int, val msg: String)\n",
    "\n",
    "// As an example, the first log in the list should parse to:\n",
    "Log(ERROR, 34, \"Your toast is burning\")"
   ]
  },
  {
   "cell_type": "code",
   "execution_count": 5,
   "metadata": {},
   "outputs": [
    {
     "data": {
      "text/plain": [
       "\u001b[32mimport \u001b[39m\u001b[36m$ivy.$                                                       \n",
       "\u001b[39m\n",
       "\u001b[32mimport \u001b[39m\u001b[36mscala.util.parsing.combinator.RegexParsers\n",
       "\n",
       "\u001b[39m\n",
       "defined \u001b[32mobject\u001b[39m \u001b[36mLogParser\u001b[39m"
      ]
     },
     "execution_count": 5,
     "metadata": {},
     "output_type": "execute_result"
    }
   ],
   "source": [
    "// Setup for later. You can ignore this.\n",
    "// This will download stuff the first time you run it\n",
    "\n",
    "import $ivy.`org.scala-lang.modules::scala-parser-combinators:1.1.1`\n",
    "import scala.util.parsing.combinator.RegexParsers\n",
    "\n",
    "object LogParser extends RegexParsers {\n",
    "    val id: Parser[Int] = raw\"[0-9]{4}\".r ^^ (_.toInt)\n",
    "    def alert_level: Parser[AlertLevel] = (\"WARNING\" ^^^ WARNING) | (\"ERROR\" ^^^ ERROR)\n",
    "    def msg: Parser[String] = raw\".*\".r\n",
    "    def log: Parser[Log] = alert_level ~ (\"(\" ~> id <~ \")\") ~ msg ^^ {\n",
    "        case level ~ id ~ msg => Log(level, id, msg)\n",
    "    }\n",
    "    def apply(input: String) = parseAll(log, input)\n",
    "}"
   ]
  },
  {
   "cell_type": "code",
   "execution_count": 6,
   "metadata": {},
   "outputs": [
    {
     "data": {
      "text/plain": [
       "\u001b[32mimport \u001b[39m\u001b[36mLogParser.{ ParseResult, Success, Failure }\n",
       "\n",
       "\u001b[39m\n",
       "defined \u001b[32mfunction\u001b[39m \u001b[36mfilter\u001b[39m\n",
       "defined \u001b[32mfunction\u001b[39m \u001b[36mparse_log\u001b[39m"
      ]
     },
     "execution_count": 6,
     "metadata": {},
     "output_type": "execute_result"
    }
   ],
   "source": [
    "// More setup that can be ignored\n",
    "\n",
    "import LogParser.{ ParseResult, Success, Failure }\n",
    "\n",
    "def filter(result: ParseResult[Log], f: Log => Boolean, error_msg: String): ParseResult[Log] =\n",
    "    result.filterWithError(f, (_) => error_msg, result.next)\n",
    "\n",
    "def parse_log = LogParser.apply(_)"
   ]
  },
  {
   "cell_type": "markdown",
   "metadata": {},
   "source": [
    "## The actual questions\n",
    "\n",
    "For the following problems, you'll find this info useful:\n",
    "\n",
    "We defined a parse function above, with the following type:\n",
    "```scala\n",
    "def parse_log(input: String): ParseResult[Log]\n",
    "```\n",
    "\n",
    "A `ParseResult` has 2 cases that we care about (both with a parameter that doesn't matter)\n",
    "```scala\n",
    "sealed trait ParseResult\n",
    "case class Success(result: Log, ignore_this)\n",
    "case class Failure(msg: String, ignore_this)\n",
    "```"
   ]
  },
  {
   "cell_type": "code",
   "execution_count": 7,
   "metadata": {
    "scrolled": true
   },
   "outputs": [
    {
     "data": {
      "text/plain": [
       "\u001b[36mparse_results\u001b[39m: \u001b[32mList\u001b[39m[\u001b[32mParseResult\u001b[39m[\u001b[32mLog\u001b[39m]] = \u001b[33mList\u001b[39m(\n",
       "  \u001b[33mSuccess\u001b[39m(\u001b[33mLog\u001b[39m(ERROR, \u001b[32m34\u001b[39m, \u001b[32m\"Your toast is burning\"\u001b[39m), CharSequenceReader()),\n",
       "  \u001b[33mSuccess\u001b[39m(\n",
       "    \u001b[33mLog\u001b[39m(WARNING, \u001b[32m30\u001b[39m, \u001b[32m\"No need for a good error message, this'll never break!\"\u001b[39m),\n",
       "    CharSequenceReader()\n",
       "  ),\n",
       "  \u001b[33mSuccess\u001b[39m(\n",
       "    \u001b[33mLog\u001b[39m(WARNING, \u001b[32m31\u001b[39m, \u001b[32m\"Stack overflow is down, abandon ship!\"\u001b[39m),\n",
       "    CharSequenceReader()\n",
       "  ),\n",
       "  \u001b[33mSuccess\u001b[39m(\n",
       "    \u001b[33mLog\u001b[39m(ERROR, \u001b[32m26\u001b[39m, \u001b[32m\"'cpu' not found. To continue, please run `apt install cpu`\"\u001b[39m),\n",
       "    CharSequenceReader()\n",
       "  ),\n",
       "  \u001b[33mSuccess\u001b[39m(\u001b[33mLog\u001b[39m(ERROR, \u001b[32m32\u001b[39m, \u001b[32m\"Perfectly balanced...\"\u001b[39m), CharSequenceReader()),\n",
       "  \u001b[33mSuccess\u001b[39m(\u001b[33mLog\u001b[39m(WARNING, \u001b[32m33\u001b[39m, \u001b[32m\"... as all things should be\"\u001b[39m), CharSequenceReader()),\n",
       "  \u001b[33mSuccess\u001b[39m(\n",
       "    \u001b[33mLog\u001b[39m(\n",
       "      ERROR,\n",
       "      \u001b[32m28\u001b[39m,\n",
       "      \u001b[32m\"\\\"'You miss 100% of the shots you don't take -Wayne Gretsky' -Michael Scott\\\" -PPL\"\u001b[39m\n",
       "    ),\n",
       "    CharSequenceReader()\n",
       "  ),\n",
       "  \u001b[33mFailure\u001b[39m(\u001b[32m\"'(' expected but 'R' found\"\u001b[39m, CharSequenceReader('R', ...)),\n",
       "  \u001b[33mSuccess\u001b[39m(\n",
       "    \u001b[33mLog\u001b[39m(ERROR, \u001b[32m27\u001b[39m, \u001b[32m\"The real slim shady didn't stand up\"\u001b[39m),\n",
       "    CharSequenceReader()\n",
       "  ),\n",
       "  \u001b[33mSuccess\u001b[39m(\n",
       "    \u001b[33mLog\u001b[39m(ERROR, \u001b[32m5059\u001b[39m, \u001b[32m\"Send me $100 in bitcoin - from your boss\"\u001b[39m),\n",
       "    CharSequenceReader()\n",
       "  ),\n",
       "  \u001b[33mSuccess\u001b[39m(\n",
       "    \u001b[33mLog\u001b[39m(WARNING, \u001b[32m29\u001b[39m, \u001b[32m\"Your computer is about to explode\"\u001b[39m),\n",
       "    CharSequenceReader()\n",
       "..."
      ]
     },
     "execution_count": 7,
     "metadata": {},
     "output_type": "execute_result"
    }
   ],
   "source": [
    "// Try to parse the logs! Turn the list of strings into a list of ParseResults\n",
    "val parse_results: List[ParseResult[Log]] =\n",
    "    logs.map(log_str => parse_log(log_str))\n",
    "\n",
    "assert(parse_results.length == 11)"
   ]
  },
  {
   "cell_type": "code",
   "execution_count": 8,
   "metadata": {
    "scrolled": true
   },
   "outputs": [
    {
     "data": {
      "text/plain": [
       "\u001b[36msuccesses\u001b[39m: \u001b[32mList\u001b[39m[\u001b[32mLog\u001b[39m] = \u001b[33mList\u001b[39m(\n",
       "  \u001b[33mLog\u001b[39m(ERROR, \u001b[32m34\u001b[39m, \u001b[32m\"Your toast is burning\"\u001b[39m),\n",
       "  \u001b[33mLog\u001b[39m(WARNING, \u001b[32m30\u001b[39m, \u001b[32m\"No need for a good error message, this'll never break!\"\u001b[39m),\n",
       "  \u001b[33mLog\u001b[39m(WARNING, \u001b[32m31\u001b[39m, \u001b[32m\"Stack overflow is down, abandon ship!\"\u001b[39m),\n",
       "  \u001b[33mLog\u001b[39m(ERROR, \u001b[32m26\u001b[39m, \u001b[32m\"'cpu' not found. To continue, please run `apt install cpu`\"\u001b[39m),\n",
       "  \u001b[33mLog\u001b[39m(ERROR, \u001b[32m32\u001b[39m, \u001b[32m\"Perfectly balanced...\"\u001b[39m),\n",
       "  \u001b[33mLog\u001b[39m(WARNING, \u001b[32m33\u001b[39m, \u001b[32m\"... as all things should be\"\u001b[39m),\n",
       "  \u001b[33mLog\u001b[39m(\n",
       "    ERROR,\n",
       "    \u001b[32m28\u001b[39m,\n",
       "    \u001b[32m\"\\\"'You miss 100% of the shots you don't take -Wayne Gretsky' -Michael Scott\\\" -PPL\"\u001b[39m\n",
       "  ),\n",
       "  \u001b[33mLog\u001b[39m(ERROR, \u001b[32m27\u001b[39m, \u001b[32m\"The real slim shady didn't stand up\"\u001b[39m),\n",
       "  \u001b[33mLog\u001b[39m(ERROR, \u001b[32m5059\u001b[39m, \u001b[32m\"Send me $100 in bitcoin - from your boss\"\u001b[39m),\n",
       "  \u001b[33mLog\u001b[39m(WARNING, \u001b[32m29\u001b[39m, \u001b[32m\"Your computer is about to explode\"\u001b[39m)\n",
       ")"
      ]
     },
     "execution_count": 8,
     "metadata": {},
     "output_type": "execute_result"
    }
   ],
   "source": [
    "// Make a list of all the successfully parsed logs\n",
    "val successes: List[Log] = \n",
    "    parse_results\n",
    "        .filter(result => result match {\n",
    "            case Success(_, _) => true\n",
    "            case _ => false\n",
    "        })\n",
    "        .map(result => result match {\n",
    "            case Success(log, _) => log\n",
    "        })\n",
    "\n",
    "assert(successes.length == 10)"
   ]
  },
  {
   "cell_type": "code",
   "execution_count": 9,
   "metadata": {},
   "outputs": [
    {
     "data": {
      "text/plain": [
       "\u001b[36mimportant_logs\u001b[39m: \u001b[32mList\u001b[39m[\u001b[32mLog\u001b[39m] = \u001b[33mList\u001b[39m(\n",
       "  \u001b[33mLog\u001b[39m(ERROR, \u001b[32m26\u001b[39m, \u001b[32m\"'cpu' not found. To continue, please run `apt install cpu`\"\u001b[39m),\n",
       "  \u001b[33mLog\u001b[39m(\n",
       "    ERROR,\n",
       "    \u001b[32m28\u001b[39m,\n",
       "    \u001b[32m\"\\\"'You miss 100% of the shots you don't take -Wayne Gretsky' -Michael Scott\\\" -PPL\"\u001b[39m\n",
       "  ),\n",
       "  \u001b[33mLog\u001b[39m(ERROR, \u001b[32m27\u001b[39m, \u001b[32m\"The real slim shady didn't stand up\"\u001b[39m)\n",
       ")"
      ]
     },
     "execution_count": 9,
     "metadata": {},
     "output_type": "execute_result"
    }
   ],
   "source": [
    "// Use the last list to make a new list that only includes \n",
    "// ERROR level logs made at or before time 30\n",
    "val important_logs = successes.filter(log => log match {\n",
    "    case Log(ERROR, t, _) if t <= 30 => true\n",
    "    case _ => false\n",
    "})\n",
    "\n",
    "assert(important_logs.length == 3)"
   ]
  },
  {
   "cell_type": "code",
   "execution_count": 10,
   "metadata": {
    "scrolled": true
   },
   "outputs": [
    {
     "data": {
      "text/plain": [
       "defined \u001b[32mfunction\u001b[39m \u001b[36mformat_report\u001b[39m\n",
       "\u001b[36mreport\u001b[39m: \u001b[32mString\u001b[39m = \u001b[32m\"\"\"Report:\n",
       "1. 'cpu' not found. To continue, please run `apt install cpu`\n",
       "2. \"'You miss 100% of the shots you don't take -Wayne Gretsky' -Michael Scott\" -PPL\n",
       "3. The real slim shady didn't stand up\n",
       "\"\"\"\u001b[39m"
      ]
     },
     "execution_count": 10,
     "metadata": {},
     "output_type": "execute_result"
    }
   ],
   "source": [
    "// Compile a report that lists every error message from important_logs\n",
    "// in one String along with a line number for each seperated by \\n\n",
    "\n",
    "def format_report(msg_so_far: String, line_num: Int, new_msg: String): String = s\"$msg_so_far${line_num}. $new_msg\\n\"\n",
    "\n",
    "val (report, _) = important_logs.foldLeft((\"Report:\\n\", 1))((acc, log) => {\n",
    "    val (msg_so_far, line_num) = acc\n",
    "    val Log(_, _, msg) = log\n",
    "    (format_report(msg_so_far, line_num, msg), line_num + 1)\n",
    "})\n",
    "\n",
    "assert(report ==\"\"\"Report:\n",
    "1. 'cpu' not found. To continue, please run `apt install cpu`\n",
    "2. \"'You miss 100% of the shots you don't take -Wayne Gretsky' -Michael Scott\" -PPL\n",
    "3. The real slim shady didn't stand up\n",
    "\"\"\")\n",
    "\n"
   ]
  },
  {
   "cell_type": "markdown",
   "metadata": {},
   "source": [
    "## OPTIONAL Exercise: HOFs on non-lists\n",
    "\n",
    "The following are to help you understand the concepts, you do not have to fully understand the following examples, but they show why these functions are more interesting than just getting rid of a loop.\n",
    "\n",
    "`map`, `filter`, and the like are important to learn because they are reusable. Use these functions to accomplish the following tasks on non-lists.\n",
    "\n",
    "`filter` for ParseResult (a failure is treated like an empty list, a success is treated like a one element list). Note the extra argument due to the addition of a message in the \"empty\" case:\n",
    "```scala\n",
    "def filter(result: ParseResult[Log], f: Log => Boolean, error_msg: String): ParseResult[Log]\n",
    "```"
   ]
  },
  {
   "cell_type": "code",
   "execution_count": 11,
   "metadata": {},
   "outputs": [
    {
     "data": {
      "text/plain": [
       "defined \u001b[32mfunction\u001b[39m \u001b[36mparse_valid_logs\u001b[39m"
      ]
     },
     "execution_count": 11,
     "metadata": {},
     "output_type": "execute_result"
    }
   ],
   "source": [
    "// We've been hacked! Update the parser to only succeed if ...\n",
    "// ... the time is valid (below 100)\n",
    "def parse_valid_logs(input: String): ParseResult[Log] = \n",
    "    filter(parse_log(input), l => l.time < 100, \"We've been hacked!\")"
   ]
  },
  {
   "cell_type": "markdown",
   "metadata": {},
   "source": [
    "Scala has a `Future` type, which represents an asynchronous computation. A `Future[Int]` doesn't contain an int, it represents a long computation in another thread that will eventually have an int."
   ]
  },
  {
   "cell_type": "code",
   "execution_count": 12,
   "metadata": {
    "scrolled": true
   },
   "outputs": [
    {
     "data": {
      "text/plain": [
       "\u001b[32mimport \u001b[39m\u001b[36m$ivy.$                            \n",
       "\u001b[39m\n",
       "\u001b[32mimport \u001b[39m\u001b[36mscala.concurrent.Future\n",
       "\u001b[39m\n",
       "\u001b[32mimport \u001b[39m\u001b[36mscala.concurrent.ExecutionContext.Implicits.global\n",
       "\n",
       "\u001b[39m\n",
       "defined \u001b[32mfunction\u001b[39m \u001b[36mhttp_get\u001b[39m"
      ]
     },
     "execution_count": 12,
     "metadata": {},
     "output_type": "execute_result"
    }
   ],
   "source": [
    "// Setup for later. You can ignore this.\n",
    "// This will download stuff the first time you run it\n",
    "\n",
    "import $ivy.`com.lihaoyi::requests:0.1.4`\n",
    "import scala.concurrent.Future\n",
    "import scala.concurrent.ExecutionContext.Implicits.global\n",
    "\n",
    "def http_get(url: String): Future[String] = Future(requests.get(url)).map(_.text)"
   ]
  },
  {
   "cell_type": "code",
   "execution_count": 13,
   "metadata": {},
   "outputs": [
    {
     "data": {
      "text/plain": [
       "\u001b[36mfuture\u001b[39m: \u001b[32mFuture\u001b[39m[\u001b[32mString\u001b[39m] = \u001b[32m\u001b[33mSuccess\u001b[39m(\u001b[32m\"3\"\u001b[39m)\u001b[39m\n",
       "\u001b[36mres12_1\u001b[39m: \u001b[32mFuture\u001b[39m[\u001b[32mInt\u001b[39m] = \u001b[32m\u001b[33mSuccess\u001b[39m(\u001b[32m8\u001b[39m)\u001b[39m"
      ]
     },
     "metadata": {},
     "output_type": "display_data"
    }
   ],
   "source": [
    "val future: Future[String] = http_get(\"http://www.mocky.io/v2/5c6f9f8d340000745f893183?mocky-delay=3000ms\")\n",
    "\n",
    "// Cast the result to an int and add 5 (all asynchronously)\n",
    "future.map(text => text.toInt + 5)"
   ]
  },
  {
   "cell_type": "code",
   "execution_count": 14,
   "metadata": {},
   "outputs": [
    {
     "data": {
      "text/plain": [
       "\u001b[36mshakira1\u001b[39m: \u001b[32mFuture\u001b[39m[\u001b[32mString\u001b[39m] = \u001b[32m\u001b[33mSuccess\u001b[39m(\u001b[32m\"Hips don't\"\u001b[39m)\u001b[39m\n",
       "\u001b[36mshakira2\u001b[39m: \u001b[32mFuture\u001b[39m[\u001b[32mString\u001b[39m] = \u001b[32m\u001b[33mSuccess\u001b[39m(\u001b[32m\"lie.\"\u001b[39m)\u001b[39m\n",
       "\u001b[36mres13_2\u001b[39m: \u001b[32mFuture\u001b[39m[\u001b[32mString\u001b[39m] = \u001b[32m\u001b[33mSuccess\u001b[39m(\u001b[32m\"Hips don't lie.\"\u001b[39m)\u001b[39m"
      ]
     },
     "metadata": {},
     "output_type": "display_data"
    }
   ],
   "source": [
    "// One last example, with a new higher order function\n",
    "// Combine results from two futures:\n",
    "\n",
    "val shakira1 = http_get(\"http://www.mocky.io/v2/5c6fa3fc3400004e5f8931a6\")\n",
    "val shakira2 = http_get(\"http://www.mocky.io/v2/5c6fa47c3400004e5f8931ab\")\n",
    "\n",
    "shakira1.flatMap(text1 => shakira2.map(text2 => text1 + \" \" + text2))"
   ]
  },
  {
   "cell_type": "code",
   "execution_count": null,
   "metadata": {},
   "outputs": [],
   "source": []
  }
 ],
 "metadata": {
  "kernelspec": {
   "display_name": "Scala",
   "language": "scala",
   "name": "scala"
  },
  "language_info": {
   "codemirror_mode": "text/x-scala",
   "file_extension": ".scala",
   "mimetype": "text/x-scala",
   "name": "scala",
   "nbconvert_exporter": "script",
   "version": "2.12.8"
  }
 },
 "nbformat": 4,
 "nbformat_minor": 2
}
