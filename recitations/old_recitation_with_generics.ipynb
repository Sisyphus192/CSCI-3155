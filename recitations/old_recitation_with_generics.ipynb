{
 "cells": [
  {
   "cell_type": "markdown",
   "metadata": {},
   "source": [
    "# CSCI 3155 Recitation 8\n",
    "October 19, 2018"
   ]
  },
  {
   "cell_type": "markdown",
   "metadata": {},
   "source": [
    "## Continuations\n",
    "Continuations are functions we pass as arguments to other functions which capture what to \"do next\". Instead of writing:\n",
    "```\n",
    "def func() {\n",
    "    val x = doThing1()\n",
    "    val y = doThing2(x, 3)\n",
    "    doThing3()\n",
    "}\n",
    "```\n",
    "we can make every function call recursive by changing it to continuation passing style:\n",
    "```\n",
    "def func[X, Y](k: X => Y) {\n",
    "    doThing1(x => DoThing2(x, 3, y => doThing3(k))\n",
    "}\n",
    "\n",
    "// Same as:\n",
    "def func[X, Y](k: X => Y) {\n",
    "    doThing1(          x =>\n",
    "    doThing2(x, 3,     y =>\n",
    "    doThing3(          k))\n",
    "}\n",
    "```"
   ]
  },
  {
   "cell_type": "markdown",
   "metadata": {},
   "source": [
    "### Examples\n",
    "\n",
    "https://docs.google.com/presentation/d/1OlAu7pjBfKogQg6Z5Ykkid9FfWVH-yrSbPUCHMI-3HM/edit?usp=sharing"
   ]
  },
  {
   "cell_type": "markdown",
   "metadata": {},
   "source": [
    "### Exercise: Backtracking\n",
    "As with any good programing tool, we can use continuations to solve problems without putting them everywhere in our code. In this example, you will write a search function that looks for a value in a binary tree, **not** a B**S**T. Take advantage of continuations to remember where to look if something isn't found while keeping the function tail recursive."
   ]
  },
  {
   "cell_type": "code",
   "execution_count": 2,
   "metadata": {
    "nbgrader": {
     "grade": false,
     "grade_id": "cell-bdaf875cad5b0678",
     "locked": false,
     "schema_version": 1,
     "solution": true
    }
   },
   "outputs": [
    {
     "data": {
      "text/plain": [
       "defined \u001b[32mtrait\u001b[39m \u001b[36mTree\u001b[39m\n",
       "defined \u001b[32mobject\u001b[39m \u001b[36mEmpty\u001b[39m\n",
       "defined \u001b[32mclass\u001b[39m \u001b[36mNode\u001b[39m\n",
       "defined \u001b[32mfunction\u001b[39m \u001b[36msearch\u001b[39m"
      ]
     },
     "execution_count": 2,
     "metadata": {},
     "output_type": "execute_result"
    }
   ],
   "source": [
    "sealed trait Tree\n",
    "case object Empty extends Tree\n",
    "case class Node(l: Tree, d: Int, r: Tree) extends Tree\n",
    "\n",
    "def search(t: Tree, i: Int, fail_continuation: () => Boolean): Boolean =\n",
    "    // BEGIN SOLUTION\n",
    "    t match {\n",
    "        case Empty => fail_continuation()\n",
    "        case Node(l, j, r) if i == j =>\n",
    "            true\n",
    "        case Node(l, j, r) =>\n",
    "            search(l, i, () => {\n",
    "                search(r, i, () => {\n",
    "                    fail_continuation()\n",
    "                })\n",
    "            })\n",
    "    }\n",
    "    //END SOLUTION\n"
   ]
  },
  {
   "cell_type": "code",
   "execution_count": 3,
   "metadata": {
    "nbgrader": {
     "grade": true,
     "grade_id": "cell-df2188387bae0d26",
     "locked": true,
     "points": 1,
     "schema_version": 1,
     "solution": false
    }
   },
   "outputs": [
    {
     "data": {
      "text/plain": [
       "\u001b[36mt\u001b[39m: \u001b[32mNode\u001b[39m = Node(Empty,10,Node(Empty,6,Empty))"
      ]
     },
     "execution_count": 3,
     "metadata": {},
     "output_type": "execute_result"
    }
   ],
   "source": [
    "val t = Node(Empty, 10, Node(Empty, 6, Empty))\n",
    "assert(search(t, 10, () => false))\n",
    "assert(!search(t, 0, () => false))"
   ]
  },
  {
   "cell_type": "markdown",
   "metadata": {},
   "source": [
    "### Exercise: Eval (again)\n",
    "\n",
    "This is similar to the example in class: implement eval for the small language given below, ensuring that every function call is a tail call."
   ]
  },
  {
   "cell_type": "code",
   "execution_count": 4,
   "metadata": {
    "nbgrader": {
     "grade": false,
     "grade_id": "cell-83c17e7eeba4b4e4",
     "locked": false,
     "schema_version": 1,
     "solution": true
    }
   },
   "outputs": [
    {
     "data": {
      "text/plain": [
       "defined \u001b[32mtrait\u001b[39m \u001b[36mExpr\u001b[39m\n",
       "defined \u001b[32mclass\u001b[39m \u001b[36mBoolLiteral\u001b[39m\n",
       "defined \u001b[32mclass\u001b[39m \u001b[36mAnd\u001b[39m\n",
       "defined \u001b[32mclass\u001b[39m \u001b[36mIf\u001b[39m\n",
       "defined \u001b[32mfunction\u001b[39m \u001b[36meval\u001b[39m"
      ]
     },
     "execution_count": 4,
     "metadata": {},
     "output_type": "execute_result"
    }
   ],
   "source": [
    "sealed trait Expr\n",
    "case class BoolLiteral(b: Boolean) extends Expr\n",
    "case class And(left: Expr, right: Expr) extends Expr\n",
    "case class If(test: Expr, then: Expr, otherwise: Expr) extends Expr\n",
    "\n",
    "def eval(e: Expr, continuation: Boolean => Boolean): Boolean =\n",
    "    // BEGIN SOLUTION\n",
    "    e match {\n",
    "        case BoolLiteral(b) =>\n",
    "            continuation(b)\n",
    "        case And(left, right) =>\n",
    "            eval(left, left_val =>\n",
    "                 eval(right, right_val =>\n",
    "                      continuation(left_val && right_val)\n",
    "                     )\n",
    "                )\n",
    "        case If(test, then, otherwise) =>\n",
    "            eval(test, test_val =>\n",
    "                 if (test_val) eval(then, b => continuation(b))\n",
    "                 else eval(otherwise, continuation)\n",
    "                )\n",
    "    }\n",
    "    // END SOLUTION"
   ]
  },
  {
   "cell_type": "code",
   "execution_count": 5,
   "metadata": {
    "nbgrader": {
     "grade": true,
     "grade_id": "cell-c127bcc04c6197cc",
     "locked": true,
     "points": 1,
     "schema_version": 1,
     "solution": false
    }
   },
   "outputs": [
    {
     "data": {
      "text/plain": [
       "\u001b[36me\u001b[39m: \u001b[32mIf\u001b[39m = If(And(BoolLiteral(true),BoolLiteral(true)),BoolLiteral(false),BoolLiteral(true))"
      ]
     },
     "execution_count": 5,
     "metadata": {},
     "output_type": "execute_result"
    }
   ],
   "source": [
    "val e = If(\n",
    "    And(BoolLiteral(true), BoolLiteral(true)),\n",
    "    BoolLiteral(false),\n",
    "    BoolLiteral(true)\n",
    ")\n",
    "assert(!eval(e, x => x))"
   ]
  },
  {
   "cell_type": "markdown",
   "metadata": {},
   "source": [
    "## Polymorphism\n",
    "\n",
    "Polymorphism allows us to write reusable, type safe code. This is also called type parameters, generics, template parameters, or type variables.\n",
    "\n",
    "As a reminder, we list type parameters in brackets similarly to how we list regular parameters in parentheses:"
   ]
  },
  {
   "cell_type": "code",
   "execution_count": 6,
   "metadata": {},
   "outputs": [
    {
     "data": {
      "text/plain": [
       "defined \u001b[32mfunction\u001b[39m \u001b[36mid\u001b[39m\n",
       "defined \u001b[32mclass\u001b[39m \u001b[36mC\u001b[39m"
      ]
     },
     "execution_count": 6,
     "metadata": {},
     "output_type": "execute_result"
    }
   ],
   "source": [
    "def id[T](t: T): T = t\n",
    "// OR\n",
    "case class C[T](t: T) {\n",
    "    def get: T = t\n",
    "}"
   ]
  },
  {
   "cell_type": "markdown",
   "metadata": {},
   "source": [
    "Type inference works just the same for these as it does for concrete types, and the scope of type parameters is the function body, like regular parameters:"
   ]
  },
  {
   "cell_type": "code",
   "execution_count": 7,
   "metadata": {},
   "outputs": [
    {
     "data": {
      "text/plain": [
       "defined \u001b[32mfunction\u001b[39m \u001b[36mf\u001b[39m"
      ]
     },
     "execution_count": 7,
     "metadata": {},
     "output_type": "execute_result"
    }
   ],
   "source": [
    "def f[T](t: T): T = {\n",
    "    val t2: T = t\n",
    "    val t3    = t2\n",
    "    t3\n",
    "}"
   ]
  },
  {
   "cell_type": "markdown",
   "metadata": {},
   "source": [
    "### Exercise: Reusable data structures\n",
    "Make a reusable tree data structure which can hold any arbitrary type at it's nodes, as long as all nodes in the tree have the same type. Use the constructors `Empty` and `Node`"
   ]
  },
  {
   "cell_type": "code",
   "execution_count": 8,
   "metadata": {
    "nbgrader": {
     "grade": false,
     "grade_id": "cell-89ce853776b2aa84",
     "locked": false,
     "schema_version": 1,
     "solution": true
    }
   },
   "outputs": [
    {
     "data": {
      "text/plain": [
       "defined \u001b[32mtrait\u001b[39m \u001b[36mTreePoly\u001b[39m\n",
       "defined \u001b[32mclass\u001b[39m \u001b[36mEmptyPoly\u001b[39m\n",
       "defined \u001b[32mclass\u001b[39m \u001b[36mNodePoly\u001b[39m"
      ]
     },
     "execution_count": 8,
     "metadata": {},
     "output_type": "execute_result"
    }
   ],
   "source": [
    "sealed trait TreePoly[T]\n",
    "// BEGIN SOLUTION\n",
    "case class EmptyPoly[T]() extends TreePoly[T]\n",
    "case class NodePoly[T](l: TreePoly[T], d: T, r: TreePoly[T]) extends TreePoly[T]\n",
    "// END SOLUTION"
   ]
  },
  {
   "cell_type": "code",
   "execution_count": 9,
   "metadata": {},
   "outputs": [
    {
     "data": {
      "text/plain": [
       "\u001b[36mt\u001b[39m: \u001b[32mNodePoly\u001b[39m[\u001b[32mInt\u001b[39m] = NodePoly(NodePoly(EmptyPoly(),5,EmptyPoly()),6,EmptyPoly())"
      ]
     },
     "execution_count": 9,
     "metadata": {},
     "output_type": "execute_result"
    }
   ],
   "source": [
    "// This should compile:\n",
    "val t = NodePoly(\n",
    "    NodePoly(\n",
    "        EmptyPoly(),\n",
    "        5,\n",
    "        EmptyPoly()),\n",
    "    6,\n",
    "    EmptyPoly())"
   ]
  },
  {
   "cell_type": "code",
   "execution_count": 9,
   "metadata": {},
   "outputs": [
    {
     "name": "stderr",
     "output_type": "stream",
     "text": [
      "cmd9.sc:2: type mismatch;\n",
      " found   : cmd9Wrapper.this.cmd7.wrapper.NodePoly[Int]\n",
      " required: cmd9Wrapper.this.cmd7.wrapper.TreePoly[Any]\n",
      "Note: Int <: Any, but trait TreePoly is invariant in type T.\n",
      "You may wish to define T as +T instead. (SLS 4.5)\n",
      "    NodePoly(\n",
      "            ^"
     ]
    },
    {
     "ename": "",
     "evalue": "",
     "output_type": "error",
     "traceback": [
      "Compilation Failed"
     ]
    }
   ],
   "source": [
    "// This should NOT compile:\n",
    "NodePoly(\n",
    "    NodePoly(\n",
    "        EmptyPoly(),\n",
    "        5,\n",
    "        EmptyPoly()),\n",
    "    \"6\",\n",
    "    EmptyPoly())"
   ]
  },
  {
   "cell_type": "markdown",
   "metadata": {},
   "source": [
    "> _Side-note_: for those that are anoyed by the need to make a \"new\" empty node each time as opposed to before where we could just have one `case object`, we can get around it as follows (see https://stackoverflow.com/questions/7399044/scala-upper-type-bounds-and-parent-classes)\n",
    "> \n",
    "> ```\n",
    "sealed trait Tree[+T]\n",
    "case object Empty extends Tree[Nothing]\n",
    "```"
   ]
  },
  {
   "cell_type": "markdown",
   "metadata": {},
   "source": [
    "### Exercise: generic functions\n",
    "Implement map, which should allow someone to take a `Tree[X]` and a function `X => Y` and get out a `Tree[Y]`. Do this with continuations."
   ]
  },
  {
   "cell_type": "code",
   "execution_count": 10,
   "metadata": {
    "nbgrader": {
     "grade": false,
     "grade_id": "cell-11843a63b5b7990f",
     "locked": false,
     "schema_version": 1,
     "solution": true
    }
   },
   "outputs": [
    {
     "data": {
      "text/plain": [
       "defined \u001b[32mfunction\u001b[39m \u001b[36mmap\u001b[39m"
      ]
     },
     "execution_count": 10,
     "metadata": {},
     "output_type": "execute_result"
    }
   ],
   "source": [
    "// BEGIN SOLUTION\n",
    "def map[X, Y](t: TreePoly[X], f: X => Y, continuation: TreePoly[Y] => TreePoly[Y]): TreePoly[Y] = t match {\n",
    "    case EmptyPoly() =>\n",
    "        continuation(EmptyPoly())\n",
    "    case NodePoly(l, d, r) =>\n",
    "        map(l, f, l_mapped =>\n",
    "            map(r, f, r_mapped =>\n",
    "                continuation(NodePoly(l_mapped, f(d), r_mapped))))\n",
    "}\n",
    "// END SOLUTION"
   ]
  },
  {
   "cell_type": "code",
   "execution_count": 11,
   "metadata": {
    "nbgrader": {
     "grade": true,
     "grade_id": "cell-d725bf4fbe8683ac",
     "locked": true,
     "points": 1,
     "schema_version": 1,
     "solution": false
    }
   },
   "outputs": [
    {
     "data": {
      "text/plain": [
       "\u001b[36mt2\u001b[39m: \u001b[32mNodePoly\u001b[39m[\u001b[32mString\u001b[39m] = NodePoly(NodePoly(EmptyPoly(),5,EmptyPoly()),6,EmptyPoly())"
      ]
     },
     "execution_count": 11,
     "metadata": {},
     "output_type": "execute_result"
    }
   ],
   "source": [
    "// TEST\n",
    "val t2 = NodePoly(\n",
    "    NodePoly(\n",
    "        EmptyPoly(),\n",
    "        \"5\",\n",
    "        EmptyPoly()),\n",
    "    \"6\",\n",
    "    EmptyPoly())\n",
    "\n",
    "assert(map(t, (i: Int) => i.toString, id[TreePoly[String]]) == t2)\n",
    "// TEST"
   ]
  }
 ],
 "metadata": {
  "celltoolbar": "Create Assignment",
  "kernelspec": {
   "display_name": "Scala",
   "language": "scala",
   "name": "scala"
  },
  "language_info": {
   "codemirror_mode": "text/x-scala",
   "file_extension": ".scala",
   "mimetype": "text/x-scala",
   "name": "scala",
   "nbconvert_exporter": "script",
   "version": "2.12.8"
  }
 },
 "nbformat": 4,
 "nbformat_minor": 2
}
